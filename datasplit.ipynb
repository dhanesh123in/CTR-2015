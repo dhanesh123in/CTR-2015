{
 "metadata": {
  "name": "",
  "signature": "sha256:08c8befa87b32f2c46b149e9f546f874a9564f915bf68ec9887b00b20e3d0646"
 },
 "nbformat": 3,
 "nbformat_minor": 0,
 "worksheets": [
  {
   "cells": [
    {
     "cell_type": "code",
     "collapsed": false,
     "input": [
      "import numpy as np\n",
      "\n",
      "f1=open('train_noh_pre28.csv','w')\n",
      "f2=open('train_noh_post28.csv','w')\n",
      "\n",
      "with open(\"train_noheader_nor.csv\",\"r\") as f:\n",
      "    for line in f:\n",
      "        \n",
      "        X= [str(xx) for xx in line.strip().split(',')]\n",
      "        \n",
      "        if X[2][0:6]=='141028' or X[2][0:6]=='141029' or X[2][0:6]=='141030':\n",
      "            f2.write(line)\n",
      "        else:\n",
      "            f1.write(line)\n",
      "\n",
      "print 'Done writing'\n",
      "f.close()\n",
      "f1.close()\n",
      "f2.close()"
     ],
     "language": "python",
     "metadata": {},
     "outputs": [
      {
       "output_type": "stream",
       "stream": "stdout",
       "text": [
        "Done writing\n"
       ]
      }
     ],
     "prompt_number": 10
    },
    {
     "cell_type": "code",
     "collapsed": false,
     "input": [
      "print X[:2]"
     ],
     "language": "python",
     "metadata": {},
     "outputs": [
      {
       "output_type": "stream",
       "stream": "stdout",
       "text": [
        "['9999746639881208566', '0']\n"
       ]
      }
     ],
     "prompt_number": 5
    },
    {
     "cell_type": "code",
     "collapsed": false,
     "input": [
      "print X[2][0:6]=='141030'"
     ],
     "language": "python",
     "metadata": {},
     "outputs": [
      {
       "output_type": "stream",
       "stream": "stdout",
       "text": [
        "True\n"
       ]
      }
     ],
     "prompt_number": 9
    },
    {
     "cell_type": "code",
     "collapsed": false,
     "input": [],
     "language": "python",
     "metadata": {},
     "outputs": []
    }
   ],
   "metadata": {}
  }
 ]
}