{
 "metadata": {
  "name": "",
  "signature": "sha256:99b2f462911b266469d04ae81e29090a6ac0283371c641e3cafebcc9211f4900"
 },
 "nbformat": 3,
 "nbformat_minor": 0,
 "worksheets": [
  {
   "cells": [
    {
     "cell_type": "code",
     "collapsed": false,
     "input": [
      "from sklearn.linear_model import SGDClassifier as sgd\n",
      "from sklearn.svm import SVC\n",
      "import pandas as pd\n",
      "import numpy as np\n",
      "import datetime as dt\n",
      "from sklearn.metrics import log_loss\n",
      "from sklearn.metrics import accuracy_score\n",
      "from sklearn.metrics import roc_auc_score\n",
      "from sklearn.ensemble import RandomForestClassifier as rfc\n",
      "from sklearn.ensemble import BaggingClassifier as bagC\n",
      "\n",
      "from sklearn.feature_selection import chi2\n",
      "from sklearn.feature_extraction import DictVectorizer\n",
      "from sklearn.preprocessing import OneHotEncoder\n",
      "from sklearn.ensemble import AdaBoostClassifier as abc\n",
      "\n",
      "colnames=['C1','banner_pos','site_id','site_domain','site_category','app_id','app_domain','app_category','device_id','device_ip','device_model','device_type','device_conn_type','C14','C15','C16','C17','C18','C19','C20','C21','weekday','hr']\n",
      "vec = DictVectorizer(sparse=True)\n",
      "#vec = OneHotEncoder(sparse=True)\n",
      "#clf = bnb()\n",
      "#clf = pac(random_state=0)\n",
      "#clf = sgd(random_state=0)\n",
      "#clf = sgd(random_state=0,loss='log')\n",
      "#clf = sgd(random_state=0,loss='log',penalty='l1',verbose=1)\n",
      "clf = sgd(random_state=0,loss='log',warm_start=True,shuffle=True,n_iter=10,learning_rate='invscaling',eta0=1.0,power_t=0.5)\n",
      "#clf = sgd(random_state=123,loss='log',shuffle=True,warm_start=True,class_weight={0:0.4,1:0.6})\n",
      "#clf = SVC(C=10000,random_state=123,verbose=True, probability=True,shrinking=False,cache_size=1024,class_weight='auto')\n",
      "#clf = abc(sgd(random_state=0,loss='log',shuffle=False,n_iter=1,class_weight={0:0.9,1:0.1}),random_state=0,learning_rate=1,n_estimators=20)\n",
      "#clf = abc(SVC(kernel='linear',verbose=True,probability=True),random_state=0)\n",
      "#clf = abc(rfc(n_estimators=10,min_samples_split=20, min_samples_leaf=10, max_features='auto', max_leaf_nodes=None, bootstrap=True, oob_score=False, n_jobs=1, random_state=0),random_state=0)\n",
      "#clf = bagC(base_estimator=SVC(random_state=0,verbose=True,probability=True,shrinking=False), n_estimators=10, max_samples=1.0, max_features=200, bootstrap=True, bootstrap_features=True, oob_score=False, n_jobs=-1, random_state=0, verbose=1)\n",
      "\n",
      "#Batched reading and learning\n",
      "batch=0\n",
      "nlines=0\n",
      "nlim=200000\n",
      "blim=5\n",
      "btrain=1\n",
      "X=np.zeros((nlim,26),dtype='a20')\n",
      "pcutoff=0.5\n",
      "\n",
      "with open(\"train_noh_pre28_R.csv\",\"r\") as f:\n",
      "    for line in f:\n",
      "        \n",
      "        X[nlines,:24]=[str(xx) for xx in line.strip().split(',')]\n",
      "        #print X[nlines,:]\n",
      "        X[nlines,24]=str(dt.datetime.strptime(X[nlines,2],'%y%m%d%H').weekday())\n",
      "        X[nlines,25]=X[nlines,2][-2:]\n",
      "        nlines=nlines+1;\n",
      "        if (nlines==nlim):\n",
      "            print 'Processing batch '+str(batch+1)\n",
      "            batch=batch+1\n",
      "\n",
      "            Xd=pd.DataFrame(X[:,3:],columns=colnames)\n",
      "\n",
      "            #Xd.drop('site_id', axis=1, inplace=True)\n",
      "            #Xd.drop('app_id', axis=1, inplace=True)\n",
      "            #Xd.drop('device_id', axis=1, inplace=True)\n",
      "            #Xd.drop('device_ip', axis=1, inplace=True)\n",
      "            \n",
      "            Y=X[:,1].astype('int')\n",
      "            \n",
      "            if (batch==1):\n",
      "                X_sparse=vec.fit_transform(Xd.T.to_dict().values())\n",
      "                #X_sparse=vec.fit_transform(Xd) \n",
      "                #vsel=chi2(X_sparse,Y)\n",
      "                #print len(vsel[1]),sum(vsel[1]<pcutoff)\n",
      "                #X_s=X_sparse[:,vsel[1]<pcutoff]    \n",
      "                clf.fit(X_sparse,Y)\n",
      "                #clf.partial_fit(X_sparse,Y,classes=[0,1])\n",
      "            else:\n",
      "                X_sparse=vec.transform(Xd.T.to_dict().values())\n",
      "                #X_s=X_sparse[:,vsel[1]<pcutoff]\n",
      "            \n",
      "        \n",
      "            ypred=clf.predict_proba(X_sparse)[:,1]\n",
      "            #lpred=clf.predict(X_sparse)\n",
      "            \n",
      "            #print clf.score(X_sparse,Y), accuracy_score(Y,lpred), log_loss(Y,ypred)\n",
      "            print clf.score(X_sparse,Y), log_loss(Y,ypred), roc_auc_score(Y,ypred)\n",
      "            \n",
      "            nlines=0\n",
      "            X=np.zeros((nlim,26),dtype='a20')\n",
      "            del X_sparse\n",
      "            #del X_s\n",
      "            \n",
      "            if (batch>=blim):\n",
      "                print \"Done.. aren't we?\"\n",
      "                f.close()\n",
      "                del X\n",
      "                break\n",
      "\n",
      "print 'Yes, we are..'"
     ],
     "language": "python",
     "metadata": {},
     "outputs": [
      {
       "output_type": "stream",
       "stream": "stdout",
       "text": [
        "Processing batch 1\n",
        "0.82744"
       ]
      },
      {
       "output_type": "stream",
       "stream": "stdout",
       "text": [
        " 0.411127103455 "
       ]
      },
      {
       "output_type": "stream",
       "stream": "stdout",
       "text": [
        "0.737827681196\n",
        "Processing batch 2"
       ]
      },
      {
       "output_type": "stream",
       "stream": "stdout",
       "text": [
        "\n",
        "0.82818"
       ]
      },
      {
       "output_type": "stream",
       "stream": "stdout",
       "text": [
        " 0.415002777819 "
       ]
      },
      {
       "output_type": "stream",
       "stream": "stdout",
       "text": [
        "0.724243257673\n",
        "Processing batch 3"
       ]
      },
      {
       "output_type": "stream",
       "stream": "stdout",
       "text": [
        "\n",
        "0.82666"
       ]
      },
      {
       "output_type": "stream",
       "stream": "stdout",
       "text": [
        " 0.416201473993 "
       ]
      },
      {
       "output_type": "stream",
       "stream": "stdout",
       "text": [
        "0.72461291173\n",
        "Processing batch 4"
       ]
      },
      {
       "output_type": "stream",
       "stream": "stdout",
       "text": [
        "\n",
        "0.828555"
       ]
      },
      {
       "output_type": "stream",
       "stream": "stdout",
       "text": [
        " 0.413658222496 "
       ]
      },
      {
       "output_type": "stream",
       "stream": "stdout",
       "text": [
        "0.726197819103\n",
        "Processing batch 5"
       ]
      },
      {
       "output_type": "stream",
       "stream": "stdout",
       "text": [
        "\n",
        "0.827495"
       ]
      },
      {
       "output_type": "stream",
       "stream": "stdout",
       "text": [
        " 0.41518637317 "
       ]
      },
      {
       "output_type": "stream",
       "stream": "stdout",
       "text": [
        "0.725866827499\n",
        "Done.. aren't we?\n",
        "Yes, we are..\n"
       ]
      }
     ],
     "prompt_number": 1
    },
    {
     "cell_type": "code",
     "collapsed": false,
     "input": [
      "Xd1=Xd.join(pd.DataFrame(Y,columns=['click']))\n",
      "print Xd1\n",
      "#print pd.DataFrame(Y,columns=['click'])\n"
     ],
     "language": "python",
     "metadata": {},
     "outputs": []
    },
    {
     "cell_type": "code",
     "collapsed": false,
     "input": [
      "xx=list(Xd1.columns.values)\n",
      "for i in range(len(colnames)-1):\n",
      "    Xd2=Xd1[[xx[i],'click']]\n",
      "    print '---'+xx[i]+'---'\n",
      "    Xd2g=Xd2.groupby(xx[i],sort=True)\n",
      "    print Xd2g.sum()/Xd2g.count()"
     ],
     "language": "python",
     "metadata": {},
     "outputs": [
      {
       "output_type": "stream",
       "stream": "stdout",
       "text": [
        "---C1---\n",
        "      click\n",
        "C1         \n",
        "1001      2\n",
        "1002   2369\n",
        "1005  32127\n",
        "1007      3\n",
        "1008      6\n",
        "1010    431\n",
        "1012     88 "
       ]
      },
      {
       "output_type": "stream",
       "stream": "stdout",
       "text": [
        "       click\n",
        "C1          \n",
        "1001      53\n",
        "1002   11258\n",
        "1005  183450\n",
        "1007     208\n",
        "1008      39\n",
        "1010    4419\n",
        "1012     573\n",
        "---banner_pos---\n",
        "            click\n",
        "banner_pos       \n",
        "0           24850\n",
        "1           10084\n",
        "2               6\n",
        "3               0\n",
        "4               6\n",
        "5               6\n",
        "7              74              click\n",
        "banner_pos        \n",
        "0           145552\n",
        "1            54109\n",
        "2               64\n",
        "3                8\n",
        "4               34\n",
        "5               39\n",
        "7              194\n",
        "---site_id---\n",
        "          click\n",
        "site_id        \n",
        "00255fb4      0\n",
        "006ab81e      0\n",
        "00f648b7      1\n",
        "011e5414      0\n",
        "01270328     13\n",
        "0129a661      0\n",
        "014428c1      1\n",
        "019de78a      1\n",
        "021cd138     14\n",
        "02296256      0\n",
        "0234a6fa      3\n",
        "023f3644      0\n",
        "02546dd5      0\n",
        "0273c5ad      1\n",
        "02a66025      0\n",
        "02d5151c      1\n",
        "02d5ce7e      1\n",
        "02e16f58      0\n",
        "02fb33fd      1\n",
        "030095a6      0\n",
        "030440fe      2\n",
        "030fed15      2\n",
        "0329000f      0\n",
        "0338ff60      0\n",
        "037e2e14      0\n",
        "03acccd7      0\n",
        "03cecb5d      1\n",
        "04773863      0\n",
        "05b69cd5      1\n",
        "05c65e53     26\n",
        "...         ...\n",
        "fd309fe8      3\n",
        "fd7011c5      0\n",
        "fd9bd76c      1\n",
        "fda21062      0\n",
        "fde4f19d      1\n",
        "fe16ee49      0\n",
        "fe290a08      0\n",
        "fe2e8046      0\n",
        "fe68d958      0\n",
        "fe8cc448      3\n",
        "feb793b0      1\n",
        "fec6e632     50\n",
        "fee8da23      0\n",
        "fefe6fb9      6\n",
        "ff0784fb      2\n",
        "ff18c3d1     13\n",
        "ff1bcc6f      2\n",
        "ff361da0      5\n",
        "ff55c4ea      0\n",
        "ff59665c      0\n",
        "ff61c6a9      6\n",
        "ff9bcf52      0\n",
        "ff9d066a      1\n",
        "ffa0a3ef      0\n",
        "ffb2c209      3\n",
        "ffc29ba5      0\n",
        "ffc6e801      0\n",
        "ffcb6b9a      5\n",
        "ffcff165      1\n",
        "fffe8e1c      0\n",
        "\n",
        "[1804 rows x 1 columns]"
       ]
      },
      {
       "output_type": "stream",
       "stream": "stdout",
       "text": [
        "           click\n",
        "site_id        \n",
        "00255fb4      3\n",
        "006ab81e      1\n",
        "00f648b7      7\n",
        "011e5414      7\n",
        "01270328     42\n",
        "0129a661      2\n",
        "014428c1      8\n",
        "019de78a      3\n",
        "021cd138     39\n",
        "02296256      3\n",
        "0234a6fa      7\n",
        "023f3644     29\n",
        "02546dd5     10\n",
        "0273c5ad     16\n",
        "02a66025      7\n",
        "02d5151c     21\n",
        "02d5ce7e      2\n",
        "02e16f58      1\n",
        "02fb33fd     14\n",
        "030095a6      1\n",
        "030440fe     43\n",
        "030fed15     12\n",
        "0329000f      1\n",
        "0338ff60      2\n",
        "037e2e14      6\n",
        "03acccd7      5\n",
        "03cecb5d      7\n",
        "04773863      1\n",
        "05b69cd5      9\n",
        "05c65e53     61\n",
        "...         ...\n",
        "fd309fe8     17\n",
        "fd7011c5     12\n",
        "fd9bd76c      9\n",
        "fda21062      1\n",
        "fde4f19d      3\n",
        "fe16ee49     14\n",
        "fe290a08      1\n",
        "fe2e8046      1\n",
        "fe68d958      2\n",
        "fe8cc448     59\n",
        "feb793b0      2\n",
        "fec6e632    411\n",
        "fee8da23      1\n",
        "fefe6fb9     15\n",
        "ff0784fb      3\n",
        "ff18c3d1     52\n",
        "ff1bcc6f      6\n",
        "ff361da0     82\n",
        "ff55c4ea      1\n",
        "ff59665c      1\n",
        "ff61c6a9     33\n",
        "ff9bcf52      2\n",
        "ff9d066a     10\n",
        "ffa0a3ef      1\n",
        "ffb2c209     34\n",
        "ffc29ba5      1\n",
        "ffc6e801      1\n",
        "ffcb6b9a     33\n",
        "ffcff165      4\n",
        "fffe8e1c      1\n",
        "\n",
        "[1804 rows x 1 columns]\n",
        "---site_domain---\n",
        "             click\n",
        "site_domain       \n",
        "005b495a         8\n",
        "00606305         0\n",
        "0064e9b7         1\n",
        "00847768         0\n",
        "00863f59         0\n",
        "00abf1a6         0\n",
        "00dda4fc         0\n",
        "00e1b9c0        16\n",
        "0150cc3e        11\n",
        "0169026e         2\n",
        "0180918f         0\n",
        "01c42f0d         0\n",
        "01cb1dc6         2\n",
        "01f9b380         0\n",
        "02010bf3         0\n",
        "021dbcbe         1\n",
        "022ab9c6         0\n",
        "0245cb85         1\n",
        "026faf38         1\n",
        "0316bf4f         3\n",
        "035145a1         0\n",
        "036036d1         0\n",
        "038690b2         1\n",
        "03cc62db         0\n",
        "0445c666         1\n",
        "047f7e80         0\n",
        "0483d223         0\n",
        "0487833f         0\n",
        "04abaa31         0\n",
        "04caff05         0\n",
        "...            ...\n",
        "fcc13576         0\n",
        "fccf1d54         1\n",
        "fce866df         1\n",
        "fd0f18e8         2\n",
        "fd0fa362         7\n",
        "fd13bc73        28\n",
        "fd52567a         1\n",
        "fd944963        13\n",
        "fda1a9ff         3\n",
        "fdce6734         0\n",
        "fdd17d86         1\n",
        "fdd2be2c         0\n",
        "fdfb56e9         0\n",
        "fdfba634         0\n",
        "fe02c12a         0\n",
        "fe050e52         1\n",
        "fe0dbe1c         3\n",
        "fe12b06c         1\n",
        "fe3e9d9a         0\n",
        "fe672e8a         0\n",
        "fe7806d9         1\n",
        "fec36d8a         0\n",
        "fed83882         0\n",
        "feebf083         0\n",
        "ff11cb55         0\n",
        "ff15329c         3\n",
        "ff3c109d         7\n",
        "ff8c5d6f         0\n",
        "ffb2d478         1\n",
        "fff602a2         3\n",
        "\n",
        "[1686 rows x 1 columns]"
       ]
      },
      {
       "output_type": "stream",
       "stream": "stdout",
       "text": [
        "              click\n",
        "site_domain       \n",
        "005b495a        15\n",
        "00606305         1\n",
        "0064e9b7         1\n",
        "00847768         4\n",
        "00863f59         1\n",
        "00abf1a6         2\n",
        "00dda4fc         2\n",
        "00e1b9c0        25\n",
        "0150cc3e        46\n",
        "0169026e         6\n",
        "0180918f         1\n",
        "01c42f0d         1\n",
        "01cb1dc6        15\n",
        "01f9b380         2\n",
        "02010bf3         1\n",
        "021dbcbe         2\n",
        "022ab9c6        12\n",
        "0245cb85         3\n",
        "026faf38         1\n",
        "0316bf4f        17\n",
        "035145a1         2\n",
        "036036d1         2\n",
        "038690b2         1\n",
        "03cc62db         4\n",
        "0445c666        16\n",
        "047f7e80         1\n",
        "0483d223         2\n",
        "0487833f         2\n",
        "04abaa31         1\n",
        "04caff05         2\n",
        "...            ...\n",
        "fcc13576         3\n",
        "fccf1d54         4\n",
        "fce866df        10\n",
        "fd0f18e8        15\n",
        "fd0fa362        33\n",
        "fd13bc73       182\n",
        "fd52567a         1\n",
        "fd944963        46\n",
        "fda1a9ff         5\n",
        "fdce6734         1\n",
        "fdd17d86         1\n",
        "fdd2be2c         1\n",
        "fdfb56e9        21\n",
        "fdfba634         1\n",
        "fe02c12a         2\n",
        "fe050e52         2\n",
        "fe0dbe1c         9\n",
        "fe12b06c         7\n",
        "fe3e9d9a         7\n",
        "fe672e8a         1\n",
        "fe7806d9         1\n",
        "fec36d8a         1\n",
        "fed83882         3\n",
        "feebf083         1\n",
        "ff11cb55         1\n",
        "ff15329c        11\n",
        "ff3c109d        20\n",
        "ff8c5d6f         1\n",
        "ffb2d478         2\n",
        "fff602a2         7\n",
        "\n",
        "[1686 rows x 1 columns]\n",
        "---site_category---\n",
        "               click\n",
        "site_category       \n",
        "0569f928           5\n",
        "28905ebd        8393\n",
        "335d28a8          59\n",
        "3e814130        4685\n",
        "42a36e14           6\n",
        "50e219e0       10270\n",
        "5378d028           0\n",
        "70fb0e29          13\n",
        "72722551          15\n",
        "75fa27f6          95\n",
        "76b2941d          24\n",
        "8fd0aea4           0\n",
        "9ccfa2ea           0\n",
        "a818d37a           0\n",
        "bcf865d9           2\n",
        "c0dd3be3          39\n",
        "dedf689d          74\n",
        "e787de0e           1\n",
        "f028772b       11296\n",
        "f66779e6          49                click\n",
        "site_category       \n",
        "0569f928          87\n",
        "28905ebd       39907\n",
        "335d28a8         662\n",
        "3e814130       16526\n",
        "42a36e14          15\n",
        "50e219e0       78237\n",
        "5378d028           1\n",
        "70fb0e29          84\n",
        "72722551         149\n",
        "75fa27f6         595\n",
        "76b2941d         402\n",
        "8fd0aea4           2\n",
        "9ccfa2ea           2\n",
        "a818d37a          27\n",
        "bcf865d9           4\n",
        "c0dd3be3         219\n",
        "dedf689d         135\n",
        "e787de0e           9\n",
        "f028772b       61534\n",
        "f66779e6        1403\n",
        "---app_id---"
       ]
      },
      {
       "output_type": "stream",
       "stream": "stdout",
       "text": [
        "\n",
        "          click\n",
        "app_id         \n",
        "000d6291      0\n",
        "00848fac      0\n",
        "0091c84c      0\n",
        "00a55543      0\n",
        "00f15a2d      0\n",
        "013d2249      0\n",
        "0161ca39      0\n",
        "019f1849      1\n",
        "01ab369d      0\n",
        "01c579c9      0\n",
        "01c65a69      8\n",
        "01f2b4d0      1\n",
        "02004d3b      1\n",
        "02877ec6      0\n",
        "02d92985      0\n",
        "0305e7e9      0\n",
        "032af526      0\n",
        "03528b27    240\n",
        "03641a6d      0\n",
        "036fba6e      0\n",
        "039ee4c4      0\n",
        "03a08c3f     86\n",
        "042eea26      0\n",
        "044d01ed      0\n",
        "0476d862      1\n",
        "047c31d2      0\n",
        "048694ff      0\n",
        "049c8c59      0\n",
        "04a42d76      0\n",
        "04d13a4e      0\n",
        "...         ...\n",
        "fa5bb387      1\n",
        "fa6af97e      0\n",
        "fa8b6d03      2\n",
        "faaafc75      2\n",
        "fab82aad      0\n",
        "faeea4b0      0\n",
        "fb78dec0      0\n",
        "fb7c70a3     67\n",
        "fb89e1fc      0\n",
        "fbbccc58      3\n",
        "fc096fbd      0\n",
        "fc160a49      0\n",
        "fc46e1c5     26\n",
        "fc6dc16f      0\n",
        "fc94c422      0\n",
        "fce64fd5      0\n",
        "fd580d99      1\n",
        "fd5f799a      0\n",
        "fe40cf66      2\n",
        "fe61454b      0\n",
        "fe83ba4b      0\n",
        "fe950ed2      4\n",
        "feb2dcdb      0\n",
        "febd1138    190\n",
        "ff2487c8      0\n",
        "ff665dfa      0\n",
        "ff8e002b      0\n",
        "ffc6ffd0     35\n",
        "ffd93177      0\n",
        "ffdb187c      0\n",
        "\n",
        "[1765 rows x 1 columns]           click\n",
        "app_id         \n",
        "000d6291      2\n",
        "00848fac      1\n",
        "0091c84c      1\n",
        "00a55543      1\n",
        "00f15a2d      5\n",
        "013d2249      5\n",
        "0161ca39      1\n",
        "019f1849     31\n",
        "01ab369d      1\n",
        "01c579c9      4\n",
        "01c65a69     10\n",
        "01f2b4d0      3\n",
        "02004d3b      1\n",
        "02877ec6      1\n",
        "02d92985      3\n",
        "0305e7e9      1\n",
        "032af526      1\n",
        "03528b27   1684\n",
        "03641a6d     24\n",
        "036fba6e      2\n",
        "039ee4c4      1\n",
        "03a08c3f   1290\n",
        "042eea26      1\n",
        "044d01ed      2\n",
        "0476d862      1\n",
        "047c31d2      2\n",
        "048694ff      1\n",
        "049c8c59      2\n",
        "04a42d76      1\n",
        "04d13a4e      2\n",
        "...         ...\n",
        "fa5bb387      2\n",
        "fa6af97e      1\n",
        "fa8b6d03     14\n",
        "faaafc75      9\n",
        "fab82aad      1\n",
        "faeea4b0      2\n",
        "fb78dec0      1\n",
        "fb7c70a3    296\n",
        "fb89e1fc      1\n",
        "fbbccc58     27\n",
        "fc096fbd      1\n",
        "fc160a49      6\n",
        "fc46e1c5     95\n",
        "fc6dc16f      3\n",
        "fc94c422      3\n",
        "fce64fd5      4\n",
        "fd580d99      4\n",
        "fd5f799a     25\n",
        "fe40cf66      2\n",
        "fe61454b      1\n",
        "fe83ba4b      2\n",
        "fe950ed2      7\n",
        "feb2dcdb      5\n",
        "febd1138   3865\n",
        "ff2487c8      1\n",
        "ff665dfa      2\n",
        "ff8e002b      3\n",
        "ffc6ffd0    333\n",
        "ffd93177      1\n",
        "ffdb187c      1\n",
        "\n",
        "[1765 rows x 1 columns]\n",
        "---app_domain---"
       ]
      },
      {
       "output_type": "stream",
       "stream": "stdout",
       "text": [
        "\n",
        "            click\n",
        "app_domain       \n",
        "063914ab        0\n",
        "0654b444       34\n",
        "06a7ad59        0\n",
        "0d79ee56        1\n",
        "0e8616ad      122\n",
        "15c23f8e        0\n",
        "15ec7f39        2\n",
        "18eb4e75        0\n",
        "1b74784d        0\n",
        "1cbecd39        0\n",
        "1d5e09f4        0\n",
        "1ea19ec4        0\n",
        "1ed56ded        0\n",
        "2022d54e        0\n",
        "2347f47a     3070\n",
        "23e2c80e        0\n",
        "256a5990        0\n",
        "2619a4f7        0\n",
        "27ee373d        0\n",
        "28269d80        0\n",
        "29cd071c        0\n",
        "2b627705        2\n",
        "2c1c31c6        0\n",
        "33da2e74      216\n",
        "38462a94        0\n",
        "3c992420        0\n",
        "3ca588d4        0\n",
        "3feeed1e        0\n",
        "43cf4f06        1\n",
        "44324ff4        1\n",
        "...           ...\n",
        "c6824def        3\n",
        "c87b28e6        0\n",
        "c91a8f07        0\n",
        "cb36afb8        0\n",
        "cda96d46        0\n",
        "d18c63a1        0\n",
        "d6feb1a4        0\n",
        "d9b5648e      470\n",
        "d9e67b62        0\n",
        "da45f10e        0\n",
        "db829551        0\n",
        "dbf5ab77        0\n",
        "dcdba109        0\n",
        "df32afa9       42\n",
        "e5d5313f        2\n",
        "e787a6bc        0\n",
        "ead20d3d        0\n",
        "ee7d2e2b        0\n",
        "ef1fc174        0\n",
        "f2f777fb        4\n",
        "f3ad7798        1\n",
        "f435cae0        0\n",
        "f48b6635        0\n",
        "f7f22564        0\n",
        "f91396ac        0\n",
        "fc41b20c        0\n",
        "fd0f197b        0\n",
        "fd53c2dc        0\n",
        "fd5f0ee2        0\n",
        "fdbdd2a9        0\n",
        "\n",
        "[131 rows x 1 columns]             click\n",
        "app_domain       \n",
        "063914ab        1\n",
        "0654b444      165\n",
        "06a7ad59        1\n",
        "0d79ee56        5\n",
        "0e8616ad     1577\n",
        "15c23f8e        1\n",
        "15ec7f39       78\n",
        "18eb4e75       11\n",
        "1b74784d        2\n",
        "1cbecd39        1\n",
        "1d5e09f4        1\n",
        "1ea19ec4        1\n",
        "1ed56ded        8\n",
        "2022d54e        2\n",
        "2347f47a    21743\n",
        "23e2c80e        1\n",
        "256a5990        1\n",
        "2619a4f7        2\n",
        "27ee373d       13\n",
        "28269d80        1\n",
        "29cd071c        1\n",
        "2b627705       14\n",
        "2c1c31c6        1\n",
        "33da2e74     1612\n",
        "38462a94        1\n",
        "3c992420        1\n",
        "3ca588d4        3\n",
        "3feeed1e       10\n",
        "43cf4f06       43\n",
        "44324ff4        1\n",
        "...           ...\n",
        "c6824def      107\n",
        "c87b28e6        2\n",
        "c91a8f07        2\n",
        "cb36afb8        4\n",
        "cda96d46        1\n",
        "d18c63a1        1\n",
        "d6feb1a4       10\n",
        "d9b5648e     4125\n",
        "d9e67b62        1\n",
        "da45f10e        1\n",
        "db829551       24\n",
        "dbf5ab77        1\n",
        "dcdba109        7\n",
        "df32afa9     1578\n",
        "e5d5313f       14\n",
        "e787a6bc        2\n",
        "ead20d3d        1\n",
        "ee7d2e2b        1\n",
        "ef1fc174        8\n",
        "f2f777fb       50\n",
        "f3ad7798        5\n",
        "f435cae0        4\n",
        "f48b6635        1\n",
        "f7f22564        2\n",
        "f91396ac        1\n",
        "fc41b20c        1\n",
        "fd0f197b        1\n",
        "fd53c2dc        2\n",
        "fd5f0ee2        5\n",
        "fdbdd2a9        1\n",
        "\n",
        "[131 rows x 1 columns]\n",
        "---app_category---\n",
        "              click\n",
        "app_category       \n",
        "07d7df22      27145\n",
        "09481d60         66\n",
        "0bfbc358          1\n",
        "0f2161f8       5184\n",
        "0f9a328c          7\n",
        "18b1e0be          0\n",
        "2281a340          0\n",
        "2fc4f2aa          0\n",
        "4681bb9d          5\n",
        "4ce2e9fc         11\n",
        "75d80bbe         22\n",
        "79f0b860          0\n",
        "879c24eb          5\n",
        "8ded1f7a        508\n",
        "8df2e842          1\n",
        "a3c42688          0\n",
        "a7fd01ec          2\n",
        "a86a3e89          2\n",
        "cef3e649        971\n",
        "d1327cf5         59\n",
        "dc97ec06         66\n",
        "f95efa07        963\n",
        "fc6fa53d          8"
       ]
      },
      {
       "output_type": "stream",
       "stream": "stdout",
       "text": [
        "                click\n",
        "app_category        \n",
        "07d7df22      133319\n",
        "09481d60         382\n",
        "0bfbc358           6\n",
        "0f2161f8       46645\n",
        "0f9a328c          36\n",
        "18b1e0be           1\n",
        "2281a340          17\n",
        "2fc4f2aa           2\n",
        "4681bb9d          39\n",
        "4ce2e9fc          95\n",
        "75d80bbe         200\n",
        "79f0b860           1\n",
        "879c24eb          69\n",
        "8ded1f7a        4533\n",
        "8df2e842           7\n",
        "a3c42688          77\n",
        "a7fd01ec           5\n",
        "a86a3e89          10\n",
        "cef3e649        9083\n",
        "d1327cf5         616\n",
        "dc97ec06         278\n",
        "f95efa07        4456\n",
        "fc6fa53d         123\n",
        "---device_id---\n",
        "           click\n",
        "device_id       \n",
        "0001bfbd       0\n",
        "000364ff       0\n",
        "0003a33b       0\n",
        "00062f56       0\n",
        "00098b7a       0\n",
        "0009a7a7       0\n",
        "000a34a9       1\n",
        "000ad535       0\n",
        "000e4853       0\n",
        "000e5b39       0\n",
        "0015b5a4       0\n",
        "0016b9a7       0\n",
        "0016def3       0\n",
        "00171260       0\n",
        "001758bd       0\n",
        "00195e51       0\n",
        "001ae66c       0\n",
        "001b5289       0\n",
        "001ef92a       1\n",
        "0022fc4e       0\n",
        "002880ab       0\n",
        "002a5839       0\n",
        "002a910a       1\n",
        "002d44c6       0\n",
        "0035dcdb       0\n",
        "0039169a       1\n",
        "003aa041       0\n",
        "003bf29e       0\n",
        "003c040a       0\n",
        "003ddc26       1\n",
        "...          ...\n",
        "ffc1a8fc       0\n",
        "ffc73caa       0\n",
        "ffcf8ece       0\n",
        "ffd1619e       0\n",
        "ffd2aef4       0\n",
        "ffd80afe       0\n",
        "ffd88b00       0\n",
        "ffda39c1       1\n",
        "ffda6b05       1\n",
        "ffdaaa3d       0\n",
        "ffdf2f70       0\n",
        "ffdfeb0d       1\n",
        "ffe1bb68       1\n",
        "ffe36f78       0\n",
        "ffe4caa2       0\n",
        "ffe76e74       0\n",
        "ffe7c904       0\n",
        "ffe89a9d       0\n",
        "ffeaef1c       0\n",
        "ffed1d46       0\n",
        "ffed8e7b       0\n",
        "ffeeb1a2       0\n",
        "ffefb7bc       1\n",
        "fff23fde       0\n",
        "fff3a078       0\n",
        "fff44996       0\n",
        "fff46785       0\n",
        "fff4faa8       0\n",
        "fffd620a       1\n",
        "ffffb18a       0\n",
        "\n",
        "[32559 rows x 1 columns]"
       ]
      },
      {
       "output_type": "stream",
       "stream": "stdout",
       "text": [
        "            click\n",
        "device_id       \n",
        "0001bfbd       1\n",
        "000364ff       1\n",
        "0003a33b       1\n",
        "00062f56       1\n",
        "00098b7a       1\n",
        "0009a7a7       1\n",
        "000a34a9       1\n",
        "000ad535       1\n",
        "000e4853       1\n",
        "000e5b39       1\n",
        "0015b5a4       1\n",
        "0016b9a7       1\n",
        "0016def3       1\n",
        "00171260       2\n",
        "001758bd       1\n",
        "00195e51       1\n",
        "001ae66c       1\n",
        "001b5289       1\n",
        "001ef92a       1\n",
        "0022fc4e       1\n",
        "002880ab       1\n",
        "002a5839       1\n",
        "002a910a       1\n",
        "002d44c6       1\n",
        "0035dcdb       1\n",
        "0039169a       1\n",
        "003aa041       1\n",
        "003bf29e       1\n",
        "003c040a       1\n",
        "003ddc26       1\n",
        "...          ...\n",
        "ffc1a8fc       1\n",
        "ffc73caa       2\n",
        "ffcf8ece       1\n",
        "ffd1619e       1\n",
        "ffd2aef4       1\n",
        "ffd80afe       1\n",
        "ffd88b00       1\n",
        "ffda39c1       2\n",
        "ffda6b05       1\n",
        "ffdaaa3d       1\n",
        "ffdf2f70       1\n",
        "ffdfeb0d       1\n",
        "ffe1bb68       1\n",
        "ffe36f78       1\n",
        "ffe4caa2       1\n",
        "ffe76e74       1\n",
        "ffe7c904       1\n",
        "ffe89a9d       1\n",
        "ffeaef1c       1\n",
        "ffed1d46       1\n",
        "ffed8e7b       1\n",
        "ffeeb1a2       1\n",
        "ffefb7bc       1\n",
        "fff23fde       1\n",
        "fff3a078       1\n",
        "fff44996       1\n",
        "fff46785       1\n",
        "fff4faa8       1\n",
        "fffd620a       1\n",
        "ffffb18a       1\n",
        "\n",
        "[32559 rows x 1 columns]\n",
        "---device_ip---\n",
        "           click\n",
        "device_ip       \n",
        "000044b3       1\n",
        "00009aad       0\n",
        "0000b7a7       0\n",
        "0000d997       0\n",
        "00011feb       0\n",
        "00014c42       0\n",
        "0001d7d1       0\n",
        "0002133a       0\n",
        "00024766       0\n",
        "00029fa7       0\n",
        "00033639       1\n",
        "00038074       0\n",
        "00039bbc       0\n",
        "0003fcab       0\n",
        "00044fcb       0\n",
        "0004d5c6       0\n",
        "0004df61       1\n",
        "00053e22       0\n",
        "0005582f       1\n",
        "0005ba99       0\n",
        "0005ccf3       0\n",
        "0005e1d9       0\n",
        "00075204       0\n",
        "0007786f       0\n",
        "0007f38f       0\n",
        "0007ff3f       0\n",
        "00084d9c       0\n",
        "0008832b       0\n",
        "000a14d1       0\n",
        "000a66e0       0\n",
        "...          ...\n",
        "fff06d76       0\n",
        "fff14c30       0\n",
        "fff1c482       0\n",
        "fff51345       0\n",
        "fff66839       0\n",
        "fff7008f       0\n",
        "fff798ac       0\n",
        "fff7dbdd       1\n",
        "fff7eea0       0\n",
        "fff80d9f       1\n",
        "fff82817       0\n",
        "fff8a808       1\n",
        "fff8ca66       0\n",
        "fff94f75       0\n",
        "fff9a0bc       0\n",
        "fffb311d       0\n",
        "fffb8126       0\n",
        "fffbb0fe       1\n",
        "fffbb7cb       0\n",
        "fffc39f4       0\n",
        "fffc6570       0\n",
        "fffc7f71       0\n",
        "fffccac7       0\n",
        "fffce275       0\n",
        "fffd5a53       0\n",
        "fffe2401       1\n",
        "fffe3a9a       1\n",
        "fffe5a2f       0\n",
        "fffec045       0\n",
        "ffff0506       1\n",
        "\n",
        "[139214 rows x 1 columns]"
       ]
      },
      {
       "output_type": "stream",
       "stream": "stdout",
       "text": [
        "            click\n",
        "device_ip       \n",
        "000044b3       1\n",
        "00009aad       2\n",
        "0000b7a7       3\n",
        "0000d997       1\n",
        "00011feb       1\n",
        "00014c42       2\n",
        "0001d7d1       1\n",
        "0002133a       1\n",
        "00024766       1\n",
        "00029fa7       1\n",
        "00033639       2\n",
        "00038074       1\n",
        "00039bbc       1\n",
        "0003fcab       1\n",
        "00044fcb       1\n",
        "0004d5c6       1\n",
        "0004df61       1\n",
        "00053e22       2\n",
        "0005582f       1\n",
        "0005ba99       1\n",
        "0005ccf3       1\n",
        "0005e1d9       1\n",
        "00075204       1\n",
        "0007786f       1\n",
        "0007f38f       1\n",
        "0007ff3f       1\n",
        "00084d9c       1\n",
        "0008832b       1\n",
        "000a14d1       1\n",
        "000a66e0       1\n",
        "...          ...\n",
        "fff06d76       1\n",
        "fff14c30       1\n",
        "fff1c482       1\n",
        "fff51345       1\n",
        "fff66839       2\n",
        "fff7008f       1\n",
        "fff798ac       1\n",
        "fff7dbdd       1\n",
        "fff7eea0       1\n",
        "fff80d9f       1\n",
        "fff82817       1\n",
        "fff8a808       1\n",
        "fff8ca66       1\n",
        "fff94f75       1\n",
        "fff9a0bc       1\n",
        "fffb311d       2\n",
        "fffb8126       1\n",
        "fffbb0fe       1\n",
        "fffbb7cb       1\n",
        "fffc39f4       1\n",
        "fffc6570       2\n",
        "fffc7f71       3\n",
        "fffccac7       1\n",
        "fffce275       1\n",
        "fffd5a53       1\n",
        "fffe2401       2\n",
        "fffe3a9a       1\n",
        "fffe5a2f       1\n",
        "fffec045       1\n",
        "ffff0506       1\n",
        "\n",
        "[139214 rows x 1 columns]\n",
        "---device_model---\n",
        "              click\n",
        "device_model       \n",
        "00097428          2\n",
        "0009f4d7          2\n",
        "006ce985          0\n",
        "008ac803          1\n",
        "00aae2c7          2\n",
        "00b08597          4\n",
        "00b1f3a7        104\n",
        "00e71d3a          1\n",
        "01161611          1\n",
        "0135c685          4\n",
        "01415aab          5\n",
        "0143f1d8          0\n",
        "01487ec3          0\n",
        "014c970f          0\n",
        "0153a639         80\n",
        "01634391          4\n",
        "0179bf8d          0\n",
        "01afd1bc          0\n",
        "01c188c3          0\n",
        "01cd7843          0\n",
        "01d57fd7          5\n",
        "01d61ca2          7\n",
        "01dbc3bc          0\n",
        "01e29bbb          8\n",
        "01e8128a          1\n",
        "0205329f          2\n",
        "021759da          2\n",
        "021b641d         31\n",
        "022e3eb5          2\n",
        "023a5294          3\n",
        "...             ...\n",
        "fe5208a5          0\n",
        "fe64e635          0\n",
        "fe691a04          0\n",
        "fe72bf31          4\n",
        "fe74e7cf          1\n",
        "fe9f8125          1\n",
        "feacaaee         24\n",
        "feb70d53          8\n",
        "febf00b4          0\n",
        "febf5644          0\n",
        "fecab627          2\n",
        "fed5ad55          0\n",
        "ff04ee91          0\n",
        "ff065cf0        113\n",
        "ff0f1aca          2\n",
        "ff16d623          6\n",
        "ff2a3543          2\n",
        "ff3242b8          0\n",
        "ff503cfe          1\n",
        "ff5cbc87          1\n",
        "ff607a1a          7\n",
        "ff687ac4          0\n",
        "ff6c0f58          0\n",
        "ff717dd1          1\n",
        "ff91ea03          2\n",
        "ffb16766          0\n",
        "ffc70ef9          3\n",
        "ffcd1497          1\n",
        "ffe3ae81          1\n",
        "ffe69079          2\n",
        "\n",
        "[3717 rows x 1 columns]"
       ]
      },
      {
       "output_type": "stream",
       "stream": "stdout",
       "text": [
        "               click\n",
        "device_model       \n",
        "00097428          9\n",
        "0009f4d7         22\n",
        "006ce985          3\n",
        "008ac803          7\n",
        "00aae2c7          5\n",
        "00b08597         48\n",
        "00b1f3a7        470\n",
        "00e71d3a         11\n",
        "01161611          8\n",
        "0135c685         35\n",
        "01415aab         15\n",
        "0143f1d8          1\n",
        "01487ec3          2\n",
        "014c970f          2\n",
        "0153a639        293\n",
        "01634391         20\n",
        "0179bf8d          2\n",
        "01afd1bc          2\n",
        "01c188c3          1\n",
        "01cd7843          1\n",
        "01d57fd7         25\n",
        "01d61ca2         11\n",
        "01dbc3bc         10\n",
        "01e29bbb         18\n",
        "01e8128a          2\n",
        "0205329f         17\n",
        "021759da          8\n",
        "021b641d        178\n",
        "022e3eb5         18\n",
        "023a5294          9\n",
        "...             ...\n",
        "fe5208a5          1\n",
        "fe64e635          1\n",
        "fe691a04          1\n",
        "fe72bf31          7\n",
        "fe74e7cf          2\n",
        "fe9f8125          6\n",
        "feacaaee         82\n",
        "feb70d53         44\n",
        "febf00b4          1\n",
        "febf5644          1\n",
        "fecab627          5\n",
        "fed5ad55          7\n",
        "ff04ee91          1\n",
        "ff065cf0        477\n",
        "ff0f1aca          4\n",
        "ff16d623         38\n",
        "ff2a3543         20\n",
        "ff3242b8          1\n",
        "ff503cfe          4\n",
        "ff5cbc87          5\n",
        "ff607a1a         39\n",
        "ff687ac4          1\n",
        "ff6c0f58          1\n",
        "ff717dd1         15\n",
        "ff91ea03         64\n",
        "ffb16766          3\n",
        "ffc70ef9         19\n",
        "ffcd1497          9\n",
        "ffe3ae81          3\n",
        "ffe69079         22\n",
        "\n",
        "[3717 rows x 1 columns]\n",
        "---device_type---\n",
        "             click\n",
        "device_type       \n",
        "0             2369\n",
        "1            32226\n",
        "4              357\n",
        "5               74               click\n",
        "device_type        \n",
        "0             11258\n",
        "1            184323\n",
        "4              3805\n",
        "5               614\n",
        "---device_conn_type---\n",
        "                  click\n",
        "device_conn_type       \n",
        "0                 32395\n",
        "2                  2205\n",
        "3                   419\n",
        "5                     7                    click\n",
        "device_conn_type        \n",
        "0                 174244\n",
        "2                  14917\n",
        "3                  10568\n",
        "5                    271\n",
        "---C14---"
       ]
      },
      {
       "output_type": "stream",
       "stream": "stdout",
       "text": [
        "\n",
        "       click\n",
        "C14         \n",
        "10289      1\n",
        "1037     193\n",
        "1038     138\n",
        "1039     175\n",
        "10532      0\n",
        "10533      0\n",
        "10534      0\n",
        "10535      0\n",
        "10738      0\n",
        "10739      1\n",
        "10740      1\n",
        "10741      0\n",
        "10742      3\n",
        "10743      2\n",
        "10810      0\n",
        "10895      0\n",
        "11142      0\n",
        "11143      1\n",
        "11144      0\n",
        "11145      0\n",
        "11188      0\n",
        "11189      0\n",
        "11190      1\n",
        "11191      0\n",
        "11193      0\n",
        "11268      0\n",
        "11323      0\n",
        "11325      3\n",
        "11994      0\n",
        "12000     26\n",
        "...      ...\n",
        "7711       1\n",
        "7712       0\n",
        "7713       1\n",
        "7714       1\n",
        "787        7\n",
        "8330     314\n",
        "8334       4\n",
        "8392       0\n",
        "8395       0\n",
        "8434       0\n",
        "8437       0\n",
        "8994       9\n",
        "8995      14\n",
        "8996       7\n",
        "9014       0\n",
        "9015       1\n",
        "9016       1\n",
        "9236       2\n",
        "9248      36\n",
        "9335       3\n",
        "9436       1\n",
        "9437       0\n",
        "9438       1\n",
        "9461       6\n",
        "9463       0\n",
        "9464       0\n",
        "9478      67\n",
        "9798       0\n",
        "9803       0\n",
        "9805       1\n",
        "\n",
        "[1361 rows x 1 columns]        click\n",
        "C14         \n",
        "10289     16\n",
        "1037     669\n",
        "1038     557\n",
        "1039     639\n",
        "10532      2\n",
        "10533      1\n",
        "10534      1\n",
        "10535      1\n",
        "10738     10\n",
        "10739      8\n",
        "10740      6\n",
        "10741      4\n",
        "10742     15\n",
        "10743     17\n",
        "10810      1\n",
        "10895      1\n",
        "11142      2\n",
        "11143      2\n",
        "11144      3\n",
        "11145      1\n",
        "11188      2\n",
        "11189      1\n",
        "11190      1\n",
        "11191      1\n",
        "11193      3\n",
        "11268      4\n",
        "11323     17\n",
        "11325     21\n",
        "11994      2\n",
        "12000    102\n",
        "...      ...\n",
        "7711       5\n",
        "7712       2\n",
        "7713       4\n",
        "7714       4\n",
        "787       96\n",
        "8330    1965\n",
        "8334      32\n",
        "8392       1\n",
        "8395       1\n",
        "8434       1\n",
        "8437       2\n",
        "8994      18\n",
        "8995      30\n",
        "8996      11\n",
        "9014       1\n",
        "9015       4\n",
        "9016       2\n",
        "9236      26\n",
        "9248     238\n",
        "9335      14\n",
        "9436       2\n",
        "9437       3\n",
        "9438      67\n",
        "9461      99\n",
        "9463       1\n",
        "9464       1\n",
        "9478     910\n",
        "9798       8\n",
        "9803       2\n",
        "9805       2\n",
        "\n",
        "[1361 rows x 1 columns]\n",
        "---C15---\n",
        "      click\n",
        "C15        \n",
        "1024      3\n",
        "120       1\n",
        "216     237\n",
        "300    4333\n",
        "320   30421\n",
        "480       4\n",
        "728      23\n",
        "768       4"
       ]
      },
      {
       "output_type": "stream",
       "stream": "stdout",
       "text": [
        "        click\n",
        "C15         \n",
        "1024       7\n",
        "120        5\n",
        "216     1961\n",
        "300    11335\n",
        "320   186341\n",
        "480       12\n",
        "728      330\n",
        "768        9\n",
        "---C16---\n",
        "      click\n",
        "C16        \n",
        "1024      4\n",
        "20        1\n",
        "250    4011\n",
        "320       4\n",
        "36      237\n",
        "480     116\n",
        "50    30627\n",
        "768       3\n",
        "90       23        click\n",
        "C16         \n",
        "1024       9\n",
        "20         5\n",
        "250     9274\n",
        "320       12\n",
        "36      1961\n",
        "480      537\n",
        "50    187865\n",
        "768        7\n",
        "90       330\n",
        "---C17---\n",
        "      click\n",
        "C17        \n",
        "1008      2\n",
        "1042      0\n",
        "1076      7\n",
        "1092     93\n",
        "1107      0\n",
        "112     317\n",
        "1141      1\n",
        "1149      1\n",
        "1160      1\n",
        "1161      2\n",
        "1174      6\n",
        "122     234\n",
        "1248     32\n",
        "1255      3\n",
        "1272     32\n",
        "1401      8\n",
        "1447    106\n",
        "1507      2\n",
        "1515      0\n",
        "1526    103\n",
        "1528     17\n",
        "153       7\n",
        "1637      7\n",
        "1685      2\n",
        "1694     33\n",
        "1698      0\n",
        "1702     14\n",
        "1722   5569\n",
        "1740     13\n",
        "1741     24\n",
        "...     ...\n",
        "2641      0\n",
        "2642      1\n",
        "2643      1\n",
        "2644      0\n",
        "2645      0\n",
        "2646      2\n",
        "2647      6\n",
        "2648      0\n",
        "394       4\n",
        "423    1485\n",
        "479     278\n",
        "544     122\n",
        "547     111\n",
        "549      23\n",
        "550       8\n",
        "571     106\n",
        "572     380\n",
        "576     108\n",
        "613      68\n",
        "686      12\n",
        "761     318\n",
        "768      36\n",
        "827      30\n",
        "832       2\n",
        "863      10\n",
        "873       3\n",
        "898       2\n",
        "901       6\n",
        "906      67\n",
        "937       1\n",
        "\n",
        "[316 rows x 1 columns]"
       ]
      },
      {
       "output_type": "stream",
       "stream": "stdout",
       "text": [
        "       click\n",
        "C17        \n",
        "1008     20\n",
        "1042      5\n",
        "1076     60\n",
        "1092    832\n",
        "1107      1\n",
        "112    1535\n",
        "1141      8\n",
        "1149      8\n",
        "1160      8\n",
        "1161     57\n",
        "1174     50\n",
        "122    1707\n",
        "1248    154\n",
        "1255      9\n",
        "1272     74\n",
        "1401     56\n",
        "1447    353\n",
        "1507     12\n",
        "1515      1\n",
        "1526    347\n",
        "1528     85\n",
        "153      96\n",
        "1637     53\n",
        "1685     15\n",
        "1694     44\n",
        "1698      8\n",
        "1702    383\n",
        "1722  28863\n",
        "1740    125\n",
        "1741    197\n",
        "...     ...\n",
        "2641      4\n",
        "2642      2\n",
        "2643     12\n",
        "2644     10\n",
        "2645      6\n",
        "2646     11\n",
        "2647     19\n",
        "2648      5\n",
        "394     117\n",
        "423    5757\n",
        "479    1276\n",
        "544     595\n",
        "547     898\n",
        "549     109\n",
        "550      57\n",
        "571     603\n",
        "572    1642\n",
        "576     576\n",
        "613     448\n",
        "686      58\n",
        "761    1997\n",
        "768     243\n",
        "827      59\n",
        "832       7\n",
        "863     138\n",
        "873      14\n",
        "898      72\n",
        "901     101\n",
        "906     910\n",
        "937      12\n",
        "\n",
        "[316 rows x 1 columns]\n",
        "---C18---\n",
        "     click\n",
        "C18       \n",
        "0    13415\n",
        "1      446\n",
        "2    10424\n",
        "3    10741      click\n",
        "C18       \n",
        "0    81873\n",
        "1    12144\n",
        "2    35114\n",
        "3    70869\n",
        "---C19---\n",
        "      click\n",
        "C19        \n",
        "1059     94\n",
        "1063    988\n",
        "1065    130\n",
        "1071     30\n",
        "1315     15\n",
        "1319    547\n",
        "1327   1313\n",
        "1451     70\n",
        "161     219\n",
        "163     349\n",
        "167    2501\n",
        "169     241\n",
        "171     229\n",
        "1711    146\n",
        "175     392\n",
        "1835     18\n",
        "291     182\n",
        "295       0\n",
        "297     420\n",
        "299      36\n",
        "303     661\n",
        "33       13\n",
        "34      167\n",
        "35    10618\n",
        "39    11770\n",
        "41      392\n",
        "417       1\n",
        "419      32\n",
        "423       5\n",
        "425       6\n",
        "427      88\n",
        "43       40\n",
        "431     510\n",
        "45        2\n",
        "47      789\n",
        "547     290\n",
        "551      52\n",
        "553       0\n",
        "555       3\n",
        "559      37\n",
        "673       4\n",
        "675      85\n",
        "679     583\n",
        "681      29\n",
        "683       0\n",
        "687     542\n",
        "801      11\n",
        "809      49\n",
        "811      75\n",
        "813      33\n",
        "935     205\n",
        "937       1\n",
        "943      13"
       ]
      },
      {
       "output_type": "stream",
       "stream": "stdout",
       "text": [
        "       click\n",
        "C19        \n",
        "1059    635\n",
        "1063   2714\n",
        "1065    757\n",
        "1071     59\n",
        "1315    252\n",
        "1319   2427\n",
        "1327   5947\n",
        "1451    961\n",
        "161    9119\n",
        "163    3660\n",
        "167   16102\n",
        "169    1926\n",
        "171    1995\n",
        "1711    687\n",
        "175    2502\n",
        "1835    148\n",
        "291     780\n",
        "295       1\n",
        "297    5669\n",
        "299     516\n",
        "303    2130\n",
        "33      209\n",
        "34      700\n",
        "35    63551\n",
        "39    45980\n",
        "41     3626\n",
        "417      41\n",
        "419     373\n",
        "423     143\n",
        "425      52\n",
        "427    1357\n",
        "43      759\n",
        "431    2028\n",
        "45       23\n",
        "47     6153\n",
        "547    1874\n",
        "551     361\n",
        "553      57\n",
        "555      31\n",
        "559     389\n",
        "673     105\n",
        "675     615\n",
        "679    5425\n",
        "681     241\n",
        "683       5\n",
        "687    3073\n",
        "801     149\n",
        "809     693\n",
        "811     684\n",
        "813     335\n",
        "935    1787\n",
        "937      69\n",
        "943     125\n",
        "---C20---\n",
        "        click\n",
        "C20          \n",
        "-1      18826\n",
        "100000     52\n",
        "100001      8\n",
        "100002      6\n",
        "100003     22\n",
        "100004     24\n",
        "100005     29\n",
        "100010      2\n",
        "100012      6\n",
        "100013     76\n",
        "100016      3\n",
        "100019     28\n",
        "100020     55\n",
        "100021     56\n",
        "100022     10\n",
        "100024      2\n",
        "100025      1\n",
        "100026      4\n",
        "100028     29\n",
        "100029      0\n",
        "100031    187\n",
        "100032      1\n",
        "100033      0\n",
        "100034     95\n",
        "100037      5\n",
        "100039     11\n",
        "100040      2\n",
        "100041      3\n",
        "100043      1\n",
        "100046      7\n",
        "...       ...\n",
        "100183     10\n",
        "100185      5\n",
        "100188    117\n",
        "100189     62\n",
        "100190     25\n",
        "100191    124\n",
        "100192     42\n",
        "100193     89\n",
        "100194     62\n",
        "100195      4\n",
        "100199     32\n",
        "100200     45\n",
        "100202     30\n",
        "100205      3\n",
        "100206      3\n",
        "100209      0\n",
        "100210     21\n",
        "100212      5\n",
        "100213      1\n",
        "100215     12\n",
        "100217     45\n",
        "100221     76\n",
        "100224      1\n",
        "100225      6\n",
        "100228     83\n",
        "100229      0\n",
        "100233     72\n",
        "100241     14\n",
        "100244      2\n",
        "100248      6\n",
        "\n",
        "[155 rows x 1 columns] "
       ]
      },
      {
       "output_type": "stream",
       "stream": "stdout",
       "text": [
        "        click\n",
        "C20          \n",
        "-1      93898\n",
        "100000    609\n",
        "100001     42\n",
        "100002     38\n",
        "100003    643\n",
        "100004    402\n",
        "100005    430\n",
        "100010      4\n",
        "100012     77\n",
        "100013    574\n",
        "100016     12\n",
        "100019    254\n",
        "100020    473\n",
        "100021    288\n",
        "100022     43\n",
        "100024     10\n",
        "100025     29\n",
        "100026     33\n",
        "100028    255\n",
        "100029     17\n",
        "100031    898\n",
        "100032     13\n",
        "100033     11\n",
        "100034    459\n",
        "100037     35\n",
        "100039    102\n",
        "100040     34\n",
        "100041     31\n",
        "100043      5\n",
        "100046     60\n",
        "...       ...\n",
        "100183     87\n",
        "100185     32\n",
        "100188    802\n",
        "100189   2426\n",
        "100190   1165\n",
        "100191   1338\n",
        "100192   1285\n",
        "100193   3654\n",
        "100194    607\n",
        "100195     22\n",
        "100199    376\n",
        "100200    410\n",
        "100202    339\n",
        "100205     17\n",
        "100206      9\n",
        "100209      1\n",
        "100210    151\n",
        "100212     23\n",
        "100213      2\n",
        "100215     63\n",
        "100217    245\n",
        "100221    320\n",
        "100224      4\n",
        "100225     41\n",
        "100228    438\n",
        "100229     10\n",
        "100233    558\n",
        "100241    102\n",
        "100244     11\n",
        "100248     33\n",
        "\n",
        "[155 rows x 1 columns]\n",
        "---C21---\n",
        "     click\n",
        "C21       \n",
        "100     37\n",
        "101     33\n",
        "102      3\n",
        "108     54\n",
        "110     42\n",
        "111     98\n",
        "112     61\n",
        "116     18\n",
        "117    623\n",
        "13     548\n",
        "15    1101\n",
        "156    193\n",
        "157   1570\n",
        "159    263\n",
        "16     339\n",
        "163      1\n",
        "17      43\n",
        "171     26\n",
        "177      4\n",
        "178     32\n",
        "182     32\n",
        "194     14\n",
        "195      1\n",
        "20       7\n",
        "219      0\n",
        "221   3038\n",
        "23    8764\n",
        "32    2405\n",
        "33    3206\n",
        "35     103\n",
        "42     653\n",
        "43     248\n",
        "46     142\n",
        "48    1525\n",
        "51     457\n",
        "52    1567\n",
        "61     705\n",
        "68     260\n",
        "69     168\n",
        "70      84\n",
        "71     353\n",
        "79    5620\n",
        "82     112\n",
        "85       0\n",
        "90     202\n",
        "91     103\n",
        "93       8\n",
        "94       8\n",
        "95     152      click\n",
        "C21       \n",
        "100    324\n",
        "101    403\n",
        "102     31\n",
        "108    322\n",
        "110    803\n",
        "111    985\n",
        "112    546\n",
        "116    116\n",
        "117   2997\n",
        "13    2446\n",
        "15    5330\n",
        "156   2495\n",
        "157  13695\n",
        "159   2181\n",
        "16    1334\n",
        "163     41\n",
        "17     613\n",
        "171    326\n",
        "177     41\n",
        "178    373\n",
        "182    345\n",
        "194    103\n",
        "195     26\n",
        "20      96\n",
        "219      9\n",
        "221  15730\n",
        "23   41284\n",
        "32   10223\n",
        "33    7841\n",
        "35     347\n",
        "42    5319\n",
        "43    3160\n",
        "46    1435\n",
        "48   11440\n",
        "51    2514\n",
        "52    5650\n",
        "61   10460\n",
        "68    2329\n",
        "69    1309\n",
        "70     471\n",
        "71   11273\n",
        "79   29326\n",
        "82     415\n",
        "85       8\n",
        "90     893\n",
        "91    1065\n",
        "93      96\n",
        "94      60\n",
        "95    1371\n",
        "---weekday---\n",
        "         click\n",
        "weekday       \n",
        "0         4291\n",
        "1         5365\n",
        "2         6211\n",
        "3         5124\n",
        "4         4208\n",
        "5         4614\n",
        "6         5213"
       ]
      },
      {
       "output_type": "stream",
       "stream": "stdout",
       "text": [
        "          click\n",
        "weekday       \n",
        "0        23593\n",
        "1        30563\n",
        "2        39697\n",
        "3        28496\n",
        "4        24338\n",
        "5        25111\n",
        "6        28202\n"
       ]
      }
     ],
     "prompt_number": 26
    },
    {
     "cell_type": "code",
     "collapsed": false,
     "input": [
      "X_sparse=vec.transform(Xd.T.to_dict().values())\n",
      "#X_s=X_sparse[:,vsel[1]<pcutoff]\n",
      "print clf.predict_proba(X_sparse)"
     ],
     "language": "python",
     "metadata": {},
     "outputs": [
      {
       "output_type": "stream",
       "stream": "stdout",
       "text": [
        "[[ 0.52002223  0.47997777]\n",
        " [ 0.52284938  0.47715062]\n",
        " [ 0.51752431  0.48247569]\n",
        " ..., \n",
        " [ 0.52038795  0.47961205]\n",
        " [ 0.51806129  0.48193871]\n",
        " [ 0.52449578  0.47550422]]\n"
       ]
      }
     ],
     "prompt_number": 5
    },
    {
     "cell_type": "code",
     "collapsed": false,
     "input": [
      "#print Y, clf.predict_proba(X_s)\n",
      "ypred=clf.predict_proba(X_sparse)[:,1]\n",
      "print clf.score(X_sparse,Y), log_loss(Y,ypred), roc_auc_score(Y,ypred)"
     ],
     "language": "python",
     "metadata": {},
     "outputs": [
      {
       "output_type": "stream",
       "stream": "stdout",
       "text": [
        "0.82487 "
       ]
      },
      {
       "output_type": "stream",
       "stream": "stdout",
       "text": [
        "0.666394030875 "
       ]
      },
      {
       "output_type": "stream",
       "stream": "stdout",
       "text": [
        "0.52124523281\n"
       ]
      }
     ],
     "prompt_number": 7
    },
    {
     "cell_type": "code",
     "collapsed": false,
     "input": [
      "batch=0\n",
      "nlines=0\n",
      "nlim=130000\n",
      "blim=100\n",
      "X=np.zeros((nlim,26),dtype='a20')\n",
      "with open(\"train_noh_post28.csv\",\"r\") as f:\n",
      "    for line in f:\n",
      "        \n",
      "        X[nlines,:24]=[str(xx) for xx in line.strip().split(',')]\n",
      "        #print X[nlines,:]\n",
      "        X[nlines,24]=str(dt.datetime.strptime(X[nlines,2],'%y%m%d%H').weekday())\n",
      "        X[nlines,25]=X[nlines,2][-2:]\n",
      "        nlines=nlines+1;\n",
      "        if (nlines==nlim):\n",
      "            print 'Processing batch '+str(batch+1)\n",
      "            batch=batch+1\n",
      "\n",
      "            Xd=pd.DataFrame(X[:,3:],columns=colnames)\n",
      "            Y=X[:,1].astype('int')\n",
      "            #All the jazz goes here\n",
      "\n",
      "            print 'Running Dict Vectorizer transform alone'\n",
      "            X_sparse=vec.transform(Xd.T.to_dict().values())\n",
      "            \n",
      "            print 'only prediction'\n",
      "            \n",
      "            ypred=clf.predict_proba(X_sparse)[:,1]\n",
      "            #lpred=clf.predict(X_sparse)\n",
      "            \n",
      "            #print clf.score(X_sparse,Y), accuracy_score(Y,lpred), log_loss(Y,ypred)\n",
      "            print clf.score(X_sparse,Y), log_loss(Y,ypred)\n",
      "            \n",
      "            nlines=0\n",
      "            X=np.zeros((nlim,26),dtype='a20')\n",
      "            del X_sparse\n",
      "            \n",
      "            if (batch>=blim):\n",
      "                print \"Done.. aren't we?\"\n",
      "                f.close()\n",
      "                del X\n",
      "                break\n",
      "\n",
      "print 'Yes, we are..'"
     ],
     "language": "python",
     "metadata": {},
     "outputs": [
      {
       "output_type": "stream",
       "stream": "stdout",
       "text": [
        "Processing batch 1\n",
        "Running Dict Vectorizer transform alone"
       ]
      },
      {
       "output_type": "stream",
       "stream": "stdout",
       "text": [
        "\n",
        "only prediction"
       ]
      },
      {
       "output_type": "stream",
       "stream": "stdout",
       "text": [
        "\n",
        "0.811246153846 "
       ]
      },
      {
       "output_type": "stream",
       "stream": "stdout",
       "text": [
        "0.439350305522\n",
        "Processing batch 2"
       ]
      },
      {
       "output_type": "stream",
       "stream": "stdout",
       "text": [
        "\n",
        "Running Dict Vectorizer transform alone"
       ]
      },
      {
       "output_type": "stream",
       "stream": "stdout",
       "text": [
        "\n",
        "only prediction"
       ]
      },
      {
       "output_type": "stream",
       "stream": "stdout",
       "text": [
        "\n",
        "0.8326 "
       ]
      },
      {
       "output_type": "stream",
       "stream": "stdout",
       "text": [
        "0.402417150662\n",
        "Processing batch 3"
       ]
      },
      {
       "output_type": "stream",
       "stream": "stdout",
       "text": [
        "\n",
        "Running Dict Vectorizer transform alone"
       ]
      },
      {
       "output_type": "stream",
       "stream": "stdout",
       "text": [
        "\n",
        "only prediction"
       ]
      },
      {
       "output_type": "stream",
       "stream": "stdout",
       "text": [
        "\n",
        "0.850007692308 "
       ]
      },
      {
       "output_type": "stream",
       "stream": "stdout",
       "text": [
        "0.370873321113\n",
        "Processing batch 4"
       ]
      },
      {
       "output_type": "stream",
       "stream": "stdout",
       "text": [
        "\n",
        "Running Dict Vectorizer transform alone"
       ]
      },
      {
       "output_type": "stream",
       "stream": "stdout",
       "text": [
        "\n",
        "only prediction"
       ]
      },
      {
       "output_type": "stream",
       "stream": "stdout",
       "text": [
        "\n",
        "0.836192307692 "
       ]
      },
      {
       "output_type": "stream",
       "stream": "stdout",
       "text": [
        "0.39103986709\n",
        "Processing batch 5"
       ]
      },
      {
       "output_type": "stream",
       "stream": "stdout",
       "text": [
        "\n",
        "Running Dict Vectorizer transform alone"
       ]
      },
      {
       "output_type": "stream",
       "stream": "stdout",
       "text": [
        "\n",
        "only prediction"
       ]
      },
      {
       "output_type": "stream",
       "stream": "stdout",
       "text": [
        "\n",
        "0.820761538462 "
       ]
      },
      {
       "output_type": "stream",
       "stream": "stdout",
       "text": [
        "0.425561427434\n",
        "Processing batch 6"
       ]
      },
      {
       "output_type": "stream",
       "stream": "stdout",
       "text": [
        "\n",
        "Running Dict Vectorizer transform alone"
       ]
      },
      {
       "output_type": "stream",
       "stream": "stdout",
       "text": [
        "\n",
        "only prediction"
       ]
      },
      {
       "output_type": "stream",
       "stream": "stdout",
       "text": [
        "\n",
        "0.819115384615 "
       ]
      },
      {
       "output_type": "stream",
       "stream": "stdout",
       "text": [
        "0.431564246747\n",
        "Processing batch 7"
       ]
      },
      {
       "output_type": "stream",
       "stream": "stdout",
       "text": [
        "\n",
        "Running Dict Vectorizer transform alone"
       ]
      },
      {
       "output_type": "stream",
       "stream": "stdout",
       "text": [
        "\n",
        "only prediction"
       ]
      },
      {
       "output_type": "stream",
       "stream": "stdout",
       "text": [
        "\n",
        "0.8346 "
       ]
      },
      {
       "output_type": "stream",
       "stream": "stdout",
       "text": [
        "0.408434372153\n",
        "Processing batch 8"
       ]
      },
      {
       "output_type": "stream",
       "stream": "stdout",
       "text": [
        "\n",
        "Running Dict Vectorizer transform alone"
       ]
      },
      {
       "output_type": "stream",
       "stream": "stdout",
       "text": [
        "\n",
        "only prediction"
       ]
      },
      {
       "output_type": "stream",
       "stream": "stdout",
       "text": [
        "\n",
        "0.837653846154 "
       ]
      },
      {
       "output_type": "stream",
       "stream": "stdout",
       "text": [
        "0.401255280887\n",
        "Processing batch 9"
       ]
      },
      {
       "output_type": "stream",
       "stream": "stdout",
       "text": [
        "\n",
        "Running Dict Vectorizer transform alone"
       ]
      },
      {
       "output_type": "stream",
       "stream": "stdout",
       "text": [
        "\n",
        "only prediction"
       ]
      },
      {
       "output_type": "stream",
       "stream": "stdout",
       "text": [
        "\n",
        "0.831984615385 "
       ]
      },
      {
       "output_type": "stream",
       "stream": "stdout",
       "text": [
        "0.408020417048\n",
        "Processing batch 10"
       ]
      },
      {
       "output_type": "stream",
       "stream": "stdout",
       "text": [
        "\n",
        "Running Dict Vectorizer transform alone"
       ]
      },
      {
       "output_type": "stream",
       "stream": "stdout",
       "text": [
        "\n",
        "only prediction"
       ]
      },
      {
       "output_type": "stream",
       "stream": "stdout",
       "text": [
        "\n",
        "0.862430769231 "
       ]
      },
      {
       "output_type": "stream",
       "stream": "stdout",
       "text": [
        "0.358233201301\n",
        "Processing batch 11"
       ]
      },
      {
       "output_type": "stream",
       "stream": "stdout",
       "text": [
        "\n",
        "Running Dict Vectorizer transform alone"
       ]
      },
      {
       "output_type": "stream",
       "stream": "stdout",
       "text": [
        "\n",
        "only prediction"
       ]
      },
      {
       "output_type": "stream",
       "stream": "stdout",
       "text": [
        "\n",
        "0.872146153846 "
       ]
      },
      {
       "output_type": "stream",
       "stream": "stdout",
       "text": [
        "0.343702626628\n",
        "Processing batch 12"
       ]
      },
      {
       "output_type": "stream",
       "stream": "stdout",
       "text": [
        "\n",
        "Running Dict Vectorizer transform alone"
       ]
      },
      {
       "output_type": "stream",
       "stream": "stdout",
       "text": [
        "\n",
        "only prediction"
       ]
      },
      {
       "output_type": "stream",
       "stream": "stdout",
       "text": [
        "\n",
        "0.874807692308 "
       ]
      },
      {
       "output_type": "stream",
       "stream": "stdout",
       "text": [
        "0.339833302178\n",
        "Processing batch 13"
       ]
      },
      {
       "output_type": "stream",
       "stream": "stdout",
       "text": [
        "\n",
        "Running Dict Vectorizer transform alone"
       ]
      },
      {
       "output_type": "stream",
       "stream": "stdout",
       "text": [
        "\n",
        "only prediction"
       ]
      },
      {
       "output_type": "stream",
       "stream": "stdout",
       "text": [
        "\n",
        "0.877561538462 "
       ]
      },
      {
       "output_type": "stream",
       "stream": "stdout",
       "text": [
        "0.334446109002\n",
        "Processing batch 14"
       ]
      },
      {
       "output_type": "stream",
       "stream": "stdout",
       "text": [
        "\n",
        "Running Dict Vectorizer transform alone"
       ]
      },
      {
       "output_type": "stream",
       "stream": "stdout",
       "text": [
        "\n",
        "only prediction"
       ]
      },
      {
       "output_type": "stream",
       "stream": "stdout",
       "text": [
        "\n",
        "0.877392307692 "
       ]
      },
      {
       "output_type": "stream",
       "stream": "stdout",
       "text": [
        "0.334979479513\n",
        "Processing batch 15"
       ]
      },
      {
       "output_type": "stream",
       "stream": "stdout",
       "text": [
        "\n",
        "Running Dict Vectorizer transform alone"
       ]
      },
      {
       "output_type": "stream",
       "stream": "stdout",
       "text": [
        "\n",
        "only prediction"
       ]
      },
      {
       "output_type": "stream",
       "stream": "stdout",
       "text": [
        "\n",
        "0.860461538462 "
       ]
      },
      {
       "output_type": "stream",
       "stream": "stdout",
       "text": [
        "0.366640238189\n",
        "Processing batch 16"
       ]
      },
      {
       "output_type": "stream",
       "stream": "stdout",
       "text": [
        "\n",
        "Running Dict Vectorizer transform alone"
       ]
      },
      {
       "output_type": "stream",
       "stream": "stdout",
       "text": [
        "\n",
        "only prediction"
       ]
      },
      {
       "output_type": "stream",
       "stream": "stdout",
       "text": [
        "\n",
        "0.860123076923 "
       ]
      },
      {
       "output_type": "stream",
       "stream": "stdout",
       "text": [
        "0.367629420375\n",
        "Processing batch 17"
       ]
      },
      {
       "output_type": "stream",
       "stream": "stdout",
       "text": [
        "\n",
        "Running Dict Vectorizer transform alone"
       ]
      },
      {
       "output_type": "stream",
       "stream": "stdout",
       "text": [
        "\n",
        "only prediction"
       ]
      },
      {
       "output_type": "stream",
       "stream": "stdout",
       "text": [
        "\n",
        "0.849661538462 "
       ]
      },
      {
       "output_type": "stream",
       "stream": "stdout",
       "text": [
        "0.383532582618\n",
        "Processing batch 18"
       ]
      },
      {
       "output_type": "stream",
       "stream": "stdout",
       "text": [
        "\n",
        "Running Dict Vectorizer transform alone"
       ]
      },
      {
       "output_type": "stream",
       "stream": "stdout",
       "text": [
        "\n",
        "only prediction"
       ]
      },
      {
       "output_type": "stream",
       "stream": "stdout",
       "text": [
        "\n",
        "0.847415384615 "
       ]
      },
      {
       "output_type": "stream",
       "stream": "stdout",
       "text": [
        "0.388246030384\n",
        "Processing batch 19"
       ]
      },
      {
       "output_type": "stream",
       "stream": "stdout",
       "text": [
        "\n",
        "Running Dict Vectorizer transform alone"
       ]
      },
      {
       "output_type": "stream",
       "stream": "stdout",
       "text": [
        "\n",
        "only prediction"
       ]
      },
      {
       "output_type": "stream",
       "stream": "stdout",
       "text": [
        "\n",
        "0.837584615385 "
       ]
      },
      {
       "output_type": "stream",
       "stream": "stdout",
       "text": [
        "0.400880036228\n",
        "Processing batch 20"
       ]
      },
      {
       "output_type": "stream",
       "stream": "stdout",
       "text": [
        "\n",
        "Running Dict Vectorizer transform alone"
       ]
      },
      {
       "output_type": "stream",
       "stream": "stdout",
       "text": [
        "\n",
        "only prediction"
       ]
      },
      {
       "output_type": "stream",
       "stream": "stdout",
       "text": [
        "\n",
        "0.837446153846 "
       ]
      },
      {
       "output_type": "stream",
       "stream": "stdout",
       "text": [
        "0.401702769489\n",
        "Processing batch 21"
       ]
      },
      {
       "output_type": "stream",
       "stream": "stdout",
       "text": [
        "\n",
        "Running Dict Vectorizer transform alone"
       ]
      },
      {
       "output_type": "stream",
       "stream": "stdout",
       "text": [
        "\n",
        "only prediction"
       ]
      },
      {
       "output_type": "stream",
       "stream": "stdout",
       "text": [
        "\n",
        "0.861384615385 "
       ]
      },
      {
       "output_type": "stream",
       "stream": "stdout",
       "text": [
        "0.356320540421\n",
        "Processing batch 22"
       ]
      },
      {
       "output_type": "stream",
       "stream": "stdout",
       "text": [
        "\n",
        "Running Dict Vectorizer transform alone"
       ]
      },
      {
       "output_type": "stream",
       "stream": "stdout",
       "text": [
        "\n",
        "only prediction"
       ]
      },
      {
       "output_type": "stream",
       "stream": "stdout",
       "text": [
        "\n",
        "0.8621 "
       ]
      },
      {
       "output_type": "stream",
       "stream": "stdout",
       "text": [
        "0.354224107506\n",
        "Processing batch 23"
       ]
      },
      {
       "output_type": "stream",
       "stream": "stdout",
       "text": [
        "\n",
        "Running Dict Vectorizer transform alone"
       ]
      },
      {
       "output_type": "stream",
       "stream": "stdout",
       "text": [
        "\n",
        "only prediction"
       ]
      },
      {
       "output_type": "stream",
       "stream": "stdout",
       "text": [
        "\n",
        "0.862992307692 "
       ]
      },
      {
       "output_type": "stream",
       "stream": "stdout",
       "text": [
        "0.352452894031\n",
        "Processing batch 24"
       ]
      },
      {
       "output_type": "stream",
       "stream": "stdout",
       "text": [
        "\n",
        "Running Dict Vectorizer transform alone"
       ]
      },
      {
       "output_type": "stream",
       "stream": "stdout",
       "text": [
        "\n",
        "only prediction"
       ]
      },
      {
       "output_type": "stream",
       "stream": "stdout",
       "text": [
        "\n",
        "0.858423076923 "
       ]
      },
      {
       "output_type": "stream",
       "stream": "stdout",
       "text": [
        "0.361229754329\n",
        "Processing batch 25"
       ]
      },
      {
       "output_type": "stream",
       "stream": "stdout",
       "text": [
        "\n",
        "Running Dict Vectorizer transform alone"
       ]
      },
      {
       "output_type": "stream",
       "stream": "stdout",
       "text": [
        "\n",
        "only prediction"
       ]
      },
      {
       "output_type": "stream",
       "stream": "stdout",
       "text": [
        "\n",
        "0.855223076923 "
       ]
      },
      {
       "output_type": "stream",
       "stream": "stdout",
       "text": [
        "0.365255409473\n",
        "Processing batch 26"
       ]
      },
      {
       "output_type": "stream",
       "stream": "stdout",
       "text": [
        "\n",
        "Running Dict Vectorizer transform alone"
       ]
      },
      {
       "output_type": "stream",
       "stream": "stdout",
       "text": [
        "\n",
        "only prediction"
       ]
      },
      {
       "output_type": "stream",
       "stream": "stdout",
       "text": [
        "\n",
        "0.854592307692 "
       ]
      },
      {
       "output_type": "stream",
       "stream": "stdout",
       "text": [
        "0.366894392385\n",
        "Processing batch 27"
       ]
      },
      {
       "output_type": "stream",
       "stream": "stdout",
       "text": [
        "\n",
        "Running Dict Vectorizer transform alone"
       ]
      },
      {
       "output_type": "stream",
       "stream": "stdout",
       "text": [
        "\n",
        "only prediction"
       ]
      },
      {
       "output_type": "stream",
       "stream": "stdout",
       "text": [
        "\n",
        "0.845276923077 "
       ]
      },
      {
       "output_type": "stream",
       "stream": "stdout",
       "text": [
        "0.382861552292\n",
        "Processing batch 28"
       ]
      },
      {
       "output_type": "stream",
       "stream": "stdout",
       "text": [
        "\n",
        "Running Dict Vectorizer transform alone"
       ]
      },
      {
       "output_type": "stream",
       "stream": "stdout",
       "text": [
        "\n",
        "only prediction"
       ]
      },
      {
       "output_type": "stream",
       "stream": "stdout",
       "text": [
        "\n",
        "0.835176923077 "
       ]
      },
      {
       "output_type": "stream",
       "stream": "stdout",
       "text": [
        "0.398142439359\n",
        "Processing batch 29"
       ]
      },
      {
       "output_type": "stream",
       "stream": "stdout",
       "text": [
        "\n",
        "Running Dict Vectorizer transform alone"
       ]
      },
      {
       "output_type": "stream",
       "stream": "stdout",
       "text": [
        "\n",
        "only prediction"
       ]
      },
      {
       "output_type": "stream",
       "stream": "stdout",
       "text": [
        "\n",
        "0.836969230769 "
       ]
      },
      {
       "output_type": "stream",
       "stream": "stdout",
       "text": [
        "0.395706460035\n",
        "Processing batch 30"
       ]
      },
      {
       "output_type": "stream",
       "stream": "stdout",
       "text": [
        "\n",
        "Running Dict Vectorizer transform alone"
       ]
      },
      {
       "output_type": "stream",
       "stream": "stdout",
       "text": [
        "\n",
        "only prediction"
       ]
      },
      {
       "output_type": "stream",
       "stream": "stdout",
       "text": [
        "\n",
        "0.838415384615 "
       ]
      },
      {
       "output_type": "stream",
       "stream": "stdout",
       "text": [
        "0.392297463621\n",
        "Processing batch 31"
       ]
      },
      {
       "output_type": "stream",
       "stream": "stdout",
       "text": [
        "\n",
        "Running Dict Vectorizer transform alone"
       ]
      },
      {
       "output_type": "stream",
       "stream": "stdout",
       "text": [
        "\n",
        "only prediction"
       ]
      },
      {
       "output_type": "stream",
       "stream": "stdout",
       "text": [
        "\n",
        "0.841861538462 "
       ]
      },
      {
       "output_type": "stream",
       "stream": "stdout",
       "text": [
        "0.385473790175\n",
        "Processing batch 32"
       ]
      },
      {
       "output_type": "stream",
       "stream": "stdout",
       "text": [
        "\n",
        "Running Dict Vectorizer transform alone"
       ]
      },
      {
       "output_type": "stream",
       "stream": "stdout",
       "text": [
        "\n",
        "only prediction"
       ]
      },
      {
       "output_type": "stream",
       "stream": "stdout",
       "text": [
        "\n",
        "0.85 "
       ]
      },
      {
       "output_type": "stream",
       "stream": "stdout",
       "text": [
        "0.374536982002\n",
        "Processing batch 33"
       ]
      },
      {
       "output_type": "stream",
       "stream": "stdout",
       "text": [
        "\n",
        "Running Dict Vectorizer transform alone"
       ]
      },
      {
       "output_type": "stream",
       "stream": "stdout",
       "text": [
        "\n",
        "only prediction"
       ]
      },
      {
       "output_type": "stream",
       "stream": "stdout",
       "text": [
        "\n",
        "0.851730769231 "
       ]
      },
      {
       "output_type": "stream",
       "stream": "stdout",
       "text": [
        "0.371100173576\n",
        "Processing batch 34"
       ]
      },
      {
       "output_type": "stream",
       "stream": "stdout",
       "text": [
        "\n",
        "Running Dict Vectorizer transform alone"
       ]
      },
      {
       "output_type": "stream",
       "stream": "stdout",
       "text": [
        "\n",
        "only prediction"
       ]
      },
      {
       "output_type": "stream",
       "stream": "stdout",
       "text": [
        "\n",
        "0.855561538462 "
       ]
      },
      {
       "output_type": "stream",
       "stream": "stdout",
       "text": [
        "0.364132461052\n",
        "Processing batch 35"
       ]
      },
      {
       "output_type": "stream",
       "stream": "stdout",
       "text": [
        "\n",
        "Running Dict Vectorizer transform alone"
       ]
      },
      {
       "output_type": "stream",
       "stream": "stdout",
       "text": [
        "\n",
        "only prediction"
       ]
      },
      {
       "output_type": "stream",
       "stream": "stdout",
       "text": [
        "\n",
        "0.857707692308 "
       ]
      },
      {
       "output_type": "stream",
       "stream": "stdout",
       "text": [
        "0.359300767506\n",
        "Processing batch 36"
       ]
      },
      {
       "output_type": "stream",
       "stream": "stdout",
       "text": [
        "\n",
        "Running Dict Vectorizer transform alone"
       ]
      },
      {
       "output_type": "stream",
       "stream": "stdout",
       "text": [
        "\n",
        "only prediction"
       ]
      },
      {
       "output_type": "stream",
       "stream": "stdout",
       "text": [
        "\n",
        "0.862838461538 "
       ]
      },
      {
       "output_type": "stream",
       "stream": "stdout",
       "text": [
        "0.349373928981\n",
        "Processing batch 37"
       ]
      },
      {
       "output_type": "stream",
       "stream": "stdout",
       "text": [
        "\n",
        "Running Dict Vectorizer transform alone"
       ]
      },
      {
       "output_type": "stream",
       "stream": "stdout",
       "text": [
        "\n",
        "only prediction"
       ]
      },
      {
       "output_type": "stream",
       "stream": "stdout",
       "text": [
        "\n",
        "0.860392307692 "
       ]
      },
      {
       "output_type": "stream",
       "stream": "stdout",
       "text": [
        "0.354718287846\n",
        "Processing batch 38"
       ]
      },
      {
       "output_type": "stream",
       "stream": "stdout",
       "text": [
        "\n",
        "Running Dict Vectorizer transform alone"
       ]
      },
      {
       "output_type": "stream",
       "stream": "stdout",
       "text": [
        "\n",
        "only prediction"
       ]
      },
      {
       "output_type": "stream",
       "stream": "stdout",
       "text": [
        "\n",
        "0.8563 "
       ]
      },
      {
       "output_type": "stream",
       "stream": "stdout",
       "text": [
        "0.363087982956\n",
        "Processing batch 39"
       ]
      },
      {
       "output_type": "stream",
       "stream": "stdout",
       "text": [
        "\n",
        "Running Dict Vectorizer transform alone"
       ]
      },
      {
       "output_type": "stream",
       "stream": "stdout",
       "text": [
        "\n",
        "only prediction"
       ]
      },
      {
       "output_type": "stream",
       "stream": "stdout",
       "text": [
        "\n",
        "0.855592307692 "
       ]
      },
      {
       "output_type": "stream",
       "stream": "stdout",
       "text": [
        "0.365152438818\n",
        "Processing batch 40"
       ]
      },
      {
       "output_type": "stream",
       "stream": "stdout",
       "text": [
        "\n",
        "Running Dict Vectorizer transform alone"
       ]
      },
      {
       "output_type": "stream",
       "stream": "stdout",
       "text": [
        "\n",
        "only prediction"
       ]
      },
      {
       "output_type": "stream",
       "stream": "stdout",
       "text": [
        "\n",
        "0.856076923077 "
       ]
      },
      {
       "output_type": "stream",
       "stream": "stdout",
       "text": [
        "0.357380375335\n",
        "Processing batch 41"
       ]
      },
      {
       "output_type": "stream",
       "stream": "stdout",
       "text": [
        "\n",
        "Running Dict Vectorizer transform alone"
       ]
      },
      {
       "output_type": "stream",
       "stream": "stdout",
       "text": [
        "\n",
        "only prediction"
       ]
      },
      {
       "output_type": "stream",
       "stream": "stdout",
       "text": [
        "\n",
        "0.856676923077 "
       ]
      },
      {
       "output_type": "stream",
       "stream": "stdout",
       "text": [
        "0.359043826858\n",
        "Processing batch 42"
       ]
      },
      {
       "output_type": "stream",
       "stream": "stdout",
       "text": [
        "\n",
        "Running Dict Vectorizer transform alone"
       ]
      },
      {
       "output_type": "stream",
       "stream": "stdout",
       "text": [
        "\n",
        "only prediction"
       ]
      },
      {
       "output_type": "stream",
       "stream": "stdout",
       "text": [
        "\n",
        "0.852553846154 "
       ]
      },
      {
       "output_type": "stream",
       "stream": "stdout",
       "text": [
        "0.374088706872\n",
        "Processing batch 43"
       ]
      },
      {
       "output_type": "stream",
       "stream": "stdout",
       "text": [
        "\n",
        "Running Dict Vectorizer transform alone"
       ]
      },
      {
       "output_type": "stream",
       "stream": "stdout",
       "text": [
        "\n",
        "only prediction"
       ]
      },
      {
       "output_type": "stream",
       "stream": "stdout",
       "text": [
        "\n",
        "0.837992307692 "
       ]
      },
      {
       "output_type": "stream",
       "stream": "stdout",
       "text": [
        "0.404628448014\n",
        "Processing batch 44"
       ]
      },
      {
       "output_type": "stream",
       "stream": "stdout",
       "text": [
        "\n",
        "Running Dict Vectorizer transform alone"
       ]
      },
      {
       "output_type": "stream",
       "stream": "stdout",
       "text": [
        "\n",
        "only prediction"
       ]
      },
      {
       "output_type": "stream",
       "stream": "stdout",
       "text": [
        "\n",
        "0.824046153846 "
       ]
      },
      {
       "output_type": "stream",
       "stream": "stdout",
       "text": [
        "0.433103053388\n",
        "Processing batch 45"
       ]
      },
      {
       "output_type": "stream",
       "stream": "stdout",
       "text": [
        "\n",
        "Running Dict Vectorizer transform alone"
       ]
      },
      {
       "output_type": "stream",
       "stream": "stdout",
       "text": [
        "\n",
        "only prediction"
       ]
      },
      {
       "output_type": "stream",
       "stream": "stdout",
       "text": [
        "\n",
        "0.822184615385 "
       ]
      },
      {
       "output_type": "stream",
       "stream": "stdout",
       "text": [
        "0.438817700161\n",
        "Processing batch 46"
       ]
      },
      {
       "output_type": "stream",
       "stream": "stdout",
       "text": [
        "\n",
        "Running Dict Vectorizer transform alone"
       ]
      },
      {
       "output_type": "stream",
       "stream": "stdout",
       "text": [
        "\n",
        "only prediction"
       ]
      },
      {
       "output_type": "stream",
       "stream": "stdout",
       "text": [
        "\n",
        "0.846361538462 "
       ]
      },
      {
       "output_type": "stream",
       "stream": "stdout",
       "text": [
        "0.395190804775\n",
        "Processing batch 47"
       ]
      },
      {
       "output_type": "stream",
       "stream": "stdout",
       "text": [
        "\n",
        "Running Dict Vectorizer transform alone"
       ]
      },
      {
       "output_type": "stream",
       "stream": "stdout",
       "text": [
        "\n",
        "only prediction"
       ]
      },
      {
       "output_type": "stream",
       "stream": "stdout",
       "text": [
        "\n",
        "0.854523076923 "
       ]
      },
      {
       "output_type": "stream",
       "stream": "stdout",
       "text": [
        "0.377861589234\n",
        "Processing batch 48"
       ]
      },
      {
       "output_type": "stream",
       "stream": "stdout",
       "text": [
        "\n",
        "Running Dict Vectorizer transform alone"
       ]
      },
      {
       "output_type": "stream",
       "stream": "stdout",
       "text": [
        "\n",
        "only prediction"
       ]
      },
      {
       "output_type": "stream",
       "stream": "stdout",
       "text": [
        "\n",
        "0.856661538462 "
       ]
      },
      {
       "output_type": "stream",
       "stream": "stdout",
       "text": [
        "0.373692015681\n",
        "Processing batch 49"
       ]
      },
      {
       "output_type": "stream",
       "stream": "stdout",
       "text": [
        "\n",
        "Running Dict Vectorizer transform alone"
       ]
      },
      {
       "output_type": "stream",
       "stream": "stdout",
       "text": [
        "\n",
        "only prediction"
       ]
      },
      {
       "output_type": "stream",
       "stream": "stdout",
       "text": [
        "\n",
        "0.854484615385 "
       ]
      },
      {
       "output_type": "stream",
       "stream": "stdout",
       "text": [
        "0.381965052617\n",
        "Processing batch 50"
       ]
      },
      {
       "output_type": "stream",
       "stream": "stdout",
       "text": [
        "\n",
        "Running Dict Vectorizer transform alone"
       ]
      },
      {
       "output_type": "stream",
       "stream": "stdout",
       "text": [
        "\n",
        "only prediction"
       ]
      },
      {
       "output_type": "stream",
       "stream": "stdout",
       "text": [
        "\n",
        "0.851169230769 "
       ]
      },
      {
       "output_type": "stream",
       "stream": "stdout",
       "text": [
        "0.390566608295\n",
        "Processing batch 51"
       ]
      },
      {
       "output_type": "stream",
       "stream": "stdout",
       "text": [
        "\n",
        "Running Dict Vectorizer transform alone"
       ]
      },
      {
       "output_type": "stream",
       "stream": "stdout",
       "text": [
        "\n",
        "only prediction"
       ]
      },
      {
       "output_type": "stream",
       "stream": "stdout",
       "text": [
        "\n",
        "0.851123076923 "
       ]
      },
      {
       "output_type": "stream",
       "stream": "stdout",
       "text": [
        "0.384782886582\n",
        "Processing batch 52"
       ]
      },
      {
       "output_type": "stream",
       "stream": "stdout",
       "text": [
        "\n",
        "Running Dict Vectorizer transform alone"
       ]
      },
      {
       "output_type": "stream",
       "stream": "stdout",
       "text": [
        "\n",
        "only prediction"
       ]
      },
      {
       "output_type": "stream",
       "stream": "stdout",
       "text": [
        "\n",
        "0.851607692308 "
       ]
      },
      {
       "output_type": "stream",
       "stream": "stdout",
       "text": [
        "0.380581939469\n",
        "Processing batch 53"
       ]
      },
      {
       "output_type": "stream",
       "stream": "stdout",
       "text": [
        "\n",
        "Running Dict Vectorizer transform alone"
       ]
      },
      {
       "output_type": "stream",
       "stream": "stdout",
       "text": [
        "\n",
        "only prediction"
       ]
      },
      {
       "output_type": "stream",
       "stream": "stdout",
       "text": [
        "\n",
        "0.863823076923 "
       ]
      },
      {
       "output_type": "stream",
       "stream": "stdout",
       "text": [
        "0.366141219888\n",
        "Processing batch 54"
       ]
      },
      {
       "output_type": "stream",
       "stream": "stdout",
       "text": [
        "\n",
        "Running Dict Vectorizer transform alone"
       ]
      },
      {
       "output_type": "stream",
       "stream": "stdout",
       "text": [
        "\n",
        "only prediction"
       ]
      },
      {
       "output_type": "stream",
       "stream": "stdout",
       "text": [
        "\n",
        "0.860753846154 "
       ]
      },
      {
       "output_type": "stream",
       "stream": "stdout",
       "text": [
        "0.372941062005\n",
        "Processing batch 55"
       ]
      },
      {
       "output_type": "stream",
       "stream": "stdout",
       "text": [
        "\n",
        "Running Dict Vectorizer transform alone"
       ]
      },
      {
       "output_type": "stream",
       "stream": "stdout",
       "text": [
        "\n",
        "only prediction"
       ]
      },
      {
       "output_type": "stream",
       "stream": "stdout",
       "text": [
        "\n",
        "0.862146153846 "
       ]
      },
      {
       "output_type": "stream",
       "stream": "stdout",
       "text": [
        "0.370938978721\n",
        "Processing batch 56"
       ]
      },
      {
       "output_type": "stream",
       "stream": "stdout",
       "text": [
        "\n",
        "Running Dict Vectorizer transform alone"
       ]
      },
      {
       "output_type": "stream",
       "stream": "stdout",
       "text": [
        "\n",
        "only prediction"
       ]
      },
      {
       "output_type": "stream",
       "stream": "stdout",
       "text": [
        "\n",
        "0.835330769231 "
       ]
      },
      {
       "output_type": "stream",
       "stream": "stdout",
       "text": [
        "0.398945006873\n",
        "Processing batch 57"
       ]
      },
      {
       "output_type": "stream",
       "stream": "stdout",
       "text": [
        "\n",
        "Running Dict Vectorizer transform alone"
       ]
      },
      {
       "output_type": "stream",
       "stream": "stdout",
       "text": [
        "\n",
        "only prediction"
       ]
      },
      {
       "output_type": "stream",
       "stream": "stdout",
       "text": [
        "\n",
        "0.845376923077 "
       ]
      },
      {
       "output_type": "stream",
       "stream": "stdout",
       "text": [
        "0.386130626933\n",
        "Processing batch 58"
       ]
      },
      {
       "output_type": "stream",
       "stream": "stdout",
       "text": [
        "\n",
        "Running Dict Vectorizer transform alone"
       ]
      },
      {
       "output_type": "stream",
       "stream": "stdout",
       "text": [
        "\n",
        "only prediction"
       ]
      },
      {
       "output_type": "stream",
       "stream": "stdout",
       "text": [
        "\n",
        "0.845592307692 "
       ]
      },
      {
       "output_type": "stream",
       "stream": "stdout",
       "text": [
        "0.387135157303\n",
        "Processing batch 59"
       ]
      },
      {
       "output_type": "stream",
       "stream": "stdout",
       "text": [
        "\n",
        "Running Dict Vectorizer transform alone"
       ]
      },
      {
       "output_type": "stream",
       "stream": "stdout",
       "text": [
        "\n",
        "only prediction"
       ]
      },
      {
       "output_type": "stream",
       "stream": "stdout",
       "text": [
        "\n",
        "0.841361538462 "
       ]
      },
      {
       "output_type": "stream",
       "stream": "stdout",
       "text": [
        "0.395513516298\n",
        "Processing batch 60"
       ]
      },
      {
       "output_type": "stream",
       "stream": "stdout",
       "text": [
        "\n",
        "Running Dict Vectorizer transform alone"
       ]
      },
      {
       "output_type": "stream",
       "stream": "stdout",
       "text": [
        "\n",
        "only prediction"
       ]
      },
      {
       "output_type": "stream",
       "stream": "stdout",
       "text": [
        "\n",
        "0.844830769231 "
       ]
      },
      {
       "output_type": "stream",
       "stream": "stdout",
       "text": [
        "0.391658388349\n",
        "Processing batch 61"
       ]
      },
      {
       "output_type": "stream",
       "stream": "stdout",
       "text": [
        "\n",
        "Running Dict Vectorizer transform alone"
       ]
      },
      {
       "output_type": "stream",
       "stream": "stdout",
       "text": [
        "\n",
        "only prediction"
       ]
      },
      {
       "output_type": "stream",
       "stream": "stdout",
       "text": [
        "\n",
        "0.842584615385 "
       ]
      },
      {
       "output_type": "stream",
       "stream": "stdout",
       "text": [
        "0.394381655477\n",
        "Processing batch 62"
       ]
      },
      {
       "output_type": "stream",
       "stream": "stdout",
       "text": [
        "\n",
        "Running Dict Vectorizer transform alone"
       ]
      },
      {
       "output_type": "stream",
       "stream": "stdout",
       "text": [
        "\n",
        "only prediction"
       ]
      },
      {
       "output_type": "stream",
       "stream": "stdout",
       "text": [
        "\n",
        "0.834353846154 "
       ]
      },
      {
       "output_type": "stream",
       "stream": "stdout",
       "text": [
        "0.406533037861\n",
        "Processing batch 63"
       ]
      },
      {
       "output_type": "stream",
       "stream": "stdout",
       "text": [
        "\n",
        "Running Dict Vectorizer transform alone"
       ]
      },
      {
       "output_type": "stream",
       "stream": "stdout",
       "text": [
        "\n",
        "only prediction"
       ]
      },
      {
       "output_type": "stream",
       "stream": "stdout",
       "text": [
        "\n",
        "0.837930769231 "
       ]
      },
      {
       "output_type": "stream",
       "stream": "stdout",
       "text": [
        "0.401216169932\n",
        "Processing batch 64"
       ]
      },
      {
       "output_type": "stream",
       "stream": "stdout",
       "text": [
        "\n",
        "Running Dict Vectorizer transform alone"
       ]
      },
      {
       "output_type": "stream",
       "stream": "stdout",
       "text": [
        "\n",
        "only prediction"
       ]
      },
      {
       "output_type": "stream",
       "stream": "stdout",
       "text": [
        "\n",
        "0.840207692308 "
       ]
      },
      {
       "output_type": "stream",
       "stream": "stdout",
       "text": [
        "0.39738360621\n",
        "Processing batch 65"
       ]
      },
      {
       "output_type": "stream",
       "stream": "stdout",
       "text": [
        "\n",
        "Running Dict Vectorizer transform alone"
       ]
      },
      {
       "output_type": "stream",
       "stream": "stdout",
       "text": [
        "\n",
        "only prediction"
       ]
      },
      {
       "output_type": "stream",
       "stream": "stdout",
       "text": [
        "\n",
        "0.847661538462 "
       ]
      },
      {
       "output_type": "stream",
       "stream": "stdout",
       "text": [
        "0.386970581124\n",
        "Processing batch 66"
       ]
      },
      {
       "output_type": "stream",
       "stream": "stdout",
       "text": [
        "\n",
        "Running Dict Vectorizer transform alone"
       ]
      },
      {
       "output_type": "stream",
       "stream": "stdout",
       "text": [
        "\n",
        "only prediction"
       ]
      },
      {
       "output_type": "stream",
       "stream": "stdout",
       "text": [
        "\n",
        "0.850607692308 "
       ]
      },
      {
       "output_type": "stream",
       "stream": "stdout",
       "text": [
        "0.381574052606\n",
        "Processing batch 67"
       ]
      },
      {
       "output_type": "stream",
       "stream": "stdout",
       "text": [
        "\n",
        "Running Dict Vectorizer transform alone"
       ]
      },
      {
       "output_type": "stream",
       "stream": "stdout",
       "text": [
        "\n",
        "only prediction"
       ]
      },
      {
       "output_type": "stream",
       "stream": "stdout",
       "text": [
        "\n",
        "0.851123076923 "
       ]
      },
      {
       "output_type": "stream",
       "stream": "stdout",
       "text": [
        "0.381470792815\n",
        "Processing batch 68"
       ]
      },
      {
       "output_type": "stream",
       "stream": "stdout",
       "text": [
        "\n",
        "Running Dict Vectorizer transform alone"
       ]
      },
      {
       "output_type": "stream",
       "stream": "stdout",
       "text": [
        "\n",
        "only prediction"
       ]
      },
      {
       "output_type": "stream",
       "stream": "stdout",
       "text": [
        "\n",
        "0.842953846154 "
       ]
      },
      {
       "output_type": "stream",
       "stream": "stdout",
       "text": [
        "0.393394314135\n",
        "Processing batch 69"
       ]
      },
      {
       "output_type": "stream",
       "stream": "stdout",
       "text": [
        "\n",
        "Running Dict Vectorizer transform alone"
       ]
      },
      {
       "output_type": "stream",
       "stream": "stdout",
       "text": [
        "\n",
        "only prediction"
       ]
      },
      {
       "output_type": "stream",
       "stream": "stdout",
       "text": [
        "\n",
        "0.840969230769 "
       ]
      },
      {
       "output_type": "stream",
       "stream": "stdout",
       "text": [
        "0.395613195697\n",
        "Processing batch 70"
       ]
      },
      {
       "output_type": "stream",
       "stream": "stdout",
       "text": [
        "\n",
        "Running Dict Vectorizer transform alone"
       ]
      },
      {
       "output_type": "stream",
       "stream": "stdout",
       "text": [
        "\n",
        "only prediction"
       ]
      },
      {
       "output_type": "stream",
       "stream": "stdout",
       "text": [
        "\n",
        "0.826669230769 "
       ]
      },
      {
       "output_type": "stream",
       "stream": "stdout",
       "text": [
        "0.41758517941\n",
        "Processing batch 71"
       ]
      },
      {
       "output_type": "stream",
       "stream": "stdout",
       "text": [
        "\n",
        "Running Dict Vectorizer transform alone"
       ]
      },
      {
       "output_type": "stream",
       "stream": "stdout",
       "text": [
        "\n",
        "only prediction"
       ]
      },
      {
       "output_type": "stream",
       "stream": "stdout",
       "text": [
        "\n",
        "0.802984615385 "
       ]
      },
      {
       "output_type": "stream",
       "stream": "stdout",
       "text": [
        "0.460640835342\n",
        "Processing batch 72"
       ]
      },
      {
       "output_type": "stream",
       "stream": "stdout",
       "text": [
        "\n",
        "Running Dict Vectorizer transform alone"
       ]
      },
      {
       "output_type": "stream",
       "stream": "stdout",
       "text": [
        "\n",
        "only prediction"
       ]
      },
      {
       "output_type": "stream",
       "stream": "stdout",
       "text": [
        "\n",
        "0.807930769231 "
       ]
      },
      {
       "output_type": "stream",
       "stream": "stdout",
       "text": [
        "0.453509926481\n",
        "Processing batch 73"
       ]
      },
      {
       "output_type": "stream",
       "stream": "stdout",
       "text": [
        "\n",
        "Running Dict Vectorizer transform alone"
       ]
      },
      {
       "output_type": "stream",
       "stream": "stdout",
       "text": [
        "\n",
        "only prediction"
       ]
      },
      {
       "output_type": "stream",
       "stream": "stdout",
       "text": [
        "\n",
        "0.839923076923 "
       ]
      },
      {
       "output_type": "stream",
       "stream": "stdout",
       "text": [
        "0.40529163438\n",
        "Processing batch 74"
       ]
      },
      {
       "output_type": "stream",
       "stream": "stdout",
       "text": [
        "\n",
        "Running Dict Vectorizer transform alone"
       ]
      },
      {
       "output_type": "stream",
       "stream": "stdout",
       "text": [
        "\n",
        "only prediction"
       ]
      },
      {
       "output_type": "stream",
       "stream": "stdout",
       "text": [
        "\n",
        "0.885315384615 "
       ]
      },
      {
       "output_type": "stream",
       "stream": "stdout",
       "text": [
        "0.328617250528\n",
        "Processing batch 75"
       ]
      },
      {
       "output_type": "stream",
       "stream": "stdout",
       "text": [
        "\n",
        "Running Dict Vectorizer transform alone"
       ]
      },
      {
       "output_type": "stream",
       "stream": "stdout",
       "text": [
        "\n",
        "only prediction"
       ]
      },
      {
       "output_type": "stream",
       "stream": "stdout",
       "text": [
        "\n",
        "0.894284615385 "
       ]
      },
      {
       "output_type": "stream",
       "stream": "stdout",
       "text": [
        "0.311919101009\n",
        "Processing batch 76"
       ]
      },
      {
       "output_type": "stream",
       "stream": "stdout",
       "text": [
        "\n",
        "Running Dict Vectorizer transform alone"
       ]
      },
      {
       "output_type": "stream",
       "stream": "stdout",
       "text": [
        "\n",
        "only prediction"
       ]
      },
      {
       "output_type": "stream",
       "stream": "stdout",
       "text": [
        "\n",
        "0.890330769231 "
       ]
      },
      {
       "output_type": "stream",
       "stream": "stdout",
       "text": [
        "0.320573054347\n",
        "Processing batch 77"
       ]
      },
      {
       "output_type": "stream",
       "stream": "stdout",
       "text": [
        "\n",
        "Running Dict Vectorizer transform alone"
       ]
      },
      {
       "output_type": "stream",
       "stream": "stdout",
       "text": [
        "\n",
        "only prediction"
       ]
      },
      {
       "output_type": "stream",
       "stream": "stdout",
       "text": [
        "\n",
        "0.867746153846 "
       ]
      },
      {
       "output_type": "stream",
       "stream": "stdout",
       "text": [
        "0.355523762459\n",
        "Processing batch 78"
       ]
      },
      {
       "output_type": "stream",
       "stream": "stdout",
       "text": [
        "\n",
        "Running Dict Vectorizer transform alone"
       ]
      },
      {
       "output_type": "stream",
       "stream": "stdout",
       "text": [
        "\n",
        "only prediction"
       ]
      },
      {
       "output_type": "stream",
       "stream": "stdout",
       "text": [
        "\n",
        "0.858546153846 "
       ]
      },
      {
       "output_type": "stream",
       "stream": "stdout",
       "text": [
        "0.37264193382\n",
        "Processing batch 79"
       ]
      },
      {
       "output_type": "stream",
       "stream": "stdout",
       "text": [
        "\n",
        "Running Dict Vectorizer transform alone"
       ]
      },
      {
       "output_type": "stream",
       "stream": "stdout",
       "text": [
        "\n",
        "only prediction"
       ]
      },
      {
       "output_type": "stream",
       "stream": "stdout",
       "text": [
        "\n",
        "0.838384615385 "
       ]
      },
      {
       "output_type": "stream",
       "stream": "stdout",
       "text": [
        "0.405590817056\n",
        "Processing batch 80"
       ]
      },
      {
       "output_type": "stream",
       "stream": "stdout",
       "text": [
        "\n",
        "Running Dict Vectorizer transform alone"
       ]
      },
      {
       "output_type": "stream",
       "stream": "stdout",
       "text": [
        "\n",
        "only prediction"
       ]
      },
      {
       "output_type": "stream",
       "stream": "stdout",
       "text": [
        "\n",
        "0.819838461538 "
       ]
      },
      {
       "output_type": "stream",
       "stream": "stdout",
       "text": [
        "0.437739859109\n",
        "Processing batch 81"
       ]
      },
      {
       "output_type": "stream",
       "stream": "stdout",
       "text": [
        "\n",
        "Running Dict Vectorizer transform alone"
       ]
      },
      {
       "output_type": "stream",
       "stream": "stdout",
       "text": [
        "\n",
        "only prediction"
       ]
      },
      {
       "output_type": "stream",
       "stream": "stdout",
       "text": [
        "\n",
        "0.823176923077 "
       ]
      },
      {
       "output_type": "stream",
       "stream": "stdout",
       "text": [
        "0.433065289534\n",
        "Processing batch 82"
       ]
      },
      {
       "output_type": "stream",
       "stream": "stdout",
       "text": [
        "\n",
        "Running Dict Vectorizer transform alone"
       ]
      },
      {
       "output_type": "stream",
       "stream": "stdout",
       "text": [
        "\n",
        "only prediction"
       ]
      },
      {
       "output_type": "stream",
       "stream": "stdout",
       "text": [
        "\n",
        "0.825107692308 "
       ]
      },
      {
       "output_type": "stream",
       "stream": "stdout",
       "text": [
        "0.42953978459\n",
        "Processing batch 83"
       ]
      },
      {
       "output_type": "stream",
       "stream": "stdout",
       "text": [
        "\n",
        "Running Dict Vectorizer transform alone"
       ]
      },
      {
       "output_type": "stream",
       "stream": "stdout",
       "text": [
        "\n",
        "only prediction"
       ]
      },
      {
       "output_type": "stream",
       "stream": "stdout",
       "text": [
        "\n",
        "0.813369230769 "
       ]
      },
      {
       "output_type": "stream",
       "stream": "stdout",
       "text": [
        "0.443854312673\n",
        "Processing batch 84"
       ]
      },
      {
       "output_type": "stream",
       "stream": "stdout",
       "text": [
        "\n",
        "Running Dict Vectorizer transform alone"
       ]
      },
      {
       "output_type": "stream",
       "stream": "stdout",
       "text": [
        "\n",
        "only prediction"
       ]
      },
      {
       "output_type": "stream",
       "stream": "stdout",
       "text": [
        "\n",
        "0.835923076923 "
       ]
      },
      {
       "output_type": "stream",
       "stream": "stdout",
       "text": [
        "0.402337896156\n",
        "Processing batch 85"
       ]
      },
      {
       "output_type": "stream",
       "stream": "stdout",
       "text": [
        "\n",
        "Running Dict Vectorizer transform alone"
       ]
      },
      {
       "output_type": "stream",
       "stream": "stdout",
       "text": [
        "\n",
        "only prediction"
       ]
      },
      {
       "output_type": "stream",
       "stream": "stdout",
       "text": [
        "\n",
        "0.837746153846 "
       ]
      },
      {
       "output_type": "stream",
       "stream": "stdout",
       "text": [
        "0.398302031355\n",
        "Processing batch 86"
       ]
      },
      {
       "output_type": "stream",
       "stream": "stdout",
       "text": [
        "\n",
        "Running Dict Vectorizer transform alone"
       ]
      },
      {
       "output_type": "stream",
       "stream": "stdout",
       "text": [
        "\n",
        "only prediction"
       ]
      },
      {
       "output_type": "stream",
       "stream": "stdout",
       "text": [
        "\n",
        "0.824092307692 "
       ]
      },
      {
       "output_type": "stream",
       "stream": "stdout",
       "text": [
        "0.423049200347\n",
        "Processing batch 87"
       ]
      },
      {
       "output_type": "stream",
       "stream": "stdout",
       "text": [
        "\n",
        "Running Dict Vectorizer transform alone"
       ]
      },
      {
       "output_type": "stream",
       "stream": "stdout",
       "text": [
        "\n",
        "only prediction"
       ]
      },
      {
       "output_type": "stream",
       "stream": "stdout",
       "text": [
        "\n",
        "0.828915384615 "
       ]
      },
      {
       "output_type": "stream",
       "stream": "stdout",
       "text": [
        "0.412833268103\n",
        "Processing batch 88"
       ]
      },
      {
       "output_type": "stream",
       "stream": "stdout",
       "text": [
        "\n",
        "Running Dict Vectorizer transform alone"
       ]
      },
      {
       "output_type": "stream",
       "stream": "stdout",
       "text": [
        "\n",
        "only prediction"
       ]
      },
      {
       "output_type": "stream",
       "stream": "stdout",
       "text": [
        "\n",
        "0.837484615385 "
       ]
      },
      {
       "output_type": "stream",
       "stream": "stdout",
       "text": [
        "0.398014778334\n",
        "Processing batch 89"
       ]
      },
      {
       "output_type": "stream",
       "stream": "stdout",
       "text": [
        "\n",
        "Running Dict Vectorizer transform alone"
       ]
      },
      {
       "output_type": "stream",
       "stream": "stdout",
       "text": [
        "\n",
        "only prediction"
       ]
      },
      {
       "output_type": "stream",
       "stream": "stdout",
       "text": [
        "\n",
        "0.836907692308 "
       ]
      },
      {
       "output_type": "stream",
       "stream": "stdout",
       "text": [
        "0.401744072458\n",
        "Processing batch 90"
       ]
      },
      {
       "output_type": "stream",
       "stream": "stdout",
       "text": [
        "\n",
        "Running Dict Vectorizer transform alone"
       ]
      },
      {
       "output_type": "stream",
       "stream": "stdout",
       "text": [
        "\n",
        "only prediction"
       ]
      },
      {
       "output_type": "stream",
       "stream": "stdout",
       "text": [
        "\n",
        "0.835738461538 "
       ]
      },
      {
       "output_type": "stream",
       "stream": "stdout",
       "text": [
        "0.403793320341\n",
        "Processing batch 91"
       ]
      },
      {
       "output_type": "stream",
       "stream": "stdout",
       "text": [
        "\n",
        "Running Dict Vectorizer transform alone"
       ]
      },
      {
       "output_type": "stream",
       "stream": "stdout",
       "text": [
        "\n",
        "only prediction"
       ]
      },
      {
       "output_type": "stream",
       "stream": "stdout",
       "text": [
        "\n",
        "0.834453846154 "
       ]
      },
      {
       "output_type": "stream",
       "stream": "stdout",
       "text": [
        "0.408865795921\n",
        "Processing batch 92"
       ]
      },
      {
       "output_type": "stream",
       "stream": "stdout",
       "text": [
        "\n",
        "Running Dict Vectorizer transform alone"
       ]
      },
      {
       "output_type": "stream",
       "stream": "stdout",
       "text": [
        "\n",
        "only prediction"
       ]
      },
      {
       "output_type": "stream",
       "stream": "stdout",
       "text": [
        "\n",
        "0.833346153846 "
       ]
      },
      {
       "output_type": "stream",
       "stream": "stdout",
       "text": [
        "0.410409116199\n",
        "Processing batch 93"
       ]
      },
      {
       "output_type": "stream",
       "stream": "stdout",
       "text": [
        "\n",
        "Running Dict Vectorizer transform alone"
       ]
      },
      {
       "output_type": "stream",
       "stream": "stdout",
       "text": [
        "\n",
        "only prediction"
       ]
      },
      {
       "output_type": "stream",
       "stream": "stdout",
       "text": [
        "\n",
        "0.827553846154 "
       ]
      },
      {
       "output_type": "stream",
       "stream": "stdout",
       "text": [
        "0.421215850174\n",
        "Processing batch 94"
       ]
      },
      {
       "output_type": "stream",
       "stream": "stdout",
       "text": [
        "\n",
        "Running Dict Vectorizer transform alone"
       ]
      },
      {
       "output_type": "stream",
       "stream": "stdout",
       "text": [
        "\n",
        "only prediction"
       ]
      },
      {
       "output_type": "stream",
       "stream": "stdout",
       "text": [
        "\n",
        "0.824638461538 "
       ]
      },
      {
       "output_type": "stream",
       "stream": "stdout",
       "text": [
        "0.430123334039\n",
        "Processing batch 95"
       ]
      },
      {
       "output_type": "stream",
       "stream": "stdout",
       "text": [
        "\n",
        "Running Dict Vectorizer transform alone"
       ]
      },
      {
       "output_type": "stream",
       "stream": "stdout",
       "text": [
        "\n",
        "only prediction"
       ]
      },
      {
       "output_type": "stream",
       "stream": "stdout",
       "text": [
        "\n",
        "0.819076923077 "
       ]
      },
      {
       "output_type": "stream",
       "stream": "stdout",
       "text": [
        "0.437824171926\n",
        "Processing batch 96"
       ]
      },
      {
       "output_type": "stream",
       "stream": "stdout",
       "text": [
        "\n",
        "Running Dict Vectorizer transform alone"
       ]
      },
      {
       "output_type": "stream",
       "stream": "stdout",
       "text": [
        "\n",
        "only prediction"
       ]
      },
      {
       "output_type": "stream",
       "stream": "stdout",
       "text": [
        "\n",
        "0.818292307692 "
       ]
      },
      {
       "output_type": "stream",
       "stream": "stdout",
       "text": [
        "0.439946359916\n",
        "Processing batch 97"
       ]
      },
      {
       "output_type": "stream",
       "stream": "stdout",
       "text": [
        "\n",
        "Running Dict Vectorizer transform alone"
       ]
      },
      {
       "output_type": "stream",
       "stream": "stdout",
       "text": [
        "\n",
        "only prediction"
       ]
      },
      {
       "output_type": "stream",
       "stream": "stdout",
       "text": [
        "\n",
        "0.818376923077 "
       ]
      },
      {
       "output_type": "stream",
       "stream": "stdout",
       "text": [
        "0.441691302757\n",
        "Processing batch 98"
       ]
      },
      {
       "output_type": "stream",
       "stream": "stdout",
       "text": [
        "\n",
        "Running Dict Vectorizer transform alone"
       ]
      },
      {
       "output_type": "stream",
       "stream": "stdout",
       "text": [
        "\n",
        "only prediction"
       ]
      },
      {
       "output_type": "stream",
       "stream": "stdout",
       "text": [
        "\n",
        "0.812230769231 "
       ]
      },
      {
       "output_type": "stream",
       "stream": "stdout",
       "text": [
        "0.451264632525\n",
        "Processing batch 99"
       ]
      },
      {
       "output_type": "stream",
       "stream": "stdout",
       "text": [
        "\n",
        "Running Dict Vectorizer transform alone"
       ]
      },
      {
       "output_type": "stream",
       "stream": "stdout",
       "text": [
        "\n",
        "only prediction"
       ]
      },
      {
       "output_type": "stream",
       "stream": "stdout",
       "text": [
        "\n",
        "0.808769230769 "
       ]
      },
      {
       "output_type": "stream",
       "stream": "stdout",
       "text": [
        "0.456464006749\n",
        "Processing batch 100"
       ]
      },
      {
       "output_type": "stream",
       "stream": "stdout",
       "text": [
        "\n",
        "Running Dict Vectorizer transform alone"
       ]
      },
      {
       "output_type": "stream",
       "stream": "stdout",
       "text": [
        "\n",
        "only prediction"
       ]
      },
      {
       "output_type": "stream",
       "stream": "stdout",
       "text": [
        "\n",
        "0.811946153846 "
       ]
      },
      {
       "output_type": "stream",
       "stream": "stdout",
       "text": [
        "0.452433998709\n",
        "Done.. aren't we?\n",
        "Yes, we are..\n"
       ]
      }
     ],
     "prompt_number": 4
    },
    {
     "cell_type": "code",
     "collapsed": false,
     "input": [
      "##Prediction\n",
      "\n",
      "batch=0\n",
      "nlines=0\n",
      "nlim=100000\n",
      "#g=open(\"first_submission.csv\",'a')\n",
      "g=open(\"eigth_submission.csv\",'a')\n",
      "g.write(\"id,click\\n\")\n",
      "\n",
      "Yp=np.zeros((nlim,2),dtype='a20')\n",
      "X=np.zeros((nlim,25),dtype='a20')\n",
      "with open(\"test_woheader.csv\",\"r\") as f:\n",
      "    for line in f:\n",
      "        \n",
      "        X[nlines,:23]=[str(xx) for xx in line.strip().split(',')]\n",
      "        #print X[nlines,:]\n",
      "        X[nlines,23]=str(dt.datetime.strptime(X[nlines,1],'%y%m%d%H').weekday())\n",
      "        X[nlines,24]=X[nlines,1][-2:]\n",
      "        nlines=nlines+1;\n",
      "        if (nlines==nlim):\n",
      "            print 'Processing batch '+str(batch+1)\n",
      "            batch=batch+1\n",
      "\n",
      "            Xd=pd.DataFrame(X[:,2:],columns=colnames)\n",
      "            X_sparse=vec.transform(Xd.T.to_dict().values())                        \n",
      "            ypred=clf.predict_proba(X_sparse)[:,1]\n",
      "            \n",
      "            #Output to file\n",
      "            Yp[:,0]=X[:,0]\n",
      "            Yp[:,1]=[str(xx) for xx in ypred]\n",
      "            np.savetxt(g,Yp,delimiter=',',fmt=\"%s\")\n",
      "            \n",
      "            nlines=0\n",
      "            X=np.zeros((nlim,25),dtype='a20')\n",
      "            del X_sparse\n",
      "            \n",
      "    else:\n",
      "        print \"Processing final batch..\"\n",
      "        \n",
      "        Xd=pd.DataFrame(X[:nlines,2:],columns=colnames)\n",
      "        X_sparse=vec.transform(Xd.T.to_dict().values())                        \n",
      "        ypred=clf.predict_proba(X_sparse)[:,1]\n",
      "\n",
      "        #Output to file\n",
      "        Yp=np.zeros((nlines,2),dtype='a20')\n",
      "        Yp[:,0]=X[:nlines,0]\n",
      "        Yp[:,1]=[str(xx) for xx in ypred]\n",
      "        np.savetxt(g,Yp,delimiter=',',fmt=\"%s\")\n",
      "        \n",
      "        f.close()\n",
      "        del X\n",
      "        del X_sparse\n",
      "\n",
      "print 'Yes, we are done..'\n",
      "g.close()"
     ],
     "language": "python",
     "metadata": {},
     "outputs": [
      {
       "output_type": "stream",
       "stream": "stdout",
       "text": [
        "Processing batch 1\n",
        "Processing batch 2"
       ]
      },
      {
       "output_type": "stream",
       "stream": "stdout",
       "text": [
        "\n",
        "Processing batch 3"
       ]
      },
      {
       "output_type": "stream",
       "stream": "stdout",
       "text": [
        "\n",
        "Processing batch 4"
       ]
      },
      {
       "output_type": "stream",
       "stream": "stdout",
       "text": [
        "\n",
        "Processing batch 5"
       ]
      },
      {
       "output_type": "stream",
       "stream": "stdout",
       "text": [
        "\n",
        "Processing batch 6"
       ]
      },
      {
       "output_type": "stream",
       "stream": "stdout",
       "text": [
        "\n",
        "Processing batch 7"
       ]
      },
      {
       "output_type": "stream",
       "stream": "stdout",
       "text": [
        "\n",
        "Processing batch 8"
       ]
      },
      {
       "output_type": "stream",
       "stream": "stdout",
       "text": [
        "\n",
        "Processing batch 9"
       ]
      },
      {
       "output_type": "stream",
       "stream": "stdout",
       "text": [
        "\n",
        "Processing batch 10"
       ]
      },
      {
       "output_type": "stream",
       "stream": "stdout",
       "text": [
        "\n",
        "Processing batch 11"
       ]
      },
      {
       "output_type": "stream",
       "stream": "stdout",
       "text": [
        "\n",
        "Processing batch 12"
       ]
      },
      {
       "output_type": "stream",
       "stream": "stdout",
       "text": [
        "\n",
        "Processing batch 13"
       ]
      },
      {
       "output_type": "stream",
       "stream": "stdout",
       "text": [
        "\n",
        "Processing batch 14"
       ]
      },
      {
       "output_type": "stream",
       "stream": "stdout",
       "text": [
        "\n",
        "Processing batch 15"
       ]
      },
      {
       "output_type": "stream",
       "stream": "stdout",
       "text": [
        "\n",
        "Processing batch 16"
       ]
      },
      {
       "output_type": "stream",
       "stream": "stdout",
       "text": [
        "\n",
        "Processing batch 17"
       ]
      },
      {
       "output_type": "stream",
       "stream": "stdout",
       "text": [
        "\n",
        "Processing batch 18"
       ]
      },
      {
       "output_type": "stream",
       "stream": "stdout",
       "text": [
        "\n",
        "Processing batch 19"
       ]
      },
      {
       "output_type": "stream",
       "stream": "stdout",
       "text": [
        "\n",
        "Processing batch 20"
       ]
      },
      {
       "output_type": "stream",
       "stream": "stdout",
       "text": [
        "\n",
        "Processing batch 21"
       ]
      },
      {
       "output_type": "stream",
       "stream": "stdout",
       "text": [
        "\n",
        "Processing batch 22"
       ]
      },
      {
       "output_type": "stream",
       "stream": "stdout",
       "text": [
        "\n",
        "Processing batch 23"
       ]
      },
      {
       "output_type": "stream",
       "stream": "stdout",
       "text": [
        "\n",
        "Processing batch 24"
       ]
      },
      {
       "output_type": "stream",
       "stream": "stdout",
       "text": [
        "\n",
        "Processing batch 25"
       ]
      },
      {
       "output_type": "stream",
       "stream": "stdout",
       "text": [
        "\n",
        "Processing batch 26"
       ]
      },
      {
       "output_type": "stream",
       "stream": "stdout",
       "text": [
        "\n",
        "Processing batch 27"
       ]
      },
      {
       "output_type": "stream",
       "stream": "stdout",
       "text": [
        "\n",
        "Processing batch 28"
       ]
      },
      {
       "output_type": "stream",
       "stream": "stdout",
       "text": [
        "\n",
        "Processing batch 29"
       ]
      },
      {
       "output_type": "stream",
       "stream": "stdout",
       "text": [
        "\n",
        "Processing batch 30"
       ]
      },
      {
       "output_type": "stream",
       "stream": "stdout",
       "text": [
        "\n",
        "Processing batch 31"
       ]
      },
      {
       "output_type": "stream",
       "stream": "stdout",
       "text": [
        "\n",
        "Processing batch 32"
       ]
      },
      {
       "output_type": "stream",
       "stream": "stdout",
       "text": [
        "\n",
        "Processing batch 33"
       ]
      },
      {
       "output_type": "stream",
       "stream": "stdout",
       "text": [
        "\n",
        "Processing batch 34"
       ]
      },
      {
       "output_type": "stream",
       "stream": "stdout",
       "text": [
        "\n",
        "Processing batch 35"
       ]
      },
      {
       "output_type": "stream",
       "stream": "stdout",
       "text": [
        "\n",
        "Processing batch 36"
       ]
      },
      {
       "output_type": "stream",
       "stream": "stdout",
       "text": [
        "\n",
        "Processing batch 37"
       ]
      },
      {
       "output_type": "stream",
       "stream": "stdout",
       "text": [
        "\n",
        "Processing batch 38"
       ]
      },
      {
       "output_type": "stream",
       "stream": "stdout",
       "text": [
        "\n",
        "Processing batch 39"
       ]
      },
      {
       "output_type": "stream",
       "stream": "stdout",
       "text": [
        "\n",
        "Processing batch 40"
       ]
      },
      {
       "output_type": "stream",
       "stream": "stdout",
       "text": [
        "\n",
        "Processing batch 41"
       ]
      },
      {
       "output_type": "stream",
       "stream": "stdout",
       "text": [
        "\n",
        "Processing batch 42"
       ]
      },
      {
       "output_type": "stream",
       "stream": "stdout",
       "text": [
        "\n",
        "Processing batch 43"
       ]
      },
      {
       "output_type": "stream",
       "stream": "stdout",
       "text": [
        "\n",
        "Processing batch 44"
       ]
      },
      {
       "output_type": "stream",
       "stream": "stdout",
       "text": [
        "\n",
        "Processing batch 45"
       ]
      },
      {
       "output_type": "stream",
       "stream": "stdout",
       "text": [
        "\n",
        "Processing final batch.."
       ]
      },
      {
       "output_type": "stream",
       "stream": "stdout",
       "text": [
        "\n",
        "Yes, we are done.."
       ]
      },
      {
       "output_type": "stream",
       "stream": "stdout",
       "text": [
        "\n"
       ]
      }
     ],
     "prompt_number": 5
    },
    {
     "cell_type": "code",
     "collapsed": false,
     "input": [
      "print X.shape"
     ],
     "language": "python",
     "metadata": {},
     "outputs": [
      {
       "output_type": "stream",
       "stream": "stdout",
       "text": [
        "(500000, 25)\n"
       ]
      }
     ],
     "prompt_number": 6
    },
    {
     "cell_type": "code",
     "collapsed": false,
     "input": [
      "print ypred\n",
      "print str(ypred)\n",
      "print Yp\n",
      "print Yp.shape"
     ],
     "language": "python",
     "metadata": {},
     "outputs": [
      {
       "output_type": "stream",
       "stream": "stdout",
       "text": [
        "[ 0.46489831  0.07854326  0.0756602  ...,  0.04772515  0.42495103\n",
        "  0.65019639]\n",
        "[ 0.46489831  0.07854326  0.0756602  ...,  0.04772515  0.42495103\n",
        "  0.65019639]\n",
        "[['9510208106256648442' '0.46489830732']\n",
        " ['9510220156644959724' '0.0785432608006']\n",
        " ['9510251116927882877' '0.0756601953443']\n",
        " ..., \n",
        " ['9642376792155260587' '0.0477251463872']\n",
        " ['9642413861222366631' '0.424951033153']\n",
        " ['9642841034791728010' '0.650196386064']]\n",
        "(100000, 2)\n"
       ]
      }
     ],
     "prompt_number": 17
    },
    {
     "cell_type": "code",
     "collapsed": false,
     "input": [
      "print Xd"
     ],
     "language": "python",
     "metadata": {},
     "outputs": [
      {
       "output_type": "stream",
       "stream": "stdout",
       "text": [
        "         C1 banner_pos   site_id site_domain site_category    app_id  \\\n",
        "0      1005          0  85f751fd    c4e18dd6      50e219e0  e9739828   \n",
        "1      1005          0  17d1b03f    f3845767      f028772b  ecad2386   \n",
        "2      1005          0  6c5b482c    7687a86e      3e814130  ecad2386   \n",
        "3      1005          0  17d1b03f    f3845767      f028772b  ecad2386   \n",
        "4      1010          1  85f751fd    c4e18dd6      50e219e0  c6eb993a   \n",
        "5      1005          0  85f751fd    c4e18dd6      50e219e0  51cedd4e   \n",
        "6      1005          0  85f751fd    c4e18dd6      50e219e0  9c13b419   \n",
        "7      1005          0  85f751fd    c4e18dd6      50e219e0  febd1138   \n",
        "8      1005          0  17d1b03f    f3845767      f028772b  ecad2386   \n",
        "9      1005          0  17d1b03f    f3845767      f028772b  ecad2386   \n",
        "10     1005          1  b7e9786d    b12b9f85      f028772b  ecad2386   \n",
        "11     1005          0  83a0ad1a    5c9ae867      f028772b  ecad2386   \n",
        "12     1005          0  17d1b03f    f3845767      f028772b  ecad2386   \n",
        "13     1005          0  85f751fd    c4e18dd6      50e219e0  ce183bbd   \n",
        "14     1005          0  17d1b03f    f3845767      f028772b  ecad2386   \n",
        "15     1005          0  85f751fd    c4e18dd6      50e219e0  51cedd4e   \n",
        "16     1005          0  85f751fd    c4e18dd6      50e219e0  685d1c4c   \n",
        "17     1005          0  85f751fd    c4e18dd6      50e219e0  92f5800b   \n",
        "18     1005          0  85f751fd    c4e18dd6      50e219e0  2bc6bb64   \n",
        "19     1005          0  85f751fd    c4e18dd6      50e219e0  51cedd4e   \n",
        "20     1005          0  17d1b03f    f3845767      f028772b  ecad2386   \n",
        "21     1005          0  85f751fd    c4e18dd6      50e219e0  65f37f55   \n",
        "22     1005          0  85f751fd    c4e18dd6      50e219e0  03528b27   \n",
        "23     1005          0  85f751fd    c4e18dd6      50e219e0  92f5800b   \n",
        "24     1005          0  17d1b03f    f3845767      f028772b  ecad2386   \n",
        "25     1005          0  85f751fd    c4e18dd6      50e219e0  467930e2   \n",
        "26     1005          1  e151e245    7e091613      f028772b  ecad2386   \n",
        "27     1005          0  17d1b03f    f3845767      f028772b  ecad2386   \n",
        "28     1005          1  85f751fd    c4e18dd6      50e219e0  1c4c71ef   \n",
        "29     1005          1  faf9c1c2    c8223ee3      f028772b  ecad2386   \n",
        "...     ...        ...       ...         ...           ...       ...   \n",
        "77434  1005          0  85f751fd    c4e18dd6      50e219e0  2d869bee   \n",
        "77435  1005          0  85f751fd    c4e18dd6      50e219e0  685d1c4c   \n",
        "77436  1005          0  85f751fd    c4e18dd6      50e219e0  381a6863   \n",
        "77437  1005          1  5ee41ff2    17d996e6      f028772b  ecad2386   \n",
        "77438  1005          0  85f751fd    c4e18dd6      50e219e0  9c13b419   \n",
        "77439  1005          0  17d1b03f    f3845767      f028772b  ecad2386   \n",
        "77440  1005          0  17d1b03f    f3845767      f028772b  ecad2386   \n",
        "77441  1005          0  85f751fd    c4e18dd6      50e219e0  e2fcccd2   \n",
        "77442  1005          0  17d1b03f    f3845767      f028772b  ecad2386   \n",
        "77443  1005          0  17d1b03f    f3845767      f028772b  ecad2386   \n",
        "77444  1005          0  17d1b03f    f3845767      f028772b  ecad2386   \n",
        "77445  1005          0  85f751fd    c4e18dd6      50e219e0  98fed791   \n",
        "77446  1005          0  85f751fd    c4e18dd6      50e219e0  13a901ff   \n",
        "77447  1005          0  17d1b03f    f3845767      f028772b  ecad2386   \n",
        "77448  1005          0  85f751fd    c4e18dd6      50e219e0  9c13b419   \n",
        "77449  1005          1  e151e245    7e091613      f028772b  ecad2386   \n",
        "77450  1005          0  1a5c1d83    5dddf09e      f028772b  ecad2386   \n",
        "77451  1005          0  85f751fd    c4e18dd6      50e219e0  9c13b419   \n",
        "77452  1005          0  85f751fd    c4e18dd6      50e219e0  685d1c4c   \n",
        "77453  1012          0  85f751fd    c4e18dd6      50e219e0  0443d75e   \n",
        "77454  1005          1  e151e245    7e091613      f028772b  ecad2386   \n",
        "77455  1005          0  85f751fd    c4e18dd6      50e219e0  98fed791   \n",
        "77456  1005          0  85f751fd    c4e18dd6      50e219e0  febd1138   \n",
        "77457  1005          0  17d1b03f    f3845767      f028772b  ecad2386   \n",
        "77458  1005          0  85f751fd    c4e18dd6      50e219e0  8dbc921a   \n",
        "77459  1005          0  93eaba74    7687a86e      3e814130  ecad2386   \n",
        "77460  1005          0  17d1b03f    f3845767      f028772b  ecad2386   \n",
        "77461  1005          0  5b08c53b    7687a86e      3e814130  ecad2386   \n",
        "77462  1005          0  85f751fd    c4e18dd6      50e219e0  92f5800b   \n",
        "77463  1005          0  17d1b03f    f3845767      f028772b  ecad2386   \n",
        "\n",
        "      app_domain app_category device_id device_ip    ...       C14  C15  C16  \\\n",
        "0       df32afa9     cef3e649  a99f214a  60e5e4f5    ...     24297  320   50   \n",
        "1       7801e8d9     07d7df22  a99f214a  c1256cf1    ...     22254  320   50   \n",
        "2       7801e8d9     07d7df22  a99f214a  431b3174    ...     17654  300  250   \n",
        "3       7801e8d9     07d7df22  a99f214a  473eabe8    ...     22261  320   50   \n",
        "4       7801e8d9     0f2161f8  80b47cf5  5cf90014    ...     20291  320   50   \n",
        "5       aefc06bd     0f2161f8  a99f214a  931a24f9    ...     24075  320   50   \n",
        "6       2347f47a     f95efa07  a99f214a  81887079    ...     23161  320   50   \n",
        "7       82e27996     0f2161f8  a99f214a  e1557eb9    ...     19743  320   50   \n",
        "8       7801e8d9     07d7df22  a99f214a  e0bdf4fb    ...     22254  320   50   \n",
        "9       7801e8d9     07d7df22  a99f214a  2980f384    ...     22104  320   50   \n",
        "10      7801e8d9     07d7df22  a99f214a  36ce6053    ...     22680  320   50   \n",
        "11      7801e8d9     07d7df22  a99f214a  f0219497    ...     20633  320   50   \n",
        "12      7801e8d9     07d7df22  a99f214a  1ad729b5    ...     22104  320   50   \n",
        "13      ae637522     cef3e649  a99f214a  152241fb    ...     24132  320   50   \n",
        "14      7801e8d9     07d7df22  a99f214a  8a014cbb    ...     22254  320   50   \n",
        "15      aefc06bd     0f2161f8  a99f214a  4c07b9b5    ...     19216  320   50   \n",
        "16      2347f47a     8ded1f7a  a99f214a  331f6864    ...     22196  320   50   \n",
        "17      ae637522     0f2161f8  a99f214a  fdd5f31e    ...     23855  320   50   \n",
        "18      7801e8d9     0f2161f8  a99f214a  56fab156    ...     23722  320   50   \n",
        "19      aefc06bd     0f2161f8  a99f214a  3836c2a8    ...     19743  320   50   \n",
        "20      7801e8d9     07d7df22  a99f214a  f4c14184    ...     22104  320   50   \n",
        "21      d9b5648e     0f2161f8  a99f214a  e6ffb1a2    ...     20508  320   50   \n",
        "22      2347f47a     8ded1f7a  a99f214a  434ead62    ...     24297  320   50   \n",
        "23      ae637522     0f2161f8  a99f214a  9fb85b43    ...     23855  320   50   \n",
        "24      7801e8d9     07d7df22  a99f214a  45dfc17a    ...     22261  320   50   \n",
        "25      d9b5648e     0f2161f8  a99f214a  7b23310d    ...     20984  320   50   \n",
        "26      7801e8d9     07d7df22  a99f214a  fbbb31c4    ...     24093  320   50   \n",
        "27      7801e8d9     07d7df22  a99f214a  3d4499a4    ...     22104  320   50   \n",
        "28      2347f47a     0f2161f8  d1752b48  d6ff3c5b    ...     17706  320   50   \n",
        "29      7801e8d9     07d7df22  a99f214a  d90a7774    ...     23626  320   50   \n",
        "...          ...          ...       ...       ...    ...       ...  ...  ...   \n",
        "77434   d9b5648e     0f2161f8  a99f214a  e2f0441a    ...     19743  320   50   \n",
        "77435   2347f47a     8ded1f7a  a99f214a  ca292b3c    ...     23737  320   50   \n",
        "77436   33da2e74     cef3e649  a99f214a  981392d4    ...     20751  320   50   \n",
        "77437   7801e8d9     07d7df22  a99f214a  f2911cf6    ...     24217  320   50   \n",
        "77438   2347f47a     f95efa07  a99f214a  7a5cb6b1    ...     23725  320   50   \n",
        "77439   7801e8d9     07d7df22  a99f214a  021ee8ca    ...     22254  320   50   \n",
        "77440   7801e8d9     07d7df22  a99f214a  c8568c01    ...     22257  320   50   \n",
        "77441   5c5a694b     0f2161f8  a99f214a  56b17f2a    ...      6558  320   50   \n",
        "77442   7801e8d9     07d7df22  a99f214a  e70afcc0    ...     22254  320   50   \n",
        "77443   7801e8d9     07d7df22  a99f214a  8f03f45e    ...     22261  320   50   \n",
        "77444   7801e8d9     07d7df22  a99f214a  7827449c    ...     22104  320   50   \n",
        "77445   d9b5648e     0f2161f8  a99f214a  a764434c    ...     20508  320   50   \n",
        "77446   7801e8d9     0f2161f8  8c54c4b6  659f633a    ...     21706  320   50   \n",
        "77447   7801e8d9     07d7df22  a99f214a  ceffea69    ...     22257  320   50   \n",
        "77448   2347f47a     f95efa07  a99f214a  89151252    ...     23160  320   50   \n",
        "77449   7801e8d9     07d7df22  a99f214a  1d216c13    ...     17747  320   50   \n",
        "77450   7801e8d9     07d7df22  a99f214a  78175599    ...     24085  320   50   \n",
        "77451   2347f47a     f95efa07  a99f214a  9316a0eb    ...     18091  320   50   \n",
        "77452   2347f47a     8ded1f7a  a99f214a  de847033    ...     22193  320   50   \n",
        "77453   7801e8d9     07d7df22  506e33ad  9ed637bc    ...     20153  320   50   \n",
        "77454   7801e8d9     07d7df22  a99f214a  0eeb6185    ...     17747  320   50   \n",
        "77455   d9b5648e     0f2161f8  a99f214a  edc9cd89    ...     20508  320   50   \n",
        "77456   82e27996     0f2161f8  a99f214a  70dc9968    ...     24075  320   50   \n",
        "77457   7801e8d9     07d7df22  a99f214a  418dd0d2    ...     22261  320   50   \n",
        "77458   d9b5648e     0f2161f8  a99f214a  83d0504d    ...     21611  320   50   \n",
        "77459   7801e8d9     07d7df22  a99f214a  bcc9bcf5    ...     17654  300  250   \n",
        "77460   7801e8d9     07d7df22  a99f214a  1ff55d5e    ...     22104  320   50   \n",
        "77461   7801e8d9     07d7df22  a99f214a  bfef0578    ...     17654  300  250   \n",
        "77462   ae637522     0f2161f8  a99f214a  66f14444    ...     23857  320   50   \n",
        "77463   7801e8d9     07d7df22  a99f214a  127c3710    ...     22254  320   50   \n",
        "\n",
        "        C17 C18  C19     C20  C21 weekday  hr  \n",
        "0      2787   3  171  100161  240       4  23  \n",
        "1      2545   0  431  100084  221       4  23  \n",
        "2      1994   2   39      -1   33       4  23  \n",
        "3      2545   0  431      -1  221       4  23  \n",
        "4      2325   3  801      -1   42       4  23  \n",
        "5      2480   3  299  100111   61       4  23  \n",
        "6      2667   0   39      -1  221       4  23  \n",
        "7      2264   3  425  100000   61       4  23  \n",
        "8      2545   0  431      -1  221       4  23  \n",
        "9      2545   0  431  100084  221       4  23  \n",
        "10     2528   0  167  100079  221       4  23  \n",
        "11     2374   3   39      -1   23       4  23  \n",
        "12     2545   0  431      -1  221       4  23  \n",
        "13     2768   1  175  100192   71       4  23  \n",
        "14     2545   0  431      -1  221       4  23  \n",
        "15      863   3  169  100105   61       4  23  \n",
        "16     2556   3  167  100200   23       4  23  \n",
        "17     2734   1  175  100189   71       4  23  \n",
        "18     2716   3   47  100212   23       4  23  \n",
        "19     2264   3  425  100000   61       4  23  \n",
        "20     2545   0  431  100084  221       4  23  \n",
        "21     2351   3  163  100020   61       4  23  \n",
        "22     2787   3  171  100161  240       4  23  \n",
        "23     2734   1  175  100192   71       4  23  \n",
        "24     2545   0  431  100084  221       4  23  \n",
        "25     2371   0  559      -1   46       4  23  \n",
        "26     2761   2   35  100148   13       4  23  \n",
        "27     2545   0  431  100084  221       4  23  \n",
        "28     2009   0  555  100233  102       4  23  \n",
        "29     2707   3  937  100156   61       4  23  \n",
        "...     ...  ..  ...     ...  ...     ...  ..  \n",
        "77434  2264   3  425  100000   61       4  23  \n",
        "77435  2676   0  299  100177  221       4  23  \n",
        "77436  1895   0  681  100028  101       4  23  \n",
        "77437  2780   2   35      -1   23       4  23  \n",
        "77438  2716   3   47      -1   23       4  23  \n",
        "77439  2545   0  431      -1  221       4  23  \n",
        "77440  2545   0  431  100084  221       4  23  \n",
        "77441   571   2   39      -1   32       4  23  \n",
        "77442  2545   0  431      -1  221       4  23  \n",
        "77443  2545   0  431      -1  221       4  23  \n",
        "77444  2545   0  431  100084  221       4  23  \n",
        "77445  2351   3  163      -1   61       4  23  \n",
        "77446  2498   3   41  100111   61       4  23  \n",
        "77447  2545   0  431      -1  221       4  23  \n",
        "77448  2667   0   39      -1  221       4  23  \n",
        "77449  1974   2   39      -1   33       4  23  \n",
        "77450  2761   2   35      -1   13       4  23  \n",
        "77451  2060   3   39      -1   23       4  23  \n",
        "77452  2556   3  167  100200   23       4  23  \n",
        "77453  2307   3  163      -1   61       4  23  \n",
        "77454  1974   2   39  100019   33       4  23  \n",
        "77455  2351   3  163      -1   61       4  23  \n",
        "77456  2480   3  299  100111   61       4  23  \n",
        "77457  2545   0  431  100084  221       4  23  \n",
        "77458  2480   3  299  100111   61       4  23  \n",
        "77459  1994   2   39      -1   33       4  23  \n",
        "77460  2545   0  431  100084  221       4  23  \n",
        "77461  1994   2   39      -1   33       4  23  \n",
        "77462  2734   1  175  100189   71       4  23  \n",
        "77463  2545   0  431  100084  221       4  23  \n",
        "\n",
        "[77464 rows x 23 columns]\n"
       ]
      }
     ],
     "prompt_number": 20
    },
    {
     "cell_type": "code",
     "collapsed": false,
     "input": [],
     "language": "python",
     "metadata": {},
     "outputs": []
    }
   ],
   "metadata": {}
  }
 ]
}