{
 "metadata": {
  "name": "",
  "signature": "sha256:09da85b75093d576edfe15f1cc34f11f40d7d754bd11134ca40481a9d0280733"
 },
 "nbformat": 3,
 "nbformat_minor": 0,
 "worksheets": [
  {
   "cells": [
    {
     "cell_type": "code",
     "collapsed": false,
     "input": [
      "from sklearn.naive_bayes import BernoulliNB as bnb\n",
      "from sklearn.linear_model import PassiveAggressiveClassifier as pac\n",
      "from sklearn.linear_model import SGDClassifier as sgd\n",
      "from sklearn.linear_model import Perceptron as pcp\n",
      "from sklearn.svm import SVC\n",
      "from sklearn.tree import DecisionTreeClassifier as dtc\n",
      "import pandas as pd\n",
      "import numpy as np\n",
      "import datetime as dt\n",
      "from sklearn.metrics import log_loss\n",
      "from sklearn.metrics import accuracy_score\n",
      "\n",
      "from sklearn.feature_extraction import DictVectorizer\n",
      "from sklearn.ensemble import AdaBoostClassifier as abc\n",
      "from sklearn.ensemble import BaggingClassifier as BagC\n",
      "from sklearn.ensemble import RandomForestClassifier as rfc \n",
      "from sklearn.neighbors import KNeighborsClassifier as knc\n",
      "from scipy import sparse\n",
      "\n",
      "colnames=['C1','banner_pos','site_id','site_domain','site_category','app_id','app_domain','app_category','device_id','device_ip','device_model','device_type','device_conn_type','C14','C15','C16','C17','C18','C19','C20','C21','weekday','hr']\n",
      "vec = DictVectorizer()\n",
      "#clf = bnb()\n",
      "#clf = pac(random_state=0)\n",
      "#clf = sgd(random_state=0)\n",
      "#clf = sgd(random_state=0,loss='log')\n",
      "#clf = pcp(random_state=0)\n",
      "#clf = SVC(random_state=0,probability=True,verbose=True,shrinking=False,cache_size=1024)\n",
      "#clf = dtc(criterion='gini', splitter='best', max_depth=None, min_samples_split=2, min_samples_leaf=10, max_features=None, random_state=0, min_density=None, compute_importances=None, max_leaf_nodes=None)\n",
      "#clf = abc(base_estimator=sgd(random_state=0,loss='log',shuffle=True),random_state=0)\n",
      "#clf = abc(base_estimator=bnb(),random_state=0,n_estimators=5)\n",
      "#clf = BagC(base_estimator=sgd(random_state=0,loss='log',shuffle=True),random_state=0)\n",
      "clf = rfc(n_estimators=50, criterion='gini', max_depth=None, min_samples_split=2, min_samples_leaf=50, max_features='auto', max_leaf_nodes=None, bootstrap=True, oob_score=False, n_jobs=1, random_state=0, verbose=1)\n",
      "\n",
      "#clfb=sgd(random_state=0,loss='log')\n",
      "\n",
      "#Batched reading and learning\n",
      "batch=0\n",
      "nlines=0\n",
      "nlim=50000\n",
      "blim=5\n",
      "btrain=1\n",
      "X=np.zeros((nlim,26),dtype='a20')\n",
      "\n",
      "with open(\"train_woheader.csv\",\"r\") as f:\n",
      "    for line in f:\n",
      "        \n",
      "        X[nlines,:24]=[str(xx) for xx in line.strip().split(',')]\n",
      "        #print X[nlines,:]\n",
      "        X[nlines,24]=str(dt.datetime.strptime(X[nlines,2],'%y%m%d%H').weekday())\n",
      "        X[nlines,25]=X[nlines,2][-2:]\n",
      "        nlines=nlines+1;\n",
      "        if (nlines==nlim):\n",
      "            print 'Processing batch '+str(batch+1)\n",
      "            batch=batch+1\n",
      "\n",
      "            Xd=pd.DataFrame(X[:,3:],columns=colnames)\n",
      "            Y=X[:,1].astype('int')\n",
      "            #All the jazz goes here\n",
      "            if (batch==1):\n",
      "                print 'Running Dict Vectorizer fit transform'\n",
      "                X_sparse=vec.fit_transform(Xd.T.to_dict().values()).todense()\n",
      "                clf.fit(X_sparse,Y)\n",
      "            else:\n",
      "                print 'Running Dict Vectorizer transform alone'\n",
      "                X_sparse=vec.transform(Xd.T.to_dict().values()).todense()\n",
      "                \n",
      "            ypred=clf.predict_proba(X_sparse)[:,1]\n",
      "            #lpred=clf.predict(X_sparse)\n",
      "            \n",
      "            #print clf.score(X_sparse,Y), accuracy_score(Y,lpred), log_loss(Y,ypred)\n",
      "            print clf.score(X_sparse,Y), log_loss(Y,ypred)\n",
      "            \n",
      "            nlines=0\n",
      "            X=np.zeros((nlim,26),dtype='a20')\n",
      "            del X_sparse\n",
      "            \n",
      "            if (batch>=blim):\n",
      "                print \"Done.. aren't we?\"\n",
      "                f.close()\n",
      "                del X\n",
      "                break\n",
      "\n",
      "print 'Yes, we are..'"
     ],
     "language": "python",
     "metadata": {},
     "outputs": [
      {
       "output_type": "stream",
       "stream": "stdout",
       "text": [
        "Processing batch 1\n",
        "Running Dict Vectorizer fit transform"
       ]
      },
      {
       "output_type": "stream",
       "stream": "stderr",
       "text": [
        "[Parallel(n_jobs=8)]: Done   1 out of   8 | elapsed:    6.6s remaining:   45.9s\n",
        "[Parallel(n_jobs=8)]: Done   8 out of   8 | elapsed:    6.7s finished\n",
        "/home/tweetytrails/anaconda/lib/python2.7/site-packages/sklearn/ensemble/forest.py:373: UserWarning: Some inputs do not have OOB scores. This probably means too few trees were used to compute any reliable oob estimates.\n",
        "  warn(\"Some inputs do not have OOB scores. \"\n"
       ]
      },
      {
       "output_type": "stream",
       "stream": "stderr",
       "text": [
        "[Parallel(n_jobs=8)]: Done   1 out of   8 | elapsed:    0.1s remaining:    0.4s\n",
        "[Parallel(n_jobs=8)]: Done   8 out of   8 | elapsed:    0.1s finished\n",
        "[Parallel(n_jobs=8)]: Done   1 out of   8 | elapsed:    0.0s remaining:    0.2s\n",
        "[Parallel(n_jobs=8)]: Done   8 out of   8 | elapsed:    0.1s finished\n"
       ]
      },
      {
       "output_type": "stream",
       "stream": "stdout",
       "text": [
        "\n",
        "0.82472"
       ]
      },
      {
       "output_type": "stream",
       "stream": "stdout",
       "text": [
        " 0.45054760413\n",
        "Processing batch 2"
       ]
      },
      {
       "output_type": "stream",
       "stream": "stdout",
       "text": [
        "\n",
        "Running Dict Vectorizer transform alone"
       ]
      },
      {
       "output_type": "stream",
       "stream": "stderr",
       "text": [
        "[Parallel(n_jobs=8)]: Done   1 out of   8 | elapsed:    4.8s remaining:   33.7s\n",
        "[Parallel(n_jobs=8)]: Done   8 out of   8 | elapsed:    5.4s finished\n"
       ]
      },
      {
       "output_type": "stream",
       "stream": "stdout",
       "text": [
        "\n"
       ]
      },
      {
       "ename": "KeyboardInterrupt",
       "evalue": "",
       "output_type": "pyerr",
       "traceback": [
        "\u001b[1;31m---------------------------------------------------------------------------\u001b[0m\n\u001b[1;31mKeyboardInterrupt\u001b[0m                         Traceback (most recent call last)",
        "\u001b[1;32m<ipython-input-22-29487a1c104f>\u001b[0m in \u001b[0;36m<module>\u001b[1;34m()\u001b[0m\n\u001b[0;32m     69\u001b[0m \u001b[1;33m\u001b[0m\u001b[0m\n\u001b[0;32m     70\u001b[0m             \u001b[1;31m#print clf.score(X_sparse,Y), accuracy_score(Y,lpred), log_loss(Y,ypred)\u001b[0m\u001b[1;33m\u001b[0m\u001b[1;33m\u001b[0m\u001b[0m\n\u001b[1;32m---> 71\u001b[1;33m             \u001b[1;32mprint\u001b[0m \u001b[0mclf\u001b[0m\u001b[1;33m.\u001b[0m\u001b[0mscore\u001b[0m\u001b[1;33m(\u001b[0m\u001b[0mX_sparse\u001b[0m\u001b[1;33m,\u001b[0m\u001b[0mY\u001b[0m\u001b[1;33m)\u001b[0m\u001b[1;33m,\u001b[0m \u001b[0mlog_loss\u001b[0m\u001b[1;33m(\u001b[0m\u001b[0mY\u001b[0m\u001b[1;33m,\u001b[0m\u001b[0mypred\u001b[0m\u001b[1;33m)\u001b[0m\u001b[1;33m\u001b[0m\u001b[0m\n\u001b[0m\u001b[0;32m     72\u001b[0m \u001b[1;33m\u001b[0m\u001b[0m\n\u001b[0;32m     73\u001b[0m             \u001b[0mnlines\u001b[0m\u001b[1;33m=\u001b[0m\u001b[1;36m0\u001b[0m\u001b[1;33m\u001b[0m\u001b[0m\n",
        "\u001b[1;32m/home/tweetytrails/anaconda/lib/python2.7/site-packages/sklearn/base.pyc\u001b[0m in \u001b[0;36mscore\u001b[1;34m(self, X, y, sample_weight)\u001b[0m\n\u001b[0;32m    289\u001b[0m         \"\"\"\n\u001b[0;32m    290\u001b[0m         \u001b[1;32mfrom\u001b[0m \u001b[1;33m.\u001b[0m\u001b[0mmetrics\u001b[0m \u001b[1;32mimport\u001b[0m \u001b[0maccuracy_score\u001b[0m\u001b[1;33m\u001b[0m\u001b[0m\n\u001b[1;32m--> 291\u001b[1;33m         \u001b[1;32mreturn\u001b[0m \u001b[0maccuracy_score\u001b[0m\u001b[1;33m(\u001b[0m\u001b[0my\u001b[0m\u001b[1;33m,\u001b[0m \u001b[0mself\u001b[0m\u001b[1;33m.\u001b[0m\u001b[0mpredict\u001b[0m\u001b[1;33m(\u001b[0m\u001b[0mX\u001b[0m\u001b[1;33m)\u001b[0m\u001b[1;33m,\u001b[0m \u001b[0msample_weight\u001b[0m\u001b[1;33m=\u001b[0m\u001b[0msample_weight\u001b[0m\u001b[1;33m)\u001b[0m\u001b[1;33m\u001b[0m\u001b[0m\n\u001b[0m\u001b[0;32m    292\u001b[0m \u001b[1;33m\u001b[0m\u001b[0m\n\u001b[0;32m    293\u001b[0m \u001b[1;33m\u001b[0m\u001b[0m\n",
        "\u001b[1;32m/home/tweetytrails/anaconda/lib/python2.7/site-packages/sklearn/ensemble/forest.pyc\u001b[0m in \u001b[0;36mpredict\u001b[1;34m(self, X)\u001b[0m\n\u001b[0;32m    418\u001b[0m         \"\"\"\n\u001b[0;32m    419\u001b[0m         \u001b[0mn_samples\u001b[0m \u001b[1;33m=\u001b[0m \u001b[0mlen\u001b[0m\u001b[1;33m(\u001b[0m\u001b[0mX\u001b[0m\u001b[1;33m)\u001b[0m\u001b[1;33m\u001b[0m\u001b[0m\n\u001b[1;32m--> 420\u001b[1;33m         \u001b[0mproba\u001b[0m \u001b[1;33m=\u001b[0m \u001b[0mself\u001b[0m\u001b[1;33m.\u001b[0m\u001b[0mpredict_proba\u001b[0m\u001b[1;33m(\u001b[0m\u001b[0mX\u001b[0m\u001b[1;33m)\u001b[0m\u001b[1;33m\u001b[0m\u001b[0m\n\u001b[0m\u001b[0;32m    421\u001b[0m \u001b[1;33m\u001b[0m\u001b[0m\n\u001b[0;32m    422\u001b[0m         \u001b[1;32mif\u001b[0m \u001b[0mself\u001b[0m\u001b[1;33m.\u001b[0m\u001b[0mn_outputs_\u001b[0m \u001b[1;33m==\u001b[0m \u001b[1;36m1\u001b[0m\u001b[1;33m:\u001b[0m\u001b[1;33m\u001b[0m\u001b[0m\n",
        "\u001b[1;32m/home/tweetytrails/anaconda/lib/python2.7/site-packages/sklearn/ensemble/forest.pyc\u001b[0m in \u001b[0;36mpredict_proba\u001b[1;34m(self, X)\u001b[0m\n\u001b[0;32m    453\u001b[0m         \u001b[1;31m# Check data\u001b[0m\u001b[1;33m\u001b[0m\u001b[1;33m\u001b[0m\u001b[0m\n\u001b[0;32m    454\u001b[0m         \u001b[1;32mif\u001b[0m \u001b[0mgetattr\u001b[0m\u001b[1;33m(\u001b[0m\u001b[0mX\u001b[0m\u001b[1;33m,\u001b[0m \u001b[1;34m\"dtype\"\u001b[0m\u001b[1;33m,\u001b[0m \u001b[0mNone\u001b[0m\u001b[1;33m)\u001b[0m \u001b[1;33m!=\u001b[0m \u001b[0mDTYPE\u001b[0m \u001b[1;32mor\u001b[0m \u001b[0mX\u001b[0m\u001b[1;33m.\u001b[0m\u001b[0mndim\u001b[0m \u001b[1;33m!=\u001b[0m \u001b[1;36m2\u001b[0m\u001b[1;33m:\u001b[0m\u001b[1;33m\u001b[0m\u001b[0m\n\u001b[1;32m--> 455\u001b[1;33m             \u001b[0mX\u001b[0m \u001b[1;33m=\u001b[0m \u001b[0marray2d\u001b[0m\u001b[1;33m(\u001b[0m\u001b[0mX\u001b[0m\u001b[1;33m,\u001b[0m \u001b[0mdtype\u001b[0m\u001b[1;33m=\u001b[0m\u001b[0mDTYPE\u001b[0m\u001b[1;33m)\u001b[0m\u001b[1;33m\u001b[0m\u001b[0m\n\u001b[0m\u001b[0;32m    456\u001b[0m \u001b[1;33m\u001b[0m\u001b[0m\n\u001b[0;32m    457\u001b[0m         \u001b[1;31m# Assign chunk of trees to jobs\u001b[0m\u001b[1;33m\u001b[0m\u001b[1;33m\u001b[0m\u001b[0m\n",
        "\u001b[1;32m/home/tweetytrails/anaconda/lib/python2.7/site-packages/sklearn/utils/validation.pyc\u001b[0m in \u001b[0;36marray2d\u001b[1;34m(X, dtype, order, copy, force_all_finite)\u001b[0m\n\u001b[0;32m    118\u001b[0m         raise TypeError('A sparse matrix was passed, but dense data '\n\u001b[0;32m    119\u001b[0m                         'is required. Use X.toarray() to convert to dense.')\n\u001b[1;32m--> 120\u001b[1;33m     \u001b[0mX_2d\u001b[0m \u001b[1;33m=\u001b[0m \u001b[0mnp\u001b[0m\u001b[1;33m.\u001b[0m\u001b[0masarray\u001b[0m\u001b[1;33m(\u001b[0m\u001b[0mnp\u001b[0m\u001b[1;33m.\u001b[0m\u001b[0matleast_2d\u001b[0m\u001b[1;33m(\u001b[0m\u001b[0mX\u001b[0m\u001b[1;33m)\u001b[0m\u001b[1;33m,\u001b[0m \u001b[0mdtype\u001b[0m\u001b[1;33m=\u001b[0m\u001b[0mdtype\u001b[0m\u001b[1;33m,\u001b[0m \u001b[0morder\u001b[0m\u001b[1;33m=\u001b[0m\u001b[0morder\u001b[0m\u001b[1;33m)\u001b[0m\u001b[1;33m\u001b[0m\u001b[0m\n\u001b[0m\u001b[0;32m    121\u001b[0m     \u001b[1;32mif\u001b[0m \u001b[0mforce_all_finite\u001b[0m\u001b[1;33m:\u001b[0m\u001b[1;33m\u001b[0m\u001b[0m\n\u001b[0;32m    122\u001b[0m         \u001b[0m_assert_all_finite\u001b[0m\u001b[1;33m(\u001b[0m\u001b[0mX_2d\u001b[0m\u001b[1;33m)\u001b[0m\u001b[1;33m\u001b[0m\u001b[0m\n",
        "\u001b[1;32m/home/tweetytrails/anaconda/lib/python2.7/site-packages/numpy/core/numeric.pyc\u001b[0m in \u001b[0;36masarray\u001b[1;34m(a, dtype, order)\u001b[0m\n\u001b[0;32m    460\u001b[0m \u001b[1;33m\u001b[0m\u001b[0m\n\u001b[0;32m    461\u001b[0m     \"\"\"\n\u001b[1;32m--> 462\u001b[1;33m     \u001b[1;32mreturn\u001b[0m \u001b[0marray\u001b[0m\u001b[1;33m(\u001b[0m\u001b[0ma\u001b[0m\u001b[1;33m,\u001b[0m \u001b[0mdtype\u001b[0m\u001b[1;33m,\u001b[0m \u001b[0mcopy\u001b[0m\u001b[1;33m=\u001b[0m\u001b[0mFalse\u001b[0m\u001b[1;33m,\u001b[0m \u001b[0morder\u001b[0m\u001b[1;33m=\u001b[0m\u001b[0morder\u001b[0m\u001b[1;33m)\u001b[0m\u001b[1;33m\u001b[0m\u001b[0m\n\u001b[0m\u001b[0;32m    463\u001b[0m \u001b[1;33m\u001b[0m\u001b[0m\n\u001b[0;32m    464\u001b[0m \u001b[1;32mdef\u001b[0m \u001b[0masanyarray\u001b[0m\u001b[1;33m(\u001b[0m\u001b[0ma\u001b[0m\u001b[1;33m,\u001b[0m \u001b[0mdtype\u001b[0m\u001b[1;33m=\u001b[0m\u001b[0mNone\u001b[0m\u001b[1;33m,\u001b[0m \u001b[0morder\u001b[0m\u001b[1;33m=\u001b[0m\u001b[0mNone\u001b[0m\u001b[1;33m)\u001b[0m\u001b[1;33m:\u001b[0m\u001b[1;33m\u001b[0m\u001b[0m\n",
        "\u001b[1;31mKeyboardInterrupt\u001b[0m: "
       ]
      }
     ],
     "prompt_number": 22
    },
    {
     "cell_type": "code",
     "collapsed": false,
     "input": [
      "print clf.score(X_sparse,Y), log_loss(Y,ypred)"
     ],
     "language": "python",
     "metadata": {},
     "outputs": []
    },
    {
     "cell_type": "code",
     "collapsed": false,
     "input": [
      "batch=0\n",
      "nlines=0\n",
      "nlim=100000\n",
      "#g=open(\"first_submission.csv\",'a')\n",
      "g=open(\"sixth_submission.csv\",'a')\n",
      "g.write(\"id,click\\n\")\n",
      "\n",
      "Yp=np.zeros((nlim,2),dtype='a20')\n",
      "X=np.zeros((nlim,25),dtype='a20')\n",
      "with open(\"test_woheader.csv\",\"r\") as f:\n",
      "    for line in f:\n",
      "        \n",
      "        X[nlines,:23]=[str(xx) for xx in line.strip().split(',')]\n",
      "        #print X[nlines,:]\n",
      "        X[nlines,23]=str(dt.datetime.strptime(X[nlines,1],'%y%m%d%H').weekday())\n",
      "        X[nlines,24]=X[nlines,1][-2:]\n",
      "        nlines=nlines+1;\n",
      "        if (nlines==nlim):\n",
      "            print 'Processing batch '+str(batch+1)\n",
      "            batch=batch+1\n",
      "\n",
      "            Xd=pd.DataFrame(X[:,2:],columns=colnames)\n",
      "            X_sparse=sparse.csr_matrix(vec.transform(Xd.T.to_dict().values()))                        \n",
      "            ypred=clf.predict_proba(X_sparse)[:,1]\n",
      "            \n",
      "            #Output to file\n",
      "            Yp[:,0]=X[:,0]\n",
      "            Yp[:,1]=[str(xx) for xx in ypred]\n",
      "            np.savetxt(g,Yp,delimiter=',',fmt=\"%s\")\n",
      "            \n",
      "            nlines=0\n",
      "            X=np.zeros((nlim,25),dtype='a20')\n",
      "            del X_sparse\n",
      "            \n",
      "    else:\n",
      "        print \"Processing final batch..\"\n",
      "        \n",
      "        Xd=pd.DataFrame(X[:nlines,2:],columns=colnames)\n",
      "        X_sparse=vec.transform(Xd.T.to_dict().values())                        \n",
      "        ypred=clf.predict_proba(X_sparse)[:,1]\n",
      "\n",
      "        #Output to file\n",
      "        Yp=np.zeros((nlines,2),dtype='a20')\n",
      "        Yp[:,0]=X[:nlines,0]\n",
      "        Yp[:,1]=[str(xx) for xx in ypred]\n",
      "        np.savetxt(g,Yp,delimiter=',',fmt=\"%s\")\n",
      "        \n",
      "        f.close()\n",
      "        del X\n",
      "        del X_sparse\n",
      "\n",
      "print 'Yes, we are done..'\n",
      "g.close()"
     ],
     "language": "python",
     "metadata": {},
     "outputs": [
      {
       "output_type": "stream",
       "stream": "stdout",
       "text": [
        "Processing batch 1\n",
        "Processing batch 2"
       ]
      },
      {
       "output_type": "stream",
       "stream": "stdout",
       "text": [
        "\n",
        "Processing batch 3"
       ]
      },
      {
       "output_type": "stream",
       "stream": "stdout",
       "text": [
        "\n",
        "Processing batch 4"
       ]
      },
      {
       "output_type": "stream",
       "stream": "stdout",
       "text": [
        "\n",
        "Processing batch 5"
       ]
      },
      {
       "output_type": "stream",
       "stream": "stdout",
       "text": [
        "\n",
        "Processing batch 6"
       ]
      },
      {
       "output_type": "stream",
       "stream": "stdout",
       "text": [
        "\n",
        "Processing batch 7"
       ]
      },
      {
       "output_type": "stream",
       "stream": "stdout",
       "text": [
        "\n",
        "Processing batch 8"
       ]
      },
      {
       "output_type": "stream",
       "stream": "stdout",
       "text": [
        "\n",
        "Processing batch 9"
       ]
      },
      {
       "output_type": "stream",
       "stream": "stdout",
       "text": [
        "\n",
        "Processing batch 10"
       ]
      },
      {
       "output_type": "stream",
       "stream": "stdout",
       "text": [
        "\n",
        "Processing batch 11"
       ]
      },
      {
       "output_type": "stream",
       "stream": "stdout",
       "text": [
        "\n",
        "Processing batch 12"
       ]
      },
      {
       "output_type": "stream",
       "stream": "stdout",
       "text": [
        "\n",
        "Processing batch 13"
       ]
      },
      {
       "output_type": "stream",
       "stream": "stdout",
       "text": [
        "\n",
        "Processing batch 14"
       ]
      },
      {
       "output_type": "stream",
       "stream": "stdout",
       "text": [
        "\n",
        "Processing batch 15"
       ]
      },
      {
       "output_type": "stream",
       "stream": "stdout",
       "text": [
        "\n",
        "Processing batch 16"
       ]
      },
      {
       "output_type": "stream",
       "stream": "stdout",
       "text": [
        "\n",
        "Processing batch 17"
       ]
      },
      {
       "output_type": "stream",
       "stream": "stdout",
       "text": [
        "\n",
        "Processing batch 18"
       ]
      },
      {
       "output_type": "stream",
       "stream": "stdout",
       "text": [
        "\n",
        "Processing batch 19"
       ]
      },
      {
       "output_type": "stream",
       "stream": "stdout",
       "text": [
        "\n",
        "Processing batch 20"
       ]
      },
      {
       "output_type": "stream",
       "stream": "stdout",
       "text": [
        "\n",
        "Processing batch 21"
       ]
      },
      {
       "output_type": "stream",
       "stream": "stdout",
       "text": [
        "\n",
        "Processing batch 22"
       ]
      },
      {
       "output_type": "stream",
       "stream": "stdout",
       "text": [
        "\n",
        "Processing batch 23"
       ]
      },
      {
       "output_type": "stream",
       "stream": "stdout",
       "text": [
        "\n",
        "Processing batch 24"
       ]
      },
      {
       "output_type": "stream",
       "stream": "stdout",
       "text": [
        "\n",
        "Processing batch 25"
       ]
      },
      {
       "output_type": "stream",
       "stream": "stdout",
       "text": [
        "\n",
        "Processing batch 26"
       ]
      },
      {
       "output_type": "stream",
       "stream": "stdout",
       "text": [
        "\n",
        "Processing batch 27"
       ]
      },
      {
       "output_type": "stream",
       "stream": "stdout",
       "text": [
        "\n",
        "Processing batch 28"
       ]
      },
      {
       "output_type": "stream",
       "stream": "stdout",
       "text": [
        "\n",
        "Processing batch 29"
       ]
      },
      {
       "output_type": "stream",
       "stream": "stdout",
       "text": [
        "\n",
        "Processing batch 30"
       ]
      },
      {
       "output_type": "stream",
       "stream": "stdout",
       "text": [
        "\n",
        "Processing batch 31"
       ]
      },
      {
       "output_type": "stream",
       "stream": "stdout",
       "text": [
        "\n",
        "Processing batch 32"
       ]
      },
      {
       "output_type": "stream",
       "stream": "stdout",
       "text": [
        "\n",
        "Processing batch 33"
       ]
      },
      {
       "output_type": "stream",
       "stream": "stdout",
       "text": [
        "\n",
        "Processing batch 34"
       ]
      },
      {
       "output_type": "stream",
       "stream": "stdout",
       "text": [
        "\n",
        "Processing batch 35"
       ]
      },
      {
       "output_type": "stream",
       "stream": "stdout",
       "text": [
        "\n",
        "Processing batch 36"
       ]
      },
      {
       "output_type": "stream",
       "stream": "stdout",
       "text": [
        "\n",
        "Processing batch 37"
       ]
      },
      {
       "output_type": "stream",
       "stream": "stdout",
       "text": [
        "\n",
        "Processing batch 38"
       ]
      },
      {
       "output_type": "stream",
       "stream": "stdout",
       "text": [
        "\n",
        "Processing batch 39"
       ]
      },
      {
       "output_type": "stream",
       "stream": "stdout",
       "text": [
        "\n",
        "Processing batch 40"
       ]
      },
      {
       "output_type": "stream",
       "stream": "stdout",
       "text": [
        "\n",
        "Processing batch 41"
       ]
      },
      {
       "output_type": "stream",
       "stream": "stdout",
       "text": [
        "\n",
        "Processing batch 42"
       ]
      },
      {
       "output_type": "stream",
       "stream": "stdout",
       "text": [
        "\n",
        "Processing batch 43"
       ]
      },
      {
       "output_type": "stream",
       "stream": "stdout",
       "text": [
        "\n",
        "Processing batch 44"
       ]
      },
      {
       "output_type": "stream",
       "stream": "stdout",
       "text": [
        "\n",
        "Processing batch 45"
       ]
      },
      {
       "output_type": "stream",
       "stream": "stdout",
       "text": [
        "\n",
        "Processing final batch.."
       ]
      },
      {
       "output_type": "stream",
       "stream": "stdout",
       "text": [
        "\n",
        "Yes, we are done.."
       ]
      },
      {
       "output_type": "stream",
       "stream": "stdout",
       "text": [
        "\n"
       ]
      }
     ],
     "prompt_number": 20
    },
    {
     "cell_type": "code",
     "collapsed": false,
     "input": [],
     "language": "python",
     "metadata": {},
     "outputs": []
    }
   ],
   "metadata": {}
  }
 ]
}