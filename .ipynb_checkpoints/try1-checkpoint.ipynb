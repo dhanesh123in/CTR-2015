{
 "metadata": {
  "name": "",
  "signature": "sha256:50c8120a4b93d2d349fad3c26d62efd249f6f3f70982140ee9421b54b921a031"
 },
 "nbformat": 3,
 "nbformat_minor": 0,
 "worksheets": [
  {
   "cells": [
    {
     "cell_type": "code",
     "collapsed": false,
     "input": [
      "import pandas as pd\n",
      "train_sample = pd.read_csv('train_50k_R.csv')\n",
      "train_sample.shape"
     ],
     "language": "python",
     "metadata": {},
     "outputs": [
      {
       "metadata": {},
       "output_type": "pyout",
       "prompt_number": 1,
       "text": [
        "(50000, 24)"
       ]
      }
     ],
     "prompt_number": 1
    },
    {
     "cell_type": "code",
     "collapsed": false,
     "input": [
      "from collections import Counter\n",
      "\n",
      "Counter([name for name in train_sample.columns])\n"
     ],
     "language": "python",
     "metadata": {},
     "outputs": [
      {
       "metadata": {},
       "output_type": "pyout",
       "prompt_number": 2,
       "text": [
        "Counter({'C21': 1, 'device_ip': 1, 'site_id': 1, 'app_id': 1, 'C19': 1, 'C18': 1, 'device_type': 1, 'id': 1, 'C17': 1, 'click': 1, 'C15': 1, 'C14': 1, 'C16': 1, 'device_conn_type': 1, 'C1': 1, 'app_category': 1, 'site_category': 1, 'app_domain': 1, 'site_domain': 1, 'banner_pos': 1, 'device_id': 1, 'C20': 1, 'hour': 1, 'device_model': 1})"
       ]
      }
     ],
     "prompt_number": 2
    },
    {
     "cell_type": "code",
     "collapsed": false,
     "input": [
      "test = pd.read_csv('test.csv')"
     ],
     "language": "python",
     "metadata": {},
     "outputs": [
      {
       "output_type": "stream",
       "stream": "stderr",
       "text": [
        "/home/tweetytrails/anaconda/lib/python2.7/site-packages/pandas/io/parsers.py:1139: DtypeWarning: Columns (0) have mixed types. Specify dtype option on import or set low_memory=False.\n",
        "  data = self._reader.read(nrows)\n"
       ]
      }
     ],
     "prompt_number": 3
    },
    {
     "cell_type": "code",
     "collapsed": false,
     "input": [],
     "language": "python",
     "metadata": {},
     "outputs": [
      {
       "output_type": "stream",
       "stream": "stdout",
       "text": [
        "['hour', 'C1', 'banner_pos', 'site_id', 'site_domain', 'site_category', 'app_id', 'app_domain', 'app_category', 'device_id', 'device_ip', 'device_model', 'device_type', 'device_conn_type', 'C14', 'C15', 'C16', 'C17', 'C18', 'C19', 'C20', 'C21']\n"
       ]
      }
     ],
     "prompt_number": 7
    },
    {
     "cell_type": "code",
     "collapsed": false,
     "input": [
      "import datetime as dt\n",
      "xx=dt.datetime.strptime(\"14102100\", '%y%m%d%H')\n",
      "print xx\n",
      "print xx.weekday()\n",
      "print xx.hour\n",
      "yy=\"14102100\"\n",
      "print yy[-2:]"
     ],
     "language": "python",
     "metadata": {},
     "outputs": [
      {
       "output_type": "stream",
       "stream": "stdout",
       "text": [
        "2014-10-21 00:00:00\n",
        "1\n",
        "0\n",
        "00\n"
       ]
      }
     ],
     "prompt_number": 4
    },
    {
     "cell_type": "code",
     "collapsed": false,
     "input": [
      "train_sample['day_of_week']=train_sample['hour'].apply(lambda x:dt.datetime.strptime(str(x),'%y%m%d%H').weekday())\n",
      "train_sample['hour_of_day']=train_sample['hour'].apply(lambda x:str(x)[-2:])"
     ],
     "language": "python",
     "metadata": {},
     "outputs": [],
     "prompt_number": 5
    },
    {
     "cell_type": "code",
     "collapsed": false,
     "input": [
      "#print train_sample\n",
      "test['day_of_week']=test['hour'].apply(lambda x:dt.datetime.strptime(str(x),'%y%m%d%H').weekday())\n",
      "test['hour_of_day']=test['hour'].apply(lambda x:str(x)[-2:])"
     ],
     "language": "python",
     "metadata": {},
     "outputs": []
    },
    {
     "cell_type": "code",
     "collapsed": true,
     "input": [
      "#print test"
     ],
     "language": "python",
     "metadata": {},
     "outputs": []
    },
    {
     "cell_type": "code",
     "collapsed": false,
     "input": [
      "from sklearn.feature_extraction import DictVectorizer\n",
      "import numpy as np\n",
      "\n",
      "vec = DictVectorizer()\n",
      "names_categorical =[xx for xx in train_sample.columns if xx not in ['id','click','hour']]\n",
      "print names_categorical\n",
      "\n",
      "for name in names_categorical:\n",
      "        train_sample[name]=map(str,train_sample[name])\n",
      "        test[name]=map(str,test[name])\n",
      "        \n",
      "X_sparse=vec.fit_transform(train_sample[names_categorical].T.to_dict().values())\n",
      "print X_sparse.shape\n",
      "\n"
     ],
     "language": "python",
     "metadata": {},
     "outputs": []
    },
    {
     "cell_type": "code",
     "collapsed": false,
     "input": [
      "X_test_sparse=vec.transform(test[names_categorical].T.to_dict().values())\n",
      "print X_test_sparse.shape"
     ],
     "language": "python",
     "metadata": {},
     "outputs": []
    }
   ],
   "metadata": {}
  }
 ]
}