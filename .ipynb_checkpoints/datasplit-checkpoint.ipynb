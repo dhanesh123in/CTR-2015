{
 "metadata": {
  "name": "",
  "signature": "sha256:ec4effc491b7010602548193e390a03da58428d967687efcc408460636c55506"
 },
 "nbformat": 3,
 "nbformat_minor": 0,
 "worksheets": [
  {
   "cells": [
    {
     "cell_type": "code",
     "collapsed": false,
     "input": [
      "import numpy as np\n",
      "\n",
      "f1=open('train_noh_pre28.csv','w')\n",
      "f2=open('train_noh_post28.csv','w')\n",
      "\n",
      "with open(\"train_noheader_nor.csv\",\"r\") as f:\n",
      "    for line in f:\n",
      "        \n",
      "        X= [str(xx) for xx in line.strip().split(',')]\n",
      "        \n",
      "        if X[:2][0:5]=='141028' or X[:2][0:5]=='141029' or X[:2][0:5]=='141030':\n",
      "            f2.write(line)\n",
      "        else:\n",
      "            f1.write(line)\n",
      "\n",
      "print 'Done writing'\n",
      "f.close()\n",
      "f1.close()\n",
      "f2.close()"
     ],
     "language": "python",
     "metadata": {},
     "outputs": [
      {
       "ename": "SyntaxError",
       "evalue": "invalid syntax (<ipython-input-3-2ba75bc76b1a>, line 16)",
       "output_type": "pyerr",
       "traceback": [
        "\u001b[1;36m  File \u001b[1;32m\"<ipython-input-3-2ba75bc76b1a>\"\u001b[1;36m, line \u001b[1;32m16\u001b[0m\n\u001b[1;33m    echo 'Done writing'\u001b[0m\n\u001b[1;37m                      ^\u001b[0m\n\u001b[1;31mSyntaxError\u001b[0m\u001b[1;31m:\u001b[0m invalid syntax\n"
       ]
      }
     ],
     "prompt_number": 3
    },
    {
     "cell_type": "code",
     "collapsed": false,
     "input": [],
     "language": "python",
     "metadata": {},
     "outputs": []
    }
   ],
   "metadata": {}
  }
 ]
}