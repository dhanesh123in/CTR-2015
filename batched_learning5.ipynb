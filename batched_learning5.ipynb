{
 "metadata": {
  "name": "",
  "signature": "sha256:2f2e182da141e9b45bf88327f2bbf572d02386db0ee1d490d678373bddbd9c26"
 },
 "nbformat": 3,
 "nbformat_minor": 0,
 "worksheets": [
  {
   "cells": [
    {
     "cell_type": "code",
     "collapsed": false,
     "input": [
      "from sklearn.naive_bayes import BernoulliNB as bnb\n",
      "from sklearn.linear_model import PassiveAggressiveClassifier as pac\n",
      "from sklearn.linear_model import SGDClassifier as sgd\n",
      "from sklearn.linear_model import Perceptron as pcp\n",
      "import pandas as pd\n",
      "import numpy as np\n",
      "import datetime as dt\n",
      "from sklearn.metrics import log_loss\n",
      "from sklearn.metrics import accuracy_score\n",
      "\n",
      "from sklearn.feature_extraction import DictVectorizer\n",
      "from scipy.stats import rankdata\n",
      "\n",
      "from sklearn.svm import SVC\n",
      "from sklearn.ensemble import RandomForestClassifier as rfc\n",
      "from sklearn.tree import DecisionTreeClassifier as dtc\n",
      "from sklearn.ensemble import AdaBoostClassifier\n",
      "\n",
      "def discvarsel(Xd,Y,supp=20):\n",
      "    msk=Xd.dtypes=='object'\n",
      "    #print msk\n",
      "    #print len(Xd.loc[:,msk].columns)\n",
      "\n",
      "    for i in range(len(Xd.loc[:,msk].columns)):\n",
      "        colname=Xd.loc[:,msk].columns.values[i]\n",
      "        print colname\n",
      "        xx=pd.DataFrame(pd.crosstab(Xd[colname],Y))\n",
      "        #print xx.columns.values\n",
      "        xx['conv']=xx[1]/(xx[1]+xx[0])\n",
      "        xx['total']=xx[0]+xx[1]\n",
      "        \n",
      "\n",
      "        if i==0:\n",
      "            bconv=np.sum(xx[1]).astype('float64')/(np.sum(xx[0]).astype('float64')+np.sum(xx[1]).astype('float64'))\n",
      "            bwoe=np.log(bconv/(1-bconv))\n",
      "            print bconv\n",
      "\n",
      "        xx['woe']=np.log(xx['conv']/(1-xx['conv']))-bwoe\n",
      "\n",
      "\n",
      "        #print xx\n",
      "        \n",
      "        #Remove infrequent levels\n",
      "        xy=xx.loc[xx['total']>=supp,0].index\n",
      "        \n",
      "        #print xy\n",
      "        print Xd.shape\n",
      "        \n",
      "        rind=Xd[colname].isin(xy)\n",
      "        Xd=Xd.loc[rind,:]\n",
      "        Y=Y[np.where(rind)]\n",
      "        print Xd.shape, Y.shape\n",
      "    \n",
      "    return dict(Xd=Xd,Y=Y)\n",
      "\n",
      "\n",
      "colnames=['C1','banner_pos','site_id','site_domain','site_category','app_id','app_domain','app_category','device_id','device_ip','device_model','device_type','device_conn_type','C14','C15','C16','C17','C18','C19','C20','C21','day','numv1','numv2','numv3','numv4','numv5','numv6','numv7','numv8','numv9','numv10','numv11','numv12','weekday','hr']\n",
      "numvars=['numv1','numv2','numv3','numv4','numv5','numv6','numv7','numv8','numv9','numv10','numv11','numv12']\n",
      "#colnames=['C1','banner_pos','site_id','site_domain','site_category','app_id','app_domain','app_category','device_id','device_type','device_conn_type','C14','C15','C16','C17','C18','C19','C20','C21','weekday','hr']\n",
      "\n",
      "vec = DictVectorizer(sparse=True)\n",
      "#clf = bnb()\n",
      "#clf = pac(random_state=0)\n",
      "#clf = sgd(random_state=0)\n",
      "#clf = sgd(random_state=0,loss='log')\n",
      "#clf = sgd(random_state=0,loss='log',penalty='l1',verbose=1)\n",
      "#clf = sgd(random_state=0,loss='log',warm_start=True,shuffle=True,n_iter=10,learning_rate='invscaling',eta0=1.0,power_t=0.5)\n",
      "clf = sgd(random_state=123,loss='log',shuffle=True,warm_start=True)\n",
      "#clf = pcp(random_state=0)\n",
      "#clf = SVC(random_state=123,probability=True,verbose=True,shrinking=False)\n",
      "#clf = rfc(n_estimators=50, criterion='gini', max_depth=None, min_samples_split=2, min_samples_leaf=50, max_features='auto', max_leaf_nodes=None, bootstrap=True, oob_score=False, n_jobs=-1, random_state=0, verbose=1)\n",
      "#clf = AdaBoostClassifier(base_estimator=dtc(random_state=0,min_samples_leaf=50), n_estimators=5, learning_rate=0.01, algorithm='SAMME.R', random_state=0)\n",
      "feattrs=[dtc(random_state=0,min_samples_leaf=50) for i in range(len(numvars))]\n",
      "\n",
      "#Batched reading and learning\n",
      "batch=0\n",
      "nlines=0\n",
      "nlim=400000\n",
      "blim=10\n",
      "btrain=5\n",
      "X=np.zeros((nlim,39),dtype='a20')\n",
      "\n",
      "\n",
      "with open(\"train_p.csv\",\"r\") as f:\n",
      "    for line in f:\n",
      "        \n",
      "        X[nlines,:37]=[str(xx.strip()) for xx in line.strip().split(',')]\n",
      "        #print X[nlines,:]\n",
      "        X[nlines,37]=str(dt.datetime.strptime(X[nlines,2],'%y%m%d%H').weekday())\n",
      "        X[nlines,38]=X[nlines,2][-2:]\n",
      "        nlines=nlines+1;\n",
      "        \n",
      "        if (nlines==nlim):\n",
      "            print 'Processing batch '+str(batch+1)\n",
      "            batch=batch+1\n",
      "            #break\n",
      "            Xd=pd.DataFrame(X[:,3:],columns=colnames)\n",
      "            Xd.drop('device_id', axis=1, inplace=True)\n",
      "            Xd.drop('device_ip', axis=1, inplace=True)\n",
      "            Xd.drop('device_model', axis=1, inplace=True)\n",
      "            Xd.drop('site_id', axis=1, inplace=True)\n",
      "            Xd.drop('site_domain', axis=1, inplace=True)\n",
      "            Xd.drop('app_id', axis=1, inplace=True)\n",
      "            Xd.drop('app_domain', axis=1, inplace=True)\n",
      "            Xd.drop('day',axis=1,inplace=True)\n",
      "            \n",
      "            #for nv in numvars:\n",
      "            #    Xd[nv]=np.log(Xd[nv].astype('int'))\n",
      "            \n",
      "            #Rank Transformation\n",
      "            #for nv in numvars:\n",
      "            #    Xd[nv]=(rankdata(Xd[nv],method='ordinal')/len(Xd[nv])*10).astype('int').astype('str')\n",
      "\n",
      "            for nv in numvars:\n",
      "                Xd[nv]=Xd[nv].astype('int')\n",
      "            \n",
      "            Y=X[:,1].astype('int')\n",
      "            #All the jazz goes here\n",
      "            if (batch==1):\n",
      "                for i in range(len(numvars)):\n",
      "                    print 'feat engg..'+str(i)\n",
      "                    nv=numvars[i]\n",
      "                    feattrs[i].fit(Xd[[nv]],Y)\n",
      "                    Xd[nv]=feattrs[i].predict_proba(Xd[[nv]])[:,1]\n",
      "                \n",
      "                XY=discvarsel(Xd,Y,supp=20)\n",
      "                Xd=XY['Xd']\n",
      "                Y=XY['Y']\n",
      "                \n",
      "                del XY\n",
      "                \n",
      "                print 'Running Dict Vectorizer fit transform'\n",
      "                X_sparse=vec.fit_transform(Xd.T.to_dict().values())\n",
      "                #clf.fit(X_sparse,Y)\n",
      "            else:\n",
      "                for i in range(len(numvars)):\n",
      "                    print 'transforming..'+str(i)\n",
      "                    nv=numvars[i]\n",
      "                    Xd[nv]=feattrs[i].predict_proba(Xd[[nv]])[:,1]\n",
      "                \n",
      "                print 'Running Dict Vectorizer transform alone'\n",
      "                X_sparse=vec.transform(Xd.T.to_dict().values())\n",
      "            \n",
      "            if batch<=btrain:\n",
      "                print 'incremental training'\n",
      "                clf.partial_fit(X_sparse,Y,classes=[0,1])\n",
      "            else:\n",
      "                print 'only prediction'\n",
      "            \n",
      "            ypred=clf.predict_proba(X_sparse)[:,1]\n",
      "            #lpred=clf.predict(X_sparse)\n",
      "            \n",
      "            #print clf.score(X_sparse,Y), accuracy_score(Y,lpred), log_loss(Y,ypred)\n",
      "            print clf.score(X_sparse,Y), log_loss(Y,ypred)\n",
      "            \n",
      "            nlines=0\n",
      "            X=np.zeros((nlim,39),dtype='a20')\n",
      "            del X_sparse\n",
      "            \n",
      "            if (batch>=blim):\n",
      "                print \"Done.. aren't we?\"\n",
      "                f.close()\n",
      "                del X\n",
      "                break\n",
      "\n",
      "print 'Yes, we are..'"
     ],
     "language": "python",
     "metadata": {},
     "outputs": [
      {
       "output_type": "stream",
       "stream": "stdout",
       "text": [
        "Processing batch 1\n",
        "feat engg..0"
       ]
      },
      {
       "output_type": "stream",
       "stream": "stdout",
       "text": [
        "\n",
        "feat engg..1"
       ]
      },
      {
       "output_type": "stream",
       "stream": "stdout",
       "text": [
        "\n",
        "feat engg..2"
       ]
      },
      {
       "output_type": "stream",
       "stream": "stdout",
       "text": [
        "\n",
        "feat engg..3"
       ]
      },
      {
       "output_type": "stream",
       "stream": "stdout",
       "text": [
        "\n",
        "feat engg..4"
       ]
      },
      {
       "output_type": "stream",
       "stream": "stdout",
       "text": [
        "\n",
        "feat engg..5"
       ]
      },
      {
       "output_type": "stream",
       "stream": "stdout",
       "text": [
        "\n",
        "feat engg..6"
       ]
      },
      {
       "output_type": "stream",
       "stream": "stdout",
       "text": [
        "\n",
        "feat engg..7"
       ]
      },
      {
       "output_type": "stream",
       "stream": "stdout",
       "text": [
        "\n",
        "feat engg..8"
       ]
      },
      {
       "output_type": "stream",
       "stream": "stdout",
       "text": [
        "\n",
        "feat engg..9"
       ]
      },
      {
       "output_type": "stream",
       "stream": "stdout",
       "text": [
        "\n",
        "feat engg..10"
       ]
      },
      {
       "output_type": "stream",
       "stream": "stdout",
       "text": [
        "\n",
        "feat engg..11"
       ]
      },
      {
       "output_type": "stream",
       "stream": "stdout",
       "text": [
        "\n",
        "C1"
       ]
      },
      {
       "output_type": "stream",
       "stream": "stdout",
       "text": [
        "\n",
        "0.15381"
       ]
      },
      {
       "output_type": "stream",
       "stream": "stdout",
       "text": [
        "\n",
        "(400000, 28)\n",
        "(400000, 28)"
       ]
      },
      {
       "output_type": "stream",
       "stream": "stdout",
       "text": [
        " (400000,)\n",
        "banner_pos"
       ]
      },
      {
       "output_type": "stream",
       "stream": "stdout",
       "text": [
        "\n",
        "(400000, 28)"
       ]
      },
      {
       "output_type": "stream",
       "stream": "stdout",
       "text": [
        "\n",
        "(399981, 28)"
       ]
      },
      {
       "output_type": "stream",
       "stream": "stdout",
       "text": [
        " (399981,)\n",
        "site_category"
       ]
      },
      {
       "output_type": "stream",
       "stream": "stdout",
       "text": [
        "\n",
        "(399981, 28)"
       ]
      },
      {
       "output_type": "stream",
       "stream": "stdout",
       "text": [
        "\n",
        "(399945, 28)"
       ]
      },
      {
       "output_type": "stream",
       "stream": "stdout",
       "text": [
        " (399945,)\n",
        "app_category"
       ]
      },
      {
       "output_type": "stream",
       "stream": "stdout",
       "text": [
        "\n",
        "(399945, 28)"
       ]
      },
      {
       "output_type": "stream",
       "stream": "stdout",
       "text": [
        "\n",
        "(399900, 28)"
       ]
      },
      {
       "output_type": "stream",
       "stream": "stdout",
       "text": [
        " (399900,)\n",
        "device_type"
       ]
      },
      {
       "output_type": "stream",
       "stream": "stdout",
       "text": [
        "\n",
        "(399900, 28)"
       ]
      },
      {
       "output_type": "stream",
       "stream": "stdout",
       "text": [
        "\n",
        "(399899, 28)"
       ]
      },
      {
       "output_type": "stream",
       "stream": "stdout",
       "text": [
        " (399899,)\n",
        "device_conn_type"
       ]
      },
      {
       "output_type": "stream",
       "stream": "stdout",
       "text": [
        "\n",
        "(399899, 28)"
       ]
      },
      {
       "output_type": "stream",
       "stream": "stdout",
       "text": [
        "\n",
        "(399899, 28)"
       ]
      },
      {
       "output_type": "stream",
       "stream": "stdout",
       "text": [
        " (399899,)\n",
        "C14"
       ]
      },
      {
       "output_type": "stream",
       "stream": "stdout",
       "text": [
        "\n",
        "(399899, 28)"
       ]
      },
      {
       "output_type": "stream",
       "stream": "stdout",
       "text": [
        "\n",
        "(393478, 28)"
       ]
      },
      {
       "output_type": "stream",
       "stream": "stdout",
       "text": [
        " (393478,)\n",
        "C15"
       ]
      },
      {
       "output_type": "stream",
       "stream": "stdout",
       "text": [
        "\n",
        "(393478, 28)"
       ]
      },
      {
       "output_type": "stream",
       "stream": "stdout",
       "text": [
        "\n",
        "(393478, 28)"
       ]
      },
      {
       "output_type": "stream",
       "stream": "stdout",
       "text": [
        " (393478,)\n",
        "C16"
       ]
      },
      {
       "output_type": "stream",
       "stream": "stdout",
       "text": [
        "\n",
        "(393478, 28)"
       ]
      },
      {
       "output_type": "stream",
       "stream": "stdout",
       "text": [
        "\n",
        "(393478, 28)"
       ]
      },
      {
       "output_type": "stream",
       "stream": "stdout",
       "text": [
        " (393478,)\n",
        "C17"
       ]
      },
      {
       "output_type": "stream",
       "stream": "stdout",
       "text": [
        "\n",
        "(393478, 28)"
       ]
      },
      {
       "output_type": "stream",
       "stream": "stdout",
       "text": [
        "\n",
        "(393478, 28)"
       ]
      },
      {
       "output_type": "stream",
       "stream": "stdout",
       "text": [
        " (393478,)\n",
        "C18"
       ]
      },
      {
       "output_type": "stream",
       "stream": "stdout",
       "text": [
        "\n",
        "(393478, 28)"
       ]
      },
      {
       "output_type": "stream",
       "stream": "stdout",
       "text": [
        "\n",
        "(393478, 28)"
       ]
      },
      {
       "output_type": "stream",
       "stream": "stdout",
       "text": [
        " (393478,)\n",
        "C19"
       ]
      },
      {
       "output_type": "stream",
       "stream": "stdout",
       "text": [
        "\n",
        "(393478, 28)"
       ]
      },
      {
       "output_type": "stream",
       "stream": "stdout",
       "text": [
        "\n",
        "(393460, 28)"
       ]
      },
      {
       "output_type": "stream",
       "stream": "stdout",
       "text": [
        " (393460,)\n",
        "C20"
       ]
      },
      {
       "output_type": "stream",
       "stream": "stdout",
       "text": [
        "\n",
        "(393460, 28)"
       ]
      },
      {
       "output_type": "stream",
       "stream": "stdout",
       "text": [
        "\n",
        "(393316, 28)"
       ]
      },
      {
       "output_type": "stream",
       "stream": "stdout",
       "text": [
        " (393316,)\n",
        "C21"
       ]
      },
      {
       "output_type": "stream",
       "stream": "stdout",
       "text": [
        "\n",
        "(393316, 28)"
       ]
      },
      {
       "output_type": "stream",
       "stream": "stdout",
       "text": [
        "\n",
        "(393316, 28)"
       ]
      },
      {
       "output_type": "stream",
       "stream": "stdout",
       "text": [
        " (393316,)\n",
        "weekday"
       ]
      },
      {
       "output_type": "stream",
       "stream": "stdout",
       "text": [
        "\n",
        "(393316, 28)"
       ]
      },
      {
       "output_type": "stream",
       "stream": "stdout",
       "text": [
        "\n",
        "(393316, 28)"
       ]
      },
      {
       "output_type": "stream",
       "stream": "stdout",
       "text": [
        " (393316,)\n",
        "hr"
       ]
      },
      {
       "output_type": "stream",
       "stream": "stdout",
       "text": [
        "\n",
        "(393316, 28)"
       ]
      },
      {
       "output_type": "stream",
       "stream": "stdout",
       "text": [
        "\n",
        "(393316, 28)"
       ]
      },
      {
       "output_type": "stream",
       "stream": "stdout",
       "text": [
        " (393316,)\n",
        "Running Dict Vectorizer fit transform\n",
        "incremental training"
       ]
      },
      {
       "output_type": "stream",
       "stream": "stdout",
       "text": [
        "\n",
        "0.857440327879"
       ]
      },
      {
       "output_type": "stream",
       "stream": "stdout",
       "text": [
        " 0.347468598471\n",
        "Processing batch 2"
       ]
      },
      {
       "output_type": "stream",
       "stream": "stdout",
       "text": [
        "\n",
        "transforming..0"
       ]
      },
      {
       "output_type": "stream",
       "stream": "stdout",
       "text": [
        "\n",
        "transforming..1"
       ]
      },
      {
       "output_type": "stream",
       "stream": "stdout",
       "text": [
        "\n",
        "transforming..2"
       ]
      },
      {
       "output_type": "stream",
       "stream": "stdout",
       "text": [
        "\n",
        "transforming..3"
       ]
      },
      {
       "output_type": "stream",
       "stream": "stdout",
       "text": [
        "\n",
        "transforming..4"
       ]
      },
      {
       "output_type": "stream",
       "stream": "stdout",
       "text": [
        "\n",
        "transforming..5"
       ]
      },
      {
       "output_type": "stream",
       "stream": "stdout",
       "text": [
        "\n",
        "transforming..6"
       ]
      },
      {
       "output_type": "stream",
       "stream": "stdout",
       "text": [
        "\n",
        "transforming..7\n",
        "transforming..8"
       ]
      },
      {
       "output_type": "stream",
       "stream": "stdout",
       "text": [
        "\n",
        "transforming..9\n",
        "transforming..10"
       ]
      },
      {
       "output_type": "stream",
       "stream": "stdout",
       "text": [
        "\n",
        "transforming..11\n",
        "Running Dict Vectorizer transform alone"
       ]
      },
      {
       "output_type": "stream",
       "stream": "stdout",
       "text": [
        "\n",
        "incremental training"
       ]
      },
      {
       "output_type": "stream",
       "stream": "stdout",
       "text": [
        "\n",
        "0.8300225"
       ]
      },
      {
       "output_type": "stream",
       "stream": "stdout",
       "text": [
        " 0.423069845281\n",
        "Processing batch 3"
       ]
      },
      {
       "output_type": "stream",
       "stream": "stdout",
       "text": [
        "\n",
        "transforming..0"
       ]
      },
      {
       "output_type": "stream",
       "stream": "stdout",
       "text": [
        "\n",
        "transforming..1"
       ]
      },
      {
       "output_type": "stream",
       "stream": "stdout",
       "text": [
        "\n",
        "transforming..2"
       ]
      },
      {
       "output_type": "stream",
       "stream": "stdout",
       "text": [
        "\n",
        "transforming..3"
       ]
      },
      {
       "output_type": "stream",
       "stream": "stdout",
       "text": [
        "\n",
        "transforming..4"
       ]
      },
      {
       "output_type": "stream",
       "stream": "stdout",
       "text": [
        "\n",
        "transforming..5"
       ]
      },
      {
       "output_type": "stream",
       "stream": "stdout",
       "text": [
        "\n",
        "transforming..6"
       ]
      },
      {
       "output_type": "stream",
       "stream": "stdout",
       "text": [
        "\n",
        "transforming..7"
       ]
      },
      {
       "output_type": "stream",
       "stream": "stdout",
       "text": [
        "\n",
        "transforming..8"
       ]
      },
      {
       "output_type": "stream",
       "stream": "stdout",
       "text": [
        "\n",
        "transforming..9"
       ]
      },
      {
       "output_type": "stream",
       "stream": "stdout",
       "text": [
        "\n",
        "transforming..10"
       ]
      },
      {
       "output_type": "stream",
       "stream": "stdout",
       "text": [
        "\n",
        "transforming..11"
       ]
      },
      {
       "output_type": "stream",
       "stream": "stdout",
       "text": [
        "\n",
        "Running Dict Vectorizer transform alone"
       ]
      },
      {
       "output_type": "stream",
       "stream": "stdout",
       "text": [
        "\n",
        "incremental training"
       ]
      },
      {
       "output_type": "stream",
       "stream": "stdout",
       "text": [
        "\n",
        "0.826955"
       ]
      },
      {
       "output_type": "stream",
       "stream": "stdout",
       "text": [
        " 0.431617434224\n",
        "Processing batch 4"
       ]
      },
      {
       "output_type": "stream",
       "stream": "stdout",
       "text": [
        "\n",
        "transforming..0"
       ]
      },
      {
       "output_type": "stream",
       "stream": "stdout",
       "text": [
        "\n",
        "transforming..1"
       ]
      },
      {
       "output_type": "stream",
       "stream": "stdout",
       "text": [
        "\n",
        "transforming..2"
       ]
      },
      {
       "output_type": "stream",
       "stream": "stdout",
       "text": [
        "\n",
        "transforming..3"
       ]
      },
      {
       "output_type": "stream",
       "stream": "stdout",
       "text": [
        "\n",
        "transforming..4"
       ]
      },
      {
       "output_type": "stream",
       "stream": "stdout",
       "text": [
        "\n",
        "transforming..5"
       ]
      },
      {
       "output_type": "stream",
       "stream": "stdout",
       "text": [
        "\n",
        "transforming..6"
       ]
      },
      {
       "output_type": "stream",
       "stream": "stdout",
       "text": [
        "\n",
        "transforming..7"
       ]
      },
      {
       "output_type": "stream",
       "stream": "stdout",
       "text": [
        "\n",
        "transforming..8"
       ]
      },
      {
       "output_type": "stream",
       "stream": "stdout",
       "text": [
        "\n",
        "transforming..9"
       ]
      },
      {
       "output_type": "stream",
       "stream": "stdout",
       "text": [
        "\n",
        "transforming..10"
       ]
      },
      {
       "output_type": "stream",
       "stream": "stdout",
       "text": [
        "\n",
        "transforming..11"
       ]
      },
      {
       "output_type": "stream",
       "stream": "stdout",
       "text": [
        "\n",
        "Running Dict Vectorizer transform alone"
       ]
      },
      {
       "output_type": "stream",
       "stream": "stdout",
       "text": [
        "\n",
        "incremental training"
       ]
      },
      {
       "output_type": "stream",
       "stream": "stdout",
       "text": [
        "\n",
        "0.80291"
       ]
      },
      {
       "output_type": "stream",
       "stream": "stdout",
       "text": [
        " 0.464009371559\n",
        "Processing batch 5"
       ]
      },
      {
       "output_type": "stream",
       "stream": "stdout",
       "text": [
        "\n",
        "transforming..0"
       ]
      },
      {
       "output_type": "stream",
       "stream": "stdout",
       "text": [
        "\n",
        "transforming..1"
       ]
      },
      {
       "output_type": "stream",
       "stream": "stdout",
       "text": [
        "\n",
        "transforming..2"
       ]
      },
      {
       "output_type": "stream",
       "stream": "stdout",
       "text": [
        "\n",
        "transforming..3"
       ]
      },
      {
       "output_type": "stream",
       "stream": "stdout",
       "text": [
        "\n",
        "transforming..4"
       ]
      },
      {
       "output_type": "stream",
       "stream": "stdout",
       "text": [
        "\n",
        "transforming..5"
       ]
      },
      {
       "output_type": "stream",
       "stream": "stdout",
       "text": [
        "\n",
        "transforming..6"
       ]
      },
      {
       "output_type": "stream",
       "stream": "stdout",
       "text": [
        "\n",
        "transforming..7\n",
        "transforming..8"
       ]
      },
      {
       "output_type": "stream",
       "stream": "stdout",
       "text": [
        "\n",
        "transforming..9\n",
        "transforming..10"
       ]
      },
      {
       "output_type": "stream",
       "stream": "stdout",
       "text": [
        "\n",
        "transforming..11\n",
        "Running Dict Vectorizer transform alone"
       ]
      },
      {
       "output_type": "stream",
       "stream": "stdout",
       "text": [
        "\n"
       ]
      },
      {
       "ename": "KeyboardInterrupt",
       "evalue": "",
       "output_type": "pyerr",
       "traceback": [
        "\u001b[1;31m---------------------------------------------------------------------------\u001b[0m\n\u001b[1;31mKeyboardInterrupt\u001b[0m                         Traceback (most recent call last)",
        "\u001b[1;32m<ipython-input-96-71cb2894652f>\u001b[0m in \u001b[0;36m<module>\u001b[1;34m()\u001b[0m\n\u001b[0;32m    140\u001b[0m \u001b[1;33m\u001b[0m\u001b[0m\n\u001b[0;32m    141\u001b[0m                 \u001b[1;32mprint\u001b[0m \u001b[1;34m'Running Dict Vectorizer transform alone'\u001b[0m\u001b[1;33m\u001b[0m\u001b[0m\n\u001b[1;32m--> 142\u001b[1;33m                 \u001b[0mX_sparse\u001b[0m\u001b[1;33m=\u001b[0m\u001b[0mvec\u001b[0m\u001b[1;33m.\u001b[0m\u001b[0mtransform\u001b[0m\u001b[1;33m(\u001b[0m\u001b[0mXd\u001b[0m\u001b[1;33m.\u001b[0m\u001b[0mT\u001b[0m\u001b[1;33m.\u001b[0m\u001b[0mto_dict\u001b[0m\u001b[1;33m(\u001b[0m\u001b[1;33m)\u001b[0m\u001b[1;33m.\u001b[0m\u001b[0mvalues\u001b[0m\u001b[1;33m(\u001b[0m\u001b[1;33m)\u001b[0m\u001b[1;33m)\u001b[0m\u001b[1;33m\u001b[0m\u001b[0m\n\u001b[0m\u001b[0;32m    143\u001b[0m \u001b[1;33m\u001b[0m\u001b[0m\n\u001b[0;32m    144\u001b[0m             \u001b[1;32mif\u001b[0m \u001b[0mbatch\u001b[0m\u001b[1;33m<=\u001b[0m\u001b[0mbtrain\u001b[0m\u001b[1;33m:\u001b[0m\u001b[1;33m\u001b[0m\u001b[0m\n",
        "\u001b[1;32m/home/tweetytrails/anaconda/lib/python2.7/site-packages/pandas/core/frame.pyc\u001b[0m in \u001b[0;36mto_dict\u001b[1;34m(self, outtype)\u001b[0m\n\u001b[0;32m    659\u001b[0m                           \"columns will be omitted.\", UserWarning)\n\u001b[0;32m    660\u001b[0m         \u001b[1;32mif\u001b[0m \u001b[0mouttype\u001b[0m\u001b[1;33m.\u001b[0m\u001b[0mlower\u001b[0m\u001b[1;33m(\u001b[0m\u001b[1;33m)\u001b[0m\u001b[1;33m.\u001b[0m\u001b[0mstartswith\u001b[0m\u001b[1;33m(\u001b[0m\u001b[1;34m'd'\u001b[0m\u001b[1;33m)\u001b[0m\u001b[1;33m:\u001b[0m\u001b[1;33m\u001b[0m\u001b[0m\n\u001b[1;32m--> 661\u001b[1;33m             \u001b[1;32mreturn\u001b[0m \u001b[0mdict\u001b[0m\u001b[1;33m(\u001b[0m\u001b[1;33m(\u001b[0m\u001b[0mk\u001b[0m\u001b[1;33m,\u001b[0m \u001b[0mv\u001b[0m\u001b[1;33m.\u001b[0m\u001b[0mto_dict\u001b[0m\u001b[1;33m(\u001b[0m\u001b[1;33m)\u001b[0m\u001b[1;33m)\u001b[0m \u001b[1;32mfor\u001b[0m \u001b[0mk\u001b[0m\u001b[1;33m,\u001b[0m \u001b[0mv\u001b[0m \u001b[1;32min\u001b[0m \u001b[0mcompat\u001b[0m\u001b[1;33m.\u001b[0m\u001b[0miteritems\u001b[0m\u001b[1;33m(\u001b[0m\u001b[0mself\u001b[0m\u001b[1;33m)\u001b[0m\u001b[1;33m)\u001b[0m\u001b[1;33m\u001b[0m\u001b[0m\n\u001b[0m\u001b[0;32m    662\u001b[0m         \u001b[1;32melif\u001b[0m \u001b[0mouttype\u001b[0m\u001b[1;33m.\u001b[0m\u001b[0mlower\u001b[0m\u001b[1;33m(\u001b[0m\u001b[1;33m)\u001b[0m\u001b[1;33m.\u001b[0m\u001b[0mstartswith\u001b[0m\u001b[1;33m(\u001b[0m\u001b[1;34m'l'\u001b[0m\u001b[1;33m)\u001b[0m\u001b[1;33m:\u001b[0m\u001b[1;33m\u001b[0m\u001b[0m\n\u001b[0;32m    663\u001b[0m             \u001b[1;32mreturn\u001b[0m \u001b[0mdict\u001b[0m\u001b[1;33m(\u001b[0m\u001b[1;33m(\u001b[0m\u001b[0mk\u001b[0m\u001b[1;33m,\u001b[0m \u001b[0mv\u001b[0m\u001b[1;33m.\u001b[0m\u001b[0mtolist\u001b[0m\u001b[1;33m(\u001b[0m\u001b[1;33m)\u001b[0m\u001b[1;33m)\u001b[0m \u001b[1;32mfor\u001b[0m \u001b[0mk\u001b[0m\u001b[1;33m,\u001b[0m \u001b[0mv\u001b[0m \u001b[1;32min\u001b[0m \u001b[0mcompat\u001b[0m\u001b[1;33m.\u001b[0m\u001b[0miteritems\u001b[0m\u001b[1;33m(\u001b[0m\u001b[0mself\u001b[0m\u001b[1;33m)\u001b[0m\u001b[1;33m)\u001b[0m\u001b[1;33m\u001b[0m\u001b[0m\n",
        "\u001b[1;32m/home/tweetytrails/anaconda/lib/python2.7/site-packages/pandas/core/frame.pyc\u001b[0m in \u001b[0;36m<genexpr>\u001b[1;34m((k, v))\u001b[0m\n\u001b[0;32m    659\u001b[0m                           \"columns will be omitted.\", UserWarning)\n\u001b[0;32m    660\u001b[0m         \u001b[1;32mif\u001b[0m \u001b[0mouttype\u001b[0m\u001b[1;33m.\u001b[0m\u001b[0mlower\u001b[0m\u001b[1;33m(\u001b[0m\u001b[1;33m)\u001b[0m\u001b[1;33m.\u001b[0m\u001b[0mstartswith\u001b[0m\u001b[1;33m(\u001b[0m\u001b[1;34m'd'\u001b[0m\u001b[1;33m)\u001b[0m\u001b[1;33m:\u001b[0m\u001b[1;33m\u001b[0m\u001b[0m\n\u001b[1;32m--> 661\u001b[1;33m             \u001b[1;32mreturn\u001b[0m \u001b[0mdict\u001b[0m\u001b[1;33m(\u001b[0m\u001b[1;33m(\u001b[0m\u001b[0mk\u001b[0m\u001b[1;33m,\u001b[0m \u001b[0mv\u001b[0m\u001b[1;33m.\u001b[0m\u001b[0mto_dict\u001b[0m\u001b[1;33m(\u001b[0m\u001b[1;33m)\u001b[0m\u001b[1;33m)\u001b[0m \u001b[1;32mfor\u001b[0m \u001b[0mk\u001b[0m\u001b[1;33m,\u001b[0m \u001b[0mv\u001b[0m \u001b[1;32min\u001b[0m \u001b[0mcompat\u001b[0m\u001b[1;33m.\u001b[0m\u001b[0miteritems\u001b[0m\u001b[1;33m(\u001b[0m\u001b[0mself\u001b[0m\u001b[1;33m)\u001b[0m\u001b[1;33m)\u001b[0m\u001b[1;33m\u001b[0m\u001b[0m\n\u001b[0m\u001b[0;32m    662\u001b[0m         \u001b[1;32melif\u001b[0m \u001b[0mouttype\u001b[0m\u001b[1;33m.\u001b[0m\u001b[0mlower\u001b[0m\u001b[1;33m(\u001b[0m\u001b[1;33m)\u001b[0m\u001b[1;33m.\u001b[0m\u001b[0mstartswith\u001b[0m\u001b[1;33m(\u001b[0m\u001b[1;34m'l'\u001b[0m\u001b[1;33m)\u001b[0m\u001b[1;33m:\u001b[0m\u001b[1;33m\u001b[0m\u001b[0m\n\u001b[0;32m    663\u001b[0m             \u001b[1;32mreturn\u001b[0m \u001b[0mdict\u001b[0m\u001b[1;33m(\u001b[0m\u001b[1;33m(\u001b[0m\u001b[0mk\u001b[0m\u001b[1;33m,\u001b[0m \u001b[0mv\u001b[0m\u001b[1;33m.\u001b[0m\u001b[0mtolist\u001b[0m\u001b[1;33m(\u001b[0m\u001b[1;33m)\u001b[0m\u001b[1;33m)\u001b[0m \u001b[1;32mfor\u001b[0m \u001b[0mk\u001b[0m\u001b[1;33m,\u001b[0m \u001b[0mv\u001b[0m \u001b[1;32min\u001b[0m \u001b[0mcompat\u001b[0m\u001b[1;33m.\u001b[0m\u001b[0miteritems\u001b[0m\u001b[1;33m(\u001b[0m\u001b[0mself\u001b[0m\u001b[1;33m)\u001b[0m\u001b[1;33m)\u001b[0m\u001b[1;33m\u001b[0m\u001b[0m\n",
        "\u001b[1;32m/home/tweetytrails/anaconda/lib/python2.7/site-packages/pandas/core/frame.pyc\u001b[0m in \u001b[0;36miteritems\u001b[1;34m(self)\u001b[0m\n\u001b[0;32m    505\u001b[0m         \u001b[1;32mif\u001b[0m \u001b[0mself\u001b[0m\u001b[1;33m.\u001b[0m\u001b[0mcolumns\u001b[0m\u001b[1;33m.\u001b[0m\u001b[0mis_unique\u001b[0m \u001b[1;32mand\u001b[0m \u001b[0mhasattr\u001b[0m\u001b[1;33m(\u001b[0m\u001b[0mself\u001b[0m\u001b[1;33m,\u001b[0m \u001b[1;34m'_item_cache'\u001b[0m\u001b[1;33m)\u001b[0m\u001b[1;33m:\u001b[0m\u001b[1;33m\u001b[0m\u001b[0m\n\u001b[0;32m    506\u001b[0m             \u001b[1;32mfor\u001b[0m \u001b[0mk\u001b[0m \u001b[1;32min\u001b[0m \u001b[0mself\u001b[0m\u001b[1;33m.\u001b[0m\u001b[0mcolumns\u001b[0m\u001b[1;33m:\u001b[0m\u001b[1;33m\u001b[0m\u001b[0m\n\u001b[1;32m--> 507\u001b[1;33m                 \u001b[1;32myield\u001b[0m \u001b[0mk\u001b[0m\u001b[1;33m,\u001b[0m \u001b[0mself\u001b[0m\u001b[1;33m.\u001b[0m\u001b[0m_get_item_cache\u001b[0m\u001b[1;33m(\u001b[0m\u001b[0mk\u001b[0m\u001b[1;33m)\u001b[0m\u001b[1;33m\u001b[0m\u001b[0m\n\u001b[0m\u001b[0;32m    508\u001b[0m         \u001b[1;32melse\u001b[0m\u001b[1;33m:\u001b[0m\u001b[1;33m\u001b[0m\u001b[0m\n\u001b[0;32m    509\u001b[0m             \u001b[1;32mfor\u001b[0m \u001b[0mi\u001b[0m\u001b[1;33m,\u001b[0m \u001b[0mk\u001b[0m \u001b[1;32min\u001b[0m \u001b[0menumerate\u001b[0m\u001b[1;33m(\u001b[0m\u001b[0mself\u001b[0m\u001b[1;33m.\u001b[0m\u001b[0mcolumns\u001b[0m\u001b[1;33m)\u001b[0m\u001b[1;33m:\u001b[0m\u001b[1;33m\u001b[0m\u001b[0m\n",
        "\u001b[1;32m/home/tweetytrails/anaconda/lib/python2.7/site-packages/pandas/core/generic.pyc\u001b[0m in \u001b[0;36m_get_item_cache\u001b[1;34m(self, item)\u001b[0m\n\u001b[0;32m   1051\u001b[0m         \u001b[1;32mif\u001b[0m \u001b[0mres\u001b[0m \u001b[1;32mis\u001b[0m \u001b[0mNone\u001b[0m\u001b[1;33m:\u001b[0m\u001b[1;33m\u001b[0m\u001b[0m\n\u001b[0;32m   1052\u001b[0m             \u001b[0mvalues\u001b[0m \u001b[1;33m=\u001b[0m \u001b[0mself\u001b[0m\u001b[1;33m.\u001b[0m\u001b[0m_data\u001b[0m\u001b[1;33m.\u001b[0m\u001b[0mget\u001b[0m\u001b[1;33m(\u001b[0m\u001b[0mitem\u001b[0m\u001b[1;33m)\u001b[0m\u001b[1;33m\u001b[0m\u001b[0m\n\u001b[1;32m-> 1053\u001b[1;33m             \u001b[0mres\u001b[0m \u001b[1;33m=\u001b[0m \u001b[0mself\u001b[0m\u001b[1;33m.\u001b[0m\u001b[0m_box_item_values\u001b[0m\u001b[1;33m(\u001b[0m\u001b[0mitem\u001b[0m\u001b[1;33m,\u001b[0m \u001b[0mvalues\u001b[0m\u001b[1;33m)\u001b[0m\u001b[1;33m\u001b[0m\u001b[0m\n\u001b[0m\u001b[0;32m   1054\u001b[0m             \u001b[0mcache\u001b[0m\u001b[1;33m[\u001b[0m\u001b[0mitem\u001b[0m\u001b[1;33m]\u001b[0m \u001b[1;33m=\u001b[0m \u001b[0mres\u001b[0m\u001b[1;33m\u001b[0m\u001b[0m\n\u001b[0;32m   1055\u001b[0m             \u001b[0mres\u001b[0m\u001b[1;33m.\u001b[0m\u001b[0m_set_as_cached\u001b[0m\u001b[1;33m(\u001b[0m\u001b[0mitem\u001b[0m\u001b[1;33m,\u001b[0m \u001b[0mself\u001b[0m\u001b[1;33m)\u001b[0m\u001b[1;33m\u001b[0m\u001b[0m\n",
        "\u001b[1;32m/home/tweetytrails/anaconda/lib/python2.7/site-packages/pandas/core/frame.pyc\u001b[0m in \u001b[0;36m_box_item_values\u001b[1;34m(self, key, values)\u001b[0m\n\u001b[0;32m   1985\u001b[0m             \u001b[1;32mreturn\u001b[0m \u001b[0mself\u001b[0m\u001b[1;33m.\u001b[0m\u001b[0m_constructor\u001b[0m\u001b[1;33m(\u001b[0m\u001b[0mvalues\u001b[0m\u001b[1;33m.\u001b[0m\u001b[0mT\u001b[0m\u001b[1;33m,\u001b[0m \u001b[0mcolumns\u001b[0m\u001b[1;33m=\u001b[0m\u001b[0mitems\u001b[0m\u001b[1;33m,\u001b[0m \u001b[0mindex\u001b[0m\u001b[1;33m=\u001b[0m\u001b[0mself\u001b[0m\u001b[1;33m.\u001b[0m\u001b[0mindex\u001b[0m\u001b[1;33m)\u001b[0m\u001b[1;33m\u001b[0m\u001b[0m\n\u001b[0;32m   1986\u001b[0m         \u001b[1;32melse\u001b[0m\u001b[1;33m:\u001b[0m\u001b[1;33m\u001b[0m\u001b[0m\n\u001b[1;32m-> 1987\u001b[1;33m             \u001b[1;32mreturn\u001b[0m \u001b[0mself\u001b[0m\u001b[1;33m.\u001b[0m\u001b[0m_box_col_values\u001b[0m\u001b[1;33m(\u001b[0m\u001b[0mvalues\u001b[0m\u001b[1;33m,\u001b[0m \u001b[0mitems\u001b[0m\u001b[1;33m)\u001b[0m\u001b[1;33m\u001b[0m\u001b[0m\n\u001b[0m\u001b[0;32m   1988\u001b[0m \u001b[1;33m\u001b[0m\u001b[0m\n\u001b[0;32m   1989\u001b[0m     \u001b[1;32mdef\u001b[0m \u001b[0m_box_col_values\u001b[0m\u001b[1;33m(\u001b[0m\u001b[0mself\u001b[0m\u001b[1;33m,\u001b[0m \u001b[0mvalues\u001b[0m\u001b[1;33m,\u001b[0m \u001b[0mitems\u001b[0m\u001b[1;33m)\u001b[0m\u001b[1;33m:\u001b[0m\u001b[1;33m\u001b[0m\u001b[0m\n",
        "\u001b[1;32m/home/tweetytrails/anaconda/lib/python2.7/site-packages/pandas/core/frame.pyc\u001b[0m in \u001b[0;36m_box_col_values\u001b[1;34m(self, values, items)\u001b[0m\n\u001b[0;32m   1990\u001b[0m         \u001b[1;34m\"\"\" provide boxed values for a column \"\"\"\u001b[0m\u001b[1;33m\u001b[0m\u001b[0m\n\u001b[0;32m   1991\u001b[0m         return self._constructor_sliced.from_array(values, index=self.index,\n\u001b[1;32m-> 1992\u001b[1;33m                                                    name=items, fastpath=True)\n\u001b[0m\u001b[0;32m   1993\u001b[0m \u001b[1;33m\u001b[0m\u001b[0m\n\u001b[0;32m   1994\u001b[0m     \u001b[1;32mdef\u001b[0m \u001b[0m__setitem__\u001b[0m\u001b[1;33m(\u001b[0m\u001b[0mself\u001b[0m\u001b[1;33m,\u001b[0m \u001b[0mkey\u001b[0m\u001b[1;33m,\u001b[0m \u001b[0mvalue\u001b[0m\u001b[1;33m)\u001b[0m\u001b[1;33m:\u001b[0m\u001b[1;33m\u001b[0m\u001b[0m\n",
        "\u001b[1;32m/home/tweetytrails/anaconda/lib/python2.7/site-packages/pandas/core/series.pyc\u001b[0m in \u001b[0;36mfrom_array\u001b[1;34m(cls, arr, index, name, copy, fastpath)\u001b[0m\n\u001b[0;32m    240\u001b[0m                    fastpath=False):\n\u001b[0;32m    241\u001b[0m         \u001b[1;31m# return a sparse series here\u001b[0m\u001b[1;33m\u001b[0m\u001b[1;33m\u001b[0m\u001b[0m\n\u001b[1;32m--> 242\u001b[1;33m         \u001b[1;32mif\u001b[0m \u001b[0misinstance\u001b[0m\u001b[1;33m(\u001b[0m\u001b[0marr\u001b[0m\u001b[1;33m,\u001b[0m \u001b[0mABCSparseArray\u001b[0m\u001b[1;33m)\u001b[0m\u001b[1;33m:\u001b[0m\u001b[1;33m\u001b[0m\u001b[0m\n\u001b[0m\u001b[0;32m    243\u001b[0m             \u001b[1;32mfrom\u001b[0m \u001b[0mpandas\u001b[0m\u001b[1;33m.\u001b[0m\u001b[0msparse\u001b[0m\u001b[1;33m.\u001b[0m\u001b[0mseries\u001b[0m \u001b[1;32mimport\u001b[0m \u001b[0mSparseSeries\u001b[0m\u001b[1;33m\u001b[0m\u001b[0m\n\u001b[0;32m    244\u001b[0m             \u001b[0mcls\u001b[0m \u001b[1;33m=\u001b[0m \u001b[0mSparseSeries\u001b[0m\u001b[1;33m\u001b[0m\u001b[0m\n",
        "\u001b[1;32m/home/tweetytrails/anaconda/lib/python2.7/site-packages/pandas/core/common.pyc\u001b[0m in \u001b[0;36m_check\u001b[1;34m(cls, inst)\u001b[0m\n\u001b[0;32m     56\u001b[0m \u001b[1;31m# objects\u001b[0m\u001b[1;33m\u001b[0m\u001b[1;33m\u001b[0m\u001b[0m\n\u001b[0;32m     57\u001b[0m \u001b[1;32mdef\u001b[0m \u001b[0mcreate_pandas_abc_type\u001b[0m\u001b[1;33m(\u001b[0m\u001b[0mname\u001b[0m\u001b[1;33m,\u001b[0m \u001b[0mattr\u001b[0m\u001b[1;33m,\u001b[0m \u001b[0mcomp\u001b[0m\u001b[1;33m)\u001b[0m\u001b[1;33m:\u001b[0m\u001b[1;33m\u001b[0m\u001b[0m\n\u001b[1;32m---> 58\u001b[1;33m     \u001b[1;33m@\u001b[0m\u001b[0mclassmethod\u001b[0m\u001b[1;33m\u001b[0m\u001b[0m\n\u001b[0m\u001b[0;32m     59\u001b[0m     \u001b[1;32mdef\u001b[0m \u001b[0m_check\u001b[0m\u001b[1;33m(\u001b[0m\u001b[0mcls\u001b[0m\u001b[1;33m,\u001b[0m \u001b[0minst\u001b[0m\u001b[1;33m)\u001b[0m\u001b[1;33m:\u001b[0m\u001b[1;33m\u001b[0m\u001b[0m\n\u001b[0;32m     60\u001b[0m         \u001b[1;32mreturn\u001b[0m \u001b[0mgetattr\u001b[0m\u001b[1;33m(\u001b[0m\u001b[0minst\u001b[0m\u001b[1;33m,\u001b[0m \u001b[0mattr\u001b[0m\u001b[1;33m,\u001b[0m \u001b[0mNone\u001b[0m\u001b[1;33m)\u001b[0m \u001b[1;32min\u001b[0m \u001b[0mcomp\u001b[0m\u001b[1;33m\u001b[0m\u001b[0m\n",
        "\u001b[1;31mKeyboardInterrupt\u001b[0m: "
       ]
      }
     ],
     "prompt_number": 96
    },
    {
     "cell_type": "code",
     "collapsed": false,
     "input": [],
     "language": "python",
     "metadata": {},
     "outputs": [
      {
       "output_type": "stream",
       "stream": "stdout",
       "text": [
        "DictVectorizer(dtype=<type 'numpy.float64'>, separator='=', sparse=False)\n"
       ]
      }
     ],
     "prompt_number": 97
    },
    {
     "cell_type": "code",
     "collapsed": false,
     "input": [
      "#def elemneq(a,b):\n",
      "#    return (a<>b)\n",
      "\n",
      "#velemneq=np.vectorize(elemneq)\n",
      "#velemneq.excluded.add(1)\n",
      "\n",
      "#print Xd.dtypes\n",
      "def discvarsel(Xd,Y,supp=20):\n",
      "    msk=Xd.dtypes=='object'\n",
      "    print msk\n",
      "    print len(Xd.loc[:,msk].columns)\n",
      "\n",
      "    for i in range(len(Xd.loc[:,msk].columns)):\n",
      "        colname=Xd.loc[:,msk].columns.values[i]\n",
      "        print colname\n",
      "        xx=pd.DataFrame(pd.crosstab(Xd[colname],Y))\n",
      "        #print xx.columns.values\n",
      "        xx['conv']=xx[1]/(xx[1]+xx[0])\n",
      "        xx['total']=xx[0]+xx[1]\n",
      "        \n",
      "\n",
      "        if i==0:\n",
      "            bconv=np.sum(xx[1]).astype('float64')/(np.sum(xx[0]).astype('float64')+np.sum(xx[1]).astype('float64'))\n",
      "            bwoe=np.log(bconv/(1-bconv))\n",
      "            print bconv\n",
      "\n",
      "        xx['woe']=np.log(xx['conv']/(1-xx['conv']))-bwoe\n",
      "\n",
      "\n",
      "        print xx\n",
      "        \n",
      "        #Remove infrequent levels\n",
      "        xy=xx.loc[xx['total']>=supp,0].index\n",
      "        \n",
      "        print xy\n",
      "        print Xd.shape\n",
      "        #print velemneq(Xd[colname],xy)\n",
      "        rind=Xd[colname].isin(xy)\n",
      "        Xd=Xd.loc[rind,:]\n",
      "        Y=Y[np.where(rind)]\n",
      "        print Xd.shape, Y.shape\n",
      "    \n",
      "    return dict(Xd=Xd,Y=Y)\n",
      "        \n",
      "XY=discvarsel(Xd,Y,supp=20)\n",
      "Xd=XY['Xd']\n",
      "Y=XY['Y']\n",
      "\n",
      "print Xd.shape, Y.shape\n",
      "#print Xd\n",
      "#Xd[nv]=feattrs[i].predict_proba(Xd[[nv]])[:,1]\n",
      "#XX=np.zeros((nlim,1))\n",
      "#XX[:,0]=Xd[nv]\n",
      "#feattrs[i].fit(Xd[[nv]],Y)\n",
      "#print feattrs[i].score(XX,Y)"
     ],
     "language": "python",
     "metadata": {},
     "outputs": [
      {
       "output_type": "stream",
       "stream": "stdout",
       "text": [
        "C1                   True\n",
        "banner_pos           True\n",
        "site_category        True\n",
        "app_category         True\n",
        "device_type          True\n",
        "device_conn_type     True\n",
        "C14                  True\n",
        "C15                  True\n",
        "C16                  True\n",
        "C17                  True\n",
        "C18                  True\n",
        "C19                  True\n",
        "C20                  True\n",
        "C21                  True\n",
        "numv1               False\n",
        "numv2               False\n",
        "numv3               False\n",
        "numv4               False\n",
        "numv5               False\n",
        "numv6               False\n",
        "numv7               False\n",
        "numv8               False\n",
        "numv9               False\n",
        "numv10              False\n",
        "numv11              False\n",
        "numv12              False\n",
        "weekday              True\n",
        "hr                   True\n",
        "dtype: bool\n",
        "16"
       ]
      },
      {
       "output_type": "stream",
       "stream": "stdout",
       "text": [
        "\n",
        "C1"
       ]
      },
      {
       "output_type": "stream",
       "stream": "stdout",
       "text": [
        "\n",
        "0.18462\n",
        "col_0      0      1      conv  total       woe\n",
        "C1                                            \n",
        "1001      10      1  0.090909     11 -0.817230\n",
        "1002    3201    876  0.214864   4077  0.189502\n",
        "1005   76389  17417  0.185670  93806  0.006963\n",
        "1007      57      1  0.017241     58 -2.557697\n",
        "1008      10      0  0.000000     10      -inf\n",
        "1010    1750    160  0.083770   1910 -0.906843\n",
        "1012     121      7  0.054688    128 -1.364526\n",
        "Index([u'1002', u'1005', u'1007', u'1010', u'1012'], dtype='object')\n",
        "(100000, 28)\n",
        "(99979, 28)"
       ]
      },
      {
       "output_type": "stream",
       "stream": "stdout",
       "text": [
        " (99979,)\n",
        "banner_pos"
       ]
      },
      {
       "output_type": "stream",
       "stream": "stdout",
       "text": [
        "\n",
        "col_0           0      1      conv  total       woe\n",
        "banner_pos                                         \n",
        "0           64614  14209  0.180265  78823 -0.029201\n",
        "1           16809   4214  0.200447  21023  0.101852\n",
        "2              33      5  0.131579     38 -0.401715\n",
        "3               6      0  0.000000      6      -inf\n",
        "4               9      4  0.307692     13  0.674424\n",
        "7              47     29  0.381579     76  1.002503\n",
        "Index([u'0', u'1', u'2', u'7'], dtype='object')\n",
        "(99979, 28)\n",
        "(99960, 28)"
       ]
      },
      {
       "output_type": "stream",
       "stream": "stdout",
       "text": [
        " (99960,)\n",
        "site_category"
       ]
      },
      {
       "output_type": "stream",
       "stream": "stdout",
       "text": [
        "\n",
        "col_0              0     1      conv  total       woe\n",
        "site_category                                        \n",
        "0569f928          25     2  0.074074     27 -1.040374\n",
        "28905ebd       29901  7641  0.203532  37542  0.120991\n",
        "335d28a8         226    30  0.117188    256 -0.533983\n",
        "3e814130        4492  1943  0.301943   6435  0.647290\n",
        "42a36e14           3     0  0.000000      3      -inf\n",
        "50e219e0       25547  3889  0.132117  29436 -0.397013\n",
        "5378d028           3     0  0.000000      3      -inf\n",
        "70fb0e29          25     2  0.074074     27 -1.040374\n",
        "72722551          37     2  0.051282     39 -1.432416\n",
        "75fa27f6         510    67  0.116118    577 -0.544364\n",
        "76b2941d         302    10  0.032051    312 -1.922487\n",
        "8fd0aea4          11     0  0.000000     11      -inf\n",
        "a818d37a           7     0  0.000000      7      -inf\n",
        "c0dd3be3          58     4  0.064516     62 -1.188794\n",
        "dedf689d           5     3  0.375000      8  0.974529\n",
        "f028772b       19677  4821  0.196792  24498  0.078886\n",
        "f66779e6         674    43  0.059972    717 -1.266675\n",
        "Index([u'0569f928', u'28905ebd', u'335d28a8', u'3e814130', u'50e219e0', u'70fb0e29', u'72722551', u'75fa27f6', u'76b2941d', u'c0dd3be3', u'f028772b', u'f66779e6'], dtype='object')\n",
        "(99960, 28)\n",
        "(99928, 28)"
       ]
      },
      {
       "output_type": "stream",
       "stream": "stdout",
       "text": [
        " (99928,)\n",
        "app_category"
       ]
      },
      {
       "output_type": "stream",
       "stream": "stdout",
       "text": [
        "\n",
        "col_0             0      1      conv  total       woe\n",
        "app_category                                         \n",
        "07d7df22      59217  15447  0.206887  74664  0.141561\n",
        "09481d60         60     15  0.200000     75  0.099060\n",
        "0f2161f8      15312   1922  0.111524  17234 -0.589916\n",
        "0f9a328c          6      3  0.333333      9  0.792207\n",
        "4681bb9d          0      1  1.000000      1       inf\n",
        "4ce2e9fc         12      1  0.076923     13 -0.999552\n",
        "75d80bbe         71      7  0.089744     78 -0.831415\n",
        "879c24eb          3      0  0.000000      3      -inf\n",
        "8ded1f7a       2810    401  0.124883   3211 -0.461624\n",
        "8df2e842          5      0  0.000000      5      -inf\n",
        "a3c42688         37      1  0.026316     38 -2.125563\n",
        "cef3e649       2460    224  0.083458   2684 -0.910916\n",
        "d1327cf5        173     23  0.117347    196 -0.532443\n",
        "dc97ec06        198     61  0.235521    259  0.307961\n",
        "f95efa07       1085    346  0.241789   1431  0.342458\n",
        "fc6fa53d         25      2  0.074074     27 -1.040374\n",
        "Index([u'07d7df22', u'09481d60', u'0f2161f8', u'75d80bbe', u'8ded1f7a', u'a3c42688', u'cef3e649', u'd1327cf5', u'dc97ec06', u'f95efa07', u'fc6fa53d'], dtype='object')\n",
        "(99928, 28)\n",
        "(99897, 28)"
       ]
      },
      {
       "output_type": "stream",
       "stream": "stdout",
       "text": [
        " (99897,)\n",
        "device_type"
       ]
      },
      {
       "output_type": "stream",
       "stream": "stdout",
       "text": [
        "\n",
        "col_0            0      1      conv  total       woe\n",
        "device_type                                         \n",
        "0             3201    876  0.214864   4077  0.189502\n",
        "1            76504  17415  0.185426  93919  0.005343\n",
        "4             1461    118  0.074731   1579 -1.030837\n",
        "5              282     40  0.124224    322 -0.467673"
       ]
      },
      {
       "output_type": "stream",
       "stream": "stdout",
       "text": [
        "\n",
        "Index([u'0', u'1', u'4', u'5'], dtype='object')\n",
        "(99897, 28)\n",
        "(99897, 28)"
       ]
      },
      {
       "output_type": "stream",
       "stream": "stdout",
       "text": [
        " (99897,)\n",
        "device_conn_type"
       ]
      },
      {
       "output_type": "stream",
       "stream": "stdout",
       "text": [
        "\n",
        "col_0                 0      1      conv  total       woe\n",
        "device_conn_type                                         \n",
        "0                 69376  16713  0.194136  86089  0.062000\n",
        "2                  6519   1455  0.182468   7974 -0.014360\n",
        "3                  5437    280  0.048977   5717 -1.480839\n",
        "5                   116      1  0.008547    117 -3.268236\n",
        "Index([u'0', u'2', u'3', u'5'], dtype='object')\n",
        "(99897, 28)\n",
        "(99897, 28)"
       ]
      },
      {
       "output_type": "stream",
       "stream": "stdout",
       "text": [
        " (99897,)\n",
        "C14"
       ]
      },
      {
       "output_type": "stream",
       "stream": "stdout",
       "text": [
        "\n",
        "col_0    0    1      conv  total       woe\n",
        "C14                                       \n",
        "10289    2    0  0.000000      2      -inf\n",
        "1037   121   45  0.271084    166  0.496227\n",
        "1038   101   23  0.185484    124  0.005728\n",
        "1039   117   30  0.204082    147  0.124378\n",
        "10534    1    0  0.000000      1      -inf\n",
        "10738    3    1  0.250000      4  0.386742\n",
        "10739    3    0  0.000000      3      -inf\n",
        "10740    4    1  0.200000      5  0.099060\n",
        "10741    3    0  0.000000      3      -inf\n",
        "10742    2    0  0.000000      2      -inf\n",
        "10743    1    0  0.000000      1      -inf\n",
        "10898    1    0  0.000000      1      -inf\n",
        "11190    1    0  0.000000      1      -inf\n",
        "11323    5    1  0.166667      6 -0.124083\n",
        "11325    6    0  0.000000      6      -inf\n",
        "12000    9    8  0.470588     17  1.367572\n",
        "12026   10    0  0.000000     10      -inf\n",
        "12469    4    1  0.200000      5  0.099060\n",
        "12470    3    0  0.000000      3      -inf\n",
        "12471    1    2  0.666667      3  2.178502\n",
        "12472    2    0  0.000000      2      -inf\n",
        "12477    2    0  0.000000      2      -inf\n",
        "1278     1    0  0.000000      1      -inf\n",
        "13556    1    0  0.000000      1      -inf\n",
        "13643    4    1  0.200000      5  0.099060\n",
        "13644    4    1  0.200000      5  0.099060\n",
        "13777    5    2  0.285714      7  0.569064\n",
        "13778    7    4  0.363636     11  0.925739\n",
        "13779    8    3  0.272727     11  0.504525\n",
        "13780    7    5  0.416667     12  1.148882\n",
        "...    ...  ...       ...    ...       ...\n",
        "6993    13    3  0.187500     16  0.019018\n",
        "7023    13    1  0.071429     14 -1.079595\n",
        "7024     4    4  0.500000      8  1.485355\n",
        "7693     2    0  0.000000      2      -inf\n",
        "7700     1    0  0.000000      1      -inf\n",
        "7702     2    0  0.000000      2      -inf\n",
        "7704     2    0  0.000000      2      -inf\n",
        "7707     1    0  0.000000      1      -inf\n",
        "7708     1    0  0.000000      1      -inf\n",
        "7709     0    1  1.000000      1       inf\n",
        "7710     1    0  0.000000      1      -inf\n",
        "7712     3    0  0.000000      3      -inf\n",
        "7713     1    1  0.500000      2  1.485355\n",
        "7714     2    0  0.000000      2      -inf\n",
        "787     22    2  0.083333     24 -0.912541\n",
        "8330   833  121  0.126834    954 -0.443888\n",
        "8392     1    0  0.000000      1      -inf\n",
        "8437     1    0  0.000000      1      -inf\n",
        "8994     3    6  0.666667      9  2.178502\n",
        "8995     2    5  0.714286      7  2.401645\n",
        "8996     4    7  0.636364     11  2.044970\n",
        "9015     0    1  1.000000      1       inf\n",
        "9236    17    0  0.000000     17      -inf\n",
        "9248    81    1  0.012195     82 -2.909095\n",
        "9438    28    1  0.034483     29 -1.846850\n",
        "9461    35    3  0.078947     38 -0.971381\n",
        "9478    93    8  0.079208    101 -0.967803\n",
        "9798     4    0  0.000000      4      -inf\n",
        "9803     2    1  0.333333      3  0.792207\n",
        "9805     2    0  0.000000      2      -inf\n",
        "\n",
        "[1386 rows x 5 columns]"
       ]
      },
      {
       "output_type": "stream",
       "stream": "stdout",
       "text": [
        "\n",
        "Index([u'1037', u'1038', u'1039', u'14265', u'15698', u'15699', u'15700', u'15701', u'15702', u'15703', u'15704', u'15705', u'15706', u'15707', u'15708', u'15908', u'16011', u'16208', u'16263', u'16350', u'16352', u'16615', u'16685', u'16687', u'16688', u'16838', u'16858', u'16859', u'16920', u'17014', u'17016', u'17017', u'17037', u'17081', u'17109', u'17163', u'17212', u'17239', u'17262', u'17263', u'17264', u'17566', u'17573', u'17583', u'17586', u'17614', u'17653', u'17654', u'17747', u'17753', u'17755', u'17863', u'17875', u'17877', u'17893', u'17894', u'17914', u'18091', u'18092', u'18093', u'18094', u'18095', u'18588', u'18595', u'18648', u'18854', u'18856', u'18858', u'18987', u'18993', u'19015', u'19016', u'19143', u'19146', u'19251', u'19421', u'19493', u'19591', u'19592', u'19593', u'19594', u'19595', u'19597', u'19665', u'19743', u'19771', u'19772', u'19775', u'19776', u'19870', u'19878', u'19950', u'19951', u'20003', u'20005', u'20006', u'20007', u'20008', u'20009', u'20016', ...], dtype='object')\n",
        "(99897, 28)\n",
        "(94920, 28)"
       ]
      },
      {
       "output_type": "stream",
       "stream": "stdout",
       "text": [
        " (94920,)\n",
        "C15"
       ]
      },
      {
       "output_type": "stream",
       "stream": "stdout",
       "text": [
        "\n",
        "col_0      0      1      conv  total       woe\n",
        "C15                                           \n",
        "216      543     56  0.093489    599 -0.786403\n",
        "300     2827   1880  0.399405   4707  1.077410\n",
        "320    73806  15737  0.175748  89543 -0.060071\n",
        "728       67      4  0.056338     71 -1.333044"
       ]
      },
      {
       "output_type": "stream",
       "stream": "stdout",
       "text": [
        "\n",
        "Index([u'216', u'300', u'320', u'728'], dtype='object')\n",
        "(94920, 28)\n",
        "(94920, 28)"
       ]
      },
      {
       "output_type": "stream",
       "stream": "stdout",
       "text": [
        " (94920,)\n",
        "C16"
       ]
      },
      {
       "output_type": "stream",
       "stream": "stdout",
       "text": [
        "\n",
        "col_0      0      1      conv  total       woe\n",
        "C16                                           \n",
        "250     2433   1785  0.423186   4218  1.175648\n",
        "36       543     56  0.093489    599 -0.786403\n",
        "480      130     93  0.417040    223  1.150420\n",
        "50     74070  15739  0.175250  89809 -0.063514\n",
        "90        67      4  0.056338     71 -1.333044\n",
        "Index([u'250', u'36', u'480', u'50', u'90'], dtype='object')\n",
        "(94920, 28)\n",
        "(94920, 28)"
       ]
      },
      {
       "output_type": "stream",
       "stream": "stdout",
       "text": [
        " (94920,)\n",
        "C17"
       ]
      },
      {
       "output_type": "stream",
       "stream": "stdout",
       "text": [
        "\n",
        "col_0      0     1      conv  total       woe\n",
        "C17                                          \n",
        "1092     102    11  0.097345    113 -0.741723\n",
        "112      275    81  0.227528    356  0.263033\n",
        "122      181    49  0.213043    230  0.178678\n",
        "1526      27     8  0.228571     35  0.268959\n",
        "1528      40     7  0.148936     47 -0.257615\n",
        "153       22     2  0.083333     24 -0.912541\n",
        "1702     124     6  0.046154    130 -1.543167\n",
        "1722   20526  4989  0.195532  25515  0.070898\n",
        "1752      52    28  0.350000     80  0.866315\n",
        "1769      54     3  0.052632     57 -1.405017\n",
        "178      339    98  0.224256    437  0.244322\n",
        "1780      87    20  0.186916    107  0.015179\n",
        "1800    1667   227  0.119852   1894 -0.508476\n",
        "1823      60     5  0.076923     65 -0.999552\n",
        "1863     548    65  0.106036    613 -0.646533\n",
        "1872     552   204  0.269841    756  0.489927\n",
        "1873     692   101  0.127364    793 -0.439111\n",
        "1882     257    42  0.140468    299 -0.326052\n",
        "1887     444    91  0.170093    535 -0.099610\n",
        "1895      58    12  0.171429     70 -0.090182\n",
        "1899     269   100  0.271003    369  0.495813\n",
        "1921     102    27  0.209302    129  0.156219\n",
        "1934     221    66  0.229965    287  0.276847\n",
        "1946      38     1  0.025641     39 -2.152232\n",
        "1955      64     0  0.000000     64      -inf\n",
        "1973     509    75  0.128425    584 -0.429605\n",
        "1974     128    31  0.194969    159  0.067312\n",
        "1991     182    92  0.335766    274  0.803136\n",
        "1993    1283   873  0.404917   2156  1.100334\n",
        "1994    1327   843  0.388479   2170  1.031646\n",
        "...      ...   ...       ...    ...       ...\n",
        "2684     433   111  0.204044    544  0.124147\n",
        "2685     388    22  0.053659    410 -1.384608\n",
        "2688     143     7  0.046667    150 -1.531580\n",
        "2691     121     0  0.000000    121      -inf\n",
        "2699      72     5  0.064935     77 -1.181874\n",
        "2706      28     0  0.000000     28      -inf\n",
        "2708      19     3  0.136364     22 -0.360472\n",
        "2709     138    12  0.080000    150 -0.956992\n",
        "2716     330    70  0.175000    400 -0.065243\n",
        "2717     144    53  0.269036    197  0.485833\n",
        "2720      86     4  0.044444     90 -1.582698\n",
        "2724     374    89  0.192225    463  0.049735\n",
        "2726     490    53  0.097606    543 -0.738759\n",
        "2727      20     1  0.047619     21 -1.510378\n",
        "2736      56     1  0.017544     57 -2.539997\n",
        "2747     140     4  0.027778    144 -2.069993\n",
        "2755      78     3  0.037037     81 -1.772742\n",
        "423     1302   380  0.225922   1682  0.253869\n",
        "479      252    62  0.197452    314  0.083060\n",
        "544      141    38  0.212291    179  0.174181\n",
        "547      662   147  0.181706    809 -0.019478\n",
        "550       19     3  0.136364     22 -0.360472\n",
        "571      115    35  0.233333    150  0.295771\n",
        "572      180    67  0.271255    247  0.497090\n",
        "576      129    21  0.140000    150 -0.329935\n",
        "761      833   121  0.126834    954 -0.443888\n",
        "768       81     1  0.012195     82 -2.909095\n",
        "898       28     1  0.034483     29 -1.846850\n",
        "901       35     3  0.078947     38 -0.971381\n",
        "906       93     8  0.079208    101 -0.967803\n",
        "\n",
        "[170 rows x 5 columns]\n",
        "Index([u'1092', u'112', u'122', u'1526', u'1528', u'153', u'1702', u'1722', u'1752', u'1769', u'178', u'1780', u'1800', u'1823', u'1863', u'1872', u'1873', u'1882', u'1887', u'1895', u'1899', u'1921', u'1934', u'1946', u'1955', u'1973', u'1974', u'1991', u'1993', u'1994', u'2036', u'2039', u'2043', u'2060', u'2104', u'2158', u'2161', u'2162', u'2181', u'2201', u'2225', u'2226', u'2227', u'2229', u'2242', u'2253', u'2264', u'2271', u'2281', u'2282', u'2283', u'2285', u'2286', u'2291', u'2295', u'2299', u'2303', u'2307', u'2312', u'2316', u'2323', u'2325', u'2331', u'2333', u'2338', u'2340', u'2348', u'2351', u'2371', u'2372', u'2374', u'2412', u'2420', u'2424', u'2435', u'2443', u'2446', u'2467', u'2478', u'2480', u'2487', u'2492', u'2493', u'2494', u'2495', u'2497', u'2498', u'2500', u'2502', u'2505', u'2506', u'2507', u'2512', u'2513', u'2515', u'2519', u'2522', u'2523', u'2524', u'2526', ...], dtype='object')"
       ]
      },
      {
       "output_type": "stream",
       "stream": "stdout",
       "text": [
        "\n",
        "(94920, 28)\n",
        "(94920, 28)"
       ]
      },
      {
       "output_type": "stream",
       "stream": "stdout",
       "text": [
        " (94920,)\n",
        "C18"
       ]
      },
      {
       "output_type": "stream",
       "stream": "stdout",
       "text": [
        "\n",
        "col_0      0     1      conv  total       woe\n",
        "C18                                          \n",
        "0      42625  9494  0.182160  52119 -0.016426\n",
        "1       6989   269  0.037063   7258 -1.772027\n",
        "2      11621  5209  0.309507  16830  0.682929\n",
        "3      16008  2705  0.144552  18713 -0.292632\n",
        "Index([u'0', u'1', u'2', u'3'], dtype='object')\n",
        "(94920, 28)\n",
        "(94920, 28)"
       ]
      },
      {
       "output_type": "stream",
       "stream": "stdout",
       "text": [
        " (94920,)\n",
        "C19"
       ]
      },
      {
       "output_type": "stream",
       "stream": "stdout",
       "text": [
        "\n",
        "col_0      0     1      conv  total       woe\n",
        "C19                                          \n",
        "1059     140    30  0.176471    170 -0.055090\n",
        "1063    1342   889  0.398476   2231  1.073536\n",
        "1065      84    14  0.142857     98 -0.306405\n",
        "1315      66     4  0.057143     70 -1.318006\n",
        "1319     802   267  0.249766   1069  0.385495\n",
        "1327    3285  1033  0.239231   4318  0.328455\n",
        "1451      93     8  0.079208    101 -0.967803\n",
        "1575      26     3  0.103448     29 -0.674130\n",
        "161     3895   108  0.026980   4003 -2.099963\n",
        "163     2255   170  0.070103   2425 -1.099752\n",
        "167     4172   944  0.184519   5116 -0.000670\n",
        "169      203    17  0.077273    220 -0.994638\n",
        "171      246    24  0.088889    270 -0.841923\n",
        "1711      87    20  0.186916    107  0.015179\n",
        "175     1354   129  0.086986   1483 -0.865651\n",
        "1831      10     4  0.285714     14  0.569064\n",
        "1835       8     0  0.000000      8      -inf\n",
        "1839       4     1  0.200000      5  0.099060\n",
        "291      412    89  0.177645    501 -0.047032\n",
        "295       23     3  0.115385     26 -0.551527\n",
        "297     1048    92  0.080702   1140 -0.947496\n",
        "299      440    45  0.092784    485 -0.794758\n",
        "303      315   155  0.329787    470  0.776207\n",
        "33       785    56  0.066587    841 -1.154977\n",
        "34       293    61  0.172316    354 -0.083944\n",
        "35     36019  8358  0.188341  44377  0.024527\n",
        "38        61    14  0.186667     75  0.013538\n",
        "39     11423  3834  0.251294  15257  0.393634\n",
        "41       294    47  0.137830    341 -0.348078\n",
        "419      331    14  0.040580    345 -1.677706\n",
        "425       32     3  0.085714     35 -0.881769\n",
        "427      288    33  0.102804    321 -0.681098\n",
        "43       509    31  0.057407    540 -1.313106\n",
        "431      400   131  0.246704    531  0.369087\n",
        "47      1915   378  0.164850   2293 -0.137224\n",
        "545        1     0  0.000000      1      -inf\n",
        "547      346    50  0.126263    396 -0.449061\n",
        "551      180    29  0.138756    209 -0.340306\n",
        "559       84    21  0.200000    105  0.099060\n",
        "673       53     3  0.053571     56 -1.386325\n",
        "675       59     6  0.092308     65 -0.800423\n",
        "679     1170   156  0.117647   1326 -0.529548\n",
        "681       58    12  0.171429     70 -0.090182\n",
        "687      611   125  0.169837    736 -0.101429\n",
        "801       67     4  0.056338     71 -1.333044\n",
        "803      490    53  0.097606    543 -0.738759\n",
        "811       94    11  0.104762    105 -0.660045\n",
        "813       74     6  0.075000     80 -1.026951\n",
        "815       58    10  0.147059     68 -0.272503\n",
        "935     1210   182  0.130747   1392 -0.409014\n",
        "937       28     0  0.000000     28      -inf"
       ]
      },
      {
       "output_type": "stream",
       "stream": "stdout",
       "text": [
        "\n",
        "Index([u'1059', u'1063', u'1065', u'1315', u'1319', u'1327', u'1451', u'1575', u'161', u'163', u'167', u'169', u'171', u'1711', u'175', u'291', u'295', u'297', u'299', u'303', u'33', u'34', u'35', u'38', u'39', u'41', u'419', u'425', u'427', u'43', u'431', u'47', u'547', u'551', u'559', u'673', u'675', u'679', u'681', u'687', u'801', u'803', u'811', u'813', u'815', u'935', u'937'], dtype='object')\n",
        "(94920, 28)\n",
        "(94892, 28)"
       ]
      },
      {
       "output_type": "stream",
       "stream": "stdout",
       "text": [
        " (94892,)\n",
        "C20"
       ]
      },
      {
       "output_type": "stream",
       "stream": "stdout",
       "text": [
        "\n",
        "col_0       0      1      conv  total       woe\n",
        "C20                                            \n",
        "-1      51543  13363  0.205882  64906  0.135428\n",
        "100000    208     36  0.147541    244 -0.268665\n",
        "100001      5      1  0.166667      6 -0.124083\n",
        "100002      6      0  0.000000      6      -inf\n",
        "100003    119      4  0.032520    123 -1.907475\n",
        "100004     29     33  0.532258     62  1.614566\n",
        "100005     52      0  0.000000     52      -inf\n",
        "100012      4      1  0.200000      5  0.099060\n",
        "100013    102      4  0.037736    106 -1.753324\n",
        "100019     57     11  0.161765     68 -0.159801\n",
        "100020     87      6  0.064516     93 -1.188794\n",
        "100021     55     11  0.166667     66 -0.124083\n",
        "100022      3      1  0.250000      4  0.386742\n",
        "100025     15      0  0.000000     15      -inf\n",
        "100026      9      1  0.100000     10 -0.711870\n",
        "100028     60     12  0.166667     72 -0.124083\n",
        "100029      1      0  0.000000      1      -inf\n",
        "100031    163     25  0.132979    188 -0.389520\n",
        "100034     63     17  0.212500     80  0.175433\n",
        "100037      4      0  0.000000      4      -inf\n",
        "100039     18      9  0.333333     27  0.792207\n",
        "100041      9      1  0.100000     10 -0.711870\n",
        "100046      1      0  0.000000      1      -inf\n",
        "100048     63     24  0.275862     87  0.520274\n",
        "100049     14      9  0.391304     23  1.043522\n",
        "100050     95     16  0.144144    111 -0.295934\n",
        "100052     83     18  0.178218    101 -0.043114\n",
        "100053      2      1  0.333333      3  0.792207\n",
        "100054     34      1  0.028571     35 -2.041006\n",
        "100055     23     14  0.378378     37  0.988918\n",
        "...       ...    ...       ...    ...       ...\n",
        "100171     17     11  0.392857     28  1.050037\n",
        "100172     15      1  0.062500     16 -1.222696\n",
        "100176    860    137  0.137412    997 -0.351597\n",
        "100177     59      6  0.092308     65 -0.800423\n",
        "100179      2      0  0.000000      2      -inf\n",
        "100181    158     23  0.127072    181 -0.441746\n",
        "100182     16      2  0.111111     18 -0.594087\n",
        "100183     28      2  0.066667     30 -1.153703\n",
        "100185      3      0  0.000000      3      -inf\n",
        "100188    391     68  0.148148    459 -0.263845\n",
        "100189    496     14  0.027451    510 -2.082164\n",
        "100190    407     13  0.030952    420 -1.958509\n",
        "100191    275     16  0.054983    291 -1.358828\n",
        "100192    383     23  0.056650    406 -1.327186\n",
        "100193   3009     82  0.026529   3091 -2.117289\n",
        "100194    262      9  0.033210    271 -1.885765\n",
        "100199     77     10  0.114943     87 -0.555866\n",
        "100200     55      8  0.126984     63 -0.442537\n",
        "100202     90     13  0.126214    103 -0.449506\n",
        "100205     13      0  0.000000     13      -inf\n",
        "100210     35      7  0.166667     42 -0.124083\n",
        "100212      1      0  0.000000      1      -inf\n",
        "100215      5      3  0.375000      8  0.974529\n",
        "100217     57      8  0.123077     65 -0.478255\n",
        "100221     17      8  0.320000     25  0.731583\n",
        "100224      1      0  0.000000      1      -inf\n",
        "100228     76     10  0.116279     86 -0.542794\n",
        "100233    170     15  0.081081    185 -0.942394\n",
        "100241     22      6  0.214286     28  0.186072\n",
        "100248      1      2  0.666667      3  2.178502\n",
        "\n",
        "[117 rows x 5 columns]\n",
        "Index([u'-1', u'100000', u'100003', u'100004', u'100005', u'100013', u'100019', u'100020', u'100021', u'100028', u'100031', u'100034', u'100039', u'100048', u'100049', u'100050', u'100052', u'100054', u'100055', u'100059', u'100060', u'100061', u'100065', u'100072', u'100074', u'100075', u'100076', u'100077', u'100079', u'100081', u'100083', u'100084', u'100094', u'100101', u'100103', u'100105', u'100106', u'100111', u'100119', u'100128', u'100130', u'100131', u'100141', u'100143', u'100144', u'100148', u'100151', u'100155', u'100156', u'100168', u'100170', u'100171', u'100176', u'100177', u'100181', u'100183', u'100188', u'100189', u'100190', u'100191', u'100192', u'100193', u'100194', u'100199', u'100200', u'100202', u'100210', u'100217', u'100221', u'100228', u'100233', u'100241'], dtype='object')\n",
        "(94892, 28)\n",
        "(94627, 28)"
       ]
      },
      {
       "output_type": "stream",
       "stream": "stdout",
       "text": [
        " (94627,)\n",
        "C21"
       ]
      },
      {
       "output_type": "stream",
       "stream": "stdout",
       "text": [
        "\n",
        "col_0      0     1      conv  total       woe\n",
        "C21                                          \n",
        "100       23     1  0.041667     24 -1.650140\n",
        "101      111    15  0.119048    126 -0.516125\n",
        "110      155     7  0.043210    162 -1.612160\n",
        "111       72     3  0.040000     75 -1.692699\n",
        "112      105     1  0.009434    106 -3.168606\n",
        "117      508   115  0.184591    623 -0.000195\n",
        "13       412    81  0.164300    493 -0.141220\n",
        "15       791   227  0.222986   1018  0.237007\n",
        "156      486    21  0.041420    507 -1.656332\n",
        "157     2404   299  0.110618   2703 -0.599091\n",
        "159      307    49  0.137640    356 -0.349673\n",
        "16       500   144  0.223602    644  0.240560\n",
        "17        61     2  0.031746     63 -1.932372\n",
        "171       33     5  0.131579     38 -0.401715\n",
        "182       61     1  0.016129     62 -2.625519\n",
        "20        22     2  0.083333     24 -0.912541\n",
        "204      128     5  0.037594    133 -1.757238\n",
        "212     2267   121  0.050670   2388 -1.445068\n",
        "221    10877  2497  0.186706  13374  0.013794\n",
        "229      485    53  0.098513    538 -0.728502\n",
        "23     10390  2816  0.213236  13206  0.179828\n",
        "246       43     1  0.022727     44 -2.275846\n",
        "251       20     1  0.047619     21 -1.510378\n",
        "253      374    89  0.192225    463  0.049735\n",
        "32      2237   645  0.223803   2882  0.241714\n",
        "33      3169  2089  0.397299   5258  1.068624\n",
        "35        27     8  0.228571     35  0.268959\n",
        "42       837    64  0.071032    901 -1.085586\n",
        "43       753    58  0.071517    811 -1.078268\n",
        "46       327    51  0.134921    378 -0.372780\n",
        "48      3137   489  0.134859   3626 -0.373305\n",
        "51      3231   848  0.207894   4079  0.147688\n",
        "52      3817  1286  0.252009   5103  0.397426\n",
        "61      2130   188  0.081104   2318 -0.942081\n",
        "68       602    78  0.114706    680 -0.558194\n",
        "69        83    14  0.144330     97 -0.294429\n",
        "70        80    17  0.175258     97 -0.063459\n",
        "71      4757   138  0.028192   4895 -2.054764\n",
        "76       218     7  0.031111    225 -1.953230\n",
        "79     20546  4990  0.195410  25536  0.070124\n",
        "82        52    28  0.350000     80  0.866315\n",
        "90        94    43  0.313869    137  0.703260\n",
        "95       257    41  0.137584    298 -0.350149\n",
        "Index([u'100', u'101', u'110', u'111', u'112', u'117', u'13', u'15', u'156', u'157', u'159', u'16', u'17', u'171', u'182', u'20', u'204', u'212', u'221', u'229', u'23', u'246', u'251', u'253', u'32', u'33', u'35', u'42', u'43', u'46', u'48', u'51', u'52', u'61', u'68', u'69', u'70', u'71', u'76', u'79', u'82', u'90', u'95'], dtype='object')\n",
        "(94627, 28)\n",
        "(94627, 28)"
       ]
      },
      {
       "output_type": "stream",
       "stream": "stdout",
       "text": [
        " (94627,)\n",
        "weekday"
       ]
      },
      {
       "output_type": "stream",
       "stream": "stdout",
       "text": [
        "\n",
        "col_0        0     1      conv  total       woe\n",
        "weekday                                        \n",
        "0         5480  1383  0.201515   6863  0.108505\n",
        "1        18205  3901  0.176468  22106 -0.055109\n",
        "2        16959  3374  0.165937  20333 -0.129345\n",
        "3        14515  3587  0.198155  18102  0.087488\n",
        "4         7429  1768  0.192237   9197  0.049812\n",
        "5         7090  1790  0.201577   8880  0.108885\n",
        "6         7311  1835  0.200634   9146  0.103019"
       ]
      },
      {
       "output_type": "stream",
       "stream": "stdout",
       "text": [
        "\n",
        "Index([u'0', u'1', u'2', u'3', u'4', u'5', u'6'], dtype='object')\n",
        "(94627, 28)\n",
        "(94627, 28) (94627,)\n",
        "hr"
       ]
      },
      {
       "output_type": "stream",
       "stream": "stdout",
       "text": [
        "\n",
        "col_0     0     1      conv  total       woe\n",
        "hr                                          \n",
        "00     1772   452  0.203237   2224  0.119173\n",
        "01     1964   521  0.209658   2485  0.158366\n",
        "02     2242   532  0.191781   2774  0.046874\n",
        "03     2393   616  0.204719   3009  0.128298\n",
        "04     3014   750  0.199256   3764  0.094404\n",
        "05     3138   856  0.214321   3994  0.186284\n",
        "06     3491   837  0.193392   4328  0.057235\n",
        "07     3381   836  0.198245   4217  0.088056\n",
        "08     3696   806  0.179032   4502 -0.037568\n",
        "09     3838   890  0.188240   4728  0.023869\n",
        "10     3625   744  0.170291   4369 -0.098214\n",
        "11     3461   827  0.192864   4288  0.053846\n",
        "12     3778   782  0.171491   4560 -0.089741\n",
        "13     4187   915  0.179341   5102 -0.035461\n",
        "14     4046   950  0.190152   4996  0.036333\n",
        "15     4129  1082  0.207638   5211  0.146131\n",
        "16     4173  1036  0.198887   5209  0.092087\n",
        "17     4933  1128  0.186108   6061  0.009853\n",
        "18     4493   864  0.161284   5357 -0.163349\n",
        "19     3125   589  0.158589   3714 -0.183409\n",
        "20     2366   440  0.156807   2806 -0.196827\n",
        "21     2039   390  0.160560   2429 -0.168713\n",
        "22     2086   403  0.161912   2489 -0.158712\n",
        "23     1619   392  0.194928   2011  0.067052\n",
        "Index([u'00', u'01', u'02', u'03', u'04', u'05', u'06', u'07', u'08', u'09', u'10', u'11', u'12', u'13', u'14', u'15', u'16', u'17', u'18', u'19', u'20', u'21', u'22', u'23'], dtype='object')\n",
        "(94627, 28)\n",
        "(94627, 28)"
       ]
      },
      {
       "output_type": "stream",
       "stream": "stdout",
       "text": [
        " (94627,)\n",
        "(94627, 28) (94627,)\n"
       ]
      }
     ],
     "prompt_number": 93
    },
    {
     "cell_type": "code",
     "collapsed": false,
     "input": [
      "Xd=pd.DataFrame(X[:,3:],columns=colnames)\n",
      "Xd.drop('device_id', axis=1, inplace=True)\n",
      "Xd.drop('device_ip', axis=1, inplace=True)\n",
      "Xd.drop('site_id', axis=1, inplace=True)\n",
      "Xd.drop('site_domain', axis=1, inplace=True)\n",
      "Xd.drop('app_id', axis=1, inplace=True)\n",
      "Xd.drop('app_domain', axis=1, inplace=True)"
     ],
     "language": "python",
     "metadata": {},
     "outputs": []
    },
    {
     "cell_type": "code",
     "collapsed": false,
     "input": [
      "from scipy.stats import rankdata\n",
      "\n",
      "for nv in numvars:\n",
      "    print nv\n",
      "    print (rankdata(Xd[nv],method='ordinal')/len(Xd[nv])*10).astype('int').astype('str')\n",
      "    #qtl=np.percentile(Xd[nv].astype('int'),10)\n",
      "    #print qtl\n",
      "    #print Xd[nv].apply(lambda x: str('0' if (x=='1') else '1'))"
     ],
     "language": "python",
     "metadata": {},
     "outputs": [
      {
       "output_type": "stream",
       "stream": "stdout",
       "text": [
        "numv1\n",
        "['3' '3' '3' ..., '5' '8' '8']"
       ]
      },
      {
       "output_type": "stream",
       "stream": "stdout",
       "text": [
        "\n",
        "numv2\n",
        "['3' '3' '3' ..., '4' '8' '8']"
       ]
      },
      {
       "output_type": "stream",
       "stream": "stdout",
       "text": [
        "\n",
        "numv3\n",
        "['2' '2' '2' ..., '2' '5' '5']"
       ]
      },
      {
       "output_type": "stream",
       "stream": "stdout",
       "text": [
        "\n",
        "numv4\n",
        "['4' '4' '4' ..., '7' '7' '7']"
       ]
      },
      {
       "output_type": "stream",
       "stream": "stdout",
       "text": [
        "\n",
        "numv5\n",
        "['3' '3' '3' ..., '7' '7' '7']"
       ]
      },
      {
       "output_type": "stream",
       "stream": "stdout",
       "text": [
        "\n",
        "numv6\n",
        "['3' '3' '3' ..., '7' '7' '7']"
       ]
      },
      {
       "output_type": "stream",
       "stream": "stdout",
       "text": [
        "\n",
        "numv7\n",
        "['7' '7' '7' ..., '2' '4' '4']"
       ]
      },
      {
       "output_type": "stream",
       "stream": "stdout",
       "text": [
        "\n",
        "numv8\n",
        "['7' '7' '7' ..., '2' '4' '4']"
       ]
      },
      {
       "output_type": "stream",
       "stream": "stdout",
       "text": [
        "\n",
        "numv9\n",
        "['7' '7' '7' ..., '2' '4' '4']\n",
        "numv10\n",
        "['7' '7' '7' ..., '4' '4' '4']"
       ]
      },
      {
       "output_type": "stream",
       "stream": "stdout",
       "text": [
        "\n",
        "numv11\n",
        "['7' '7' '7' ..., '4' '4' '4']\n",
        "numv12\n",
        "['7' '7' '7' ..., '4' '4' '4']"
       ]
      },
      {
       "output_type": "stream",
       "stream": "stdout",
       "text": [
        "\n"
       ]
      }
     ],
     "prompt_number": 41
    },
    {
     "cell_type": "code",
     "collapsed": false,
     "input": [
      "##Prediction\n",
      "\n",
      "batch=0\n",
      "nlines=0\n",
      "nlim=100000\n",
      "#g=open(\"first_submission.csv\",'a')\n",
      "g=open(\"ninth_submission.csv\",'a')\n",
      "g.write(\"id,click\\n\")\n",
      "\n",
      "Yp=np.zeros((nlim,2),dtype='a20')\n",
      "X=np.zeros((nlim,25),dtype='a20')\n",
      "with open(\"test_woheader.csv\",\"r\") as f:\n",
      "    for line in f:\n",
      "        \n",
      "        X[nlines,:23]=[str(xx) for xx in line.strip().split(',')]\n",
      "        #print X[nlines,:]\n",
      "        X[nlines,23]=str(dt.datetime.strptime(X[nlines,1],'%y%m%d%H').weekday())\n",
      "        X[nlines,24]=X[nlines,1][-2:]\n",
      "        nlines=nlines+1;\n",
      "        if (nlines==nlim):\n",
      "            print 'Processing batch '+str(batch+1)\n",
      "            batch=batch+1\n",
      "\n",
      "            Xd=pd.DataFrame(X[:,2:],columns=colnames)\n",
      "            X_sparse=vec.transform(Xd.T.to_dict().values())                        \n",
      "            ypred=clf.predict_proba(X_sparse)[:,1]\n",
      "            \n",
      "            #Output to file\n",
      "            Yp[:,0]=X[:,0]\n",
      "            Yp[:,1]=[str(xx) for xx in ypred]\n",
      "            np.savetxt(g,Yp,delimiter=',',fmt=\"%s\")\n",
      "            \n",
      "            nlines=0\n",
      "            X=np.zeros((nlim,25),dtype='a20')\n",
      "            del X_sparse\n",
      "            \n",
      "    else:\n",
      "        print \"Processing final batch..\"\n",
      "        \n",
      "        Xd=pd.DataFrame(X[:nlines,2:],columns=colnames)\n",
      "        X_sparse=vec.transform(Xd.T.to_dict().values())                        \n",
      "        ypred=clf.predict_proba(X_sparse)[:,1]\n",
      "\n",
      "        #Output to file\n",
      "        Yp=np.zeros((nlines,2),dtype='a20')\n",
      "        Yp[:,0]=X[:nlines,0]\n",
      "        Yp[:,1]=[str(xx) for xx in ypred]\n",
      "        np.savetxt(g,Yp,delimiter=',',fmt=\"%s\")\n",
      "        \n",
      "        f.close()\n",
      "        del X\n",
      "        del X_sparse\n",
      "\n",
      "print 'Yes, we are done..'\n",
      "g.close()"
     ],
     "language": "python",
     "metadata": {},
     "outputs": [
      {
       "output_type": "stream",
       "stream": "stdout",
       "text": [
        "Processing batch 1\n",
        "Processing batch 2"
       ]
      },
      {
       "output_type": "stream",
       "stream": "stdout",
       "text": [
        "\n",
        "Processing batch 3"
       ]
      },
      {
       "output_type": "stream",
       "stream": "stdout",
       "text": [
        "\n",
        "Processing batch 4"
       ]
      },
      {
       "output_type": "stream",
       "stream": "stdout",
       "text": [
        "\n",
        "Processing batch 5"
       ]
      },
      {
       "output_type": "stream",
       "stream": "stdout",
       "text": [
        "\n",
        "Processing batch 6"
       ]
      },
      {
       "output_type": "stream",
       "stream": "stdout",
       "text": [
        "\n",
        "Processing batch 7"
       ]
      },
      {
       "output_type": "stream",
       "stream": "stdout",
       "text": [
        "\n",
        "Processing batch 8"
       ]
      },
      {
       "output_type": "stream",
       "stream": "stdout",
       "text": [
        "\n",
        "Processing batch 9"
       ]
      },
      {
       "output_type": "stream",
       "stream": "stdout",
       "text": [
        "\n",
        "Processing batch 10"
       ]
      },
      {
       "output_type": "stream",
       "stream": "stdout",
       "text": [
        "\n",
        "Processing batch 11"
       ]
      },
      {
       "output_type": "stream",
       "stream": "stdout",
       "text": [
        "\n",
        "Processing batch 12"
       ]
      },
      {
       "output_type": "stream",
       "stream": "stdout",
       "text": [
        "\n",
        "Processing batch 13"
       ]
      },
      {
       "output_type": "stream",
       "stream": "stdout",
       "text": [
        "\n",
        "Processing batch 14"
       ]
      },
      {
       "output_type": "stream",
       "stream": "stdout",
       "text": [
        "\n",
        "Processing batch 15"
       ]
      },
      {
       "output_type": "stream",
       "stream": "stdout",
       "text": [
        "\n",
        "Processing batch 16"
       ]
      },
      {
       "output_type": "stream",
       "stream": "stdout",
       "text": [
        "\n",
        "Processing batch 17"
       ]
      },
      {
       "output_type": "stream",
       "stream": "stdout",
       "text": [
        "\n",
        "Processing batch 18"
       ]
      },
      {
       "output_type": "stream",
       "stream": "stdout",
       "text": [
        "\n",
        "Processing batch 19"
       ]
      },
      {
       "output_type": "stream",
       "stream": "stdout",
       "text": [
        "\n",
        "Processing batch 20"
       ]
      },
      {
       "output_type": "stream",
       "stream": "stdout",
       "text": [
        "\n",
        "Processing batch 21"
       ]
      },
      {
       "output_type": "stream",
       "stream": "stdout",
       "text": [
        "\n",
        "Processing batch 22"
       ]
      },
      {
       "output_type": "stream",
       "stream": "stdout",
       "text": [
        "\n",
        "Processing batch 23"
       ]
      },
      {
       "output_type": "stream",
       "stream": "stdout",
       "text": [
        "\n",
        "Processing batch 24"
       ]
      },
      {
       "output_type": "stream",
       "stream": "stdout",
       "text": [
        "\n",
        "Processing batch 25"
       ]
      },
      {
       "output_type": "stream",
       "stream": "stdout",
       "text": [
        "\n",
        "Processing batch 26"
       ]
      },
      {
       "output_type": "stream",
       "stream": "stdout",
       "text": [
        "\n",
        "Processing batch 27"
       ]
      },
      {
       "output_type": "stream",
       "stream": "stdout",
       "text": [
        "\n",
        "Processing batch 28"
       ]
      },
      {
       "output_type": "stream",
       "stream": "stdout",
       "text": [
        "\n",
        "Processing batch 29"
       ]
      },
      {
       "output_type": "stream",
       "stream": "stdout",
       "text": [
        "\n",
        "Processing batch 30"
       ]
      },
      {
       "output_type": "stream",
       "stream": "stdout",
       "text": [
        "\n",
        "Processing batch 31"
       ]
      },
      {
       "output_type": "stream",
       "stream": "stdout",
       "text": [
        "\n",
        "Processing batch 32"
       ]
      },
      {
       "output_type": "stream",
       "stream": "stdout",
       "text": [
        "\n",
        "Processing batch 33"
       ]
      },
      {
       "output_type": "stream",
       "stream": "stdout",
       "text": [
        "\n",
        "Processing batch 34"
       ]
      },
      {
       "output_type": "stream",
       "stream": "stdout",
       "text": [
        "\n",
        "Processing batch 35"
       ]
      },
      {
       "output_type": "stream",
       "stream": "stdout",
       "text": [
        "\n",
        "Processing batch 36"
       ]
      },
      {
       "output_type": "stream",
       "stream": "stdout",
       "text": [
        "\n",
        "Processing batch 37"
       ]
      },
      {
       "output_type": "stream",
       "stream": "stdout",
       "text": [
        "\n",
        "Processing batch 38"
       ]
      },
      {
       "output_type": "stream",
       "stream": "stdout",
       "text": [
        "\n",
        "Processing batch 39"
       ]
      },
      {
       "output_type": "stream",
       "stream": "stdout",
       "text": [
        "\n",
        "Processing batch 40"
       ]
      },
      {
       "output_type": "stream",
       "stream": "stdout",
       "text": [
        "\n",
        "Processing batch 41"
       ]
      },
      {
       "output_type": "stream",
       "stream": "stdout",
       "text": [
        "\n",
        "Processing batch 42"
       ]
      },
      {
       "output_type": "stream",
       "stream": "stdout",
       "text": [
        "\n",
        "Processing batch 43"
       ]
      },
      {
       "output_type": "stream",
       "stream": "stdout",
       "text": [
        "\n",
        "Processing batch 44"
       ]
      },
      {
       "output_type": "stream",
       "stream": "stdout",
       "text": [
        "\n",
        "Processing batch 45"
       ]
      },
      {
       "output_type": "stream",
       "stream": "stdout",
       "text": [
        "\n",
        "Processing final batch.."
       ]
      },
      {
       "output_type": "stream",
       "stream": "stdout",
       "text": [
        "\n",
        "Yes, we are done.."
       ]
      },
      {
       "output_type": "stream",
       "stream": "stdout",
       "text": [
        "\n"
       ]
      }
     ],
     "prompt_number": 5
    },
    {
     "cell_type": "code",
     "collapsed": false,
     "input": [
      "print X.shape"
     ],
     "language": "python",
     "metadata": {},
     "outputs": [
      {
       "output_type": "stream",
       "stream": "stdout",
       "text": [
        "(500000, 25)\n"
       ]
      }
     ],
     "prompt_number": 6
    },
    {
     "cell_type": "code",
     "collapsed": false,
     "input": [
      "print ypred\n",
      "print str(ypred)\n",
      "print Yp\n",
      "print Yp.shape"
     ],
     "language": "python",
     "metadata": {},
     "outputs": [
      {
       "output_type": "stream",
       "stream": "stdout",
       "text": [
        "[ 0.46489831  0.07854326  0.0756602  ...,  0.04772515  0.42495103\n",
        "  0.65019639]\n",
        "[ 0.46489831  0.07854326  0.0756602  ...,  0.04772515  0.42495103\n",
        "  0.65019639]\n",
        "[['9510208106256648442' '0.46489830732']\n",
        " ['9510220156644959724' '0.0785432608006']\n",
        " ['9510251116927882877' '0.0756601953443']\n",
        " ..., \n",
        " ['9642376792155260587' '0.0477251463872']\n",
        " ['9642413861222366631' '0.424951033153']\n",
        " ['9642841034791728010' '0.650196386064']]\n",
        "(100000, 2)\n"
       ]
      }
     ],
     "prompt_number": 17
    },
    {
     "cell_type": "code",
     "collapsed": false,
     "input": [
      "print Xd"
     ],
     "language": "python",
     "metadata": {},
     "outputs": [
      {
       "output_type": "stream",
       "stream": "stdout",
       "text": [
        "         C1 banner_pos   site_id site_domain site_category    app_id  \\\n",
        "0      1005          0  85f751fd    c4e18dd6      50e219e0  e9739828   \n",
        "1      1005          0  17d1b03f    f3845767      f028772b  ecad2386   \n",
        "2      1005          0  6c5b482c    7687a86e      3e814130  ecad2386   \n",
        "3      1005          0  17d1b03f    f3845767      f028772b  ecad2386   \n",
        "4      1010          1  85f751fd    c4e18dd6      50e219e0  c6eb993a   \n",
        "5      1005          0  85f751fd    c4e18dd6      50e219e0  51cedd4e   \n",
        "6      1005          0  85f751fd    c4e18dd6      50e219e0  9c13b419   \n",
        "7      1005          0  85f751fd    c4e18dd6      50e219e0  febd1138   \n",
        "8      1005          0  17d1b03f    f3845767      f028772b  ecad2386   \n",
        "9      1005          0  17d1b03f    f3845767      f028772b  ecad2386   \n",
        "10     1005          1  b7e9786d    b12b9f85      f028772b  ecad2386   \n",
        "11     1005          0  83a0ad1a    5c9ae867      f028772b  ecad2386   \n",
        "12     1005          0  17d1b03f    f3845767      f028772b  ecad2386   \n",
        "13     1005          0  85f751fd    c4e18dd6      50e219e0  ce183bbd   \n",
        "14     1005          0  17d1b03f    f3845767      f028772b  ecad2386   \n",
        "15     1005          0  85f751fd    c4e18dd6      50e219e0  51cedd4e   \n",
        "16     1005          0  85f751fd    c4e18dd6      50e219e0  685d1c4c   \n",
        "17     1005          0  85f751fd    c4e18dd6      50e219e0  92f5800b   \n",
        "18     1005          0  85f751fd    c4e18dd6      50e219e0  2bc6bb64   \n",
        "19     1005          0  85f751fd    c4e18dd6      50e219e0  51cedd4e   \n",
        "20     1005          0  17d1b03f    f3845767      f028772b  ecad2386   \n",
        "21     1005          0  85f751fd    c4e18dd6      50e219e0  65f37f55   \n",
        "22     1005          0  85f751fd    c4e18dd6      50e219e0  03528b27   \n",
        "23     1005          0  85f751fd    c4e18dd6      50e219e0  92f5800b   \n",
        "24     1005          0  17d1b03f    f3845767      f028772b  ecad2386   \n",
        "25     1005          0  85f751fd    c4e18dd6      50e219e0  467930e2   \n",
        "26     1005          1  e151e245    7e091613      f028772b  ecad2386   \n",
        "27     1005          0  17d1b03f    f3845767      f028772b  ecad2386   \n",
        "28     1005          1  85f751fd    c4e18dd6      50e219e0  1c4c71ef   \n",
        "29     1005          1  faf9c1c2    c8223ee3      f028772b  ecad2386   \n",
        "...     ...        ...       ...         ...           ...       ...   \n",
        "77434  1005          0  85f751fd    c4e18dd6      50e219e0  2d869bee   \n",
        "77435  1005          0  85f751fd    c4e18dd6      50e219e0  685d1c4c   \n",
        "77436  1005          0  85f751fd    c4e18dd6      50e219e0  381a6863   \n",
        "77437  1005          1  5ee41ff2    17d996e6      f028772b  ecad2386   \n",
        "77438  1005          0  85f751fd    c4e18dd6      50e219e0  9c13b419   \n",
        "77439  1005          0  17d1b03f    f3845767      f028772b  ecad2386   \n",
        "77440  1005          0  17d1b03f    f3845767      f028772b  ecad2386   \n",
        "77441  1005          0  85f751fd    c4e18dd6      50e219e0  e2fcccd2   \n",
        "77442  1005          0  17d1b03f    f3845767      f028772b  ecad2386   \n",
        "77443  1005          0  17d1b03f    f3845767      f028772b  ecad2386   \n",
        "77444  1005          0  17d1b03f    f3845767      f028772b  ecad2386   \n",
        "77445  1005          0  85f751fd    c4e18dd6      50e219e0  98fed791   \n",
        "77446  1005          0  85f751fd    c4e18dd6      50e219e0  13a901ff   \n",
        "77447  1005          0  17d1b03f    f3845767      f028772b  ecad2386   \n",
        "77448  1005          0  85f751fd    c4e18dd6      50e219e0  9c13b419   \n",
        "77449  1005          1  e151e245    7e091613      f028772b  ecad2386   \n",
        "77450  1005          0  1a5c1d83    5dddf09e      f028772b  ecad2386   \n",
        "77451  1005          0  85f751fd    c4e18dd6      50e219e0  9c13b419   \n",
        "77452  1005          0  85f751fd    c4e18dd6      50e219e0  685d1c4c   \n",
        "77453  1012          0  85f751fd    c4e18dd6      50e219e0  0443d75e   \n",
        "77454  1005          1  e151e245    7e091613      f028772b  ecad2386   \n",
        "77455  1005          0  85f751fd    c4e18dd6      50e219e0  98fed791   \n",
        "77456  1005          0  85f751fd    c4e18dd6      50e219e0  febd1138   \n",
        "77457  1005          0  17d1b03f    f3845767      f028772b  ecad2386   \n",
        "77458  1005          0  85f751fd    c4e18dd6      50e219e0  8dbc921a   \n",
        "77459  1005          0  93eaba74    7687a86e      3e814130  ecad2386   \n",
        "77460  1005          0  17d1b03f    f3845767      f028772b  ecad2386   \n",
        "77461  1005          0  5b08c53b    7687a86e      3e814130  ecad2386   \n",
        "77462  1005          0  85f751fd    c4e18dd6      50e219e0  92f5800b   \n",
        "77463  1005          0  17d1b03f    f3845767      f028772b  ecad2386   \n",
        "\n",
        "      app_domain app_category device_id device_ip    ...       C14  C15  C16  \\\n",
        "0       df32afa9     cef3e649  a99f214a  60e5e4f5    ...     24297  320   50   \n",
        "1       7801e8d9     07d7df22  a99f214a  c1256cf1    ...     22254  320   50   \n",
        "2       7801e8d9     07d7df22  a99f214a  431b3174    ...     17654  300  250   \n",
        "3       7801e8d9     07d7df22  a99f214a  473eabe8    ...     22261  320   50   \n",
        "4       7801e8d9     0f2161f8  80b47cf5  5cf90014    ...     20291  320   50   \n",
        "5       aefc06bd     0f2161f8  a99f214a  931a24f9    ...     24075  320   50   \n",
        "6       2347f47a     f95efa07  a99f214a  81887079    ...     23161  320   50   \n",
        "7       82e27996     0f2161f8  a99f214a  e1557eb9    ...     19743  320   50   \n",
        "8       7801e8d9     07d7df22  a99f214a  e0bdf4fb    ...     22254  320   50   \n",
        "9       7801e8d9     07d7df22  a99f214a  2980f384    ...     22104  320   50   \n",
        "10      7801e8d9     07d7df22  a99f214a  36ce6053    ...     22680  320   50   \n",
        "11      7801e8d9     07d7df22  a99f214a  f0219497    ...     20633  320   50   \n",
        "12      7801e8d9     07d7df22  a99f214a  1ad729b5    ...     22104  320   50   \n",
        "13      ae637522     cef3e649  a99f214a  152241fb    ...     24132  320   50   \n",
        "14      7801e8d9     07d7df22  a99f214a  8a014cbb    ...     22254  320   50   \n",
        "15      aefc06bd     0f2161f8  a99f214a  4c07b9b5    ...     19216  320   50   \n",
        "16      2347f47a     8ded1f7a  a99f214a  331f6864    ...     22196  320   50   \n",
        "17      ae637522     0f2161f8  a99f214a  fdd5f31e    ...     23855  320   50   \n",
        "18      7801e8d9     0f2161f8  a99f214a  56fab156    ...     23722  320   50   \n",
        "19      aefc06bd     0f2161f8  a99f214a  3836c2a8    ...     19743  320   50   \n",
        "20      7801e8d9     07d7df22  a99f214a  f4c14184    ...     22104  320   50   \n",
        "21      d9b5648e     0f2161f8  a99f214a  e6ffb1a2    ...     20508  320   50   \n",
        "22      2347f47a     8ded1f7a  a99f214a  434ead62    ...     24297  320   50   \n",
        "23      ae637522     0f2161f8  a99f214a  9fb85b43    ...     23855  320   50   \n",
        "24      7801e8d9     07d7df22  a99f214a  45dfc17a    ...     22261  320   50   \n",
        "25      d9b5648e     0f2161f8  a99f214a  7b23310d    ...     20984  320   50   \n",
        "26      7801e8d9     07d7df22  a99f214a  fbbb31c4    ...     24093  320   50   \n",
        "27      7801e8d9     07d7df22  a99f214a  3d4499a4    ...     22104  320   50   \n",
        "28      2347f47a     0f2161f8  d1752b48  d6ff3c5b    ...     17706  320   50   \n",
        "29      7801e8d9     07d7df22  a99f214a  d90a7774    ...     23626  320   50   \n",
        "...          ...          ...       ...       ...    ...       ...  ...  ...   \n",
        "77434   d9b5648e     0f2161f8  a99f214a  e2f0441a    ...     19743  320   50   \n",
        "77435   2347f47a     8ded1f7a  a99f214a  ca292b3c    ...     23737  320   50   \n",
        "77436   33da2e74     cef3e649  a99f214a  981392d4    ...     20751  320   50   \n",
        "77437   7801e8d9     07d7df22  a99f214a  f2911cf6    ...     24217  320   50   \n",
        "77438   2347f47a     f95efa07  a99f214a  7a5cb6b1    ...     23725  320   50   \n",
        "77439   7801e8d9     07d7df22  a99f214a  021ee8ca    ...     22254  320   50   \n",
        "77440   7801e8d9     07d7df22  a99f214a  c8568c01    ...     22257  320   50   \n",
        "77441   5c5a694b     0f2161f8  a99f214a  56b17f2a    ...      6558  320   50   \n",
        "77442   7801e8d9     07d7df22  a99f214a  e70afcc0    ...     22254  320   50   \n",
        "77443   7801e8d9     07d7df22  a99f214a  8f03f45e    ...     22261  320   50   \n",
        "77444   7801e8d9     07d7df22  a99f214a  7827449c    ...     22104  320   50   \n",
        "77445   d9b5648e     0f2161f8  a99f214a  a764434c    ...     20508  320   50   \n",
        "77446   7801e8d9     0f2161f8  8c54c4b6  659f633a    ...     21706  320   50   \n",
        "77447   7801e8d9     07d7df22  a99f214a  ceffea69    ...     22257  320   50   \n",
        "77448   2347f47a     f95efa07  a99f214a  89151252    ...     23160  320   50   \n",
        "77449   7801e8d9     07d7df22  a99f214a  1d216c13    ...     17747  320   50   \n",
        "77450   7801e8d9     07d7df22  a99f214a  78175599    ...     24085  320   50   \n",
        "77451   2347f47a     f95efa07  a99f214a  9316a0eb    ...     18091  320   50   \n",
        "77452   2347f47a     8ded1f7a  a99f214a  de847033    ...     22193  320   50   \n",
        "77453   7801e8d9     07d7df22  506e33ad  9ed637bc    ...     20153  320   50   \n",
        "77454   7801e8d9     07d7df22  a99f214a  0eeb6185    ...     17747  320   50   \n",
        "77455   d9b5648e     0f2161f8  a99f214a  edc9cd89    ...     20508  320   50   \n",
        "77456   82e27996     0f2161f8  a99f214a  70dc9968    ...     24075  320   50   \n",
        "77457   7801e8d9     07d7df22  a99f214a  418dd0d2    ...     22261  320   50   \n",
        "77458   d9b5648e     0f2161f8  a99f214a  83d0504d    ...     21611  320   50   \n",
        "77459   7801e8d9     07d7df22  a99f214a  bcc9bcf5    ...     17654  300  250   \n",
        "77460   7801e8d9     07d7df22  a99f214a  1ff55d5e    ...     22104  320   50   \n",
        "77461   7801e8d9     07d7df22  a99f214a  bfef0578    ...     17654  300  250   \n",
        "77462   ae637522     0f2161f8  a99f214a  66f14444    ...     23857  320   50   \n",
        "77463   7801e8d9     07d7df22  a99f214a  127c3710    ...     22254  320   50   \n",
        "\n",
        "        C17 C18  C19     C20  C21 weekday  hr  \n",
        "0      2787   3  171  100161  240       4  23  \n",
        "1      2545   0  431  100084  221       4  23  \n",
        "2      1994   2   39      -1   33       4  23  \n",
        "3      2545   0  431      -1  221       4  23  \n",
        "4      2325   3  801      -1   42       4  23  \n",
        "5      2480   3  299  100111   61       4  23  \n",
        "6      2667   0   39      -1  221       4  23  \n",
        "7      2264   3  425  100000   61       4  23  \n",
        "8      2545   0  431      -1  221       4  23  \n",
        "9      2545   0  431  100084  221       4  23  \n",
        "10     2528   0  167  100079  221       4  23  \n",
        "11     2374   3   39      -1   23       4  23  \n",
        "12     2545   0  431      -1  221       4  23  \n",
        "13     2768   1  175  100192   71       4  23  \n",
        "14     2545   0  431      -1  221       4  23  \n",
        "15      863   3  169  100105   61       4  23  \n",
        "16     2556   3  167  100200   23       4  23  \n",
        "17     2734   1  175  100189   71       4  23  \n",
        "18     2716   3   47  100212   23       4  23  \n",
        "19     2264   3  425  100000   61       4  23  \n",
        "20     2545   0  431  100084  221       4  23  \n",
        "21     2351   3  163  100020   61       4  23  \n",
        "22     2787   3  171  100161  240       4  23  \n",
        "23     2734   1  175  100192   71       4  23  \n",
        "24     2545   0  431  100084  221       4  23  \n",
        "25     2371   0  559      -1   46       4  23  \n",
        "26     2761   2   35  100148   13       4  23  \n",
        "27     2545   0  431  100084  221       4  23  \n",
        "28     2009   0  555  100233  102       4  23  \n",
        "29     2707   3  937  100156   61       4  23  \n",
        "...     ...  ..  ...     ...  ...     ...  ..  \n",
        "77434  2264   3  425  100000   61       4  23  \n",
        "77435  2676   0  299  100177  221       4  23  \n",
        "77436  1895   0  681  100028  101       4  23  \n",
        "77437  2780   2   35      -1   23       4  23  \n",
        "77438  2716   3   47      -1   23       4  23  \n",
        "77439  2545   0  431      -1  221       4  23  \n",
        "77440  2545   0  431  100084  221       4  23  \n",
        "77441   571   2   39      -1   32       4  23  \n",
        "77442  2545   0  431      -1  221       4  23  \n",
        "77443  2545   0  431      -1  221       4  23  \n",
        "77444  2545   0  431  100084  221       4  23  \n",
        "77445  2351   3  163      -1   61       4  23  \n",
        "77446  2498   3   41  100111   61       4  23  \n",
        "77447  2545   0  431      -1  221       4  23  \n",
        "77448  2667   0   39      -1  221       4  23  \n",
        "77449  1974   2   39      -1   33       4  23  \n",
        "77450  2761   2   35      -1   13       4  23  \n",
        "77451  2060   3   39      -1   23       4  23  \n",
        "77452  2556   3  167  100200   23       4  23  \n",
        "77453  2307   3  163      -1   61       4  23  \n",
        "77454  1974   2   39  100019   33       4  23  \n",
        "77455  2351   3  163      -1   61       4  23  \n",
        "77456  2480   3  299  100111   61       4  23  \n",
        "77457  2545   0  431  100084  221       4  23  \n",
        "77458  2480   3  299  100111   61       4  23  \n",
        "77459  1994   2   39      -1   33       4  23  \n",
        "77460  2545   0  431  100084  221       4  23  \n",
        "77461  1994   2   39      -1   33       4  23  \n",
        "77462  2734   1  175  100189   71       4  23  \n",
        "77463  2545   0  431  100084  221       4  23  \n",
        "\n",
        "[77464 rows x 23 columns]\n"
       ]
      }
     ],
     "prompt_number": 20
    },
    {
     "cell_type": "code",
     "collapsed": false,
     "input": [],
     "language": "python",
     "metadata": {},
     "outputs": []
    }
   ],
   "metadata": {}
  }
 ]
}