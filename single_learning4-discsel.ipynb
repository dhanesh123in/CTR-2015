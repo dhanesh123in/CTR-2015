{
 "metadata": {
  "name": "",
  "signature": "sha256:c139b6e4334404a35696be0f22147cb0b6662a860ab15da5fc71a4c3fe175005"
 },
 "nbformat": 3,
 "nbformat_minor": 0,
 "worksheets": [
  {
   "cells": [
    {
     "cell_type": "code",
     "collapsed": false,
     "input": [
      "from sklearn.linear_model import SGDClassifier as sgd\n",
      "import pandas as pd\n",
      "import numpy as np\n",
      "import datetime as dt\n",
      "from sklearn.metrics import log_loss\n",
      "from sklearn.metrics import accuracy_score\n",
      "from sklearn.metrics import roc_auc_score as auc\n",
      "from sklearn.svm import SVC\n",
      "\n",
      "from sklearn.feature_extraction import DictVectorizer\n",
      "from sklearn.tree import DecisionTreeClassifier as dtc\n",
      "from sklearn.ensemble import RandomForestClassifier as rfc\n",
      "from sklearn.metrics import make_scorer\n",
      "from sklearn.grid_search import GridSearchCV\n",
      "from sklearn.cluster import KMeans"
     ],
     "language": "python",
     "metadata": {},
     "outputs": [],
     "prompt_number": 2
    },
    {
     "cell_type": "code",
     "collapsed": false,
     "input": [
      "llscore=make_scorer(log_loss,greater_is_better=False,needs_proba=True)\n",
      "\n",
      "#Making this truly supervised\n",
      "#Not tested yet..\n",
      "def discvarsel_sup(Xd,Y,supp=20,rtype='train',nlev=20,dmodel=None):\n",
      "    msk=Xd.dtypes=='object'\n",
      "    oplev=list()\n",
      "    kmn=[KMeans(random_state=0,n_clusters=nlev) for i in range(len(Xd.loc[:,msk].columns))]\n",
      "    xxs=list()\n",
      "    #print msk\n",
      "    for i in range(len(Xd.loc[:,msk].columns)):\n",
      "        colname=Xd.loc[:,msk].columns.values[i]\n",
      "        #print colname\n",
      "        \n",
      "        if rtype=='train':\n",
      "            xx=pd.DataFrame(pd.crosstab(Xd[colname],Y))\n",
      "            #print xx\n",
      "            #print xx.columns.values\n",
      "            #Compute conversion and number of points in each level\n",
      "            xx['conv']=xx[1]/(xx[1]+xx[0])\n",
      "            xx['total']=xx[0]+xx[1]\n",
      "            \n",
      "            if i==0:\n",
      "                #Compute base conversion and weight of evidence\n",
      "                bconv=np.sum(xx[1]).astype('float64')/(np.sum(xx[0]).astype('float64')+np.sum(xx[1]).astype('float64'))\n",
      "                bwoe=np.log(bconv/(1-bconv))\n",
      "                #print bconv\n",
      "\n",
      "            xx['woe']=np.log(xx['conv']/(1-xx['conv']))-bwoe\n",
      "\n",
      "            #Find infrequent levels\n",
      "            xy=xx.loc[xx['total']<supp,0].index\n",
      "            oplev.append(xy)\n",
      "            #print xy\n",
      "            \n",
      "            #Recompute crosstab after grouping infrequent levels as 'Others'\n",
      "            neg=0\n",
      "            pos=0\n",
      "            for xyi in xy:\n",
      "                print xyi,xx.loc[xyi,0],xx.loc[xyi,1]\n",
      "                neg+=xx.loc[xyi,0]\n",
      "                pos+=xx.loc[xyi,1]\n",
      "           \n",
      "            #olev=pd.DataFrame([neg,pos],columns=[0,1],index=['Others'])\n",
      "            olev=pd.DataFrame({0:neg,1:pos},index=['Others'])\n",
      "            olev['conv']=olev[1]/(olev[1]+olev[0])\n",
      "            olev['total']=olev[0]+olev[1]\n",
      "            olev['woe']=np.log(olev['conv']/(1-olev['conv']))-bwoe\n",
      "            \n",
      "            xx=xx.loc[xx['total']>=supp,:].append(olev)\n",
      "            print xx\n",
      "            xxs.append(xx)\n",
      "            #Group levels based on woe if cardinality is high\n",
      "            if (len(xx)>nlev):\n",
      "                kmn[i].fit(xx[['woe']])\n",
      "                #yy=kmn[i].predict(xx['woe'])\n",
      "            else:\n",
      "                kmn[i]=None\n",
      "            \n",
      "        else:\n",
      "            oplev=dmodel['oplev']\n",
      "            xy=oplev[i]\n",
      "            xx=dmodel['xxs'][i]\n",
      "            kmn=dmodel['kmn']\n",
      "        \n",
      "        #Rename infrequent levels to 'Others'\n",
      "        rind=Xd[colname].isin(xy)\n",
      "        Xd[colname].loc[rind]='Others'\n",
      "        #print Xd.shape\n",
      "        \n",
      "        #print Xd[colname].map(xx['woe'])\n",
      "        if kmn[i] is not None:\n",
      "            print kmn[i].labels_\n",
      "            xz=Xd[colname].map(xx['woe'])\n",
      "            Xd[colname]=kmn[i].predict(xz.reshape((len(Xd),1))).astype('a20')\n",
      "        \n",
      "    #print oplev\n",
      "    return dict(Xd=Xd,oplev=oplev,kmn=kmn,xxs=xxs)"
     ],
     "language": "python",
     "metadata": {},
     "outputs": [],
     "prompt_number": 73
    },
    {
     "cell_type": "code",
     "collapsed": false,
     "input": [
      "Xd=pd.DataFrame(['a','a','a','a','a','a','b','b','b','b','c','c'],columns=['xyz'])\n",
      "Y=np.array([1,1,0,1,0,0,1,1,0,1,1,0])\n",
      "XX=discvarsel_sup(Xd,Y,supp=3,rtype='train',nlev=2)\n",
      "print XX"
     ],
     "language": "python",
     "metadata": {},
     "outputs": [
      {
       "output_type": "stream",
       "stream": "stdout",
       "text": [
        "c 1.0 1.0\n",
        "col_0   0  1  conv  total       woe\n",
        "a       3  3  0.50      6 -0.336472\n",
        "b       1  3  0.75      4  0.762140\n",
        "Others  1  1  0.50      2 -0.336472\n",
        "0    -0.336472\n",
        "1    -0.336472\n",
        "2    -0.336472\n",
        "3    -0.336472\n",
        "4    -0.336472\n",
        "5    -0.336472\n",
        "6     0.762140\n",
        "7     0.762140\n",
        "8     0.762140\n",
        "9     0.762140\n",
        "10   -0.336472\n",
        "11   -0.336472\n",
        "Name: xyz, dtype: float64\n",
        "[0 1 0]\n",
        "{'xxs': [col_0   0  1  conv  total       woe\n",
        "a       3  3  0.50      6 -0.336472\n",
        "b       1  3  0.75      4  0.762140\n",
        "Others  1  1  0.50      2 -0.336472], 'kmn': [KMeans(copy_x=True, init='k-means++', max_iter=300, n_clusters=2, n_init=10,\n",
        "    n_jobs=1, precompute_distances=True, random_state=0, tol=0.0001,\n",
        "    verbose=0)], 'Xd':    xyz\n",
        "0    0\n",
        "1    0\n",
        "2    0\n",
        "3    0\n",
        "4    0\n",
        "5    0\n",
        "6    1\n",
        "7    1\n",
        "8    1\n",
        "9    1\n",
        "10   0\n",
        "11   0, 'oplev': [Index([u'c'], dtype='object')]}\n"
       ]
      }
     ],
     "prompt_number": 74
    },
    {
     "cell_type": "code",
     "collapsed": false,
     "input": [
      "colnames=['C1','banner_pos','site_id','site_domain','site_category','app_id','app_domain','app_category','device_id','device_ip','device_model','device_type','device_conn_type','C14','C15','C16','C17','C18','C19','C20','C21','weekday','hr']\n",
      "\n",
      "#Batched reading and learning\n",
      "batch=0\n",
      "nlines=0\n",
      "nlim=200000\n",
      "blim=5\n",
      "btrain=5\n",
      "X=np.zeros((nlim,26),dtype='a20')\n",
      "#supp=0.001*nlim #0.1%\n",
      "supp=50\n",
      "ll=0.0\n",
      "bconv=0.0\n",
      "\n",
      "\n",
      "#clf = sgd(random_state=123,alpha=0.001,loss='log')\n",
      "#clf = GridSearchCV(sgd(random_state=123,loss='log'),param_grid={'alpha':[0.1,0.01,0.001],'learning_rate':['invscaling'],'eta0':[2.5,3.5,4.5,5.5,6.5,7.5],'power_t':[0.75]},cv=5,scoring=llscore,n_jobs=-1)\n",
      "#clf = GridSearchCV(sgd(random_state=123,loss='log'),param_grid={'alpha':[0.1,0.01,0.001],'learning_rate':['invscaling'],'eta0':[1.5,2.0,2.5],'power_t':[0.75,1.0,1.25]},cv=5,scoring=llscore,n_jobs=-1)\n",
      "#clf = GridSearchCV(sgd(random_state=123,loss='log'),param_grid={'alpha':[0.1,0.01,0.001],'learning_rate':['constant','optimal','invscaling'],'eta0':[0.5,1.0,1.5],'power_t':[0.25,0.5,0.75]},cv=5,scoring=llscore,n_jobs=-1)\n",
      "#clf = GridSearchCV(sgd(random_state=123,loss='log'),param_grid={'alpha':[1e-3,1e-4,1e-5,1e-6]},scoring=llscore,n_jobs=-1)\n",
      "#vec = DictVectorizer(sparse=True)\n",
      "\n",
      "\n",
      "#clf = dtc(random_state=123)\n",
      "clf = GridSearchCV(dtc(random_state=123),param_grid={'min_samples_split':[20,50,100]},cv=5,scoring=llscore,n_jobs=1)\n",
      "#\n",
      "vec = DictVectorizer(sparse=False)\n",
      "\n",
      "with open(\"train_woheader.csv\",\"r\") as f:\n",
      "    for line in f:\n",
      "        \n",
      "        X[nlines,:24]=[str(xx.strip()) for xx in line.strip().split(',')]\n",
      "        #print X[nlines,:]\n",
      "        X[nlines,24]=str(dt.datetime.strptime(X[nlines,2],'%y%m%d%H').weekday())\n",
      "        X[nlines,25]=X[nlines,2][-2:]\n",
      "        nlines=nlines+1;\n",
      "        if (nlines==nlim):\n",
      "            print 'Processing batch '+str(batch+1)\n",
      "            batch=batch+1\n",
      "\n",
      "            Xd=pd.DataFrame(X[:,3:],columns=colnames)\n",
      "            #Xd.drop('device_id', axis=1, inplace=True)\n",
      "            #Xd.drop('device_ip', axis=1, inplace=True)\n",
      "            #Xd.drop('device_model', axis=1, inplace=True)\n",
      "            #Xd.drop('site_id', axis=1, inplace=True)\n",
      "            #Xd.drop('site_domain', axis=1, inplace=True)\n",
      "            #Xd.drop('app_id', axis=1, inplace=True)\n",
      "            #Xd.drop('app_domain', axis=1, inplace=True)\n",
      "           \n",
      "            Y=X[:,1].astype('int')\n",
      "            print float(np.sum(Y))/float(nlim)\n",
      "            #All the jazz goes here\n",
      "            if (batch==1):\n",
      "                print 'Running Dict Vectorizer fit transform'\n",
      "               \n",
      "\n",
      "                XY=discvarsel(Xd,Y,supp=supp,rtype='train')\n",
      "                Xd=XY['Xd']\n",
      "                oplev=XY['oplev']\n",
      "                kmns=XY['kmns']\n",
      "                xxs=XY['xxs']\n",
      "                del XY\n",
      "                #print XY\n",
      "                \n",
      "                X_sparse=vec.fit_transform(Xd.T.to_dict().values())\n",
      "                clf.fit(X_sparse,Y)\n",
      "            else:\n",
      "                print 'Running Dict Vectorizer transform alone'\n",
      "             \n",
      "                \n",
      "                XY=discvarsel(Xd,Y,supp=supp,rtype='predict',dmodel=dict(oplev=oplev,kmns=kmns,xxs=xxs))\n",
      "                Xd=XY['Xd']\n",
      "                del XY\n",
      "                \n",
      "                X_sparse=vec.transform(Xd.T.to_dict().values())\n",
      "\n",
      "            \n",
      "            ypred=clf.predict_proba(X_sparse)[:,1]\n",
      "            if (batch>1):\n",
      "                ll=ll+log_loss(Y,ypred)\n",
      "                bconv=bconv+float(np.sum(Y))/float(nlim)\n",
      "                bconva=bconv/float(batch-1)\n",
      "                print ll/float(batch-1),-(bconva*np.log(bconva)+(1-bconva)*np.log(1-bconva))\n",
      "            else:\n",
      "                bconva=float(np.sum(Y))/float(nlim)\n",
      "                print log_loss(Y,ypred),-(bconva*np.log(bconva)+(1-bconva)*np.log(1-bconva))\n",
      "            \n",
      "            nlines=0\n",
      "            X=np.zeros((nlim,26),dtype='a20')\n",
      "            #del X_sparse\n",
      "            \n",
      "            if (batch>=blim):\n",
      "                print \"Done.. aren't we?\"\n",
      "                f.close()\n",
      "                del X\n",
      "                break\n",
      "\n",
      "print 'Yes, we are..'"
     ],
     "language": "python",
     "metadata": {},
     "outputs": [
      {
       "output_type": "stream",
       "stream": "stdout",
       "text": [
        "Processing batch 1\n",
        "0.174755"
       ]
      },
      {
       "output_type": "stream",
       "stream": "stdout",
       "text": [
        "\n",
        "Running Dict Vectorizer fit transform\n",
        "0.411802953921"
       ]
      },
      {
       "output_type": "stream",
       "stream": "stdout",
       "text": [
        " 0.463346335498\n",
        "Processing batch 2"
       ]
      },
      {
       "output_type": "stream",
       "stream": "stdout",
       "text": [
        "\n",
        "0.157025"
       ]
      },
      {
       "output_type": "stream",
       "stream": "stdout",
       "text": [
        "\n",
        "Running Dict Vectorizer transform alone\n",
        "0.385784894792"
       ]
      },
      {
       "output_type": "stream",
       "stream": "stdout",
       "text": [
        " 0.434703557615\n",
        "Processing batch 3"
       ]
      },
      {
       "output_type": "stream",
       "stream": "stdout",
       "text": [
        "\n",
        "0.163115"
       ]
      },
      {
       "output_type": "stream",
       "stream": "stdout",
       "text": [
        "\n",
        "Running Dict Vectorizer transform alone\n",
        "0.393400409463"
       ]
      },
      {
       "output_type": "stream",
       "stream": "stdout",
       "text": [
        " 0.43978593714\n",
        "Processing batch 4"
       ]
      },
      {
       "output_type": "stream",
       "stream": "stdout",
       "text": [
        "\n",
        "0.156385"
       ]
      },
      {
       "output_type": "stream",
       "stream": "stdout",
       "text": [
        "\n",
        "Running Dict Vectorizer transform alone\n",
        "0.39371324935"
       ]
      },
      {
       "output_type": "stream",
       "stream": "stdout",
       "text": [
        " 0.43774409718\n",
        "Processing batch 5"
       ]
      },
      {
       "output_type": "stream",
       "stream": "stdout",
       "text": [
        "\n",
        "0.149815"
       ]
      },
      {
       "output_type": "stream",
       "stream": "stdout",
       "text": [
        "\n",
        "Running Dict Vectorizer transform alone\n",
        "0.391606111992"
       ]
      },
      {
       "output_type": "stream",
       "stream": "stdout",
       "text": [
        " 0.433963391564\n",
        "Done.. aren't we?\n",
        "Yes, we are..\n"
       ]
      }
     ],
     "prompt_number": 55
    },
    {
     "cell_type": "code",
     "collapsed": false,
     "input": [
      "#print clf.grid_scores_\n",
      "print clf.best_params_"
     ],
     "language": "python",
     "metadata": {},
     "outputs": [
      {
       "ename": "NameError",
       "evalue": "name 'clf' is not defined",
       "output_type": "pyerr",
       "traceback": [
        "\u001b[1;31m---------------------------------------------------------------------------\u001b[0m\n\u001b[1;31mNameError\u001b[0m                                 Traceback (most recent call last)",
        "\u001b[1;32m<ipython-input-1-66c731a662e2>\u001b[0m in \u001b[0;36m<module>\u001b[1;34m()\u001b[0m\n\u001b[0;32m      1\u001b[0m \u001b[1;31m#print clf.grid_scores_\u001b[0m\u001b[1;33m\u001b[0m\u001b[1;33m\u001b[0m\u001b[0m\n\u001b[1;32m----> 2\u001b[1;33m \u001b[1;32mprint\u001b[0m \u001b[0mclf\u001b[0m\u001b[1;33m.\u001b[0m\u001b[0mbest_params_\u001b[0m\u001b[1;33m\u001b[0m\u001b[0m\n\u001b[0m",
        "\u001b[1;31mNameError\u001b[0m: name 'clf' is not defined"
       ]
      }
     ],
     "prompt_number": 1
    },
    {
     "cell_type": "code",
     "collapsed": false,
     "input": [
      "##Prediction\n",
      "\n",
      "batch=0\n",
      "nlines=0\n",
      "nlim=100000\n",
      "#g=open(\"first_submission.csv\",'a')\n",
      "g=open(\"submission_11.csv\",'a')\n",
      "g.write(\"id,click\\n\")\n",
      "\n",
      "Yp=np.zeros((nlim,2),dtype='a20')\n",
      "X=np.zeros((nlim,25),dtype='a20')\n",
      "with open(\"test_woheader.csv\",\"r\") as f:\n",
      "    for line in f:\n",
      "        \n",
      "        X[nlines,:23]=[str(xx.strip()) for xx in line.strip().split(',')]\n",
      "        #print X[nlines,:]\n",
      "        X[nlines,23]=str(dt.datetime.strptime(X[nlines,1],'%y%m%d%H').weekday())\n",
      "        X[nlines,24]=X[nlines,1][-2:]\n",
      "        nlines=nlines+1;\n",
      "        if (nlines==nlim):\n",
      "            print 'Processing batch '+str(batch+1)\n",
      "            batch=batch+1\n",
      "\n",
      "            Xd=pd.DataFrame(X[:,2:],columns=colnames)\n",
      "                 \n",
      "            XY=discvarsel(Xd,Y,supp=supp,rtype='predict',dmodel=oplev)\n",
      "            Xd=XY['Xd']\n",
      "            del XY                \n",
      "                \n",
      "            X_sparse=vec.transform(Xd.T.to_dict().values())                        \n",
      "            ypred=clf.predict_proba(X_sparse)[:,1]\n",
      "            \n",
      "            #Output to file\n",
      "            Yp[:,0]=X[:,0]\n",
      "            Yp[:,1]=[str(xx) for xx in ypred]\n",
      "            np.savetxt(g,Yp,delimiter=',',fmt=\"%s\")\n",
      "            \n",
      "            nlines=0\n",
      "            X=np.zeros((nlim,25),dtype='a20')\n",
      "            del X_sparse\n",
      "            \n",
      "    else:\n",
      "        print \"Processing final batch..\"\n",
      "        \n",
      "        Xd=pd.DataFrame(X[:nlines,2:],columns=colnames)\n",
      "        \n",
      "        XY=discvarsel(Xd,Y,supp=supp,rtype='predict',dmodel=oplev)\n",
      "        Xd=XY['Xd']\n",
      "        del XY            \n",
      "            \n",
      "        X_sparse=vec.transform(Xd.T.to_dict().values())                        \n",
      "        ypred=clf.predict_proba(X_sparse)[:,1]\n",
      "\n",
      "        #Output to file\n",
      "        Yp=np.zeros((nlines,2),dtype='a20')\n",
      "        Yp[:,0]=X[:nlines,0]\n",
      "        Yp[:,1]=[str(xx) for xx in ypred]\n",
      "        np.savetxt(g,Yp,delimiter=',',fmt=\"%s\")\n",
      "        \n",
      "        f.close()\n",
      "        del X\n",
      "        del X_sparse\n",
      "\n",
      "print 'Yes, we are done..'\n",
      "g.close()"
     ],
     "language": "python",
     "metadata": {},
     "outputs": [
      {
       "output_type": "stream",
       "stream": "stdout",
       "text": [
        "Processing batch 1\n",
        "Processing batch 2"
       ]
      },
      {
       "output_type": "stream",
       "stream": "stdout",
       "text": [
        "\n",
        "Processing batch 3"
       ]
      },
      {
       "output_type": "stream",
       "stream": "stdout",
       "text": [
        "\n",
        "Processing batch 4"
       ]
      },
      {
       "output_type": "stream",
       "stream": "stdout",
       "text": [
        "\n",
        "Processing batch 5"
       ]
      },
      {
       "output_type": "stream",
       "stream": "stdout",
       "text": [
        "\n",
        "Processing batch 6"
       ]
      },
      {
       "output_type": "stream",
       "stream": "stdout",
       "text": [
        "\n",
        "Processing batch 7"
       ]
      },
      {
       "output_type": "stream",
       "stream": "stdout",
       "text": [
        "\n",
        "Processing batch 8"
       ]
      },
      {
       "output_type": "stream",
       "stream": "stdout",
       "text": [
        "\n",
        "Processing batch 9"
       ]
      },
      {
       "output_type": "stream",
       "stream": "stdout",
       "text": [
        "\n",
        "Processing batch 10"
       ]
      },
      {
       "output_type": "stream",
       "stream": "stdout",
       "text": [
        "\n",
        "Processing batch 11"
       ]
      },
      {
       "output_type": "stream",
       "stream": "stdout",
       "text": [
        "\n",
        "Processing batch 12"
       ]
      },
      {
       "output_type": "stream",
       "stream": "stdout",
       "text": [
        "\n",
        "Processing batch 13"
       ]
      },
      {
       "output_type": "stream",
       "stream": "stdout",
       "text": [
        "\n",
        "Processing batch 14"
       ]
      },
      {
       "output_type": "stream",
       "stream": "stdout",
       "text": [
        "\n",
        "Processing batch 15"
       ]
      },
      {
       "output_type": "stream",
       "stream": "stdout",
       "text": [
        "\n",
        "Processing batch 16"
       ]
      },
      {
       "output_type": "stream",
       "stream": "stdout",
       "text": [
        "\n",
        "Processing batch 17"
       ]
      },
      {
       "output_type": "stream",
       "stream": "stdout",
       "text": [
        "\n",
        "Processing batch 18"
       ]
      },
      {
       "output_type": "stream",
       "stream": "stdout",
       "text": [
        "\n",
        "Processing batch 19"
       ]
      },
      {
       "output_type": "stream",
       "stream": "stdout",
       "text": [
        "\n",
        "Processing batch 20"
       ]
      },
      {
       "output_type": "stream",
       "stream": "stdout",
       "text": [
        "\n",
        "Processing batch 21"
       ]
      },
      {
       "output_type": "stream",
       "stream": "stdout",
       "text": [
        "\n",
        "Processing batch 22"
       ]
      },
      {
       "output_type": "stream",
       "stream": "stdout",
       "text": [
        "\n",
        "Processing batch 23"
       ]
      },
      {
       "output_type": "stream",
       "stream": "stdout",
       "text": [
        "\n",
        "Processing batch 24"
       ]
      },
      {
       "output_type": "stream",
       "stream": "stdout",
       "text": [
        "\n",
        "Processing batch 25"
       ]
      },
      {
       "output_type": "stream",
       "stream": "stdout",
       "text": [
        "\n",
        "Processing batch 26"
       ]
      },
      {
       "output_type": "stream",
       "stream": "stdout",
       "text": [
        "\n",
        "Processing batch 27"
       ]
      },
      {
       "output_type": "stream",
       "stream": "stdout",
       "text": [
        "\n",
        "Processing batch 28"
       ]
      },
      {
       "output_type": "stream",
       "stream": "stdout",
       "text": [
        "\n",
        "Processing batch 29"
       ]
      },
      {
       "output_type": "stream",
       "stream": "stdout",
       "text": [
        "\n",
        "Processing batch 30"
       ]
      },
      {
       "output_type": "stream",
       "stream": "stdout",
       "text": [
        "\n",
        "Processing batch 31"
       ]
      },
      {
       "output_type": "stream",
       "stream": "stdout",
       "text": [
        "\n",
        "Processing batch 32"
       ]
      },
      {
       "output_type": "stream",
       "stream": "stdout",
       "text": [
        "\n",
        "Processing batch 33"
       ]
      },
      {
       "output_type": "stream",
       "stream": "stdout",
       "text": [
        "\n",
        "Processing batch 34"
       ]
      },
      {
       "output_type": "stream",
       "stream": "stdout",
       "text": [
        "\n",
        "Processing batch 35"
       ]
      },
      {
       "output_type": "stream",
       "stream": "stdout",
       "text": [
        "\n",
        "Processing batch 36"
       ]
      },
      {
       "output_type": "stream",
       "stream": "stdout",
       "text": [
        "\n",
        "Processing batch 37"
       ]
      },
      {
       "output_type": "stream",
       "stream": "stdout",
       "text": [
        "\n",
        "Processing batch 38"
       ]
      },
      {
       "output_type": "stream",
       "stream": "stdout",
       "text": [
        "\n",
        "Processing batch 39"
       ]
      },
      {
       "output_type": "stream",
       "stream": "stdout",
       "text": [
        "\n",
        "Processing batch 40"
       ]
      },
      {
       "output_type": "stream",
       "stream": "stdout",
       "text": [
        "\n",
        "Processing batch 41"
       ]
      },
      {
       "output_type": "stream",
       "stream": "stdout",
       "text": [
        "\n",
        "Processing batch 42"
       ]
      },
      {
       "output_type": "stream",
       "stream": "stdout",
       "text": [
        "\n",
        "Processing batch 43"
       ]
      },
      {
       "output_type": "stream",
       "stream": "stdout",
       "text": [
        "\n",
        "Processing batch 44"
       ]
      },
      {
       "output_type": "stream",
       "stream": "stdout",
       "text": [
        "\n",
        "Processing batch 45"
       ]
      },
      {
       "output_type": "stream",
       "stream": "stdout",
       "text": [
        "\n",
        "Processing final batch.."
       ]
      },
      {
       "output_type": "stream",
       "stream": "stdout",
       "text": [
        "\n",
        "Yes, we are done.."
       ]
      },
      {
       "output_type": "stream",
       "stream": "stdout",
       "text": [
        "\n"
       ]
      }
     ],
     "prompt_number": 56
    },
    {
     "cell_type": "code",
     "collapsed": false,
     "input": [
      "print X.shape"
     ],
     "language": "python",
     "metadata": {},
     "outputs": [
      {
       "output_type": "stream",
       "stream": "stdout",
       "text": [
        "(500000, 25)\n"
       ]
      }
     ],
     "prompt_number": 6
    },
    {
     "cell_type": "code",
     "collapsed": false,
     "input": [
      "print ypred\n",
      "print str(ypred)\n",
      "print Yp\n",
      "print Yp.shape"
     ],
     "language": "python",
     "metadata": {},
     "outputs": [
      {
       "output_type": "stream",
       "stream": "stdout",
       "text": [
        "[ 0.46489831  0.07854326  0.0756602  ...,  0.04772515  0.42495103\n",
        "  0.65019639]\n",
        "[ 0.46489831  0.07854326  0.0756602  ...,  0.04772515  0.42495103\n",
        "  0.65019639]\n",
        "[['9510208106256648442' '0.46489830732']\n",
        " ['9510220156644959724' '0.0785432608006']\n",
        " ['9510251116927882877' '0.0756601953443']\n",
        " ..., \n",
        " ['9642376792155260587' '0.0477251463872']\n",
        " ['9642413861222366631' '0.424951033153']\n",
        " ['9642841034791728010' '0.650196386064']]\n",
        "(100000, 2)\n"
       ]
      }
     ],
     "prompt_number": 17
    },
    {
     "cell_type": "code",
     "collapsed": false,
     "input": [
      "print Xd"
     ],
     "language": "python",
     "metadata": {},
     "outputs": [
      {
       "output_type": "stream",
       "stream": "stdout",
       "text": [
        "         C1 banner_pos   site_id site_domain site_category    app_id  \\\n",
        "0      1005          0  85f751fd    c4e18dd6      50e219e0  e9739828   \n",
        "1      1005          0  17d1b03f    f3845767      f028772b  ecad2386   \n",
        "2      1005          0  6c5b482c    7687a86e      3e814130  ecad2386   \n",
        "3      1005          0  17d1b03f    f3845767      f028772b  ecad2386   \n",
        "4      1010          1  85f751fd    c4e18dd6      50e219e0  c6eb993a   \n",
        "5      1005          0  85f751fd    c4e18dd6      50e219e0  51cedd4e   \n",
        "6      1005          0  85f751fd    c4e18dd6      50e219e0  9c13b419   \n",
        "7      1005          0  85f751fd    c4e18dd6      50e219e0  febd1138   \n",
        "8      1005          0  17d1b03f    f3845767      f028772b  ecad2386   \n",
        "9      1005          0  17d1b03f    f3845767      f028772b  ecad2386   \n",
        "10     1005          1  b7e9786d    b12b9f85      f028772b  ecad2386   \n",
        "11     1005          0  83a0ad1a    5c9ae867      f028772b  ecad2386   \n",
        "12     1005          0  17d1b03f    f3845767      f028772b  ecad2386   \n",
        "13     1005          0  85f751fd    c4e18dd6      50e219e0  ce183bbd   \n",
        "14     1005          0  17d1b03f    f3845767      f028772b  ecad2386   \n",
        "15     1005          0  85f751fd    c4e18dd6      50e219e0  51cedd4e   \n",
        "16     1005          0  85f751fd    c4e18dd6      50e219e0  685d1c4c   \n",
        "17     1005          0  85f751fd    c4e18dd6      50e219e0  92f5800b   \n",
        "18     1005          0  85f751fd    c4e18dd6      50e219e0  2bc6bb64   \n",
        "19     1005          0  85f751fd    c4e18dd6      50e219e0  51cedd4e   \n",
        "20     1005          0  17d1b03f    f3845767      f028772b  ecad2386   \n",
        "21     1005          0  85f751fd    c4e18dd6      50e219e0  65f37f55   \n",
        "22     1005          0  85f751fd    c4e18dd6      50e219e0  03528b27   \n",
        "23     1005          0  85f751fd    c4e18dd6      50e219e0  92f5800b   \n",
        "24     1005          0  17d1b03f    f3845767      f028772b  ecad2386   \n",
        "25     1005          0  85f751fd    c4e18dd6      50e219e0  467930e2   \n",
        "26     1005          1  e151e245    7e091613      f028772b  ecad2386   \n",
        "27     1005          0  17d1b03f    f3845767      f028772b  ecad2386   \n",
        "28     1005          1  85f751fd    c4e18dd6      50e219e0  1c4c71ef   \n",
        "29     1005          1  faf9c1c2    c8223ee3      f028772b  ecad2386   \n",
        "...     ...        ...       ...         ...           ...       ...   \n",
        "77434  1005          0  85f751fd    c4e18dd6      50e219e0  2d869bee   \n",
        "77435  1005          0  85f751fd    c4e18dd6      50e219e0  685d1c4c   \n",
        "77436  1005          0  85f751fd    c4e18dd6      50e219e0  381a6863   \n",
        "77437  1005          1  5ee41ff2    17d996e6      f028772b  ecad2386   \n",
        "77438  1005          0  85f751fd    c4e18dd6      50e219e0  9c13b419   \n",
        "77439  1005          0  17d1b03f    f3845767      f028772b  ecad2386   \n",
        "77440  1005          0  17d1b03f    f3845767      f028772b  ecad2386   \n",
        "77441  1005          0  85f751fd    c4e18dd6      50e219e0  e2fcccd2   \n",
        "77442  1005          0  17d1b03f    f3845767      f028772b  ecad2386   \n",
        "77443  1005          0  17d1b03f    f3845767      f028772b  ecad2386   \n",
        "77444  1005          0  17d1b03f    f3845767      f028772b  ecad2386   \n",
        "77445  1005          0  85f751fd    c4e18dd6      50e219e0  98fed791   \n",
        "77446  1005          0  85f751fd    c4e18dd6      50e219e0  13a901ff   \n",
        "77447  1005          0  17d1b03f    f3845767      f028772b  ecad2386   \n",
        "77448  1005          0  85f751fd    c4e18dd6      50e219e0  9c13b419   \n",
        "77449  1005          1  e151e245    7e091613      f028772b  ecad2386   \n",
        "77450  1005          0  1a5c1d83    5dddf09e      f028772b  ecad2386   \n",
        "77451  1005          0  85f751fd    c4e18dd6      50e219e0  9c13b419   \n",
        "77452  1005          0  85f751fd    c4e18dd6      50e219e0  685d1c4c   \n",
        "77453  1012          0  85f751fd    c4e18dd6      50e219e0  0443d75e   \n",
        "77454  1005          1  e151e245    7e091613      f028772b  ecad2386   \n",
        "77455  1005          0  85f751fd    c4e18dd6      50e219e0  98fed791   \n",
        "77456  1005          0  85f751fd    c4e18dd6      50e219e0  febd1138   \n",
        "77457  1005          0  17d1b03f    f3845767      f028772b  ecad2386   \n",
        "77458  1005          0  85f751fd    c4e18dd6      50e219e0  8dbc921a   \n",
        "77459  1005          0  93eaba74    7687a86e      3e814130  ecad2386   \n",
        "77460  1005          0  17d1b03f    f3845767      f028772b  ecad2386   \n",
        "77461  1005          0  5b08c53b    7687a86e      3e814130  ecad2386   \n",
        "77462  1005          0  85f751fd    c4e18dd6      50e219e0  92f5800b   \n",
        "77463  1005          0  17d1b03f    f3845767      f028772b  ecad2386   \n",
        "\n",
        "      app_domain app_category device_id device_ip    ...       C14  C15  C16  \\\n",
        "0       df32afa9     cef3e649  a99f214a  60e5e4f5    ...     24297  320   50   \n",
        "1       7801e8d9     07d7df22  a99f214a  c1256cf1    ...     22254  320   50   \n",
        "2       7801e8d9     07d7df22  a99f214a  431b3174    ...     17654  300  250   \n",
        "3       7801e8d9     07d7df22  a99f214a  473eabe8    ...     22261  320   50   \n",
        "4       7801e8d9     0f2161f8  80b47cf5  5cf90014    ...     20291  320   50   \n",
        "5       aefc06bd     0f2161f8  a99f214a  931a24f9    ...     24075  320   50   \n",
        "6       2347f47a     f95efa07  a99f214a  81887079    ...     23161  320   50   \n",
        "7       82e27996     0f2161f8  a99f214a  e1557eb9    ...     19743  320   50   \n",
        "8       7801e8d9     07d7df22  a99f214a  e0bdf4fb    ...     22254  320   50   \n",
        "9       7801e8d9     07d7df22  a99f214a  2980f384    ...     22104  320   50   \n",
        "10      7801e8d9     07d7df22  a99f214a  36ce6053    ...     22680  320   50   \n",
        "11      7801e8d9     07d7df22  a99f214a  f0219497    ...     20633  320   50   \n",
        "12      7801e8d9     07d7df22  a99f214a  1ad729b5    ...     22104  320   50   \n",
        "13      ae637522     cef3e649  a99f214a  152241fb    ...     24132  320   50   \n",
        "14      7801e8d9     07d7df22  a99f214a  8a014cbb    ...     22254  320   50   \n",
        "15      aefc06bd     0f2161f8  a99f214a  4c07b9b5    ...     19216  320   50   \n",
        "16      2347f47a     8ded1f7a  a99f214a  331f6864    ...     22196  320   50   \n",
        "17      ae637522     0f2161f8  a99f214a  fdd5f31e    ...     23855  320   50   \n",
        "18      7801e8d9     0f2161f8  a99f214a  56fab156    ...     23722  320   50   \n",
        "19      aefc06bd     0f2161f8  a99f214a  3836c2a8    ...     19743  320   50   \n",
        "20      7801e8d9     07d7df22  a99f214a  f4c14184    ...     22104  320   50   \n",
        "21      d9b5648e     0f2161f8  a99f214a  e6ffb1a2    ...     20508  320   50   \n",
        "22      2347f47a     8ded1f7a  a99f214a  434ead62    ...     24297  320   50   \n",
        "23      ae637522     0f2161f8  a99f214a  9fb85b43    ...     23855  320   50   \n",
        "24      7801e8d9     07d7df22  a99f214a  45dfc17a    ...     22261  320   50   \n",
        "25      d9b5648e     0f2161f8  a99f214a  7b23310d    ...     20984  320   50   \n",
        "26      7801e8d9     07d7df22  a99f214a  fbbb31c4    ...     24093  320   50   \n",
        "27      7801e8d9     07d7df22  a99f214a  3d4499a4    ...     22104  320   50   \n",
        "28      2347f47a     0f2161f8  d1752b48  d6ff3c5b    ...     17706  320   50   \n",
        "29      7801e8d9     07d7df22  a99f214a  d90a7774    ...     23626  320   50   \n",
        "...          ...          ...       ...       ...    ...       ...  ...  ...   \n",
        "77434   d9b5648e     0f2161f8  a99f214a  e2f0441a    ...     19743  320   50   \n",
        "77435   2347f47a     8ded1f7a  a99f214a  ca292b3c    ...     23737  320   50   \n",
        "77436   33da2e74     cef3e649  a99f214a  981392d4    ...     20751  320   50   \n",
        "77437   7801e8d9     07d7df22  a99f214a  f2911cf6    ...     24217  320   50   \n",
        "77438   2347f47a     f95efa07  a99f214a  7a5cb6b1    ...     23725  320   50   \n",
        "77439   7801e8d9     07d7df22  a99f214a  021ee8ca    ...     22254  320   50   \n",
        "77440   7801e8d9     07d7df22  a99f214a  c8568c01    ...     22257  320   50   \n",
        "77441   5c5a694b     0f2161f8  a99f214a  56b17f2a    ...      6558  320   50   \n",
        "77442   7801e8d9     07d7df22  a99f214a  e70afcc0    ...     22254  320   50   \n",
        "77443   7801e8d9     07d7df22  a99f214a  8f03f45e    ...     22261  320   50   \n",
        "77444   7801e8d9     07d7df22  a99f214a  7827449c    ...     22104  320   50   \n",
        "77445   d9b5648e     0f2161f8  a99f214a  a764434c    ...     20508  320   50   \n",
        "77446   7801e8d9     0f2161f8  8c54c4b6  659f633a    ...     21706  320   50   \n",
        "77447   7801e8d9     07d7df22  a99f214a  ceffea69    ...     22257  320   50   \n",
        "77448   2347f47a     f95efa07  a99f214a  89151252    ...     23160  320   50   \n",
        "77449   7801e8d9     07d7df22  a99f214a  1d216c13    ...     17747  320   50   \n",
        "77450   7801e8d9     07d7df22  a99f214a  78175599    ...     24085  320   50   \n",
        "77451   2347f47a     f95efa07  a99f214a  9316a0eb    ...     18091  320   50   \n",
        "77452   2347f47a     8ded1f7a  a99f214a  de847033    ...     22193  320   50   \n",
        "77453   7801e8d9     07d7df22  506e33ad  9ed637bc    ...     20153  320   50   \n",
        "77454   7801e8d9     07d7df22  a99f214a  0eeb6185    ...     17747  320   50   \n",
        "77455   d9b5648e     0f2161f8  a99f214a  edc9cd89    ...     20508  320   50   \n",
        "77456   82e27996     0f2161f8  a99f214a  70dc9968    ...     24075  320   50   \n",
        "77457   7801e8d9     07d7df22  a99f214a  418dd0d2    ...     22261  320   50   \n",
        "77458   d9b5648e     0f2161f8  a99f214a  83d0504d    ...     21611  320   50   \n",
        "77459   7801e8d9     07d7df22  a99f214a  bcc9bcf5    ...     17654  300  250   \n",
        "77460   7801e8d9     07d7df22  a99f214a  1ff55d5e    ...     22104  320   50   \n",
        "77461   7801e8d9     07d7df22  a99f214a  bfef0578    ...     17654  300  250   \n",
        "77462   ae637522     0f2161f8  a99f214a  66f14444    ...     23857  320   50   \n",
        "77463   7801e8d9     07d7df22  a99f214a  127c3710    ...     22254  320   50   \n",
        "\n",
        "        C17 C18  C19     C20  C21 weekday  hr  \n",
        "0      2787   3  171  100161  240       4  23  \n",
        "1      2545   0  431  100084  221       4  23  \n",
        "2      1994   2   39      -1   33       4  23  \n",
        "3      2545   0  431      -1  221       4  23  \n",
        "4      2325   3  801      -1   42       4  23  \n",
        "5      2480   3  299  100111   61       4  23  \n",
        "6      2667   0   39      -1  221       4  23  \n",
        "7      2264   3  425  100000   61       4  23  \n",
        "8      2545   0  431      -1  221       4  23  \n",
        "9      2545   0  431  100084  221       4  23  \n",
        "10     2528   0  167  100079  221       4  23  \n",
        "11     2374   3   39      -1   23       4  23  \n",
        "12     2545   0  431      -1  221       4  23  \n",
        "13     2768   1  175  100192   71       4  23  \n",
        "14     2545   0  431      -1  221       4  23  \n",
        "15      863   3  169  100105   61       4  23  \n",
        "16     2556   3  167  100200   23       4  23  \n",
        "17     2734   1  175  100189   71       4  23  \n",
        "18     2716   3   47  100212   23       4  23  \n",
        "19     2264   3  425  100000   61       4  23  \n",
        "20     2545   0  431  100084  221       4  23  \n",
        "21     2351   3  163  100020   61       4  23  \n",
        "22     2787   3  171  100161  240       4  23  \n",
        "23     2734   1  175  100192   71       4  23  \n",
        "24     2545   0  431  100084  221       4  23  \n",
        "25     2371   0  559      -1   46       4  23  \n",
        "26     2761   2   35  100148   13       4  23  \n",
        "27     2545   0  431  100084  221       4  23  \n",
        "28     2009   0  555  100233  102       4  23  \n",
        "29     2707   3  937  100156   61       4  23  \n",
        "...     ...  ..  ...     ...  ...     ...  ..  \n",
        "77434  2264   3  425  100000   61       4  23  \n",
        "77435  2676   0  299  100177  221       4  23  \n",
        "77436  1895   0  681  100028  101       4  23  \n",
        "77437  2780   2   35      -1   23       4  23  \n",
        "77438  2716   3   47      -1   23       4  23  \n",
        "77439  2545   0  431      -1  221       4  23  \n",
        "77440  2545   0  431  100084  221       4  23  \n",
        "77441   571   2   39      -1   32       4  23  \n",
        "77442  2545   0  431      -1  221       4  23  \n",
        "77443  2545   0  431      -1  221       4  23  \n",
        "77444  2545   0  431  100084  221       4  23  \n",
        "77445  2351   3  163      -1   61       4  23  \n",
        "77446  2498   3   41  100111   61       4  23  \n",
        "77447  2545   0  431      -1  221       4  23  \n",
        "77448  2667   0   39      -1  221       4  23  \n",
        "77449  1974   2   39      -1   33       4  23  \n",
        "77450  2761   2   35      -1   13       4  23  \n",
        "77451  2060   3   39      -1   23       4  23  \n",
        "77452  2556   3  167  100200   23       4  23  \n",
        "77453  2307   3  163      -1   61       4  23  \n",
        "77454  1974   2   39  100019   33       4  23  \n",
        "77455  2351   3  163      -1   61       4  23  \n",
        "77456  2480   3  299  100111   61       4  23  \n",
        "77457  2545   0  431  100084  221       4  23  \n",
        "77458  2480   3  299  100111   61       4  23  \n",
        "77459  1994   2   39      -1   33       4  23  \n",
        "77460  2545   0  431  100084  221       4  23  \n",
        "77461  1994   2   39      -1   33       4  23  \n",
        "77462  2734   1  175  100189   71       4  23  \n",
        "77463  2545   0  431  100084  221       4  23  \n",
        "\n",
        "[77464 rows x 23 columns]\n"
       ]
      }
     ],
     "prompt_number": 20
    },
    {
     "cell_type": "code",
     "collapsed": false,
     "input": [],
     "language": "python",
     "metadata": {},
     "outputs": []
    }
   ],
   "metadata": {}
  }
 ]
}