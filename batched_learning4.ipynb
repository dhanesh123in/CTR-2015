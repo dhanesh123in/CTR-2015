{
 "metadata": {
  "name": "",
  "signature": "sha256:7e11538f2d5cce9c1d1dee002ea144696ce26762f15e360e183058267b89301f"
 },
 "nbformat": 3,
 "nbformat_minor": 0,
 "worksheets": [
  {
   "cells": [
    {
     "cell_type": "code",
     "collapsed": false,
     "input": [
      "from sklearn.linear_model import SGDClassifier as sgd\n",
      "from sklearn.svm import SVC\n",
      "import pandas as pd\n",
      "import numpy as np\n",
      "import datetime as dt\n",
      "from sklearn.metrics import log_loss\n",
      "from sklearn.metrics import accuracy_score\n",
      "from sklearn.metrics import roc_auc_score\n",
      "from sklearn.ensemble import RandomForestClassifier as rfc\n",
      "from sklearn.ensemble import BaggingClassifier as bagC\n",
      "\n",
      "from sklearn.feature_selection import chi2\n",
      "from sklearn.feature_extraction import DictVectorizer\n",
      "from sklearn.preprocessing import OneHotEncoder\n",
      "from sklearn.ensemble import AdaBoostClassifier as abc\n",
      "\n",
      "colnames=['C1','banner_pos','site_id','site_domain','site_category','app_id','app_domain','app_category','device_id','device_ip','device_model','device_type','device_conn_type','C14','C15','C16','C17','C18','C19','C20','C21','weekday','hr']\n",
      "vec = DictVectorizer(sparse=True)\n",
      "#vec = OneHotEncoder(sparse=True)\n",
      "#clf = bnb()\n",
      "#clf = pac(random_state=0)\n",
      "#clf = sgd(random_state=0)\n",
      "#clf = sgd(random_state=0,loss='log')\n",
      "#clf = sgd(random_state=0,loss='log',penalty='l1',verbose=1)\n",
      "clf = sgd(random_state=0,loss='log',warm_start=True,shuffle=True,n_iter=10,learning_rate='invscaling',eta0=1.0,power_t=0.5)\n",
      "#clf = sgd(random_state=123,loss='log',shuffle=True,warm_start=True,class_weight={0:0.4,1:0.6})\n",
      "#clf = SVC(C=10000,random_state=123,verbose=True, probability=True,shrinking=False,cache_size=1024,class_weight='auto')\n",
      "#clf = abc(sgd(random_state=0,loss='log',shuffle=False,n_iter=1,class_weight={0:0.9,1:0.1}),random_state=0,learning_rate=1,n_estimators=20)\n",
      "#clf = abc(SVC(kernel='linear',verbose=True,probability=True),random_state=0)\n",
      "#clf = abc(rfc(n_estimators=10,min_samples_split=20, min_samples_leaf=10, max_features='auto', max_leaf_nodes=None, bootstrap=True, oob_score=False, n_jobs=1, random_state=0),random_state=0)\n",
      "#clf = bagC(base_estimator=SVC(random_state=0,verbose=True,probability=True,shrinking=False), n_estimators=10, max_samples=1.0, max_features=200, bootstrap=True, bootstrap_features=True, oob_score=False, n_jobs=-1, random_state=0, verbose=1)\n",
      "\n",
      "#Batched reading and learning\n",
      "batch=0\n",
      "nlines=0\n",
      "nlim=200000\n",
      "blim=5\n",
      "btrain=1\n",
      "X=np.zeros((nlim,26),dtype='a20')\n",
      "pcutoff=0.5\n",
      "\n",
      "with open(\"train_noh_pre28_R.csv\",\"r\") as f:\n",
      "    for line in f:\n",
      "        \n",
      "        X[nlines,:24]=[str(xx) for xx in line.strip().split(',')]\n",
      "        #print X[nlines,:]\n",
      "        X[nlines,24]=str(dt.datetime.strptime(X[nlines,2],'%y%m%d%H').weekday())\n",
      "        X[nlines,25]=X[nlines,2][-2:]\n",
      "        nlines=nlines+1;\n",
      "        if (nlines==nlim):\n",
      "            print 'Processing batch '+str(batch+1)\n",
      "            batch=batch+1\n",
      "\n",
      "            Xd=pd.DataFrame(X[:,3:],columns=colnames)\n",
      "\n",
      "            #Xd.drop('site_id', axis=1, inplace=True)\n",
      "            #Xd.drop('app_id', axis=1, inplace=True)\n",
      "            #Xd.drop('device_id', axis=1, inplace=True)\n",
      "            #Xd.drop('device_ip', axis=1, inplace=True)\n",
      "            \n",
      "            Y=X[:,1].astype('int')\n",
      "            \n",
      "            if (batch==1):\n",
      "                X_sparse=vec.fit_transform(Xd.T.to_dict().values())\n",
      "                #X_sparse=vec.fit_transform(Xd) \n",
      "                #vsel=chi2(X_sparse,Y)\n",
      "                #print len(vsel[1]),sum(vsel[1]<pcutoff)\n",
      "                #X_s=X_sparse[:,vsel[1]<pcutoff]    \n",
      "                clf.fit(X_sparse,Y)\n",
      "                #clf.partial_fit(X_sparse,Y,classes=[0,1])\n",
      "            else:\n",
      "                X_sparse=vec.transform(Xd.T.to_dict().values())\n",
      "                #X_s=X_sparse[:,vsel[1]<pcutoff]\n",
      "            \n",
      "        \n",
      "            ypred=clf.predict_proba(X_sparse)[:,1]\n",
      "            #lpred=clf.predict(X_sparse)\n",
      "            \n",
      "            #print clf.score(X_sparse,Y), accuracy_score(Y,lpred), log_loss(Y,ypred)\n",
      "            print clf.score(X_sparse,Y), log_loss(Y,ypred), roc_auc_score(Y,ypred)\n",
      "            \n",
      "            nlines=0\n",
      "            X=np.zeros((nlim,26),dtype='a20')\n",
      "            del X_sparse\n",
      "            #del X_s\n",
      "            \n",
      "            if (batch>=blim):\n",
      "                print \"Done.. aren't we?\"\n",
      "                f.close()\n",
      "                del X\n",
      "                break\n",
      "\n",
      "print 'Yes, we are..'"
     ],
     "language": "python",
     "metadata": {},
     "outputs": [
      {
       "output_type": "stream",
       "stream": "stdout",
       "text": [
        "Processing batch 1\n",
        "0.82744"
       ]
      },
      {
       "output_type": "stream",
       "stream": "stdout",
       "text": [
        " 0.411127103455 "
       ]
      },
      {
       "output_type": "stream",
       "stream": "stdout",
       "text": [
        "0.737827681196\n",
        "Processing batch 2"
       ]
      },
      {
       "output_type": "stream",
       "stream": "stdout",
       "text": [
        "\n",
        "0.82818"
       ]
      },
      {
       "output_type": "stream",
       "stream": "stdout",
       "text": [
        " 0.415002777819 "
       ]
      },
      {
       "output_type": "stream",
       "stream": "stdout",
       "text": [
        "0.724243257673\n",
        "Processing batch 3"
       ]
      },
      {
       "output_type": "stream",
       "stream": "stdout",
       "text": [
        "\n",
        "0.82666"
       ]
      },
      {
       "output_type": "stream",
       "stream": "stdout",
       "text": [
        " 0.416201473993 "
       ]
      },
      {
       "output_type": "stream",
       "stream": "stdout",
       "text": [
        "0.72461291173\n",
        "Processing batch 4"
       ]
      },
      {
       "output_type": "stream",
       "stream": "stdout",
       "text": [
        "\n",
        "0.828555"
       ]
      },
      {
       "output_type": "stream",
       "stream": "stdout",
       "text": [
        " 0.413658222496 "
       ]
      },
      {
       "output_type": "stream",
       "stream": "stdout",
       "text": [
        "0.726197819103\n",
        "Processing batch 5"
       ]
      },
      {
       "output_type": "stream",
       "stream": "stdout",
       "text": [
        "\n",
        "0.827495"
       ]
      },
      {
       "output_type": "stream",
       "stream": "stdout",
       "text": [
        " 0.41518637317 "
       ]
      },
      {
       "output_type": "stream",
       "stream": "stdout",
       "text": [
        "0.725866827499\n",
        "Done.. aren't we?\n",
        "Yes, we are..\n"
       ]
      }
     ],
     "prompt_number": 1
    },
    {
     "cell_type": "code",
     "collapsed": false,
     "input": [
      "Xd1=Xd.join(pd.DataFrame(Y,columns=['click']))\n",
      "print Xd1\n",
      "#print pd.DataFrame(Y,columns=['click'])\n"
     ],
     "language": "python",
     "metadata": {},
     "outputs": []
    },
    {
     "cell_type": "code",
     "collapsed": false,
     "input": [
      "xx=list(Xd1.columns.values)\n",
      "print Xd1['click'].sum()/Xd1['click'].count().astype('float')\n",
      "for i in range(len(colnames)):\n",
      "    Xd2=Xd1[[xx[i],'click']]\n",
      "    print '---'+xx[i]+'---'\n",
      "    Xd2g=Xd2.groupby(xx[i],sort=True)\n",
      "    print (Xd2g.sum()/Xd2g.count().astype('float'))"
     ],
     "language": "python",
     "metadata": {},
     "outputs": [
      {
       "output_type": "stream",
       "stream": "stdout",
       "text": [
        "0.17513\n",
        "---C1---\n",
        "         click\n",
        "C1            \n",
        "1001  0.037736\n",
        "1002  0.210428\n",
        "1005  0.175127\n",
        "1007  0.014423\n",
        "1008  0.153846\n",
        "1010  0.097533\n",
        "1012  0.153578\n",
        "---banner_pos---\n",
        "               click\n",
        "banner_pos          \n",
        "0           0.170729\n",
        "1           0.186365\n",
        "2           0.093750\n",
        "3           0.000000\n",
        "4           0.176471\n",
        "5           0.153846\n",
        "7           0.381443"
       ]
      },
      {
       "output_type": "stream",
       "stream": "stdout",
       "text": [
        "\n",
        "---site_id---\n",
        "             click\n",
        "site_id           \n",
        "00255fb4  0.000000\n",
        "006ab81e  0.000000\n",
        "00f648b7  0.142857\n",
        "011e5414  0.000000\n",
        "01270328  0.309524\n",
        "0129a661  0.000000\n",
        "014428c1  0.125000\n",
        "019de78a  0.333333\n",
        "021cd138  0.358974\n",
        "02296256  0.000000\n",
        "0234a6fa  0.428571\n",
        "023f3644  0.000000\n",
        "02546dd5  0.000000\n",
        "0273c5ad  0.062500\n",
        "02a66025  0.000000\n",
        "02d5151c  0.047619\n",
        "02d5ce7e  0.500000\n",
        "02e16f58  0.000000\n",
        "02fb33fd  0.071429\n",
        "030095a6  0.000000\n",
        "030440fe  0.046512\n",
        "030fed15  0.166667\n",
        "0329000f  0.000000\n",
        "0338ff60  0.000000\n",
        "037e2e14  0.000000\n",
        "03acccd7  0.000000\n",
        "03cecb5d  0.142857\n",
        "04773863  0.000000\n",
        "05b69cd5  0.111111\n",
        "05c65e53  0.426230\n",
        "...            ...\n",
        "fd309fe8  0.176471\n",
        "fd7011c5  0.000000\n",
        "fd9bd76c  0.111111\n",
        "fda21062  0.000000\n",
        "fde4f19d  0.333333\n",
        "fe16ee49  0.000000\n",
        "fe290a08  0.000000\n",
        "fe2e8046  0.000000\n",
        "fe68d958  0.000000\n",
        "fe8cc448  0.050847\n",
        "feb793b0  0.500000\n",
        "fec6e632  0.121655\n",
        "fee8da23  0.000000\n",
        "fefe6fb9  0.400000\n",
        "ff0784fb  0.666667\n",
        "ff18c3d1  0.250000\n",
        "ff1bcc6f  0.333333\n",
        "ff361da0  0.060976\n",
        "ff55c4ea  0.000000\n",
        "ff59665c  0.000000\n",
        "ff61c6a9  0.181818\n",
        "ff9bcf52  0.000000\n",
        "ff9d066a  0.100000\n",
        "ffa0a3ef  0.000000\n",
        "ffb2c209  0.088235\n",
        "ffc29ba5  0.000000\n",
        "ffc6e801  0.000000\n",
        "ffcb6b9a  0.151515\n",
        "ffcff165  0.250000\n",
        "fffe8e1c  0.000000\n",
        "\n",
        "[1804 rows x 1 columns]\n",
        "---site_domain---"
       ]
      },
      {
       "output_type": "stream",
       "stream": "stdout",
       "text": [
        "\n",
        "                click\n",
        "site_domain          \n",
        "005b495a     0.533333\n",
        "00606305     0.000000\n",
        "0064e9b7     1.000000\n",
        "00847768     0.000000\n",
        "00863f59     0.000000\n",
        "00abf1a6     0.000000\n",
        "00dda4fc     0.000000\n",
        "00e1b9c0     0.640000\n",
        "0150cc3e     0.239130\n",
        "0169026e     0.333333\n",
        "0180918f     0.000000\n",
        "01c42f0d     0.000000\n",
        "01cb1dc6     0.133333\n",
        "01f9b380     0.000000\n",
        "02010bf3     0.000000\n",
        "021dbcbe     0.500000\n",
        "022ab9c6     0.000000\n",
        "0245cb85     0.333333\n",
        "026faf38     1.000000\n",
        "0316bf4f     0.176471\n",
        "035145a1     0.000000\n",
        "036036d1     0.000000\n",
        "038690b2     1.000000\n",
        "03cc62db     0.000000\n",
        "0445c666     0.062500\n",
        "047f7e80     0.000000\n",
        "0483d223     0.000000\n",
        "0487833f     0.000000\n",
        "04abaa31     0.000000\n",
        "04caff05     0.000000\n",
        "...               ...\n",
        "fcc13576     0.000000\n",
        "fccf1d54     0.250000\n",
        "fce866df     0.100000\n",
        "fd0f18e8     0.133333\n",
        "fd0fa362     0.212121\n",
        "fd13bc73     0.153846\n",
        "fd52567a     1.000000\n",
        "fd944963     0.282609\n",
        "fda1a9ff     0.600000\n",
        "fdce6734     0.000000\n",
        "fdd17d86     1.000000\n",
        "fdd2be2c     0.000000\n",
        "fdfb56e9     0.000000\n",
        "fdfba634     0.000000\n",
        "fe02c12a     0.000000\n",
        "fe050e52     0.500000\n",
        "fe0dbe1c     0.333333\n",
        "fe12b06c     0.142857\n",
        "fe3e9d9a     0.000000\n",
        "fe672e8a     0.000000\n",
        "fe7806d9     1.000000\n",
        "fec36d8a     0.000000\n",
        "fed83882     0.000000\n",
        "feebf083     0.000000\n",
        "ff11cb55     0.000000\n",
        "ff15329c     0.272727\n",
        "ff3c109d     0.350000\n",
        "ff8c5d6f     0.000000\n",
        "ffb2d478     0.500000\n",
        "fff602a2     0.428571\n",
        "\n",
        "[1686 rows x 1 columns]\n",
        "---site_category---\n",
        "                  click\n",
        "site_category          \n",
        "0569f928       0.057471\n",
        "28905ebd       0.210314\n",
        "335d28a8       0.089124\n",
        "3e814130       0.283493\n",
        "42a36e14       0.400000\n",
        "50e219e0       0.131268\n",
        "5378d028       0.000000\n",
        "70fb0e29       0.154762\n",
        "72722551       0.100671\n",
        "75fa27f6       0.159664\n",
        "76b2941d       0.059701\n",
        "8fd0aea4       0.000000\n",
        "9ccfa2ea       0.000000\n",
        "a818d37a       0.000000\n",
        "bcf865d9       0.500000\n",
        "c0dd3be3       0.178082\n",
        "dedf689d       0.548148\n",
        "e787de0e       0.111111\n",
        "f028772b       0.183573\n",
        "f66779e6       0.034925"
       ]
      },
      {
       "output_type": "stream",
       "stream": "stdout",
       "text": [
        "\n",
        "---app_id---\n",
        "             click\n",
        "app_id            \n",
        "000d6291  0.000000\n",
        "00848fac  0.000000\n",
        "0091c84c  0.000000\n",
        "00a55543  0.000000\n",
        "00f15a2d  0.000000\n",
        "013d2249  0.000000\n",
        "0161ca39  0.000000\n",
        "019f1849  0.032258\n",
        "01ab369d  0.000000\n",
        "01c579c9  0.000000\n",
        "01c65a69  0.800000\n",
        "01f2b4d0  0.333333\n",
        "02004d3b  1.000000\n",
        "02877ec6  0.000000\n",
        "02d92985  0.000000\n",
        "0305e7e9  0.000000\n",
        "032af526  0.000000\n",
        "03528b27  0.142518\n",
        "03641a6d  0.000000\n",
        "036fba6e  0.000000\n",
        "039ee4c4  0.000000\n",
        "03a08c3f  0.066667\n",
        "042eea26  0.000000\n",
        "044d01ed  0.000000\n",
        "0476d862  1.000000\n",
        "047c31d2  0.000000\n",
        "048694ff  0.000000\n",
        "049c8c59  0.000000\n",
        "04a42d76  0.000000\n",
        "04d13a4e  0.000000\n",
        "...            ...\n",
        "fa5bb387  0.500000\n",
        "fa6af97e  0.000000\n",
        "fa8b6d03  0.142857\n",
        "faaafc75  0.222222\n",
        "fab82aad  0.000000\n",
        "faeea4b0  0.000000\n",
        "fb78dec0  0.000000\n",
        "fb7c70a3  0.226351\n",
        "fb89e1fc  0.000000\n",
        "fbbccc58  0.111111\n",
        "fc096fbd  0.000000\n",
        "fc160a49  0.000000\n",
        "fc46e1c5  0.273684\n",
        "fc6dc16f  0.000000\n",
        "fc94c422  0.000000\n",
        "fce64fd5  0.000000\n",
        "fd580d99  0.250000\n",
        "fd5f799a  0.000000\n",
        "fe40cf66  1.000000\n",
        "fe61454b  0.000000\n",
        "fe83ba4b  0.000000\n",
        "fe950ed2  0.571429\n",
        "feb2dcdb  0.000000\n",
        "febd1138  0.049159\n",
        "ff2487c8  0.000000\n",
        "ff665dfa  0.000000\n",
        "ff8e002b  0.000000\n",
        "ffc6ffd0  0.105105\n",
        "ffd93177  0.000000\n",
        "ffdb187c  0.000000\n",
        "\n",
        "[1765 rows x 1 columns]\n",
        "---app_domain---"
       ]
      },
      {
       "output_type": "stream",
       "stream": "stdout",
       "text": [
        "\n",
        "               click\n",
        "app_domain          \n",
        "063914ab    0.000000\n",
        "0654b444    0.206061\n",
        "06a7ad59    0.000000\n",
        "0d79ee56    0.200000\n",
        "0e8616ad    0.077362\n",
        "15c23f8e    0.000000\n",
        "15ec7f39    0.025641\n",
        "18eb4e75    0.000000\n",
        "1b74784d    0.000000\n",
        "1cbecd39    0.000000\n",
        "1d5e09f4    0.000000\n",
        "1ea19ec4    0.000000\n",
        "1ed56ded    0.000000\n",
        "2022d54e    0.000000\n",
        "2347f47a    0.141195\n",
        "23e2c80e    0.000000\n",
        "256a5990    0.000000\n",
        "2619a4f7    0.000000\n",
        "27ee373d    0.000000\n",
        "28269d80    0.000000\n",
        "29cd071c    0.000000\n",
        "2b627705    0.142857\n",
        "2c1c31c6    0.000000\n",
        "33da2e74    0.133995\n",
        "38462a94    0.000000\n",
        "3c992420    0.000000\n",
        "3ca588d4    0.000000\n",
        "3feeed1e    0.000000\n",
        "43cf4f06    0.023256\n",
        "44324ff4    1.000000\n",
        "...              ...\n",
        "c6824def    0.028037\n",
        "c87b28e6    0.000000\n",
        "c91a8f07    0.000000\n",
        "cb36afb8    0.000000\n",
        "cda96d46    0.000000\n",
        "d18c63a1    0.000000\n",
        "d6feb1a4    0.000000\n",
        "d9b5648e    0.113939\n",
        "d9e67b62    0.000000\n",
        "da45f10e    0.000000\n",
        "db829551    0.000000\n",
        "dbf5ab77    0.000000\n",
        "dcdba109    0.000000\n",
        "df32afa9    0.026616\n",
        "e5d5313f    0.142857\n",
        "e787a6bc    0.000000\n",
        "ead20d3d    0.000000\n",
        "ee7d2e2b    0.000000\n",
        "ef1fc174    0.000000\n",
        "f2f777fb    0.080000\n",
        "f3ad7798    0.200000\n",
        "f435cae0    0.000000\n",
        "f48b6635    0.000000\n",
        "f7f22564    0.000000\n",
        "f91396ac    0.000000\n",
        "fc41b20c    0.000000\n",
        "fd0f197b    0.000000\n",
        "fd53c2dc    0.000000\n",
        "fd5f0ee2    0.000000\n",
        "fdbdd2a9    0.000000\n",
        "\n",
        "[131 rows x 1 columns]\n",
        "---app_category---\n",
        "                 click\n",
        "app_category          \n",
        "07d7df22      0.203609\n",
        "09481d60      0.172775\n",
        "0bfbc358      0.166667\n",
        "0f2161f8      0.111137\n",
        "0f9a328c      0.194444\n",
        "18b1e0be      0.000000\n",
        "2281a340      0.000000\n",
        "2fc4f2aa      0.000000\n",
        "4681bb9d      0.128205\n",
        "4ce2e9fc      0.115789\n",
        "75d80bbe      0.110000\n",
        "79f0b860      0.000000\n",
        "879c24eb      0.072464\n",
        "8ded1f7a      0.112067\n",
        "8df2e842      0.142857\n",
        "a3c42688      0.000000\n",
        "a7fd01ec      0.400000\n",
        "a86a3e89      0.200000\n",
        "cef3e649      0.106903\n",
        "d1327cf5      0.095779\n",
        "dc97ec06      0.237410\n",
        "f95efa07      0.216113\n",
        "fc6fa53d      0.065041"
       ]
      },
      {
       "output_type": "stream",
       "stream": "stdout",
       "text": [
        "\n",
        "---device_id---\n",
        "           click\n",
        "device_id       \n",
        "0001bfbd     0.0\n",
        "000364ff     0.0\n",
        "0003a33b     0.0\n",
        "00062f56     0.0\n",
        "00098b7a     0.0\n",
        "0009a7a7     0.0\n",
        "000a34a9     1.0\n",
        "000ad535     0.0\n",
        "000e4853     0.0\n",
        "000e5b39     0.0\n",
        "0015b5a4     0.0\n",
        "0016b9a7     0.0\n",
        "0016def3     0.0\n",
        "00171260     0.0\n",
        "001758bd     0.0\n",
        "00195e51     0.0\n",
        "001ae66c     0.0\n",
        "001b5289     0.0\n",
        "001ef92a     1.0\n",
        "0022fc4e     0.0\n",
        "002880ab     0.0\n",
        "002a5839     0.0\n",
        "002a910a     1.0\n",
        "002d44c6     0.0\n",
        "0035dcdb     0.0\n",
        "0039169a     1.0\n",
        "003aa041     0.0\n",
        "003bf29e     0.0\n",
        "003c040a     0.0\n",
        "003ddc26     1.0\n",
        "...          ...\n",
        "ffc1a8fc     0.0\n",
        "ffc73caa     0.0\n",
        "ffcf8ece     0.0\n",
        "ffd1619e     0.0\n",
        "ffd2aef4     0.0\n",
        "ffd80afe     0.0\n",
        "ffd88b00     0.0\n",
        "ffda39c1     0.5\n",
        "ffda6b05     1.0\n",
        "ffdaaa3d     0.0\n",
        "ffdf2f70     0.0\n",
        "ffdfeb0d     1.0\n",
        "ffe1bb68     1.0\n",
        "ffe36f78     0.0\n",
        "ffe4caa2     0.0\n",
        "ffe76e74     0.0\n",
        "ffe7c904     0.0\n",
        "ffe89a9d     0.0\n",
        "ffeaef1c     0.0\n",
        "ffed1d46     0.0\n",
        "ffed8e7b     0.0\n",
        "ffeeb1a2     0.0\n",
        "ffefb7bc     1.0\n",
        "fff23fde     0.0\n",
        "fff3a078     0.0\n",
        "fff44996     0.0\n",
        "fff46785     0.0\n",
        "fff4faa8     0.0\n",
        "fffd620a     1.0\n",
        "ffffb18a     0.0\n",
        "\n",
        "[32559 rows x 1 columns]"
       ]
      },
      {
       "output_type": "stream",
       "stream": "stdout",
       "text": [
        "\n",
        "---device_ip---\n",
        "           click\n",
        "device_ip       \n",
        "000044b3     1.0\n",
        "00009aad     0.0\n",
        "0000b7a7     0.0\n",
        "0000d997     0.0\n",
        "00011feb     0.0\n",
        "00014c42     0.0\n",
        "0001d7d1     0.0\n",
        "0002133a     0.0\n",
        "00024766     0.0\n",
        "00029fa7     0.0\n",
        "00033639     0.5\n",
        "00038074     0.0\n",
        "00039bbc     0.0\n",
        "0003fcab     0.0\n",
        "00044fcb     0.0\n",
        "0004d5c6     0.0\n",
        "0004df61     1.0\n",
        "00053e22     0.0\n",
        "0005582f     1.0\n",
        "0005ba99     0.0\n",
        "0005ccf3     0.0\n",
        "0005e1d9     0.0\n",
        "00075204     0.0\n",
        "0007786f     0.0\n",
        "0007f38f     0.0\n",
        "0007ff3f     0.0\n",
        "00084d9c     0.0\n",
        "0008832b     0.0\n",
        "000a14d1     0.0\n",
        "000a66e0     0.0\n",
        "...          ...\n",
        "fff06d76     0.0\n",
        "fff14c30     0.0\n",
        "fff1c482     0.0\n",
        "fff51345     0.0\n",
        "fff66839     0.0\n",
        "fff7008f     0.0\n",
        "fff798ac     0.0\n",
        "fff7dbdd     1.0\n",
        "fff7eea0     0.0\n",
        "fff80d9f     1.0\n",
        "fff82817     0.0\n",
        "fff8a808     1.0\n",
        "fff8ca66     0.0\n",
        "fff94f75     0.0\n",
        "fff9a0bc     0.0\n",
        "fffb311d     0.0\n",
        "fffb8126     0.0\n",
        "fffbb0fe     1.0\n",
        "fffbb7cb     0.0\n",
        "fffc39f4     0.0\n",
        "fffc6570     0.0\n",
        "fffc7f71     0.0\n",
        "fffccac7     0.0\n",
        "fffce275     0.0\n",
        "fffd5a53     0.0\n",
        "fffe2401     0.5\n",
        "fffe3a9a     1.0\n",
        "fffe5a2f     0.0\n",
        "fffec045     0.0\n",
        "ffff0506     1.0\n",
        "\n",
        "[139214 rows x 1 columns]"
       ]
      },
      {
       "output_type": "stream",
       "stream": "stdout",
       "text": [
        "\n",
        "---device_model---\n",
        "                 click\n",
        "device_model          \n",
        "00097428      0.222222\n",
        "0009f4d7      0.090909\n",
        "006ce985      0.000000\n",
        "008ac803      0.142857\n",
        "00aae2c7      0.400000\n",
        "00b08597      0.083333\n",
        "00b1f3a7      0.221277\n",
        "00e71d3a      0.090909\n",
        "01161611      0.125000\n",
        "0135c685      0.114286\n",
        "01415aab      0.333333\n",
        "0143f1d8      0.000000\n",
        "01487ec3      0.000000\n",
        "014c970f      0.000000\n",
        "0153a639      0.273038\n",
        "01634391      0.200000\n",
        "0179bf8d      0.000000\n",
        "01afd1bc      0.000000\n",
        "01c188c3      0.000000\n",
        "01cd7843      0.000000\n",
        "01d57fd7      0.200000\n",
        "01d61ca2      0.636364\n",
        "01dbc3bc      0.000000\n",
        "01e29bbb      0.444444\n",
        "01e8128a      0.500000\n",
        "0205329f      0.117647\n",
        "021759da      0.250000\n",
        "021b641d      0.174157\n",
        "022e3eb5      0.111111\n",
        "023a5294      0.333333\n",
        "...                ...\n",
        "fe5208a5      0.000000\n",
        "fe64e635      0.000000\n",
        "fe691a04      0.000000\n",
        "fe72bf31      0.571429\n",
        "fe74e7cf      0.500000\n",
        "fe9f8125      0.166667\n",
        "feacaaee      0.292683\n",
        "feb70d53      0.181818\n",
        "febf00b4      0.000000\n",
        "febf5644      0.000000\n",
        "fecab627      0.400000\n",
        "fed5ad55      0.000000\n",
        "ff04ee91      0.000000\n",
        "ff065cf0      0.236897\n",
        "ff0f1aca      0.500000\n",
        "ff16d623      0.157895\n",
        "ff2a3543      0.100000\n",
        "ff3242b8      0.000000\n",
        "ff503cfe      0.250000\n",
        "ff5cbc87      0.200000\n",
        "ff607a1a      0.179487\n",
        "ff687ac4      0.000000\n",
        "ff6c0f58      0.000000\n",
        "ff717dd1      0.066667\n",
        "ff91ea03      0.031250\n",
        "ffb16766      0.000000\n",
        "ffc70ef9      0.157895\n",
        "ffcd1497      0.111111\n",
        "ffe3ae81      0.333333\n",
        "ffe69079      0.090909\n",
        "\n",
        "[3717 rows x 1 columns]"
       ]
      },
      {
       "output_type": "stream",
       "stream": "stdout",
       "text": [
        "\n",
        "---device_type---\n",
        "                click\n",
        "device_type          \n",
        "0            0.210428\n",
        "1            0.174834\n",
        "4            0.093824\n",
        "5            0.120521\n",
        "---device_conn_type---\n",
        "                     click\n",
        "device_conn_type          \n",
        "0                 0.185917\n",
        "2                 0.147818\n",
        "3                 0.039648\n",
        "5                 0.025830\n",
        "---C14---\n",
        "          click\n",
        "C14            \n",
        "10289  0.062500\n",
        "1037   0.288490\n",
        "1038   0.247756\n",
        "1039   0.273865\n",
        "10532  0.000000\n",
        "10533  0.000000\n",
        "10534  0.000000\n",
        "10535  0.000000\n",
        "10738  0.000000\n",
        "10739  0.125000\n",
        "10740  0.166667\n",
        "10741  0.000000\n",
        "10742  0.200000\n",
        "10743  0.117647\n",
        "10810  0.000000\n",
        "10895  0.000000\n",
        "11142  0.000000\n",
        "11143  0.500000\n",
        "11144  0.000000\n",
        "11145  0.000000\n",
        "11188  0.000000\n",
        "11189  0.000000\n",
        "11190  1.000000\n",
        "11191  0.000000\n",
        "11193  0.000000\n",
        "11268  0.000000\n",
        "11323  0.000000\n",
        "11325  0.142857\n",
        "11994  0.000000\n",
        "12000  0.254902\n",
        "...         ...\n",
        "7711   0.200000\n",
        "7712   0.000000\n",
        "7713   0.250000\n",
        "7714   0.250000\n",
        "787    0.072917\n",
        "8330   0.159796\n",
        "8334   0.125000\n",
        "8392   0.000000\n",
        "8395   0.000000\n",
        "8434   0.000000\n",
        "8437   0.000000\n",
        "8994   0.500000\n",
        "8995   0.466667\n",
        "8996   0.636364\n",
        "9014   0.000000\n",
        "9015   0.250000\n",
        "9016   0.500000\n",
        "9236   0.076923\n",
        "9248   0.151261\n",
        "9335   0.214286\n",
        "9436   0.500000\n",
        "9437   0.000000\n",
        "9438   0.014925\n",
        "9461   0.060606\n",
        "9463   0.000000\n",
        "9464   0.000000\n",
        "9478   0.073626\n",
        "9798   0.000000\n",
        "9803   0.000000\n",
        "9805   0.500000\n",
        "\n",
        "[1361 rows x 1 columns]"
       ]
      },
      {
       "output_type": "stream",
       "stream": "stdout",
       "text": [
        "\n",
        "---C15---\n",
        "         click\n",
        "C15           \n",
        "1024  0.428571\n",
        "120   0.200000\n",
        "216   0.120857\n",
        "300   0.382267\n",
        "320   0.163254\n",
        "480   0.333333\n",
        "728   0.069697\n",
        "768   0.444444\n",
        "---C16---\n",
        "         click\n",
        "C16           \n",
        "1024  0.444444\n",
        "20    0.200000\n",
        "250   0.432499\n",
        "320   0.333333\n",
        "36    0.120857\n",
        "480   0.216015\n",
        "50    0.163027\n",
        "768   0.428571\n",
        "90    0.069697"
       ]
      },
      {
       "output_type": "stream",
       "stream": "stdout",
       "text": [
        "\n",
        "---C17---\n",
        "         click\n",
        "C17           \n",
        "1008  0.100000\n",
        "1042  0.000000\n",
        "1076  0.116667\n",
        "1092  0.111779\n",
        "1107  0.000000\n",
        "112   0.206515\n",
        "1141  0.125000\n",
        "1149  0.125000\n",
        "1160  0.125000\n",
        "1161  0.035088\n",
        "1174  0.120000\n",
        "122   0.137083\n",
        "1248  0.207792\n",
        "1255  0.333333\n",
        "1272  0.432432\n",
        "1401  0.142857\n",
        "1447  0.300283\n",
        "1507  0.166667\n",
        "1515  0.000000\n",
        "1526  0.296830\n",
        "1528  0.200000\n",
        "153   0.072917\n",
        "1637  0.132075\n",
        "1685  0.133333\n",
        "1694  0.750000\n",
        "1698  0.000000\n",
        "1702  0.036554\n",
        "1722  0.192946\n",
        "1740  0.104000\n",
        "1741  0.121827\n",
        "...        ...\n",
        "2641  0.000000\n",
        "2642  0.500000\n",
        "2643  0.083333\n",
        "2644  0.000000\n",
        "2645  0.000000\n",
        "2646  0.181818\n",
        "2647  0.315789\n",
        "2648  0.000000\n",
        "394   0.034188\n",
        "423   0.257947\n",
        "479   0.217868\n",
        "544   0.205042\n",
        "547   0.123608\n",
        "549   0.211009\n",
        "550   0.140351\n",
        "571   0.175788\n",
        "572   0.231425\n",
        "576   0.187500\n",
        "613   0.151786\n",
        "686   0.206897\n",
        "761   0.159239\n",
        "768   0.148148\n",
        "827   0.508475\n",
        "832   0.285714\n",
        "863   0.072464\n",
        "873   0.214286\n",
        "898   0.027778\n",
        "901   0.059406\n",
        "906   0.073626\n",
        "937   0.083333\n",
        "\n",
        "[316 rows x 1 columns]"
       ]
      },
      {
       "output_type": "stream",
       "stream": "stdout",
       "text": [
        "\n",
        "---C18---\n",
        "        click\n",
        "C18          \n",
        "0    0.163851\n",
        "1    0.036726\n",
        "2    0.296862\n",
        "3    0.151561\n",
        "---C19---\n",
        "         click\n",
        "C19           \n",
        "1059  0.148031\n",
        "1063  0.364038\n",
        "1065  0.171731\n",
        "1071  0.508475\n",
        "1315  0.059524\n",
        "1319  0.225381\n",
        "1327  0.220784\n",
        "1451  0.072841\n",
        "161   0.024016\n",
        "163   0.095355\n",
        "167   0.155322\n",
        "169   0.125130\n",
        "171   0.114787\n",
        "1711  0.212518\n",
        "175   0.156675\n",
        "1835  0.121622\n",
        "291   0.233333\n",
        "295   0.000000\n",
        "297   0.074087\n",
        "299   0.069767\n",
        "303   0.310329\n",
        "33    0.062201\n",
        "34    0.238571\n",
        "35    0.167078\n",
        "39    0.255981\n",
        "41    0.108108\n",
        "417   0.024390\n",
        "419   0.085791\n",
        "423   0.034965\n",
        "425   0.115385\n",
        "427   0.064849\n",
        "43    0.052701\n",
        "431   0.251479\n",
        "45    0.086957\n",
        "47    0.128230\n",
        "547   0.154749\n",
        "551   0.144044\n",
        "553   0.000000\n",
        "555   0.096774\n",
        "559   0.095116\n",
        "673   0.038095\n",
        "675   0.138211\n",
        "679   0.107465\n",
        "681   0.120332\n",
        "683   0.000000\n",
        "687   0.176375\n",
        "801   0.073826\n",
        "809   0.070707\n",
        "811   0.109649\n",
        "813   0.098507\n",
        "935   0.114717\n",
        "937   0.014493\n",
        "943   0.104000"
       ]
      },
      {
       "output_type": "stream",
       "stream": "stdout",
       "text": [
        "\n",
        "---C20---\n",
        "           click\n",
        "C20             \n",
        "-1      0.200494\n",
        "100000  0.085386\n",
        "100001  0.190476\n",
        "100002  0.157895\n",
        "100003  0.034215\n",
        "100004  0.059701\n",
        "100005  0.067442\n",
        "100010  0.500000\n",
        "100012  0.077922\n",
        "100013  0.132404\n",
        "100016  0.250000\n",
        "100019  0.110236\n",
        "100020  0.116279\n",
        "100021  0.194444\n",
        "100022  0.232558\n",
        "100024  0.200000\n",
        "100025  0.034483\n",
        "100026  0.121212\n",
        "100028  0.113725\n",
        "100029  0.000000\n",
        "100031  0.208241\n",
        "100032  0.076923\n",
        "100033  0.000000\n",
        "100034  0.206972\n",
        "100037  0.142857\n",
        "100039  0.107843\n",
        "100040  0.058824\n",
        "100041  0.096774\n",
        "100043  0.200000\n",
        "100046  0.116667\n",
        "...          ...\n",
        "100183  0.114943\n",
        "100185  0.156250\n",
        "100188  0.145885\n",
        "100189  0.025556\n",
        "100190  0.021459\n",
        "100191  0.092676\n",
        "100192  0.032685\n",
        "100193  0.024357\n",
        "100194  0.102142\n",
        "100195  0.181818\n",
        "100199  0.085106\n",
        "100200  0.109756\n",
        "100202  0.088496\n",
        "100205  0.176471\n",
        "100206  0.333333\n",
        "100209  0.000000\n",
        "100210  0.139073\n",
        "100212  0.217391\n",
        "100213  0.500000\n",
        "100215  0.190476\n",
        "100217  0.183673\n",
        "100221  0.237500\n",
        "100224  0.250000\n",
        "100225  0.146341\n",
        "100228  0.189498\n",
        "100229  0.000000\n",
        "100233  0.129032\n",
        "100241  0.137255\n",
        "100244  0.181818\n",
        "100248  0.181818\n",
        "\n",
        "[155 rows x 1 columns]"
       ]
      },
      {
       "output_type": "stream",
       "stream": "stdout",
       "text": [
        "\n",
        "---C21---\n",
        "        click\n",
        "C21          \n",
        "100  0.114198\n",
        "101  0.081886\n",
        "102  0.096774\n",
        "108  0.167702\n",
        "110  0.052304\n",
        "111  0.099492\n",
        "112  0.111722\n",
        "116  0.155172\n",
        "117  0.207875\n",
        "13   0.224039\n",
        "15   0.206567\n",
        "156  0.077355\n",
        "157  0.114640\n",
        "159  0.120587\n",
        "16   0.254123\n",
        "163  0.024390\n",
        "17   0.070147\n",
        "171  0.079755\n",
        "177  0.097561\n",
        "178  0.085791\n",
        "182  0.092754\n",
        "194  0.135922\n",
        "195  0.038462\n",
        "20   0.072917\n",
        "219  0.000000\n",
        "221  0.193134\n",
        "23   0.212286\n",
        "32   0.235254\n",
        "33   0.408876\n",
        "35   0.296830\n",
        "42   0.122767\n",
        "43   0.078481\n",
        "46   0.098955\n",
        "48   0.133304\n",
        "51   0.181782\n",
        "52   0.277345\n",
        "61   0.067400\n",
        "68   0.111636\n",
        "69   0.128342\n",
        "70   0.178344\n",
        "71   0.031314\n",
        "79   0.191639\n",
        "82   0.269880\n",
        "85   0.000000\n",
        "90   0.226204\n",
        "91   0.096714\n",
        "93   0.083333\n",
        "94   0.133333\n",
        "95   0.110868\n",
        "---weekday---\n",
        "            click\n",
        "weekday          \n",
        "0        0.181876\n",
        "1        0.175539\n",
        "2        0.156460\n",
        "3        0.179815\n",
        "4        0.172898\n",
        "5        0.183744\n",
        "6        0.184845"
       ]
      },
      {
       "output_type": "stream",
       "stream": "stdout",
       "text": [
        "\n",
        "---hr---\n",
        "       click\n",
        "hr          \n",
        "00  0.183246\n",
        "01  0.187879\n",
        "02  0.177968\n",
        "03  0.181404\n",
        "04  0.176661\n",
        "05  0.169940\n",
        "06  0.173960\n",
        "07  0.189568\n",
        "08  0.175023\n",
        "09  0.166295\n",
        "10  0.170838\n",
        "11  0.162977\n",
        "12  0.171184\n",
        "13  0.180951\n",
        "14  0.193797\n",
        "15  0.190160\n",
        "16  0.173904\n",
        "17  0.177979\n",
        "18  0.167142\n",
        "19  0.172298\n",
        "20  0.156712\n",
        "21  0.158616\n",
        "22  0.158179\n",
        "23  0.176845\n"
       ]
      }
     ],
     "prompt_number": 35
    },
    {
     "cell_type": "code",
     "collapsed": false,
     "input": [
      "X_sparse=vec.transform(Xd.T.to_dict().values())\n",
      "#X_s=X_sparse[:,vsel[1]<pcutoff]\n",
      "print clf.predict_proba(X_sparse)"
     ],
     "language": "python",
     "metadata": {},
     "outputs": [
      {
       "output_type": "stream",
       "stream": "stdout",
       "text": [
        "[[ 0.52002223  0.47997777]\n",
        " [ 0.52284938  0.47715062]\n",
        " [ 0.51752431  0.48247569]\n",
        " ..., \n",
        " [ 0.52038795  0.47961205]\n",
        " [ 0.51806129  0.48193871]\n",
        " [ 0.52449578  0.47550422]]\n"
       ]
      }
     ],
     "prompt_number": 5
    },
    {
     "cell_type": "code",
     "collapsed": false,
     "input": [
      "#print Y, clf.predict_proba(X_s)\n",
      "ypred=clf.predict_proba(X_sparse)[:,1]\n",
      "print clf.score(X_sparse,Y), log_loss(Y,ypred), roc_auc_score(Y,ypred)"
     ],
     "language": "python",
     "metadata": {},
     "outputs": [
      {
       "output_type": "stream",
       "stream": "stdout",
       "text": [
        "0.82487 "
       ]
      },
      {
       "output_type": "stream",
       "stream": "stdout",
       "text": [
        "0.666394030875 "
       ]
      },
      {
       "output_type": "stream",
       "stream": "stdout",
       "text": [
        "0.52124523281\n"
       ]
      }
     ],
     "prompt_number": 7
    },
    {
     "cell_type": "code",
     "collapsed": false,
     "input": [
      "batch=0\n",
      "nlines=0\n",
      "nlim=130000\n",
      "blim=100\n",
      "X=np.zeros((nlim,26),dtype='a20')\n",
      "with open(\"train_noh_post28.csv\",\"r\") as f:\n",
      "    for line in f:\n",
      "        \n",
      "        X[nlines,:24]=[str(xx) for xx in line.strip().split(',')]\n",
      "        #print X[nlines,:]\n",
      "        X[nlines,24]=str(dt.datetime.strptime(X[nlines,2],'%y%m%d%H').weekday())\n",
      "        X[nlines,25]=X[nlines,2][-2:]\n",
      "        nlines=nlines+1;\n",
      "        if (nlines==nlim):\n",
      "            print 'Processing batch '+str(batch+1)\n",
      "            batch=batch+1\n",
      "\n",
      "            Xd=pd.DataFrame(X[:,3:],columns=colnames)\n",
      "            Y=X[:,1].astype('int')\n",
      "            #All the jazz goes here\n",
      "\n",
      "            print 'Running Dict Vectorizer transform alone'\n",
      "            X_sparse=vec.transform(Xd.T.to_dict().values())\n",
      "            \n",
      "            print 'only prediction'\n",
      "            \n",
      "            ypred=clf.predict_proba(X_sparse)[:,1]\n",
      "            #lpred=clf.predict(X_sparse)\n",
      "            \n",
      "            #print clf.score(X_sparse,Y), accuracy_score(Y,lpred), log_loss(Y,ypred)\n",
      "            print clf.score(X_sparse,Y), log_loss(Y,ypred)\n",
      "            \n",
      "            nlines=0\n",
      "            X=np.zeros((nlim,26),dtype='a20')\n",
      "            del X_sparse\n",
      "            \n",
      "            if (batch>=blim):\n",
      "                print \"Done.. aren't we?\"\n",
      "                f.close()\n",
      "                del X\n",
      "                break\n",
      "\n",
      "print 'Yes, we are..'"
     ],
     "language": "python",
     "metadata": {},
     "outputs": [
      {
       "output_type": "stream",
       "stream": "stdout",
       "text": [
        "Processing batch 1\n",
        "Running Dict Vectorizer transform alone"
       ]
      },
      {
       "output_type": "stream",
       "stream": "stdout",
       "text": [
        "\n",
        "only prediction"
       ]
      },
      {
       "output_type": "stream",
       "stream": "stdout",
       "text": [
        "\n",
        "0.811246153846 "
       ]
      },
      {
       "output_type": "stream",
       "stream": "stdout",
       "text": [
        "0.439350305522\n",
        "Processing batch 2"
       ]
      },
      {
       "output_type": "stream",
       "stream": "stdout",
       "text": [
        "\n",
        "Running Dict Vectorizer transform alone"
       ]
      },
      {
       "output_type": "stream",
       "stream": "stdout",
       "text": [
        "\n",
        "only prediction"
       ]
      },
      {
       "output_type": "stream",
       "stream": "stdout",
       "text": [
        "\n",
        "0.8326 "
       ]
      },
      {
       "output_type": "stream",
       "stream": "stdout",
       "text": [
        "0.402417150662\n",
        "Processing batch 3"
       ]
      },
      {
       "output_type": "stream",
       "stream": "stdout",
       "text": [
        "\n",
        "Running Dict Vectorizer transform alone"
       ]
      },
      {
       "output_type": "stream",
       "stream": "stdout",
       "text": [
        "\n",
        "only prediction"
       ]
      },
      {
       "output_type": "stream",
       "stream": "stdout",
       "text": [
        "\n",
        "0.850007692308 "
       ]
      },
      {
       "output_type": "stream",
       "stream": "stdout",
       "text": [
        "0.370873321113\n",
        "Processing batch 4"
       ]
      },
      {
       "output_type": "stream",
       "stream": "stdout",
       "text": [
        "\n",
        "Running Dict Vectorizer transform alone"
       ]
      },
      {
       "output_type": "stream",
       "stream": "stdout",
       "text": [
        "\n",
        "only prediction"
       ]
      },
      {
       "output_type": "stream",
       "stream": "stdout",
       "text": [
        "\n",
        "0.836192307692 "
       ]
      },
      {
       "output_type": "stream",
       "stream": "stdout",
       "text": [
        "0.39103986709\n",
        "Processing batch 5"
       ]
      },
      {
       "output_type": "stream",
       "stream": "stdout",
       "text": [
        "\n",
        "Running Dict Vectorizer transform alone"
       ]
      },
      {
       "output_type": "stream",
       "stream": "stdout",
       "text": [
        "\n",
        "only prediction"
       ]
      },
      {
       "output_type": "stream",
       "stream": "stdout",
       "text": [
        "\n",
        "0.820761538462 "
       ]
      },
      {
       "output_type": "stream",
       "stream": "stdout",
       "text": [
        "0.425561427434\n",
        "Processing batch 6"
       ]
      },
      {
       "output_type": "stream",
       "stream": "stdout",
       "text": [
        "\n",
        "Running Dict Vectorizer transform alone"
       ]
      },
      {
       "output_type": "stream",
       "stream": "stdout",
       "text": [
        "\n",
        "only prediction"
       ]
      },
      {
       "output_type": "stream",
       "stream": "stdout",
       "text": [
        "\n",
        "0.819115384615 "
       ]
      },
      {
       "output_type": "stream",
       "stream": "stdout",
       "text": [
        "0.431564246747\n",
        "Processing batch 7"
       ]
      },
      {
       "output_type": "stream",
       "stream": "stdout",
       "text": [
        "\n",
        "Running Dict Vectorizer transform alone"
       ]
      },
      {
       "output_type": "stream",
       "stream": "stdout",
       "text": [
        "\n",
        "only prediction"
       ]
      },
      {
       "output_type": "stream",
       "stream": "stdout",
       "text": [
        "\n",
        "0.8346 "
       ]
      },
      {
       "output_type": "stream",
       "stream": "stdout",
       "text": [
        "0.408434372153\n",
        "Processing batch 8"
       ]
      },
      {
       "output_type": "stream",
       "stream": "stdout",
       "text": [
        "\n",
        "Running Dict Vectorizer transform alone"
       ]
      },
      {
       "output_type": "stream",
       "stream": "stdout",
       "text": [
        "\n",
        "only prediction"
       ]
      },
      {
       "output_type": "stream",
       "stream": "stdout",
       "text": [
        "\n",
        "0.837653846154 "
       ]
      },
      {
       "output_type": "stream",
       "stream": "stdout",
       "text": [
        "0.401255280887\n",
        "Processing batch 9"
       ]
      },
      {
       "output_type": "stream",
       "stream": "stdout",
       "text": [
        "\n",
        "Running Dict Vectorizer transform alone"
       ]
      },
      {
       "output_type": "stream",
       "stream": "stdout",
       "text": [
        "\n",
        "only prediction"
       ]
      },
      {
       "output_type": "stream",
       "stream": "stdout",
       "text": [
        "\n",
        "0.831984615385 "
       ]
      },
      {
       "output_type": "stream",
       "stream": "stdout",
       "text": [
        "0.408020417048\n",
        "Processing batch 10"
       ]
      },
      {
       "output_type": "stream",
       "stream": "stdout",
       "text": [
        "\n",
        "Running Dict Vectorizer transform alone"
       ]
      },
      {
       "output_type": "stream",
       "stream": "stdout",
       "text": [
        "\n",
        "only prediction"
       ]
      },
      {
       "output_type": "stream",
       "stream": "stdout",
       "text": [
        "\n",
        "0.862430769231 "
       ]
      },
      {
       "output_type": "stream",
       "stream": "stdout",
       "text": [
        "0.358233201301\n",
        "Processing batch 11"
       ]
      },
      {
       "output_type": "stream",
       "stream": "stdout",
       "text": [
        "\n",
        "Running Dict Vectorizer transform alone"
       ]
      },
      {
       "output_type": "stream",
       "stream": "stdout",
       "text": [
        "\n",
        "only prediction"
       ]
      },
      {
       "output_type": "stream",
       "stream": "stdout",
       "text": [
        "\n",
        "0.872146153846 "
       ]
      },
      {
       "output_type": "stream",
       "stream": "stdout",
       "text": [
        "0.343702626628\n",
        "Processing batch 12"
       ]
      },
      {
       "output_type": "stream",
       "stream": "stdout",
       "text": [
        "\n",
        "Running Dict Vectorizer transform alone"
       ]
      },
      {
       "output_type": "stream",
       "stream": "stdout",
       "text": [
        "\n",
        "only prediction"
       ]
      },
      {
       "output_type": "stream",
       "stream": "stdout",
       "text": [
        "\n",
        "0.874807692308 "
       ]
      },
      {
       "output_type": "stream",
       "stream": "stdout",
       "text": [
        "0.339833302178\n",
        "Processing batch 13"
       ]
      },
      {
       "output_type": "stream",
       "stream": "stdout",
       "text": [
        "\n",
        "Running Dict Vectorizer transform alone"
       ]
      },
      {
       "output_type": "stream",
       "stream": "stdout",
       "text": [
        "\n",
        "only prediction"
       ]
      },
      {
       "output_type": "stream",
       "stream": "stdout",
       "text": [
        "\n",
        "0.877561538462 "
       ]
      },
      {
       "output_type": "stream",
       "stream": "stdout",
       "text": [
        "0.334446109002\n",
        "Processing batch 14"
       ]
      },
      {
       "output_type": "stream",
       "stream": "stdout",
       "text": [
        "\n",
        "Running Dict Vectorizer transform alone"
       ]
      },
      {
       "output_type": "stream",
       "stream": "stdout",
       "text": [
        "\n",
        "only prediction"
       ]
      },
      {
       "output_type": "stream",
       "stream": "stdout",
       "text": [
        "\n",
        "0.877392307692 "
       ]
      },
      {
       "output_type": "stream",
       "stream": "stdout",
       "text": [
        "0.334979479513\n",
        "Processing batch 15"
       ]
      },
      {
       "output_type": "stream",
       "stream": "stdout",
       "text": [
        "\n",
        "Running Dict Vectorizer transform alone"
       ]
      },
      {
       "output_type": "stream",
       "stream": "stdout",
       "text": [
        "\n",
        "only prediction"
       ]
      },
      {
       "output_type": "stream",
       "stream": "stdout",
       "text": [
        "\n",
        "0.860461538462 "
       ]
      },
      {
       "output_type": "stream",
       "stream": "stdout",
       "text": [
        "0.366640238189\n",
        "Processing batch 16"
       ]
      },
      {
       "output_type": "stream",
       "stream": "stdout",
       "text": [
        "\n",
        "Running Dict Vectorizer transform alone"
       ]
      },
      {
       "output_type": "stream",
       "stream": "stdout",
       "text": [
        "\n",
        "only prediction"
       ]
      },
      {
       "output_type": "stream",
       "stream": "stdout",
       "text": [
        "\n",
        "0.860123076923 "
       ]
      },
      {
       "output_type": "stream",
       "stream": "stdout",
       "text": [
        "0.367629420375\n",
        "Processing batch 17"
       ]
      },
      {
       "output_type": "stream",
       "stream": "stdout",
       "text": [
        "\n",
        "Running Dict Vectorizer transform alone"
       ]
      },
      {
       "output_type": "stream",
       "stream": "stdout",
       "text": [
        "\n",
        "only prediction"
       ]
      },
      {
       "output_type": "stream",
       "stream": "stdout",
       "text": [
        "\n",
        "0.849661538462 "
       ]
      },
      {
       "output_type": "stream",
       "stream": "stdout",
       "text": [
        "0.383532582618\n",
        "Processing batch 18"
       ]
      },
      {
       "output_type": "stream",
       "stream": "stdout",
       "text": [
        "\n",
        "Running Dict Vectorizer transform alone"
       ]
      },
      {
       "output_type": "stream",
       "stream": "stdout",
       "text": [
        "\n",
        "only prediction"
       ]
      },
      {
       "output_type": "stream",
       "stream": "stdout",
       "text": [
        "\n",
        "0.847415384615 "
       ]
      },
      {
       "output_type": "stream",
       "stream": "stdout",
       "text": [
        "0.388246030384\n",
        "Processing batch 19"
       ]
      },
      {
       "output_type": "stream",
       "stream": "stdout",
       "text": [
        "\n",
        "Running Dict Vectorizer transform alone"
       ]
      },
      {
       "output_type": "stream",
       "stream": "stdout",
       "text": [
        "\n",
        "only prediction"
       ]
      },
      {
       "output_type": "stream",
       "stream": "stdout",
       "text": [
        "\n",
        "0.837584615385 "
       ]
      },
      {
       "output_type": "stream",
       "stream": "stdout",
       "text": [
        "0.400880036228\n",
        "Processing batch 20"
       ]
      },
      {
       "output_type": "stream",
       "stream": "stdout",
       "text": [
        "\n",
        "Running Dict Vectorizer transform alone"
       ]
      },
      {
       "output_type": "stream",
       "stream": "stdout",
       "text": [
        "\n",
        "only prediction"
       ]
      },
      {
       "output_type": "stream",
       "stream": "stdout",
       "text": [
        "\n",
        "0.837446153846 "
       ]
      },
      {
       "output_type": "stream",
       "stream": "stdout",
       "text": [
        "0.401702769489\n",
        "Processing batch 21"
       ]
      },
      {
       "output_type": "stream",
       "stream": "stdout",
       "text": [
        "\n",
        "Running Dict Vectorizer transform alone"
       ]
      },
      {
       "output_type": "stream",
       "stream": "stdout",
       "text": [
        "\n",
        "only prediction"
       ]
      },
      {
       "output_type": "stream",
       "stream": "stdout",
       "text": [
        "\n",
        "0.861384615385 "
       ]
      },
      {
       "output_type": "stream",
       "stream": "stdout",
       "text": [
        "0.356320540421\n",
        "Processing batch 22"
       ]
      },
      {
       "output_type": "stream",
       "stream": "stdout",
       "text": [
        "\n",
        "Running Dict Vectorizer transform alone"
       ]
      },
      {
       "output_type": "stream",
       "stream": "stdout",
       "text": [
        "\n",
        "only prediction"
       ]
      },
      {
       "output_type": "stream",
       "stream": "stdout",
       "text": [
        "\n",
        "0.8621 "
       ]
      },
      {
       "output_type": "stream",
       "stream": "stdout",
       "text": [
        "0.354224107506\n",
        "Processing batch 23"
       ]
      },
      {
       "output_type": "stream",
       "stream": "stdout",
       "text": [
        "\n",
        "Running Dict Vectorizer transform alone"
       ]
      },
      {
       "output_type": "stream",
       "stream": "stdout",
       "text": [
        "\n",
        "only prediction"
       ]
      },
      {
       "output_type": "stream",
       "stream": "stdout",
       "text": [
        "\n",
        "0.862992307692 "
       ]
      },
      {
       "output_type": "stream",
       "stream": "stdout",
       "text": [
        "0.352452894031\n",
        "Processing batch 24"
       ]
      },
      {
       "output_type": "stream",
       "stream": "stdout",
       "text": [
        "\n",
        "Running Dict Vectorizer transform alone"
       ]
      },
      {
       "output_type": "stream",
       "stream": "stdout",
       "text": [
        "\n",
        "only prediction"
       ]
      },
      {
       "output_type": "stream",
       "stream": "stdout",
       "text": [
        "\n",
        "0.858423076923 "
       ]
      },
      {
       "output_type": "stream",
       "stream": "stdout",
       "text": [
        "0.361229754329\n",
        "Processing batch 25"
       ]
      },
      {
       "output_type": "stream",
       "stream": "stdout",
       "text": [
        "\n",
        "Running Dict Vectorizer transform alone"
       ]
      },
      {
       "output_type": "stream",
       "stream": "stdout",
       "text": [
        "\n",
        "only prediction"
       ]
      },
      {
       "output_type": "stream",
       "stream": "stdout",
       "text": [
        "\n",
        "0.855223076923 "
       ]
      },
      {
       "output_type": "stream",
       "stream": "stdout",
       "text": [
        "0.365255409473\n",
        "Processing batch 26"
       ]
      },
      {
       "output_type": "stream",
       "stream": "stdout",
       "text": [
        "\n",
        "Running Dict Vectorizer transform alone"
       ]
      },
      {
       "output_type": "stream",
       "stream": "stdout",
       "text": [
        "\n",
        "only prediction"
       ]
      },
      {
       "output_type": "stream",
       "stream": "stdout",
       "text": [
        "\n",
        "0.854592307692 "
       ]
      },
      {
       "output_type": "stream",
       "stream": "stdout",
       "text": [
        "0.366894392385\n",
        "Processing batch 27"
       ]
      },
      {
       "output_type": "stream",
       "stream": "stdout",
       "text": [
        "\n",
        "Running Dict Vectorizer transform alone"
       ]
      },
      {
       "output_type": "stream",
       "stream": "stdout",
       "text": [
        "\n",
        "only prediction"
       ]
      },
      {
       "output_type": "stream",
       "stream": "stdout",
       "text": [
        "\n",
        "0.845276923077 "
       ]
      },
      {
       "output_type": "stream",
       "stream": "stdout",
       "text": [
        "0.382861552292\n",
        "Processing batch 28"
       ]
      },
      {
       "output_type": "stream",
       "stream": "stdout",
       "text": [
        "\n",
        "Running Dict Vectorizer transform alone"
       ]
      },
      {
       "output_type": "stream",
       "stream": "stdout",
       "text": [
        "\n",
        "only prediction"
       ]
      },
      {
       "output_type": "stream",
       "stream": "stdout",
       "text": [
        "\n",
        "0.835176923077 "
       ]
      },
      {
       "output_type": "stream",
       "stream": "stdout",
       "text": [
        "0.398142439359\n",
        "Processing batch 29"
       ]
      },
      {
       "output_type": "stream",
       "stream": "stdout",
       "text": [
        "\n",
        "Running Dict Vectorizer transform alone"
       ]
      },
      {
       "output_type": "stream",
       "stream": "stdout",
       "text": [
        "\n",
        "only prediction"
       ]
      },
      {
       "output_type": "stream",
       "stream": "stdout",
       "text": [
        "\n",
        "0.836969230769 "
       ]
      },
      {
       "output_type": "stream",
       "stream": "stdout",
       "text": [
        "0.395706460035\n",
        "Processing batch 30"
       ]
      },
      {
       "output_type": "stream",
       "stream": "stdout",
       "text": [
        "\n",
        "Running Dict Vectorizer transform alone"
       ]
      },
      {
       "output_type": "stream",
       "stream": "stdout",
       "text": [
        "\n",
        "only prediction"
       ]
      },
      {
       "output_type": "stream",
       "stream": "stdout",
       "text": [
        "\n",
        "0.838415384615 "
       ]
      },
      {
       "output_type": "stream",
       "stream": "stdout",
       "text": [
        "0.392297463621\n",
        "Processing batch 31"
       ]
      },
      {
       "output_type": "stream",
       "stream": "stdout",
       "text": [
        "\n",
        "Running Dict Vectorizer transform alone"
       ]
      },
      {
       "output_type": "stream",
       "stream": "stdout",
       "text": [
        "\n",
        "only prediction"
       ]
      },
      {
       "output_type": "stream",
       "stream": "stdout",
       "text": [
        "\n",
        "0.841861538462 "
       ]
      },
      {
       "output_type": "stream",
       "stream": "stdout",
       "text": [
        "0.385473790175\n",
        "Processing batch 32"
       ]
      },
      {
       "output_type": "stream",
       "stream": "stdout",
       "text": [
        "\n",
        "Running Dict Vectorizer transform alone"
       ]
      },
      {
       "output_type": "stream",
       "stream": "stdout",
       "text": [
        "\n",
        "only prediction"
       ]
      },
      {
       "output_type": "stream",
       "stream": "stdout",
       "text": [
        "\n",
        "0.85 "
       ]
      },
      {
       "output_type": "stream",
       "stream": "stdout",
       "text": [
        "0.374536982002\n",
        "Processing batch 33"
       ]
      },
      {
       "output_type": "stream",
       "stream": "stdout",
       "text": [
        "\n",
        "Running Dict Vectorizer transform alone"
       ]
      },
      {
       "output_type": "stream",
       "stream": "stdout",
       "text": [
        "\n",
        "only prediction"
       ]
      },
      {
       "output_type": "stream",
       "stream": "stdout",
       "text": [
        "\n",
        "0.851730769231 "
       ]
      },
      {
       "output_type": "stream",
       "stream": "stdout",
       "text": [
        "0.371100173576\n",
        "Processing batch 34"
       ]
      },
      {
       "output_type": "stream",
       "stream": "stdout",
       "text": [
        "\n",
        "Running Dict Vectorizer transform alone"
       ]
      },
      {
       "output_type": "stream",
       "stream": "stdout",
       "text": [
        "\n",
        "only prediction"
       ]
      },
      {
       "output_type": "stream",
       "stream": "stdout",
       "text": [
        "\n",
        "0.855561538462 "
       ]
      },
      {
       "output_type": "stream",
       "stream": "stdout",
       "text": [
        "0.364132461052\n",
        "Processing batch 35"
       ]
      },
      {
       "output_type": "stream",
       "stream": "stdout",
       "text": [
        "\n",
        "Running Dict Vectorizer transform alone"
       ]
      },
      {
       "output_type": "stream",
       "stream": "stdout",
       "text": [
        "\n",
        "only prediction"
       ]
      },
      {
       "output_type": "stream",
       "stream": "stdout",
       "text": [
        "\n",
        "0.857707692308 "
       ]
      },
      {
       "output_type": "stream",
       "stream": "stdout",
       "text": [
        "0.359300767506\n",
        "Processing batch 36"
       ]
      },
      {
       "output_type": "stream",
       "stream": "stdout",
       "text": [
        "\n",
        "Running Dict Vectorizer transform alone"
       ]
      },
      {
       "output_type": "stream",
       "stream": "stdout",
       "text": [
        "\n",
        "only prediction"
       ]
      },
      {
       "output_type": "stream",
       "stream": "stdout",
       "text": [
        "\n",
        "0.862838461538 "
       ]
      },
      {
       "output_type": "stream",
       "stream": "stdout",
       "text": [
        "0.349373928981\n",
        "Processing batch 37"
       ]
      },
      {
       "output_type": "stream",
       "stream": "stdout",
       "text": [
        "\n",
        "Running Dict Vectorizer transform alone"
       ]
      },
      {
       "output_type": "stream",
       "stream": "stdout",
       "text": [
        "\n",
        "only prediction"
       ]
      },
      {
       "output_type": "stream",
       "stream": "stdout",
       "text": [
        "\n",
        "0.860392307692 "
       ]
      },
      {
       "output_type": "stream",
       "stream": "stdout",
       "text": [
        "0.354718287846\n",
        "Processing batch 38"
       ]
      },
      {
       "output_type": "stream",
       "stream": "stdout",
       "text": [
        "\n",
        "Running Dict Vectorizer transform alone"
       ]
      },
      {
       "output_type": "stream",
       "stream": "stdout",
       "text": [
        "\n",
        "only prediction"
       ]
      },
      {
       "output_type": "stream",
       "stream": "stdout",
       "text": [
        "\n",
        "0.8563 "
       ]
      },
      {
       "output_type": "stream",
       "stream": "stdout",
       "text": [
        "0.363087982956\n",
        "Processing batch 39"
       ]
      },
      {
       "output_type": "stream",
       "stream": "stdout",
       "text": [
        "\n",
        "Running Dict Vectorizer transform alone"
       ]
      },
      {
       "output_type": "stream",
       "stream": "stdout",
       "text": [
        "\n",
        "only prediction"
       ]
      },
      {
       "output_type": "stream",
       "stream": "stdout",
       "text": [
        "\n",
        "0.855592307692 "
       ]
      },
      {
       "output_type": "stream",
       "stream": "stdout",
       "text": [
        "0.365152438818\n",
        "Processing batch 40"
       ]
      },
      {
       "output_type": "stream",
       "stream": "stdout",
       "text": [
        "\n",
        "Running Dict Vectorizer transform alone"
       ]
      },
      {
       "output_type": "stream",
       "stream": "stdout",
       "text": [
        "\n",
        "only prediction"
       ]
      },
      {
       "output_type": "stream",
       "stream": "stdout",
       "text": [
        "\n",
        "0.856076923077 "
       ]
      },
      {
       "output_type": "stream",
       "stream": "stdout",
       "text": [
        "0.357380375335\n",
        "Processing batch 41"
       ]
      },
      {
       "output_type": "stream",
       "stream": "stdout",
       "text": [
        "\n",
        "Running Dict Vectorizer transform alone"
       ]
      },
      {
       "output_type": "stream",
       "stream": "stdout",
       "text": [
        "\n",
        "only prediction"
       ]
      },
      {
       "output_type": "stream",
       "stream": "stdout",
       "text": [
        "\n",
        "0.856676923077 "
       ]
      },
      {
       "output_type": "stream",
       "stream": "stdout",
       "text": [
        "0.359043826858\n",
        "Processing batch 42"
       ]
      },
      {
       "output_type": "stream",
       "stream": "stdout",
       "text": [
        "\n",
        "Running Dict Vectorizer transform alone"
       ]
      },
      {
       "output_type": "stream",
       "stream": "stdout",
       "text": [
        "\n",
        "only prediction"
       ]
      },
      {
       "output_type": "stream",
       "stream": "stdout",
       "text": [
        "\n",
        "0.852553846154 "
       ]
      },
      {
       "output_type": "stream",
       "stream": "stdout",
       "text": [
        "0.374088706872\n",
        "Processing batch 43"
       ]
      },
      {
       "output_type": "stream",
       "stream": "stdout",
       "text": [
        "\n",
        "Running Dict Vectorizer transform alone"
       ]
      },
      {
       "output_type": "stream",
       "stream": "stdout",
       "text": [
        "\n",
        "only prediction"
       ]
      },
      {
       "output_type": "stream",
       "stream": "stdout",
       "text": [
        "\n",
        "0.837992307692 "
       ]
      },
      {
       "output_type": "stream",
       "stream": "stdout",
       "text": [
        "0.404628448014\n",
        "Processing batch 44"
       ]
      },
      {
       "output_type": "stream",
       "stream": "stdout",
       "text": [
        "\n",
        "Running Dict Vectorizer transform alone"
       ]
      },
      {
       "output_type": "stream",
       "stream": "stdout",
       "text": [
        "\n",
        "only prediction"
       ]
      },
      {
       "output_type": "stream",
       "stream": "stdout",
       "text": [
        "\n",
        "0.824046153846 "
       ]
      },
      {
       "output_type": "stream",
       "stream": "stdout",
       "text": [
        "0.433103053388\n",
        "Processing batch 45"
       ]
      },
      {
       "output_type": "stream",
       "stream": "stdout",
       "text": [
        "\n",
        "Running Dict Vectorizer transform alone"
       ]
      },
      {
       "output_type": "stream",
       "stream": "stdout",
       "text": [
        "\n",
        "only prediction"
       ]
      },
      {
       "output_type": "stream",
       "stream": "stdout",
       "text": [
        "\n",
        "0.822184615385 "
       ]
      },
      {
       "output_type": "stream",
       "stream": "stdout",
       "text": [
        "0.438817700161\n",
        "Processing batch 46"
       ]
      },
      {
       "output_type": "stream",
       "stream": "stdout",
       "text": [
        "\n",
        "Running Dict Vectorizer transform alone"
       ]
      },
      {
       "output_type": "stream",
       "stream": "stdout",
       "text": [
        "\n",
        "only prediction"
       ]
      },
      {
       "output_type": "stream",
       "stream": "stdout",
       "text": [
        "\n",
        "0.846361538462 "
       ]
      },
      {
       "output_type": "stream",
       "stream": "stdout",
       "text": [
        "0.395190804775\n",
        "Processing batch 47"
       ]
      },
      {
       "output_type": "stream",
       "stream": "stdout",
       "text": [
        "\n",
        "Running Dict Vectorizer transform alone"
       ]
      },
      {
       "output_type": "stream",
       "stream": "stdout",
       "text": [
        "\n",
        "only prediction"
       ]
      },
      {
       "output_type": "stream",
       "stream": "stdout",
       "text": [
        "\n",
        "0.854523076923 "
       ]
      },
      {
       "output_type": "stream",
       "stream": "stdout",
       "text": [
        "0.377861589234\n",
        "Processing batch 48"
       ]
      },
      {
       "output_type": "stream",
       "stream": "stdout",
       "text": [
        "\n",
        "Running Dict Vectorizer transform alone"
       ]
      },
      {
       "output_type": "stream",
       "stream": "stdout",
       "text": [
        "\n",
        "only prediction"
       ]
      },
      {
       "output_type": "stream",
       "stream": "stdout",
       "text": [
        "\n",
        "0.856661538462 "
       ]
      },
      {
       "output_type": "stream",
       "stream": "stdout",
       "text": [
        "0.373692015681\n",
        "Processing batch 49"
       ]
      },
      {
       "output_type": "stream",
       "stream": "stdout",
       "text": [
        "\n",
        "Running Dict Vectorizer transform alone"
       ]
      },
      {
       "output_type": "stream",
       "stream": "stdout",
       "text": [
        "\n",
        "only prediction"
       ]
      },
      {
       "output_type": "stream",
       "stream": "stdout",
       "text": [
        "\n",
        "0.854484615385 "
       ]
      },
      {
       "output_type": "stream",
       "stream": "stdout",
       "text": [
        "0.381965052617\n",
        "Processing batch 50"
       ]
      },
      {
       "output_type": "stream",
       "stream": "stdout",
       "text": [
        "\n",
        "Running Dict Vectorizer transform alone"
       ]
      },
      {
       "output_type": "stream",
       "stream": "stdout",
       "text": [
        "\n",
        "only prediction"
       ]
      },
      {
       "output_type": "stream",
       "stream": "stdout",
       "text": [
        "\n",
        "0.851169230769 "
       ]
      },
      {
       "output_type": "stream",
       "stream": "stdout",
       "text": [
        "0.390566608295\n",
        "Processing batch 51"
       ]
      },
      {
       "output_type": "stream",
       "stream": "stdout",
       "text": [
        "\n",
        "Running Dict Vectorizer transform alone"
       ]
      },
      {
       "output_type": "stream",
       "stream": "stdout",
       "text": [
        "\n",
        "only prediction"
       ]
      },
      {
       "output_type": "stream",
       "stream": "stdout",
       "text": [
        "\n",
        "0.851123076923 "
       ]
      },
      {
       "output_type": "stream",
       "stream": "stdout",
       "text": [
        "0.384782886582\n",
        "Processing batch 52"
       ]
      },
      {
       "output_type": "stream",
       "stream": "stdout",
       "text": [
        "\n",
        "Running Dict Vectorizer transform alone"
       ]
      },
      {
       "output_type": "stream",
       "stream": "stdout",
       "text": [
        "\n",
        "only prediction"
       ]
      },
      {
       "output_type": "stream",
       "stream": "stdout",
       "text": [
        "\n",
        "0.851607692308 "
       ]
      },
      {
       "output_type": "stream",
       "stream": "stdout",
       "text": [
        "0.380581939469\n",
        "Processing batch 53"
       ]
      },
      {
       "output_type": "stream",
       "stream": "stdout",
       "text": [
        "\n",
        "Running Dict Vectorizer transform alone"
       ]
      },
      {
       "output_type": "stream",
       "stream": "stdout",
       "text": [
        "\n",
        "only prediction"
       ]
      },
      {
       "output_type": "stream",
       "stream": "stdout",
       "text": [
        "\n",
        "0.863823076923 "
       ]
      },
      {
       "output_type": "stream",
       "stream": "stdout",
       "text": [
        "0.366141219888\n",
        "Processing batch 54"
       ]
      },
      {
       "output_type": "stream",
       "stream": "stdout",
       "text": [
        "\n",
        "Running Dict Vectorizer transform alone"
       ]
      },
      {
       "output_type": "stream",
       "stream": "stdout",
       "text": [
        "\n",
        "only prediction"
       ]
      },
      {
       "output_type": "stream",
       "stream": "stdout",
       "text": [
        "\n",
        "0.860753846154 "
       ]
      },
      {
       "output_type": "stream",
       "stream": "stdout",
       "text": [
        "0.372941062005\n",
        "Processing batch 55"
       ]
      },
      {
       "output_type": "stream",
       "stream": "stdout",
       "text": [
        "\n",
        "Running Dict Vectorizer transform alone"
       ]
      },
      {
       "output_type": "stream",
       "stream": "stdout",
       "text": [
        "\n",
        "only prediction"
       ]
      },
      {
       "output_type": "stream",
       "stream": "stdout",
       "text": [
        "\n",
        "0.862146153846 "
       ]
      },
      {
       "output_type": "stream",
       "stream": "stdout",
       "text": [
        "0.370938978721\n",
        "Processing batch 56"
       ]
      },
      {
       "output_type": "stream",
       "stream": "stdout",
       "text": [
        "\n",
        "Running Dict Vectorizer transform alone"
       ]
      },
      {
       "output_type": "stream",
       "stream": "stdout",
       "text": [
        "\n",
        "only prediction"
       ]
      },
      {
       "output_type": "stream",
       "stream": "stdout",
       "text": [
        "\n",
        "0.835330769231 "
       ]
      },
      {
       "output_type": "stream",
       "stream": "stdout",
       "text": [
        "0.398945006873\n",
        "Processing batch 57"
       ]
      },
      {
       "output_type": "stream",
       "stream": "stdout",
       "text": [
        "\n",
        "Running Dict Vectorizer transform alone"
       ]
      },
      {
       "output_type": "stream",
       "stream": "stdout",
       "text": [
        "\n",
        "only prediction"
       ]
      },
      {
       "output_type": "stream",
       "stream": "stdout",
       "text": [
        "\n",
        "0.845376923077 "
       ]
      },
      {
       "output_type": "stream",
       "stream": "stdout",
       "text": [
        "0.386130626933\n",
        "Processing batch 58"
       ]
      },
      {
       "output_type": "stream",
       "stream": "stdout",
       "text": [
        "\n",
        "Running Dict Vectorizer transform alone"
       ]
      },
      {
       "output_type": "stream",
       "stream": "stdout",
       "text": [
        "\n",
        "only prediction"
       ]
      },
      {
       "output_type": "stream",
       "stream": "stdout",
       "text": [
        "\n",
        "0.845592307692 "
       ]
      },
      {
       "output_type": "stream",
       "stream": "stdout",
       "text": [
        "0.387135157303\n",
        "Processing batch 59"
       ]
      },
      {
       "output_type": "stream",
       "stream": "stdout",
       "text": [
        "\n",
        "Running Dict Vectorizer transform alone"
       ]
      },
      {
       "output_type": "stream",
       "stream": "stdout",
       "text": [
        "\n",
        "only prediction"
       ]
      },
      {
       "output_type": "stream",
       "stream": "stdout",
       "text": [
        "\n",
        "0.841361538462 "
       ]
      },
      {
       "output_type": "stream",
       "stream": "stdout",
       "text": [
        "0.395513516298\n",
        "Processing batch 60"
       ]
      },
      {
       "output_type": "stream",
       "stream": "stdout",
       "text": [
        "\n",
        "Running Dict Vectorizer transform alone"
       ]
      },
      {
       "output_type": "stream",
       "stream": "stdout",
       "text": [
        "\n",
        "only prediction"
       ]
      },
      {
       "output_type": "stream",
       "stream": "stdout",
       "text": [
        "\n",
        "0.844830769231 "
       ]
      },
      {
       "output_type": "stream",
       "stream": "stdout",
       "text": [
        "0.391658388349\n",
        "Processing batch 61"
       ]
      },
      {
       "output_type": "stream",
       "stream": "stdout",
       "text": [
        "\n",
        "Running Dict Vectorizer transform alone"
       ]
      },
      {
       "output_type": "stream",
       "stream": "stdout",
       "text": [
        "\n",
        "only prediction"
       ]
      },
      {
       "output_type": "stream",
       "stream": "stdout",
       "text": [
        "\n",
        "0.842584615385 "
       ]
      },
      {
       "output_type": "stream",
       "stream": "stdout",
       "text": [
        "0.394381655477\n",
        "Processing batch 62"
       ]
      },
      {
       "output_type": "stream",
       "stream": "stdout",
       "text": [
        "\n",
        "Running Dict Vectorizer transform alone"
       ]
      },
      {
       "output_type": "stream",
       "stream": "stdout",
       "text": [
        "\n",
        "only prediction"
       ]
      },
      {
       "output_type": "stream",
       "stream": "stdout",
       "text": [
        "\n",
        "0.834353846154 "
       ]
      },
      {
       "output_type": "stream",
       "stream": "stdout",
       "text": [
        "0.406533037861\n",
        "Processing batch 63"
       ]
      },
      {
       "output_type": "stream",
       "stream": "stdout",
       "text": [
        "\n",
        "Running Dict Vectorizer transform alone"
       ]
      },
      {
       "output_type": "stream",
       "stream": "stdout",
       "text": [
        "\n",
        "only prediction"
       ]
      },
      {
       "output_type": "stream",
       "stream": "stdout",
       "text": [
        "\n",
        "0.837930769231 "
       ]
      },
      {
       "output_type": "stream",
       "stream": "stdout",
       "text": [
        "0.401216169932\n",
        "Processing batch 64"
       ]
      },
      {
       "output_type": "stream",
       "stream": "stdout",
       "text": [
        "\n",
        "Running Dict Vectorizer transform alone"
       ]
      },
      {
       "output_type": "stream",
       "stream": "stdout",
       "text": [
        "\n",
        "only prediction"
       ]
      },
      {
       "output_type": "stream",
       "stream": "stdout",
       "text": [
        "\n",
        "0.840207692308 "
       ]
      },
      {
       "output_type": "stream",
       "stream": "stdout",
       "text": [
        "0.39738360621\n",
        "Processing batch 65"
       ]
      },
      {
       "output_type": "stream",
       "stream": "stdout",
       "text": [
        "\n",
        "Running Dict Vectorizer transform alone"
       ]
      },
      {
       "output_type": "stream",
       "stream": "stdout",
       "text": [
        "\n",
        "only prediction"
       ]
      },
      {
       "output_type": "stream",
       "stream": "stdout",
       "text": [
        "\n",
        "0.847661538462 "
       ]
      },
      {
       "output_type": "stream",
       "stream": "stdout",
       "text": [
        "0.386970581124\n",
        "Processing batch 66"
       ]
      },
      {
       "output_type": "stream",
       "stream": "stdout",
       "text": [
        "\n",
        "Running Dict Vectorizer transform alone"
       ]
      },
      {
       "output_type": "stream",
       "stream": "stdout",
       "text": [
        "\n",
        "only prediction"
       ]
      },
      {
       "output_type": "stream",
       "stream": "stdout",
       "text": [
        "\n",
        "0.850607692308 "
       ]
      },
      {
       "output_type": "stream",
       "stream": "stdout",
       "text": [
        "0.381574052606\n",
        "Processing batch 67"
       ]
      },
      {
       "output_type": "stream",
       "stream": "stdout",
       "text": [
        "\n",
        "Running Dict Vectorizer transform alone"
       ]
      },
      {
       "output_type": "stream",
       "stream": "stdout",
       "text": [
        "\n",
        "only prediction"
       ]
      },
      {
       "output_type": "stream",
       "stream": "stdout",
       "text": [
        "\n",
        "0.851123076923 "
       ]
      },
      {
       "output_type": "stream",
       "stream": "stdout",
       "text": [
        "0.381470792815\n",
        "Processing batch 68"
       ]
      },
      {
       "output_type": "stream",
       "stream": "stdout",
       "text": [
        "\n",
        "Running Dict Vectorizer transform alone"
       ]
      },
      {
       "output_type": "stream",
       "stream": "stdout",
       "text": [
        "\n",
        "only prediction"
       ]
      },
      {
       "output_type": "stream",
       "stream": "stdout",
       "text": [
        "\n",
        "0.842953846154 "
       ]
      },
      {
       "output_type": "stream",
       "stream": "stdout",
       "text": [
        "0.393394314135\n",
        "Processing batch 69"
       ]
      },
      {
       "output_type": "stream",
       "stream": "stdout",
       "text": [
        "\n",
        "Running Dict Vectorizer transform alone"
       ]
      },
      {
       "output_type": "stream",
       "stream": "stdout",
       "text": [
        "\n",
        "only prediction"
       ]
      },
      {
       "output_type": "stream",
       "stream": "stdout",
       "text": [
        "\n",
        "0.840969230769 "
       ]
      },
      {
       "output_type": "stream",
       "stream": "stdout",
       "text": [
        "0.395613195697\n",
        "Processing batch 70"
       ]
      },
      {
       "output_type": "stream",
       "stream": "stdout",
       "text": [
        "\n",
        "Running Dict Vectorizer transform alone"
       ]
      },
      {
       "output_type": "stream",
       "stream": "stdout",
       "text": [
        "\n",
        "only prediction"
       ]
      },
      {
       "output_type": "stream",
       "stream": "stdout",
       "text": [
        "\n",
        "0.826669230769 "
       ]
      },
      {
       "output_type": "stream",
       "stream": "stdout",
       "text": [
        "0.41758517941\n",
        "Processing batch 71"
       ]
      },
      {
       "output_type": "stream",
       "stream": "stdout",
       "text": [
        "\n",
        "Running Dict Vectorizer transform alone"
       ]
      },
      {
       "output_type": "stream",
       "stream": "stdout",
       "text": [
        "\n",
        "only prediction"
       ]
      },
      {
       "output_type": "stream",
       "stream": "stdout",
       "text": [
        "\n",
        "0.802984615385 "
       ]
      },
      {
       "output_type": "stream",
       "stream": "stdout",
       "text": [
        "0.460640835342\n",
        "Processing batch 72"
       ]
      },
      {
       "output_type": "stream",
       "stream": "stdout",
       "text": [
        "\n",
        "Running Dict Vectorizer transform alone"
       ]
      },
      {
       "output_type": "stream",
       "stream": "stdout",
       "text": [
        "\n",
        "only prediction"
       ]
      },
      {
       "output_type": "stream",
       "stream": "stdout",
       "text": [
        "\n",
        "0.807930769231 "
       ]
      },
      {
       "output_type": "stream",
       "stream": "stdout",
       "text": [
        "0.453509926481\n",
        "Processing batch 73"
       ]
      },
      {
       "output_type": "stream",
       "stream": "stdout",
       "text": [
        "\n",
        "Running Dict Vectorizer transform alone"
       ]
      },
      {
       "output_type": "stream",
       "stream": "stdout",
       "text": [
        "\n",
        "only prediction"
       ]
      },
      {
       "output_type": "stream",
       "stream": "stdout",
       "text": [
        "\n",
        "0.839923076923 "
       ]
      },
      {
       "output_type": "stream",
       "stream": "stdout",
       "text": [
        "0.40529163438\n",
        "Processing batch 74"
       ]
      },
      {
       "output_type": "stream",
       "stream": "stdout",
       "text": [
        "\n",
        "Running Dict Vectorizer transform alone"
       ]
      },
      {
       "output_type": "stream",
       "stream": "stdout",
       "text": [
        "\n",
        "only prediction"
       ]
      },
      {
       "output_type": "stream",
       "stream": "stdout",
       "text": [
        "\n",
        "0.885315384615 "
       ]
      },
      {
       "output_type": "stream",
       "stream": "stdout",
       "text": [
        "0.328617250528\n",
        "Processing batch 75"
       ]
      },
      {
       "output_type": "stream",
       "stream": "stdout",
       "text": [
        "\n",
        "Running Dict Vectorizer transform alone"
       ]
      },
      {
       "output_type": "stream",
       "stream": "stdout",
       "text": [
        "\n",
        "only prediction"
       ]
      },
      {
       "output_type": "stream",
       "stream": "stdout",
       "text": [
        "\n",
        "0.894284615385 "
       ]
      },
      {
       "output_type": "stream",
       "stream": "stdout",
       "text": [
        "0.311919101009\n",
        "Processing batch 76"
       ]
      },
      {
       "output_type": "stream",
       "stream": "stdout",
       "text": [
        "\n",
        "Running Dict Vectorizer transform alone"
       ]
      },
      {
       "output_type": "stream",
       "stream": "stdout",
       "text": [
        "\n",
        "only prediction"
       ]
      },
      {
       "output_type": "stream",
       "stream": "stdout",
       "text": [
        "\n",
        "0.890330769231 "
       ]
      },
      {
       "output_type": "stream",
       "stream": "stdout",
       "text": [
        "0.320573054347\n",
        "Processing batch 77"
       ]
      },
      {
       "output_type": "stream",
       "stream": "stdout",
       "text": [
        "\n",
        "Running Dict Vectorizer transform alone"
       ]
      },
      {
       "output_type": "stream",
       "stream": "stdout",
       "text": [
        "\n",
        "only prediction"
       ]
      },
      {
       "output_type": "stream",
       "stream": "stdout",
       "text": [
        "\n",
        "0.867746153846 "
       ]
      },
      {
       "output_type": "stream",
       "stream": "stdout",
       "text": [
        "0.355523762459\n",
        "Processing batch 78"
       ]
      },
      {
       "output_type": "stream",
       "stream": "stdout",
       "text": [
        "\n",
        "Running Dict Vectorizer transform alone"
       ]
      },
      {
       "output_type": "stream",
       "stream": "stdout",
       "text": [
        "\n",
        "only prediction"
       ]
      },
      {
       "output_type": "stream",
       "stream": "stdout",
       "text": [
        "\n",
        "0.858546153846 "
       ]
      },
      {
       "output_type": "stream",
       "stream": "stdout",
       "text": [
        "0.37264193382\n",
        "Processing batch 79"
       ]
      },
      {
       "output_type": "stream",
       "stream": "stdout",
       "text": [
        "\n",
        "Running Dict Vectorizer transform alone"
       ]
      },
      {
       "output_type": "stream",
       "stream": "stdout",
       "text": [
        "\n",
        "only prediction"
       ]
      },
      {
       "output_type": "stream",
       "stream": "stdout",
       "text": [
        "\n",
        "0.838384615385 "
       ]
      },
      {
       "output_type": "stream",
       "stream": "stdout",
       "text": [
        "0.405590817056\n",
        "Processing batch 80"
       ]
      },
      {
       "output_type": "stream",
       "stream": "stdout",
       "text": [
        "\n",
        "Running Dict Vectorizer transform alone"
       ]
      },
      {
       "output_type": "stream",
       "stream": "stdout",
       "text": [
        "\n",
        "only prediction"
       ]
      },
      {
       "output_type": "stream",
       "stream": "stdout",
       "text": [
        "\n",
        "0.819838461538 "
       ]
      },
      {
       "output_type": "stream",
       "stream": "stdout",
       "text": [
        "0.437739859109\n",
        "Processing batch 81"
       ]
      },
      {
       "output_type": "stream",
       "stream": "stdout",
       "text": [
        "\n",
        "Running Dict Vectorizer transform alone"
       ]
      },
      {
       "output_type": "stream",
       "stream": "stdout",
       "text": [
        "\n",
        "only prediction"
       ]
      },
      {
       "output_type": "stream",
       "stream": "stdout",
       "text": [
        "\n",
        "0.823176923077 "
       ]
      },
      {
       "output_type": "stream",
       "stream": "stdout",
       "text": [
        "0.433065289534\n",
        "Processing batch 82"
       ]
      },
      {
       "output_type": "stream",
       "stream": "stdout",
       "text": [
        "\n",
        "Running Dict Vectorizer transform alone"
       ]
      },
      {
       "output_type": "stream",
       "stream": "stdout",
       "text": [
        "\n",
        "only prediction"
       ]
      },
      {
       "output_type": "stream",
       "stream": "stdout",
       "text": [
        "\n",
        "0.825107692308 "
       ]
      },
      {
       "output_type": "stream",
       "stream": "stdout",
       "text": [
        "0.42953978459\n",
        "Processing batch 83"
       ]
      },
      {
       "output_type": "stream",
       "stream": "stdout",
       "text": [
        "\n",
        "Running Dict Vectorizer transform alone"
       ]
      },
      {
       "output_type": "stream",
       "stream": "stdout",
       "text": [
        "\n",
        "only prediction"
       ]
      },
      {
       "output_type": "stream",
       "stream": "stdout",
       "text": [
        "\n",
        "0.813369230769 "
       ]
      },
      {
       "output_type": "stream",
       "stream": "stdout",
       "text": [
        "0.443854312673\n",
        "Processing batch 84"
       ]
      },
      {
       "output_type": "stream",
       "stream": "stdout",
       "text": [
        "\n",
        "Running Dict Vectorizer transform alone"
       ]
      },
      {
       "output_type": "stream",
       "stream": "stdout",
       "text": [
        "\n",
        "only prediction"
       ]
      },
      {
       "output_type": "stream",
       "stream": "stdout",
       "text": [
        "\n",
        "0.835923076923 "
       ]
      },
      {
       "output_type": "stream",
       "stream": "stdout",
       "text": [
        "0.402337896156\n",
        "Processing batch 85"
       ]
      },
      {
       "output_type": "stream",
       "stream": "stdout",
       "text": [
        "\n",
        "Running Dict Vectorizer transform alone"
       ]
      },
      {
       "output_type": "stream",
       "stream": "stdout",
       "text": [
        "\n",
        "only prediction"
       ]
      },
      {
       "output_type": "stream",
       "stream": "stdout",
       "text": [
        "\n",
        "0.837746153846 "
       ]
      },
      {
       "output_type": "stream",
       "stream": "stdout",
       "text": [
        "0.398302031355\n",
        "Processing batch 86"
       ]
      },
      {
       "output_type": "stream",
       "stream": "stdout",
       "text": [
        "\n",
        "Running Dict Vectorizer transform alone"
       ]
      },
      {
       "output_type": "stream",
       "stream": "stdout",
       "text": [
        "\n",
        "only prediction"
       ]
      },
      {
       "output_type": "stream",
       "stream": "stdout",
       "text": [
        "\n",
        "0.824092307692 "
       ]
      },
      {
       "output_type": "stream",
       "stream": "stdout",
       "text": [
        "0.423049200347\n",
        "Processing batch 87"
       ]
      },
      {
       "output_type": "stream",
       "stream": "stdout",
       "text": [
        "\n",
        "Running Dict Vectorizer transform alone"
       ]
      },
      {
       "output_type": "stream",
       "stream": "stdout",
       "text": [
        "\n",
        "only prediction"
       ]
      },
      {
       "output_type": "stream",
       "stream": "stdout",
       "text": [
        "\n",
        "0.828915384615 "
       ]
      },
      {
       "output_type": "stream",
       "stream": "stdout",
       "text": [
        "0.412833268103\n",
        "Processing batch 88"
       ]
      },
      {
       "output_type": "stream",
       "stream": "stdout",
       "text": [
        "\n",
        "Running Dict Vectorizer transform alone"
       ]
      },
      {
       "output_type": "stream",
       "stream": "stdout",
       "text": [
        "\n",
        "only prediction"
       ]
      },
      {
       "output_type": "stream",
       "stream": "stdout",
       "text": [
        "\n",
        "0.837484615385 "
       ]
      },
      {
       "output_type": "stream",
       "stream": "stdout",
       "text": [
        "0.398014778334\n",
        "Processing batch 89"
       ]
      },
      {
       "output_type": "stream",
       "stream": "stdout",
       "text": [
        "\n",
        "Running Dict Vectorizer transform alone"
       ]
      },
      {
       "output_type": "stream",
       "stream": "stdout",
       "text": [
        "\n",
        "only prediction"
       ]
      },
      {
       "output_type": "stream",
       "stream": "stdout",
       "text": [
        "\n",
        "0.836907692308 "
       ]
      },
      {
       "output_type": "stream",
       "stream": "stdout",
       "text": [
        "0.401744072458\n",
        "Processing batch 90"
       ]
      },
      {
       "output_type": "stream",
       "stream": "stdout",
       "text": [
        "\n",
        "Running Dict Vectorizer transform alone"
       ]
      },
      {
       "output_type": "stream",
       "stream": "stdout",
       "text": [
        "\n",
        "only prediction"
       ]
      },
      {
       "output_type": "stream",
       "stream": "stdout",
       "text": [
        "\n",
        "0.835738461538 "
       ]
      },
      {
       "output_type": "stream",
       "stream": "stdout",
       "text": [
        "0.403793320341\n",
        "Processing batch 91"
       ]
      },
      {
       "output_type": "stream",
       "stream": "stdout",
       "text": [
        "\n",
        "Running Dict Vectorizer transform alone"
       ]
      },
      {
       "output_type": "stream",
       "stream": "stdout",
       "text": [
        "\n",
        "only prediction"
       ]
      },
      {
       "output_type": "stream",
       "stream": "stdout",
       "text": [
        "\n",
        "0.834453846154 "
       ]
      },
      {
       "output_type": "stream",
       "stream": "stdout",
       "text": [
        "0.408865795921\n",
        "Processing batch 92"
       ]
      },
      {
       "output_type": "stream",
       "stream": "stdout",
       "text": [
        "\n",
        "Running Dict Vectorizer transform alone"
       ]
      },
      {
       "output_type": "stream",
       "stream": "stdout",
       "text": [
        "\n",
        "only prediction"
       ]
      },
      {
       "output_type": "stream",
       "stream": "stdout",
       "text": [
        "\n",
        "0.833346153846 "
       ]
      },
      {
       "output_type": "stream",
       "stream": "stdout",
       "text": [
        "0.410409116199\n",
        "Processing batch 93"
       ]
      },
      {
       "output_type": "stream",
       "stream": "stdout",
       "text": [
        "\n",
        "Running Dict Vectorizer transform alone"
       ]
      },
      {
       "output_type": "stream",
       "stream": "stdout",
       "text": [
        "\n",
        "only prediction"
       ]
      },
      {
       "output_type": "stream",
       "stream": "stdout",
       "text": [
        "\n",
        "0.827553846154 "
       ]
      },
      {
       "output_type": "stream",
       "stream": "stdout",
       "text": [
        "0.421215850174\n",
        "Processing batch 94"
       ]
      },
      {
       "output_type": "stream",
       "stream": "stdout",
       "text": [
        "\n",
        "Running Dict Vectorizer transform alone"
       ]
      },
      {
       "output_type": "stream",
       "stream": "stdout",
       "text": [
        "\n",
        "only prediction"
       ]
      },
      {
       "output_type": "stream",
       "stream": "stdout",
       "text": [
        "\n",
        "0.824638461538 "
       ]
      },
      {
       "output_type": "stream",
       "stream": "stdout",
       "text": [
        "0.430123334039\n",
        "Processing batch 95"
       ]
      },
      {
       "output_type": "stream",
       "stream": "stdout",
       "text": [
        "\n",
        "Running Dict Vectorizer transform alone"
       ]
      },
      {
       "output_type": "stream",
       "stream": "stdout",
       "text": [
        "\n",
        "only prediction"
       ]
      },
      {
       "output_type": "stream",
       "stream": "stdout",
       "text": [
        "\n",
        "0.819076923077 "
       ]
      },
      {
       "output_type": "stream",
       "stream": "stdout",
       "text": [
        "0.437824171926\n",
        "Processing batch 96"
       ]
      },
      {
       "output_type": "stream",
       "stream": "stdout",
       "text": [
        "\n",
        "Running Dict Vectorizer transform alone"
       ]
      },
      {
       "output_type": "stream",
       "stream": "stdout",
       "text": [
        "\n",
        "only prediction"
       ]
      },
      {
       "output_type": "stream",
       "stream": "stdout",
       "text": [
        "\n",
        "0.818292307692 "
       ]
      },
      {
       "output_type": "stream",
       "stream": "stdout",
       "text": [
        "0.439946359916\n",
        "Processing batch 97"
       ]
      },
      {
       "output_type": "stream",
       "stream": "stdout",
       "text": [
        "\n",
        "Running Dict Vectorizer transform alone"
       ]
      },
      {
       "output_type": "stream",
       "stream": "stdout",
       "text": [
        "\n",
        "only prediction"
       ]
      },
      {
       "output_type": "stream",
       "stream": "stdout",
       "text": [
        "\n",
        "0.818376923077 "
       ]
      },
      {
       "output_type": "stream",
       "stream": "stdout",
       "text": [
        "0.441691302757\n",
        "Processing batch 98"
       ]
      },
      {
       "output_type": "stream",
       "stream": "stdout",
       "text": [
        "\n",
        "Running Dict Vectorizer transform alone"
       ]
      },
      {
       "output_type": "stream",
       "stream": "stdout",
       "text": [
        "\n",
        "only prediction"
       ]
      },
      {
       "output_type": "stream",
       "stream": "stdout",
       "text": [
        "\n",
        "0.812230769231 "
       ]
      },
      {
       "output_type": "stream",
       "stream": "stdout",
       "text": [
        "0.451264632525\n",
        "Processing batch 99"
       ]
      },
      {
       "output_type": "stream",
       "stream": "stdout",
       "text": [
        "\n",
        "Running Dict Vectorizer transform alone"
       ]
      },
      {
       "output_type": "stream",
       "stream": "stdout",
       "text": [
        "\n",
        "only prediction"
       ]
      },
      {
       "output_type": "stream",
       "stream": "stdout",
       "text": [
        "\n",
        "0.808769230769 "
       ]
      },
      {
       "output_type": "stream",
       "stream": "stdout",
       "text": [
        "0.456464006749\n",
        "Processing batch 100"
       ]
      },
      {
       "output_type": "stream",
       "stream": "stdout",
       "text": [
        "\n",
        "Running Dict Vectorizer transform alone"
       ]
      },
      {
       "output_type": "stream",
       "stream": "stdout",
       "text": [
        "\n",
        "only prediction"
       ]
      },
      {
       "output_type": "stream",
       "stream": "stdout",
       "text": [
        "\n",
        "0.811946153846 "
       ]
      },
      {
       "output_type": "stream",
       "stream": "stdout",
       "text": [
        "0.452433998709\n",
        "Done.. aren't we?\n",
        "Yes, we are..\n"
       ]
      }
     ],
     "prompt_number": 4
    },
    {
     "cell_type": "code",
     "collapsed": false,
     "input": [
      "##Prediction\n",
      "\n",
      "batch=0\n",
      "nlines=0\n",
      "nlim=100000\n",
      "#g=open(\"first_submission.csv\",'a')\n",
      "g=open(\"eigth_submission.csv\",'a')\n",
      "g.write(\"id,click\\n\")\n",
      "\n",
      "Yp=np.zeros((nlim,2),dtype='a20')\n",
      "X=np.zeros((nlim,25),dtype='a20')\n",
      "with open(\"test_woheader.csv\",\"r\") as f:\n",
      "    for line in f:\n",
      "        \n",
      "        X[nlines,:23]=[str(xx) for xx in line.strip().split(',')]\n",
      "        #print X[nlines,:]\n",
      "        X[nlines,23]=str(dt.datetime.strptime(X[nlines,1],'%y%m%d%H').weekday())\n",
      "        X[nlines,24]=X[nlines,1][-2:]\n",
      "        nlines=nlines+1;\n",
      "        if (nlines==nlim):\n",
      "            print 'Processing batch '+str(batch+1)\n",
      "            batch=batch+1\n",
      "\n",
      "            Xd=pd.DataFrame(X[:,2:],columns=colnames)\n",
      "            X_sparse=vec.transform(Xd.T.to_dict().values())                        \n",
      "            ypred=clf.predict_proba(X_sparse)[:,1]\n",
      "            \n",
      "            #Output to file\n",
      "            Yp[:,0]=X[:,0]\n",
      "            Yp[:,1]=[str(xx) for xx in ypred]\n",
      "            np.savetxt(g,Yp,delimiter=',',fmt=\"%s\")\n",
      "            \n",
      "            nlines=0\n",
      "            X=np.zeros((nlim,25),dtype='a20')\n",
      "            del X_sparse\n",
      "            \n",
      "    else:\n",
      "        print \"Processing final batch..\"\n",
      "        \n",
      "        Xd=pd.DataFrame(X[:nlines,2:],columns=colnames)\n",
      "        X_sparse=vec.transform(Xd.T.to_dict().values())                        \n",
      "        ypred=clf.predict_proba(X_sparse)[:,1]\n",
      "\n",
      "        #Output to file\n",
      "        Yp=np.zeros((nlines,2),dtype='a20')\n",
      "        Yp[:,0]=X[:nlines,0]\n",
      "        Yp[:,1]=[str(xx) for xx in ypred]\n",
      "        np.savetxt(g,Yp,delimiter=',',fmt=\"%s\")\n",
      "        \n",
      "        f.close()\n",
      "        del X\n",
      "        del X_sparse\n",
      "\n",
      "print 'Yes, we are done..'\n",
      "g.close()"
     ],
     "language": "python",
     "metadata": {},
     "outputs": [
      {
       "output_type": "stream",
       "stream": "stdout",
       "text": [
        "Processing batch 1\n",
        "Processing batch 2"
       ]
      },
      {
       "output_type": "stream",
       "stream": "stdout",
       "text": [
        "\n",
        "Processing batch 3"
       ]
      },
      {
       "output_type": "stream",
       "stream": "stdout",
       "text": [
        "\n",
        "Processing batch 4"
       ]
      },
      {
       "output_type": "stream",
       "stream": "stdout",
       "text": [
        "\n",
        "Processing batch 5"
       ]
      },
      {
       "output_type": "stream",
       "stream": "stdout",
       "text": [
        "\n",
        "Processing batch 6"
       ]
      },
      {
       "output_type": "stream",
       "stream": "stdout",
       "text": [
        "\n",
        "Processing batch 7"
       ]
      },
      {
       "output_type": "stream",
       "stream": "stdout",
       "text": [
        "\n",
        "Processing batch 8"
       ]
      },
      {
       "output_type": "stream",
       "stream": "stdout",
       "text": [
        "\n",
        "Processing batch 9"
       ]
      },
      {
       "output_type": "stream",
       "stream": "stdout",
       "text": [
        "\n",
        "Processing batch 10"
       ]
      },
      {
       "output_type": "stream",
       "stream": "stdout",
       "text": [
        "\n",
        "Processing batch 11"
       ]
      },
      {
       "output_type": "stream",
       "stream": "stdout",
       "text": [
        "\n",
        "Processing batch 12"
       ]
      },
      {
       "output_type": "stream",
       "stream": "stdout",
       "text": [
        "\n",
        "Processing batch 13"
       ]
      },
      {
       "output_type": "stream",
       "stream": "stdout",
       "text": [
        "\n",
        "Processing batch 14"
       ]
      },
      {
       "output_type": "stream",
       "stream": "stdout",
       "text": [
        "\n",
        "Processing batch 15"
       ]
      },
      {
       "output_type": "stream",
       "stream": "stdout",
       "text": [
        "\n",
        "Processing batch 16"
       ]
      },
      {
       "output_type": "stream",
       "stream": "stdout",
       "text": [
        "\n",
        "Processing batch 17"
       ]
      },
      {
       "output_type": "stream",
       "stream": "stdout",
       "text": [
        "\n",
        "Processing batch 18"
       ]
      },
      {
       "output_type": "stream",
       "stream": "stdout",
       "text": [
        "\n",
        "Processing batch 19"
       ]
      },
      {
       "output_type": "stream",
       "stream": "stdout",
       "text": [
        "\n",
        "Processing batch 20"
       ]
      },
      {
       "output_type": "stream",
       "stream": "stdout",
       "text": [
        "\n",
        "Processing batch 21"
       ]
      },
      {
       "output_type": "stream",
       "stream": "stdout",
       "text": [
        "\n",
        "Processing batch 22"
       ]
      },
      {
       "output_type": "stream",
       "stream": "stdout",
       "text": [
        "\n",
        "Processing batch 23"
       ]
      },
      {
       "output_type": "stream",
       "stream": "stdout",
       "text": [
        "\n",
        "Processing batch 24"
       ]
      },
      {
       "output_type": "stream",
       "stream": "stdout",
       "text": [
        "\n",
        "Processing batch 25"
       ]
      },
      {
       "output_type": "stream",
       "stream": "stdout",
       "text": [
        "\n",
        "Processing batch 26"
       ]
      },
      {
       "output_type": "stream",
       "stream": "stdout",
       "text": [
        "\n",
        "Processing batch 27"
       ]
      },
      {
       "output_type": "stream",
       "stream": "stdout",
       "text": [
        "\n",
        "Processing batch 28"
       ]
      },
      {
       "output_type": "stream",
       "stream": "stdout",
       "text": [
        "\n",
        "Processing batch 29"
       ]
      },
      {
       "output_type": "stream",
       "stream": "stdout",
       "text": [
        "\n",
        "Processing batch 30"
       ]
      },
      {
       "output_type": "stream",
       "stream": "stdout",
       "text": [
        "\n",
        "Processing batch 31"
       ]
      },
      {
       "output_type": "stream",
       "stream": "stdout",
       "text": [
        "\n",
        "Processing batch 32"
       ]
      },
      {
       "output_type": "stream",
       "stream": "stdout",
       "text": [
        "\n",
        "Processing batch 33"
       ]
      },
      {
       "output_type": "stream",
       "stream": "stdout",
       "text": [
        "\n",
        "Processing batch 34"
       ]
      },
      {
       "output_type": "stream",
       "stream": "stdout",
       "text": [
        "\n",
        "Processing batch 35"
       ]
      },
      {
       "output_type": "stream",
       "stream": "stdout",
       "text": [
        "\n",
        "Processing batch 36"
       ]
      },
      {
       "output_type": "stream",
       "stream": "stdout",
       "text": [
        "\n",
        "Processing batch 37"
       ]
      },
      {
       "output_type": "stream",
       "stream": "stdout",
       "text": [
        "\n",
        "Processing batch 38"
       ]
      },
      {
       "output_type": "stream",
       "stream": "stdout",
       "text": [
        "\n",
        "Processing batch 39"
       ]
      },
      {
       "output_type": "stream",
       "stream": "stdout",
       "text": [
        "\n",
        "Processing batch 40"
       ]
      },
      {
       "output_type": "stream",
       "stream": "stdout",
       "text": [
        "\n",
        "Processing batch 41"
       ]
      },
      {
       "output_type": "stream",
       "stream": "stdout",
       "text": [
        "\n",
        "Processing batch 42"
       ]
      },
      {
       "output_type": "stream",
       "stream": "stdout",
       "text": [
        "\n",
        "Processing batch 43"
       ]
      },
      {
       "output_type": "stream",
       "stream": "stdout",
       "text": [
        "\n",
        "Processing batch 44"
       ]
      },
      {
       "output_type": "stream",
       "stream": "stdout",
       "text": [
        "\n",
        "Processing batch 45"
       ]
      },
      {
       "output_type": "stream",
       "stream": "stdout",
       "text": [
        "\n",
        "Processing final batch.."
       ]
      },
      {
       "output_type": "stream",
       "stream": "stdout",
       "text": [
        "\n",
        "Yes, we are done.."
       ]
      },
      {
       "output_type": "stream",
       "stream": "stdout",
       "text": [
        "\n"
       ]
      }
     ],
     "prompt_number": 5
    },
    {
     "cell_type": "code",
     "collapsed": false,
     "input": [
      "print X.shape"
     ],
     "language": "python",
     "metadata": {},
     "outputs": [
      {
       "output_type": "stream",
       "stream": "stdout",
       "text": [
        "(500000, 25)\n"
       ]
      }
     ],
     "prompt_number": 6
    },
    {
     "cell_type": "code",
     "collapsed": false,
     "input": [
      "print ypred\n",
      "print str(ypred)\n",
      "print Yp\n",
      "print Yp.shape"
     ],
     "language": "python",
     "metadata": {},
     "outputs": [
      {
       "output_type": "stream",
       "stream": "stdout",
       "text": [
        "[ 0.46489831  0.07854326  0.0756602  ...,  0.04772515  0.42495103\n",
        "  0.65019639]\n",
        "[ 0.46489831  0.07854326  0.0756602  ...,  0.04772515  0.42495103\n",
        "  0.65019639]\n",
        "[['9510208106256648442' '0.46489830732']\n",
        " ['9510220156644959724' '0.0785432608006']\n",
        " ['9510251116927882877' '0.0756601953443']\n",
        " ..., \n",
        " ['9642376792155260587' '0.0477251463872']\n",
        " ['9642413861222366631' '0.424951033153']\n",
        " ['9642841034791728010' '0.650196386064']]\n",
        "(100000, 2)\n"
       ]
      }
     ],
     "prompt_number": 17
    },
    {
     "cell_type": "code",
     "collapsed": false,
     "input": [
      "print Xd"
     ],
     "language": "python",
     "metadata": {},
     "outputs": [
      {
       "output_type": "stream",
       "stream": "stdout",
       "text": [
        "         C1 banner_pos   site_id site_domain site_category    app_id  \\\n",
        "0      1005          0  85f751fd    c4e18dd6      50e219e0  e9739828   \n",
        "1      1005          0  17d1b03f    f3845767      f028772b  ecad2386   \n",
        "2      1005          0  6c5b482c    7687a86e      3e814130  ecad2386   \n",
        "3      1005          0  17d1b03f    f3845767      f028772b  ecad2386   \n",
        "4      1010          1  85f751fd    c4e18dd6      50e219e0  c6eb993a   \n",
        "5      1005          0  85f751fd    c4e18dd6      50e219e0  51cedd4e   \n",
        "6      1005          0  85f751fd    c4e18dd6      50e219e0  9c13b419   \n",
        "7      1005          0  85f751fd    c4e18dd6      50e219e0  febd1138   \n",
        "8      1005          0  17d1b03f    f3845767      f028772b  ecad2386   \n",
        "9      1005          0  17d1b03f    f3845767      f028772b  ecad2386   \n",
        "10     1005          1  b7e9786d    b12b9f85      f028772b  ecad2386   \n",
        "11     1005          0  83a0ad1a    5c9ae867      f028772b  ecad2386   \n",
        "12     1005          0  17d1b03f    f3845767      f028772b  ecad2386   \n",
        "13     1005          0  85f751fd    c4e18dd6      50e219e0  ce183bbd   \n",
        "14     1005          0  17d1b03f    f3845767      f028772b  ecad2386   \n",
        "15     1005          0  85f751fd    c4e18dd6      50e219e0  51cedd4e   \n",
        "16     1005          0  85f751fd    c4e18dd6      50e219e0  685d1c4c   \n",
        "17     1005          0  85f751fd    c4e18dd6      50e219e0  92f5800b   \n",
        "18     1005          0  85f751fd    c4e18dd6      50e219e0  2bc6bb64   \n",
        "19     1005          0  85f751fd    c4e18dd6      50e219e0  51cedd4e   \n",
        "20     1005          0  17d1b03f    f3845767      f028772b  ecad2386   \n",
        "21     1005          0  85f751fd    c4e18dd6      50e219e0  65f37f55   \n",
        "22     1005          0  85f751fd    c4e18dd6      50e219e0  03528b27   \n",
        "23     1005          0  85f751fd    c4e18dd6      50e219e0  92f5800b   \n",
        "24     1005          0  17d1b03f    f3845767      f028772b  ecad2386   \n",
        "25     1005          0  85f751fd    c4e18dd6      50e219e0  467930e2   \n",
        "26     1005          1  e151e245    7e091613      f028772b  ecad2386   \n",
        "27     1005          0  17d1b03f    f3845767      f028772b  ecad2386   \n",
        "28     1005          1  85f751fd    c4e18dd6      50e219e0  1c4c71ef   \n",
        "29     1005          1  faf9c1c2    c8223ee3      f028772b  ecad2386   \n",
        "...     ...        ...       ...         ...           ...       ...   \n",
        "77434  1005          0  85f751fd    c4e18dd6      50e219e0  2d869bee   \n",
        "77435  1005          0  85f751fd    c4e18dd6      50e219e0  685d1c4c   \n",
        "77436  1005          0  85f751fd    c4e18dd6      50e219e0  381a6863   \n",
        "77437  1005          1  5ee41ff2    17d996e6      f028772b  ecad2386   \n",
        "77438  1005          0  85f751fd    c4e18dd6      50e219e0  9c13b419   \n",
        "77439  1005          0  17d1b03f    f3845767      f028772b  ecad2386   \n",
        "77440  1005          0  17d1b03f    f3845767      f028772b  ecad2386   \n",
        "77441  1005          0  85f751fd    c4e18dd6      50e219e0  e2fcccd2   \n",
        "77442  1005          0  17d1b03f    f3845767      f028772b  ecad2386   \n",
        "77443  1005          0  17d1b03f    f3845767      f028772b  ecad2386   \n",
        "77444  1005          0  17d1b03f    f3845767      f028772b  ecad2386   \n",
        "77445  1005          0  85f751fd    c4e18dd6      50e219e0  98fed791   \n",
        "77446  1005          0  85f751fd    c4e18dd6      50e219e0  13a901ff   \n",
        "77447  1005          0  17d1b03f    f3845767      f028772b  ecad2386   \n",
        "77448  1005          0  85f751fd    c4e18dd6      50e219e0  9c13b419   \n",
        "77449  1005          1  e151e245    7e091613      f028772b  ecad2386   \n",
        "77450  1005          0  1a5c1d83    5dddf09e      f028772b  ecad2386   \n",
        "77451  1005          0  85f751fd    c4e18dd6      50e219e0  9c13b419   \n",
        "77452  1005          0  85f751fd    c4e18dd6      50e219e0  685d1c4c   \n",
        "77453  1012          0  85f751fd    c4e18dd6      50e219e0  0443d75e   \n",
        "77454  1005          1  e151e245    7e091613      f028772b  ecad2386   \n",
        "77455  1005          0  85f751fd    c4e18dd6      50e219e0  98fed791   \n",
        "77456  1005          0  85f751fd    c4e18dd6      50e219e0  febd1138   \n",
        "77457  1005          0  17d1b03f    f3845767      f028772b  ecad2386   \n",
        "77458  1005          0  85f751fd    c4e18dd6      50e219e0  8dbc921a   \n",
        "77459  1005          0  93eaba74    7687a86e      3e814130  ecad2386   \n",
        "77460  1005          0  17d1b03f    f3845767      f028772b  ecad2386   \n",
        "77461  1005          0  5b08c53b    7687a86e      3e814130  ecad2386   \n",
        "77462  1005          0  85f751fd    c4e18dd6      50e219e0  92f5800b   \n",
        "77463  1005          0  17d1b03f    f3845767      f028772b  ecad2386   \n",
        "\n",
        "      app_domain app_category device_id device_ip    ...       C14  C15  C16  \\\n",
        "0       df32afa9     cef3e649  a99f214a  60e5e4f5    ...     24297  320   50   \n",
        "1       7801e8d9     07d7df22  a99f214a  c1256cf1    ...     22254  320   50   \n",
        "2       7801e8d9     07d7df22  a99f214a  431b3174    ...     17654  300  250   \n",
        "3       7801e8d9     07d7df22  a99f214a  473eabe8    ...     22261  320   50   \n",
        "4       7801e8d9     0f2161f8  80b47cf5  5cf90014    ...     20291  320   50   \n",
        "5       aefc06bd     0f2161f8  a99f214a  931a24f9    ...     24075  320   50   \n",
        "6       2347f47a     f95efa07  a99f214a  81887079    ...     23161  320   50   \n",
        "7       82e27996     0f2161f8  a99f214a  e1557eb9    ...     19743  320   50   \n",
        "8       7801e8d9     07d7df22  a99f214a  e0bdf4fb    ...     22254  320   50   \n",
        "9       7801e8d9     07d7df22  a99f214a  2980f384    ...     22104  320   50   \n",
        "10      7801e8d9     07d7df22  a99f214a  36ce6053    ...     22680  320   50   \n",
        "11      7801e8d9     07d7df22  a99f214a  f0219497    ...     20633  320   50   \n",
        "12      7801e8d9     07d7df22  a99f214a  1ad729b5    ...     22104  320   50   \n",
        "13      ae637522     cef3e649  a99f214a  152241fb    ...     24132  320   50   \n",
        "14      7801e8d9     07d7df22  a99f214a  8a014cbb    ...     22254  320   50   \n",
        "15      aefc06bd     0f2161f8  a99f214a  4c07b9b5    ...     19216  320   50   \n",
        "16      2347f47a     8ded1f7a  a99f214a  331f6864    ...     22196  320   50   \n",
        "17      ae637522     0f2161f8  a99f214a  fdd5f31e    ...     23855  320   50   \n",
        "18      7801e8d9     0f2161f8  a99f214a  56fab156    ...     23722  320   50   \n",
        "19      aefc06bd     0f2161f8  a99f214a  3836c2a8    ...     19743  320   50   \n",
        "20      7801e8d9     07d7df22  a99f214a  f4c14184    ...     22104  320   50   \n",
        "21      d9b5648e     0f2161f8  a99f214a  e6ffb1a2    ...     20508  320   50   \n",
        "22      2347f47a     8ded1f7a  a99f214a  434ead62    ...     24297  320   50   \n",
        "23      ae637522     0f2161f8  a99f214a  9fb85b43    ...     23855  320   50   \n",
        "24      7801e8d9     07d7df22  a99f214a  45dfc17a    ...     22261  320   50   \n",
        "25      d9b5648e     0f2161f8  a99f214a  7b23310d    ...     20984  320   50   \n",
        "26      7801e8d9     07d7df22  a99f214a  fbbb31c4    ...     24093  320   50   \n",
        "27      7801e8d9     07d7df22  a99f214a  3d4499a4    ...     22104  320   50   \n",
        "28      2347f47a     0f2161f8  d1752b48  d6ff3c5b    ...     17706  320   50   \n",
        "29      7801e8d9     07d7df22  a99f214a  d90a7774    ...     23626  320   50   \n",
        "...          ...          ...       ...       ...    ...       ...  ...  ...   \n",
        "77434   d9b5648e     0f2161f8  a99f214a  e2f0441a    ...     19743  320   50   \n",
        "77435   2347f47a     8ded1f7a  a99f214a  ca292b3c    ...     23737  320   50   \n",
        "77436   33da2e74     cef3e649  a99f214a  981392d4    ...     20751  320   50   \n",
        "77437   7801e8d9     07d7df22  a99f214a  f2911cf6    ...     24217  320   50   \n",
        "77438   2347f47a     f95efa07  a99f214a  7a5cb6b1    ...     23725  320   50   \n",
        "77439   7801e8d9     07d7df22  a99f214a  021ee8ca    ...     22254  320   50   \n",
        "77440   7801e8d9     07d7df22  a99f214a  c8568c01    ...     22257  320   50   \n",
        "77441   5c5a694b     0f2161f8  a99f214a  56b17f2a    ...      6558  320   50   \n",
        "77442   7801e8d9     07d7df22  a99f214a  e70afcc0    ...     22254  320   50   \n",
        "77443   7801e8d9     07d7df22  a99f214a  8f03f45e    ...     22261  320   50   \n",
        "77444   7801e8d9     07d7df22  a99f214a  7827449c    ...     22104  320   50   \n",
        "77445   d9b5648e     0f2161f8  a99f214a  a764434c    ...     20508  320   50   \n",
        "77446   7801e8d9     0f2161f8  8c54c4b6  659f633a    ...     21706  320   50   \n",
        "77447   7801e8d9     07d7df22  a99f214a  ceffea69    ...     22257  320   50   \n",
        "77448   2347f47a     f95efa07  a99f214a  89151252    ...     23160  320   50   \n",
        "77449   7801e8d9     07d7df22  a99f214a  1d216c13    ...     17747  320   50   \n",
        "77450   7801e8d9     07d7df22  a99f214a  78175599    ...     24085  320   50   \n",
        "77451   2347f47a     f95efa07  a99f214a  9316a0eb    ...     18091  320   50   \n",
        "77452   2347f47a     8ded1f7a  a99f214a  de847033    ...     22193  320   50   \n",
        "77453   7801e8d9     07d7df22  506e33ad  9ed637bc    ...     20153  320   50   \n",
        "77454   7801e8d9     07d7df22  a99f214a  0eeb6185    ...     17747  320   50   \n",
        "77455   d9b5648e     0f2161f8  a99f214a  edc9cd89    ...     20508  320   50   \n",
        "77456   82e27996     0f2161f8  a99f214a  70dc9968    ...     24075  320   50   \n",
        "77457   7801e8d9     07d7df22  a99f214a  418dd0d2    ...     22261  320   50   \n",
        "77458   d9b5648e     0f2161f8  a99f214a  83d0504d    ...     21611  320   50   \n",
        "77459   7801e8d9     07d7df22  a99f214a  bcc9bcf5    ...     17654  300  250   \n",
        "77460   7801e8d9     07d7df22  a99f214a  1ff55d5e    ...     22104  320   50   \n",
        "77461   7801e8d9     07d7df22  a99f214a  bfef0578    ...     17654  300  250   \n",
        "77462   ae637522     0f2161f8  a99f214a  66f14444    ...     23857  320   50   \n",
        "77463   7801e8d9     07d7df22  a99f214a  127c3710    ...     22254  320   50   \n",
        "\n",
        "        C17 C18  C19     C20  C21 weekday  hr  \n",
        "0      2787   3  171  100161  240       4  23  \n",
        "1      2545   0  431  100084  221       4  23  \n",
        "2      1994   2   39      -1   33       4  23  \n",
        "3      2545   0  431      -1  221       4  23  \n",
        "4      2325   3  801      -1   42       4  23  \n",
        "5      2480   3  299  100111   61       4  23  \n",
        "6      2667   0   39      -1  221       4  23  \n",
        "7      2264   3  425  100000   61       4  23  \n",
        "8      2545   0  431      -1  221       4  23  \n",
        "9      2545   0  431  100084  221       4  23  \n",
        "10     2528   0  167  100079  221       4  23  \n",
        "11     2374   3   39      -1   23       4  23  \n",
        "12     2545   0  431      -1  221       4  23  \n",
        "13     2768   1  175  100192   71       4  23  \n",
        "14     2545   0  431      -1  221       4  23  \n",
        "15      863   3  169  100105   61       4  23  \n",
        "16     2556   3  167  100200   23       4  23  \n",
        "17     2734   1  175  100189   71       4  23  \n",
        "18     2716   3   47  100212   23       4  23  \n",
        "19     2264   3  425  100000   61       4  23  \n",
        "20     2545   0  431  100084  221       4  23  \n",
        "21     2351   3  163  100020   61       4  23  \n",
        "22     2787   3  171  100161  240       4  23  \n",
        "23     2734   1  175  100192   71       4  23  \n",
        "24     2545   0  431  100084  221       4  23  \n",
        "25     2371   0  559      -1   46       4  23  \n",
        "26     2761   2   35  100148   13       4  23  \n",
        "27     2545   0  431  100084  221       4  23  \n",
        "28     2009   0  555  100233  102       4  23  \n",
        "29     2707   3  937  100156   61       4  23  \n",
        "...     ...  ..  ...     ...  ...     ...  ..  \n",
        "77434  2264   3  425  100000   61       4  23  \n",
        "77435  2676   0  299  100177  221       4  23  \n",
        "77436  1895   0  681  100028  101       4  23  \n",
        "77437  2780   2   35      -1   23       4  23  \n",
        "77438  2716   3   47      -1   23       4  23  \n",
        "77439  2545   0  431      -1  221       4  23  \n",
        "77440  2545   0  431  100084  221       4  23  \n",
        "77441   571   2   39      -1   32       4  23  \n",
        "77442  2545   0  431      -1  221       4  23  \n",
        "77443  2545   0  431      -1  221       4  23  \n",
        "77444  2545   0  431  100084  221       4  23  \n",
        "77445  2351   3  163      -1   61       4  23  \n",
        "77446  2498   3   41  100111   61       4  23  \n",
        "77447  2545   0  431      -1  221       4  23  \n",
        "77448  2667   0   39      -1  221       4  23  \n",
        "77449  1974   2   39      -1   33       4  23  \n",
        "77450  2761   2   35      -1   13       4  23  \n",
        "77451  2060   3   39      -1   23       4  23  \n",
        "77452  2556   3  167  100200   23       4  23  \n",
        "77453  2307   3  163      -1   61       4  23  \n",
        "77454  1974   2   39  100019   33       4  23  \n",
        "77455  2351   3  163      -1   61       4  23  \n",
        "77456  2480   3  299  100111   61       4  23  \n",
        "77457  2545   0  431  100084  221       4  23  \n",
        "77458  2480   3  299  100111   61       4  23  \n",
        "77459  1994   2   39      -1   33       4  23  \n",
        "77460  2545   0  431  100084  221       4  23  \n",
        "77461  1994   2   39      -1   33       4  23  \n",
        "77462  2734   1  175  100189   71       4  23  \n",
        "77463  2545   0  431  100084  221       4  23  \n",
        "\n",
        "[77464 rows x 23 columns]\n"
       ]
      }
     ],
     "prompt_number": 20
    },
    {
     "cell_type": "code",
     "collapsed": false,
     "input": [],
     "language": "python",
     "metadata": {},
     "outputs": []
    }
   ],
   "metadata": {}
  }
 ]
}